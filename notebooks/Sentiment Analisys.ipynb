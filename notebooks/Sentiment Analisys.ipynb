{
 "cells": [
  {
   "cell_type": "markdown",
   "metadata": {},
   "source": [
    "# Sentiment Analysis using NLTK Vader"
   ]
  },
  {
   "cell_type": "markdown",
   "metadata": {},
   "source": [
    "### First Trials with strings from tweets from twitter"
   ]
  },
  {
   "cell_type": "markdown",
   "metadata": {},
   "source": [
    "https://www.nltk.org/api/nltk.sentiment.html"
   ]
  },
  {
   "cell_type": "code",
   "execution_count": 12,
   "metadata": {},
   "outputs": [],
   "source": [
    "import nltk\n",
    "from nltk.sentiment.vader import SentimentIntensityAnalyzer"
   ]
  },
  {
   "cell_type": "code",
   "execution_count": 13,
   "metadata": {},
   "outputs": [
    {
     "name": "stderr",
     "output_type": "stream",
     "text": [
      "[nltk_data] Downloading package vader_lexicon to\n",
      "[nltk_data]     /Users/adrianacoca/nltk_data...\n",
      "[nltk_data]   Package vader_lexicon is already up-to-date!\n"
     ]
    },
    {
     "data": {
      "text/plain": [
       "True"
      ]
     },
     "execution_count": 13,
     "metadata": {},
     "output_type": "execute_result"
    }
   ],
   "source": [
    "nltk.download('vader_lexicon')"
   ]
  },
  {
   "cell_type": "markdown",
   "metadata": {},
   "source": [
    "Vader Sentiment Analysis NLTK credits:   \n",
    "*Hutto, C.J. & Gilbert, E.E. (2014). VADER: A Parsimonious Rule-based Model for Sentiment Analysis of Social Media Text. Eighth International Conference on Weblogs and Social Media (ICWSM-14). Ann Arbor, MI, June 2014.*"
   ]
  },
  {
   "cell_type": "code",
   "execution_count": 14,
   "metadata": {},
   "outputs": [],
   "source": [
    "sia = SentimentIntensityAnalyzer()"
   ]
  },
  {
   "cell_type": "code",
   "execution_count": 15,
   "metadata": {},
   "outputs": [
    {
     "data": {
      "text/plain": [
       "{'neg': 0.0, 'neu': 0.4, 'pos': 0.6, 'compound': 0.4585}"
      ]
     },
     "execution_count": 15,
     "metadata": {},
     "output_type": "execute_result"
    }
   ],
   "source": [
    "sentence=\"I don't hate you\"\n",
    "sia.polarity_scores(sentence)"
   ]
  },
  {
   "cell_type": "code",
   "execution_count": 16,
   "metadata": {},
   "outputs": [
    {
     "data": {
      "text/plain": [
       "{'neg': 0.341, 'neu': 0.405, 'pos': 0.253, 'compound': -0.2187}"
      ]
     },
     "execution_count": 16,
     "metadata": {},
     "output_type": "execute_result"
    }
   ],
   "source": [
    "sentence=\"I like you. I do not love you\"\n",
    "sia.polarity_scores(sentence)"
   ]
  },
  {
   "cell_type": "markdown",
   "metadata": {},
   "source": [
    "### Donald Trump Tweets mentions"
   ]
  },
  {
   "cell_type": "code",
   "execution_count": 17,
   "metadata": {},
   "outputs": [],
   "source": [
    "DonaldTrump = [\"He loves his enemies as himself so maybe do his enemies hearts good to wish him luck for 2020 @DonaldTrump  @EricTrump @DonaldTrumpJrA1\",\n",
    " \"Hey @DonaldTrump how about you get HOOKED ON PHONICS instead of being HOOKED ON ADDERALL #CognitiveTest\", \n",
    "\"@DonaldTrump Thank you for helping Albuquerque.  We are drowning in Soros funded A Holes.  Soros must be exposed.  Praying for you and us every day. Thx for Battle Hymn of the Republic at Mt. Rushmore !!\", \n",
    "\"Nice to c #Colombian support for @DonaldTrump .. Imagine a country enslaved by #Communists #Marsists  for 50 years.. Thank god they woke the f*ck up and kicked the  @FARC_COLOMBIA out to #Venezuela.. Please give them a FOLLOW. Thank you.\", \n",
    "\"@DonaldTrump Cat,Dog,Woman,Man,Camera ,TV,Idiot.#TrumpIsNotWell Dementia\", \n",
    "\"You definitely don't mean me.\", \n",
    "\"@DonaldTrump You can not switch it on and off 4 months out from the election. The American People's have gotten sick and tired of your   chaos and daily scandals .Wearing a Mask now  will not mask the damage you have done to this country .#FacistTrump\", \n",
    "\"7 day Facebook jail because the pic I posted of @donaldtrump and @ivanka VIOLATE community standards on sexually inappropriate pictures! THINK ABOUT IT\", \n",
    "\"No disputing the fact, @donaldtrump is a bloody RACIST.\", \n",
    "\"I'm glad @DonaldTrump enjoyed the MOCA so much and is raising awareness on a screen that we can't do from September as it is too expensive for our NHS. Thanks a bunch.\", \n",
    "\"Such a fucking idiot @DonaldTrump\", \n",
    "\"Why  @DonaldTrump don't go testify under oath about his friendship with Epstein and Maxwell !\", \n",
    "\"Here’s the real test you failed @donaldtrump, the American people. You have failed at every level possible. Hundreds of thousands have died at your hands due to a virus. American troops killed by your Russian allies. So many innocent lives lost because you’re a sociopath.\", \n",
    "\"No @BorisEP, this is happening right NOW under @realDonaldTrump, under @POTUS and under @donaldtrump and his administration. @JoeBiden is NOT the current President of the United States of America.\", \n",
    "\"The most astonishing thing about the attacks on @DanielAndrewsMP (many of them are warranted, btw), is that the most viscous emanate from @DonaldTrump supporters!\"]\n",
    "\n",
    " \n",
    " "
   ]
  },
  {
   "cell_type": "code",
   "execution_count": 18,
   "metadata": {},
   "outputs": [],
   "source": [
    "def avg(lst): \n",
    "    return sum(lst) / len(lst) "
   ]
  },
  {
   "cell_type": "code",
   "execution_count": 19,
   "metadata": {},
   "outputs": [],
   "source": [
    "def sentiment_averages(lst):\n",
    "    neg = []\n",
    "    neu = []\n",
    "    pos = []\n",
    "    for t in lst: \n",
    "        sentiments = []\n",
    "        sentiments.append(sia.polarity_scores(t))\n",
    "        neg.append(sentiments[0][\"neg\"])\n",
    "        neu.append(sentiments[0][\"neu\"])\n",
    "        pos.append(sentiments[0][\"pos\"])\n",
    "        return (\"negativity:\", avg(neg), \"neutrality:\", avg(neu), \"positivity:\", avg(pos))"
   ]
  },
  {
   "cell_type": "code",
   "execution_count": 20,
   "metadata": {},
   "outputs": [
    {
     "data": {
      "text/plain": [
       "('negativity:', 0.184, 'neutrality:', 0.461, 'positivity:', 0.354)"
      ]
     },
     "execution_count": 20,
     "metadata": {},
     "output_type": "execute_result"
    }
   ],
   "source": [
    "sentiment_averages(DonaldTrump)"
   ]
  },
  {
   "cell_type": "code",
   "execution_count": 21,
   "metadata": {},
   "outputs": [
    {
     "ename": "NameError",
     "evalue": "name 'neg' is not defined",
     "output_type": "error",
     "traceback": [
      "\u001b[0;31m---------------------------------------------------------------------------\u001b[0m",
      "\u001b[0;31mNameError\u001b[0m                                 Traceback (most recent call last)",
      "\u001b[0;32m<ipython-input-21-97e9aee58eb3>\u001b[0m in \u001b[0;36m<module>\u001b[0;34m\u001b[0m\n\u001b[0;32m----> 1\u001b[0;31m \u001b[0mprint\u001b[0m\u001b[0;34m(\u001b[0m\u001b[0;34m\"negativity:\"\u001b[0m\u001b[0;34m,\u001b[0m \u001b[0mavg\u001b[0m\u001b[0;34m(\u001b[0m\u001b[0mneg\u001b[0m\u001b[0;34m)\u001b[0m\u001b[0;34m,\u001b[0m \u001b[0;34m\"neutrality:\"\u001b[0m\u001b[0;34m,\u001b[0m \u001b[0mavg\u001b[0m\u001b[0;34m(\u001b[0m\u001b[0mneu\u001b[0m\u001b[0;34m)\u001b[0m\u001b[0;34m,\u001b[0m \u001b[0;34m\"positivity:\"\u001b[0m\u001b[0;34m,\u001b[0m \u001b[0mavg\u001b[0m\u001b[0;34m(\u001b[0m\u001b[0mpos\u001b[0m\u001b[0;34m)\u001b[0m\u001b[0;34m)\u001b[0m\u001b[0;34m\u001b[0m\u001b[0;34m\u001b[0m\u001b[0m\n\u001b[0m",
      "\u001b[0;31mNameError\u001b[0m: name 'neg' is not defined"
     ]
    }
   ],
   "source": [
    "print(\"negativity:\", avg(neg), \"neutrality:\", avg(neu), \"positivity:\", avg(pos))"
   ]
  },
  {
   "cell_type": "markdown",
   "metadata": {},
   "source": [
    "### Elon Musk Tweets mentions"
   ]
  },
  {
   "cell_type": "code",
   "execution_count": 22,
   "metadata": {},
   "outputs": [],
   "source": [
    "ElonMusk = [\"Elon's most likely reply would be in binary.\", \n",
    "\"We’re starting to think about leaving California too... Sad but... 🤷🏼‍♂️🤷🏼‍♂️🙆🏼‍♂️\", \n",
    "\"I don’t support any group that terrorizes people without the purpose of scaring those who incite violence. No I do not support ISIS.\", \n",
    "\"Sorry - I don't watch low-level reviews. China is not an exemplary country nor USA either.\", \n",
    "\"Not respectful of people but of their labor.\", \n",
    "\"Even if China double it's GHG emission, it's still like half of what Americans produce per capital base. Chinese don't live in a house with a swimming pool and 400m2 of lawn. What a hypocrite.\", \n",
    "\"The CDC data visualization is interactive. You can remove the “associated with Covid filter and other adjustments.\", \n",
    "\"Elon, Nebraska Bro, We need you build a factory here\", \n",
    "\"This entire argument is just a debate between religious fanatics. Comet worshipers vs void seekers.\", \n",
    "\"Hmmmm, that's one way to look at it. Cool. Anyway, up for human clinical trials of Neuralink ;) haha\", \n",
    "\"the internet has you on it man\", \n",
    "\"Oh, okay, so 40 down 40 back, so each car has to travel 80 miles in the span of 1 hour?\"]"
   ]
  },
  {
   "cell_type": "code",
   "execution_count": 23,
   "metadata": {},
   "outputs": [
    {
     "data": {
      "text/plain": [
       "('negativity:', 0.0, 'neutrality:', 1.0, 'positivity:', 0.0)"
      ]
     },
     "execution_count": 23,
     "metadata": {},
     "output_type": "execute_result"
    }
   ],
   "source": [
    "sentiment_averages(ElonMusk)"
   ]
  },
  {
   "cell_type": "code",
   "execution_count": null,
   "metadata": {},
   "outputs": [],
   "source": []
  },
  {
   "cell_type": "markdown",
   "metadata": {},
   "source": [
    "### Barack Obama"
   ]
  },
  {
   "cell_type": "code",
   "execution_count": 24,
   "metadata": {},
   "outputs": [],
   "source": [
    "BarackObama = [\"“The only thing we have to fear is fear itself.” Franklin D. Roosevelt “We are the ones we've been waiting for. We are the change that we seek.” @BarackObama“Person, Woman, Man, Camera, TV” @realDonaldTrump\", \n",
    "\"Empathy, compassion and leadership—qualities we saw daily in President @BarackObama. We can have that in a President again when we elect @JoeBiden.\", \n",
    "\"That’s my President!! Flag of United StatesFlag of United StatesFlag of United StatesFlag of United States\", \n",
    "\"I’m not just voting for Joe Biden for President - I’m voting for his character, his decency, and his leadership.   Joe Biden knows the heart and soul of America - and he’ll lead us into a future we can all be proud of.\", \n",
    "\"We miss you guys so much.  You both are men of huge honor.  #ImVoting4BidenBecause he is a good person.\", \n",
    "\"You told me: “Be the change—run for office—make the change.” My run has already brought positive change to Minnesota and is creating a more united and inclusive America. I am the change. Thank you!\", \n",
    "\"I pay universal health care in Australia.  $800 per year gets me all medical surgery and visits to my GP is $40.00.  I had an eye injury last week and was able to see specialist with zero out of pocket expenses.  Americans are getting robbed blind by insurance companies.\", \n",
    "\"You're absolutely right that it is hard to fathom anybody wanting to take away people's healthcare in the middle of a major public health crisis- @BarackObama says. - and offer nothing - @JoeBiden interjects.- at a time when unemployment is in double digits, Obama ends.\", \n",
    "\"No contest!!  #MoscowMitchMcConnell  always looks like a chump. Now hunky @BarackObama BEST PRESIDENT EVER. SUCK IT TRUMP\"]\n",
    "\n"
   ]
  },
  {
   "cell_type": "code",
   "execution_count": 25,
   "metadata": {},
   "outputs": [
    {
     "data": {
      "text/plain": [
       "('negativity:', 0.167, 'neutrality:', 0.833, 'positivity:', 0.0)"
      ]
     },
     "execution_count": 25,
     "metadata": {},
     "output_type": "execute_result"
    }
   ],
   "source": [
    "sentiment_averages(BarackObama)"
   ]
  },
  {
   "cell_type": "markdown",
   "metadata": {},
   "source": [
    "## Sentiment Analysis with Textblob"
   ]
  },
  {
   "cell_type": "code",
   "execution_count": 26,
   "metadata": {},
   "outputs": [],
   "source": [
    "from textblob import TextBlob"
   ]
  },
  {
   "cell_type": "code",
   "execution_count": 27,
   "metadata": {},
   "outputs": [],
   "source": [
    "def t_polarity(lst): \n",
    "    polarity = []\n",
    "    for l in lst: \n",
    "        polarity.append(TextBlob(l).sentiment.polarity)\n",
    "    return sum(polarity)/len(polarity)"
   ]
  },
  {
   "cell_type": "code",
   "execution_count": 32,
   "metadata": {},
   "outputs": [
    {
     "data": {
      "text/plain": [
       "0.2965438111271445"
      ]
     },
     "execution_count": 32,
     "metadata": {},
     "output_type": "execute_result"
    }
   ],
   "source": [
    "t_polarity(BarackObama)\n"
   ]
  },
  {
   "cell_type": "code",
   "execution_count": null,
   "metadata": {},
   "outputs": [],
   "source": []
  }
 ],
 "metadata": {
  "kernelspec": {
   "display_name": "Python 3",
   "language": "python",
   "name": "python3"
  },
  "language_info": {
   "codemirror_mode": {
    "name": "ipython",
    "version": 3
   },
   "file_extension": ".py",
   "mimetype": "text/x-python",
   "name": "python",
   "nbconvert_exporter": "python",
   "pygments_lexer": "ipython3",
   "version": "3.7.7"
  }
 },
 "nbformat": 4,
 "nbformat_minor": 4
}
