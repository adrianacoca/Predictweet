{
 "cells": [
  {
   "cell_type": "markdown",
   "metadata": {},
   "source": [
    "## Topic Extraction with CountVectorizer and nltk stopwords"
   ]
  },
  {
   "cell_type": "code",
   "execution_count": 2,
   "metadata": {},
   "outputs": [],
   "source": [
    "from sklearn.feature_extraction.text import CountVectorizer\n",
    "import pandas as pd\n",
    "import nltk\n",
    "from nltk.corpus import stopwords\n"
   ]
  },
  {
   "cell_type": "code",
   "execution_count": 3,
   "metadata": {},
   "outputs": [],
   "source": [
    "DonaldTrump = [\"He loves his enemies as himself so maybe do his enemies hearts good to wish him luck for 2020 @DonaldTrump  @EricTrump @DonaldTrumpJrA1\",\n",
    " \"Hey @DonaldTrump how about you get HOOKED ON PHONICS instead of being HOOKED ON ADDERALL #CognitiveTest\", \n",
    "\"@DonaldTrump Thank you for helping Albuquerque.  We are drowning in Soros funded A Holes.  Soros must be exposed.  Praying for you and us every day. Thx for Battle Hymn of the Republic at Mt. Rushmore !!\", \n",
    "\"Nice to c #Colombian support for @DonaldTrump .. Imagine a country enslaved by #Communists #Marsists  for 50 years.. Thank god they woke the f*ck up and kicked the  @FARC_COLOMBIA out to #Venezuela.. Please give them a FOLLOW. Thank you.\", \n",
    "\"@DonaldTrump Cat,Dog,Woman,Man,Camera ,TV,Idiot.#TrumpIsNotWell Dementia\", \n",
    "\"You definitely don't mean me.\", \n",
    "\"@DonaldTrump You can not switch it on and off 4 months out from the election. The American People's have gotten sick and tired of your   chaos and daily scandals .Wearing a Mask now  will not mask the damage you have done to this country .#FacistTrump\", \n",
    "\"7 day Facebook jail because the pic I posted of @donaldtrump and @ivanka VIOLATE community standards on sexually inappropriate pictures! THINK ABOUT IT\", \n",
    "\"No disputing the fact, @donaldtrump is a bloody RACIST.\", \n",
    "\"I'm glad @DonaldTrump enjoyed the MOCA so much and is raising awareness on a screen that we can't do from September as it is too expensive for our NHS. Thanks a bunch.\", \n",
    "\"Such a fucking idiot @DonaldTrump\", \n",
    "\"Why  @DonaldTrump don't go testify under oath about his friendship with Epstein and Maxwell !\", \n",
    "\"Here’s the real test you failed @donaldtrump, the American people. You have failed at every level possible. Hundreds of thousands have died at your hands due to a virus. American troops killed by your Russian allies. So many innocent lives lost because you’re a sociopath.\", \n",
    "\"No @BorisEP, this is happening right NOW under @realDonaldTrump, under @POTUS and under @donaldtrump and his administration. @JoeBiden is NOT the current President of the United States of America.\", \n",
    "\"The most astonishing thing about the attacks on @DanielAndrewsMP (many of them are warranted, btw), is that the most viscous emanate from @DonaldTrump supporters!\"]\n"
   ]
  },
  {
   "cell_type": "code",
   "execution_count": 4,
   "metadata": {},
   "outputs": [],
   "source": [
    "ElonMusk = [\"Elon's most likely reply would be in binary.\", \n",
    "\"We’re starting to think about leaving California too... Sad but... 🤷🏼‍♂️🤷🏼‍♂️🙆🏼‍♂️\", \n",
    "\"I don’t support any group that terrorizes people without the purpose of scaring those who incite violence. No I do not support ISIS.\", \n",
    "\"Sorry - I don't watch low-level reviews. China is not an exemplary country nor USA either.\", \n",
    "\"Not respectful of people but of their labor.\", \n",
    "\"Even if China double it's GHG emission, it's still like half of what Americans produce per capital base. Chinese don't live in a house with a swimming pool and 400m2 of lawn. What a hypocrite.\", \n",
    "\"The CDC data visualization is interactive. You can remove the “associated with Covid filter and other adjustments.\", \n",
    "\"Elon, Nebraska Bro, We need you build a factory here\", \n",
    "\"This entire argument is just a debate between religious fanatics. Comet worshipers vs void seekers.\", \n",
    "\"Hmmmm, that's one way to look at it. Cool. Anyway, up for human clinical trials of Neuralink ;) haha\", \n",
    "\"the internet has you on it man\", \n",
    "\"Oh, okay, so 40 down 40 back, so each car has to travel 80 miles in the span of 1 hour?\"]"
   ]
  },
  {
   "cell_type": "code",
   "execution_count": 5,
   "metadata": {},
   "outputs": [
    {
     "data": {
      "text/plain": [
       "<12x142 sparse matrix of type '<class 'numpy.int64'>'\n",
       "\twith 172 stored elements in Compressed Sparse Row format>"
      ]
     },
     "execution_count": 5,
     "metadata": {},
     "output_type": "execute_result"
    }
   ],
   "source": [
    "count_vectorizer = CountVectorizer()\n",
    "sparse_matrix = count_vectorizer.fit_transform(ElonMusk)\n",
    "\n",
    "sparse_matrix"
   ]
  },
  {
   "cell_type": "code",
   "execution_count": 7,
   "metadata": {},
   "outputs": [
    {
     "name": "stdout",
     "output_type": "stream",
     "text": [
      "['elon', 'most', 'likely', 'reply', 'would', 'be', 'in', 'binary', 'we', 're', 'starting', 'to', 'think', 'about', 'leaving', 'california', 'too', 'sad', 'but', 'don', 'support', 'any', 'group', 'that', 'terrorizes', 'people', 'without', 'the', 'purpose', 'of', 'scaring', 'those', 'who', 'incite', 'violence', 'no', 'do', 'not', 'isis', 'sorry', 'watch', 'low', 'level', 'reviews', 'china', 'is', 'an', 'exemplary', 'country', 'nor', 'usa', 'either', 'respectful', 'their', 'labor', 'even', 'if', 'double', 'it', 'ghg', 'emission', 'still', 'like', 'half', 'what', 'americans', 'produce', 'per', 'capital', 'base', 'chinese', 'live', 'house', 'with', 'swimming', 'pool', 'and', '400m2', 'lawn', 'hypocrite', 'cdc', 'data', 'visualization', 'interactive', 'you', 'can', 'remove', 'associated', 'covid', 'filter', 'other', 'adjustments', 'nebraska', 'bro', 'need', 'build', 'factory', 'here', 'this', 'entire', 'argument', 'just', 'debate', 'between', 'religious', 'fanatics', 'comet', 'worshipers', 'vs', 'void', 'seekers', 'hmmmm', 'one', 'way', 'look', 'at', 'cool', 'anyway', 'up', 'for', 'human', 'clinical', 'trials', 'neuralink', 'haha', 'internet', 'has', 'on', 'man', 'oh', 'okay', 'so', '40', 'down', 'back', 'each', 'car', 'travel', '80', 'miles', 'span', 'hour']\n"
     ]
    }
   ],
   "source": [
    "print(list(count_vectorizer.vocabulary_.keys()))"
   ]
  },
  {
   "cell_type": "code",
   "execution_count": 16,
   "metadata": {},
   "outputs": [
    {
     "data": {
      "text/plain": [
       "of               7\n",
       "the              5\n",
       "it               4\n",
       "in               3\n",
       "not              3\n",
       "                ..\n",
       "nor              1\n",
       "void             1\n",
       "visualization    1\n",
       "oh               1\n",
       "labor            1\n",
       "Length: 142, dtype: int64"
      ]
     },
     "execution_count": 16,
     "metadata": {},
     "output_type": "execute_result"
    }
   ],
   "source": [
    "doc_term_matrix = sparse_matrix.todense()\n",
    "df = pd.DataFrame(doc_term_matrix, \n",
    "                  columns=count_vectorizer.get_feature_names())\n",
    "df.sum().sort_values(ascending=[False])"
   ]
  },
  {
   "cell_type": "markdown",
   "metadata": {},
   "source": [
    "## Topic Extraction with CountVectorizer and Stopwords"
   ]
  },
  {
   "cell_type": "code",
   "execution_count": 19,
   "metadata": {},
   "outputs": [
    {
     "data": {
      "text/plain": [
       "<15x211 sparse matrix of type '<class 'numpy.int64'>'\n",
       "\twith 300 stored elements in Compressed Sparse Row format>"
      ]
     },
     "execution_count": 19,
     "metadata": {},
     "output_type": "execute_result"
    }
   ],
   "source": [
    "count_vectorizer = CountVectorizer()\n",
    "sparse_matrix = count_vectorizer.fit_transform(DonaldTrump)\n",
    "\n",
    "sparse_matrix"
   ]
  },
  {
   "cell_type": "code",
   "execution_count": 20,
   "metadata": {},
   "outputs": [],
   "source": [
    "doc_term_matrix = sparse_matrix.todense()\n",
    "df = pd.DataFrame(doc_term_matrix, \n",
    "                  columns=count_vectorizer.get_feature_names())\n",
    "all_words = df.sum().sort_values(ascending=[False]).to_dict()"
   ]
  },
  {
   "cell_type": "code",
   "execution_count": 21,
   "metadata": {},
   "outputs": [
    {
     "data": {
      "text/plain": [
       "{'the': 16,\n",
       " 'donaldtrump': 14,\n",
       " 'you': 10,\n",
       " 'and': 10,\n",
       " 'of': 8,\n",
       " 'for': 7,\n",
       " 'is': 6,\n",
       " 'on': 6,\n",
       " 'to': 5,\n",
       " 'have': 4,\n",
       " 'under': 4,\n",
       " 'about': 4,\n",
       " 'his': 4,\n",
       " 'it': 3,\n",
       " 'from': 3,\n",
       " 'not': 3,\n",
       " 'so': 3,\n",
       " 'thank': 3,\n",
       " 'your': 3,\n",
       " 'american': 3,\n",
       " 'at': 3,\n",
       " 'are': 2,\n",
       " 'that': 2,\n",
       " 'mask': 2,\n",
       " 'don': 2,\n",
       " 'many': 2,\n",
       " 'day': 2,\n",
       " 'hooked': 2,\n",
       " 'now': 2,\n",
       " 'soros': 2,\n",
       " 'country': 2,\n",
       " 'most': 2,\n",
       " 'enemies': 2,\n",
       " 'do': 2,\n",
       " 'failed': 2,\n",
       " 'people': 2,\n",
       " 'out': 2,\n",
       " 'them': 2,\n",
       " 'because': 2,\n",
       " 'can': 2,\n",
       " 'we': 2,\n",
       " 'every': 2,\n",
       " 'by': 2,\n",
       " 'this': 2,\n",
       " 'idiot': 2,\n",
       " 'as': 2,\n",
       " 'no': 2,\n",
       " 'fact': 1,\n",
       " 'fucking': 1,\n",
       " 'america': 1,\n",
       " 'facisttrump': 1,\n",
       " 'friendship': 1,\n",
       " 'follow': 1,\n",
       " 'farc_colombia': 1,\n",
       " 'funded': 1,\n",
       " 'battle': 1,\n",
       " 'get': 1,\n",
       " 'hearts': 1,\n",
       " '50': 1,\n",
       " 'himself': 1,\n",
       " 'him': 1,\n",
       " 'hey': 1,\n",
       " 'here': 1,\n",
       " 'helping': 1,\n",
       " 'adderall': 1,\n",
       " 'administration': 1,\n",
       " 'albuquerque': 1,\n",
       " 'give': 1,\n",
       " 'he': 1,\n",
       " 'allies': 1,\n",
       " 'happening': 1,\n",
       " 'hands': 1,\n",
       " 'gotten': 1,\n",
       " 'good': 1,\n",
       " 'god': 1,\n",
       " 'glad': 1,\n",
       " 'go': 1,\n",
       " 'epstein': 1,\n",
       " 'facebook': 1,\n",
       " 'cat': 1,\n",
       " 'current': 1,\n",
       " 'community': 1,\n",
       " 'communists': 1,\n",
       " 'colombian': 1,\n",
       " 'cognitivetest': 1,\n",
       " 'ck': 1,\n",
       " 'chaos': 1,\n",
       " 'attacks': 1,\n",
       " 'astonishing': 1,\n",
       " 'camera': 1,\n",
       " 'bunch': 1,\n",
       " 'btw': 1,\n",
       " 'borisep': 1,\n",
       " 'awareness': 1,\n",
       " 'bloody': 1,\n",
       " 'being': 1,\n",
       " 'daily': 1,\n",
       " 'damage': 1,\n",
       " 'exposed': 1,\n",
       " 'due': 1,\n",
       " 'expensive': 1,\n",
       " 'erictrump': 1,\n",
       " 'be': 1,\n",
       " 'enslaved': 1,\n",
       " 'enjoyed': 1,\n",
       " 'emanate': 1,\n",
       " 'election': 1,\n",
       " 'drowning': 1,\n",
       " 'danielandrewsmp': 1,\n",
       " 'done': 1,\n",
       " 'donaldtrumpjra1': 1,\n",
       " 'dog': 1,\n",
       " 'disputing': 1,\n",
       " 'died': 1,\n",
       " 'dementia': 1,\n",
       " 'definitely': 1,\n",
       " 'holes': 1,\n",
       " 'jail': 1,\n",
       " 'how': 1,\n",
       " 'such': 1,\n",
       " 'think': 1,\n",
       " 'thing': 1,\n",
       " 'they': 1,\n",
       " 'thanks': 1,\n",
       " 'testify': 1,\n",
       " 'test': 1,\n",
       " 'switch': 1,\n",
       " 'supporters': 1,\n",
       " 'support': 1,\n",
       " 'states': 1,\n",
       " 'republic': 1,\n",
       " 'standards': 1,\n",
       " 'sociopath': 1,\n",
       " 'sick': 1,\n",
       " 'sexually': 1,\n",
       " 'september': 1,\n",
       " 'screen': 1,\n",
       " 'scandals': 1,\n",
       " 'russian': 1,\n",
       " 'rushmore': 1,\n",
       " 'thousands': 1,\n",
       " 'thx': 1,\n",
       " 'tired': 1,\n",
       " 'too': 1,\n",
       " 'years': 1,\n",
       " 'woman': 1,\n",
       " 'woke': 1,\n",
       " 'with': 1,\n",
       " 'wish': 1,\n",
       " 'will': 1,\n",
       " 'why': 1,\n",
       " 'wearing': 1,\n",
       " 'warranted': 1,\n",
       " 'viscous': 1,\n",
       " 'virus': 1,\n",
       " 'violate': 1,\n",
       " 'venezuela': 1,\n",
       " 'us': 1,\n",
       " 'up': 1,\n",
       " 'united': 1,\n",
       " 'tv': 1,\n",
       " 'trumpisnotwell': 1,\n",
       " 'troops': 1,\n",
       " 'right': 1,\n",
       " 'realdonaldtrump': 1,\n",
       " 'hundreds': 1,\n",
       " 'level': 1,\n",
       " 'me': 1,\n",
       " 'maybe': 1,\n",
       " 'maxwell': 1,\n",
       " 'marsists': 1,\n",
       " 'man': 1,\n",
       " 'luck': 1,\n",
       " 'loves': 1,\n",
       " 'lost': 1,\n",
       " 'lives': 1,\n",
       " 'killed': 1,\n",
       " 'real': 1,\n",
       " 'kicked': 1,\n",
       " 'joebiden': 1,\n",
       " 'ivanka': 1,\n",
       " 'instead': 1,\n",
       " 'innocent': 1,\n",
       " 'inappropriate': 1,\n",
       " 'in': 1,\n",
       " 'imagine': 1,\n",
       " 'hymn': 1,\n",
       " 'mean': 1,\n",
       " 'moca': 1,\n",
       " 'months': 1,\n",
       " 'mt': 1,\n",
       " 're': 1,\n",
       " 'raising': 1,\n",
       " 'racist': 1,\n",
       " 'president': 1,\n",
       " 'praying': 1,\n",
       " 'potus': 1,\n",
       " 'posted': 1,\n",
       " 'possible': 1,\n",
       " 'please': 1,\n",
       " 'pictures': 1,\n",
       " 'pic': 1,\n",
       " 'phonics': 1,\n",
       " 'our': 1,\n",
       " 'off': 1,\n",
       " 'oath': 1,\n",
       " 'nice': 1,\n",
       " 'nhs': 1,\n",
       " 'must': 1,\n",
       " 'much': 1,\n",
       " '2020': 1}"
      ]
     },
     "execution_count": 21,
     "metadata": {},
     "output_type": "execute_result"
    }
   ],
   "source": [
    "all_words"
   ]
  },
  {
   "cell_type": "code",
   "execution_count": 37,
   "metadata": {},
   "outputs": [
    {
     "name": "stdout",
     "output_type": "stream",
     "text": [
      "{'as', 'i', \"you'd\", 'theirs', 'any', 'too', 'should', 'very', 'what', 'yours', \"you'll\", \"haven't\", 'how', 'most', 'of', 'which', 'd', \"that'll\", 'such', 'an', 'mightn', 'for', 'other', 'ain', \"shouldn't\", 'below', 'once', 'some', 'were', 'hadn', 'doing', 'in', 'out', \"hadn't\", 'now', 'on', 'about', 'don', 'against', 'there', 'he', 'll', 'be', \"shan't\", 'himself', \"won't\", 'did', 'by', 'will', \"you've\", 'when', 've', 'from', 'wouldn', 'been', 'who', 'with', 'to', 'ours', 'own', 'at', \"should've\", 'y', 'a', 'won', 'our', 'has', \"couldn't\", 'm', 'again', 'under', 'so', 'its', 'am', 'during', \"hasn't\", 'whom', 'same', 'than', 'shan', 'themselves', \"didn't\", 'myself', 's', \"wasn't\", 't', 'no', 'yourself', 'being', 'not', 'isn', 'if', 'his', 'ourselves', 'here', 'does', \"weren't\", 'she', 'you', 'me', 'mustn', \"wouldn't\", 'o', 'where', 'off', 'yourselves', 'hasn', 'weren', 'until', 'herself', 'through', 'it', 'down', 'haven', 'have', 'was', 'needn', 'between', 'had', \"it's\", 'after', 'then', 'aren', \"don't\", 'having', 'few', 'they', 'wasn', 'is', 'before', 'because', 'but', 'couldn', 'this', 'the', 'are', 'all', 'and', 'into', \"you're\", 'further', \"doesn't\", 'them', 'her', 'hers', 'their', 'itself', 're', 'your', 'shouldn', 'my', 'while', 'ma', 'we', 'him', 'just', 'those', 'each', \"mustn't\", \"needn't\", 'or', 'that', \"isn't\", 'can', \"she's\", 'do', 'over', \"aren't\", 'didn', 'above', 'nor', 'only', 'up', 'more', 'why', 'both', \"mightn't\", 'these', 'doesn'}\n"
     ]
    },
    {
     "data": {
      "text/plain": [
       "{'donaldtrump': 14,\n",
       " 'thank': 3,\n",
       " 'american': 3,\n",
       " 'mask': 2,\n",
       " 'many': 2,\n",
       " 'day': 2,\n",
       " 'hooked': 2,\n",
       " 'soros': 2,\n",
       " 'country': 2,\n",
       " 'enemies': 2,\n",
       " 'failed': 2,\n",
       " 'people': 2,\n",
       " 'every': 2,\n",
       " 'idiot': 2,\n",
       " 'fact': 1,\n",
       " 'fucking': 1,\n",
       " 'america': 1,\n",
       " 'facisttrump': 1,\n",
       " 'friendship': 1,\n",
       " 'follow': 1,\n",
       " 'farc_colombia': 1,\n",
       " 'funded': 1,\n",
       " 'battle': 1,\n",
       " 'get': 1,\n",
       " 'hearts': 1,\n",
       " '50': 1,\n",
       " 'hey': 1,\n",
       " 'helping': 1,\n",
       " 'adderall': 1,\n",
       " 'administration': 1,\n",
       " 'albuquerque': 1,\n",
       " 'give': 1,\n",
       " 'allies': 1,\n",
       " 'happening': 1,\n",
       " 'hands': 1,\n",
       " 'gotten': 1,\n",
       " 'good': 1,\n",
       " 'god': 1,\n",
       " 'glad': 1,\n",
       " 'go': 1,\n",
       " 'epstein': 1,\n",
       " 'facebook': 1,\n",
       " 'cat': 1,\n",
       " 'current': 1,\n",
       " 'community': 1,\n",
       " 'communists': 1,\n",
       " 'colombian': 1,\n",
       " 'cognitivetest': 1,\n",
       " 'ck': 1,\n",
       " 'chaos': 1,\n",
       " 'attacks': 1,\n",
       " 'astonishing': 1,\n",
       " 'camera': 1,\n",
       " 'bunch': 1,\n",
       " 'btw': 1,\n",
       " 'borisep': 1,\n",
       " 'awareness': 1,\n",
       " 'bloody': 1,\n",
       " 'daily': 1,\n",
       " 'damage': 1,\n",
       " 'exposed': 1,\n",
       " 'due': 1,\n",
       " 'expensive': 1,\n",
       " 'erictrump': 1,\n",
       " 'enslaved': 1,\n",
       " 'enjoyed': 1,\n",
       " 'emanate': 1,\n",
       " 'election': 1,\n",
       " 'drowning': 1,\n",
       " 'danielandrewsmp': 1,\n",
       " 'done': 1,\n",
       " 'donaldtrumpjra1': 1,\n",
       " 'dog': 1,\n",
       " 'disputing': 1,\n",
       " 'died': 1,\n",
       " 'dementia': 1,\n",
       " 'definitely': 1,\n",
       " 'holes': 1,\n",
       " 'jail': 1,\n",
       " 'think': 1,\n",
       " 'thing': 1,\n",
       " 'thanks': 1,\n",
       " 'testify': 1,\n",
       " 'test': 1,\n",
       " 'switch': 1,\n",
       " 'supporters': 1,\n",
       " 'support': 1,\n",
       " 'states': 1,\n",
       " 'republic': 1,\n",
       " 'standards': 1,\n",
       " 'sociopath': 1,\n",
       " 'sick': 1,\n",
       " 'sexually': 1,\n",
       " 'september': 1,\n",
       " 'screen': 1,\n",
       " 'scandals': 1,\n",
       " 'russian': 1,\n",
       " 'rushmore': 1,\n",
       " 'thousands': 1,\n",
       " 'thx': 1,\n",
       " 'tired': 1,\n",
       " 'years': 1,\n",
       " 'woman': 1,\n",
       " 'woke': 1,\n",
       " 'wish': 1,\n",
       " 'wearing': 1,\n",
       " 'warranted': 1,\n",
       " 'viscous': 1,\n",
       " 'virus': 1,\n",
       " 'violate': 1,\n",
       " 'venezuela': 1,\n",
       " 'us': 1,\n",
       " 'united': 1,\n",
       " 'tv': 1,\n",
       " 'trumpisnotwell': 1,\n",
       " 'troops': 1,\n",
       " 'right': 1,\n",
       " 'realdonaldtrump': 1,\n",
       " 'hundreds': 1,\n",
       " 'level': 1,\n",
       " 'maybe': 1,\n",
       " 'maxwell': 1,\n",
       " 'marsists': 1,\n",
       " 'man': 1,\n",
       " 'luck': 1,\n",
       " 'loves': 1,\n",
       " 'lost': 1,\n",
       " 'lives': 1,\n",
       " 'killed': 1,\n",
       " 'real': 1,\n",
       " 'kicked': 1,\n",
       " 'joebiden': 1,\n",
       " 'ivanka': 1,\n",
       " 'instead': 1,\n",
       " 'innocent': 1,\n",
       " 'inappropriate': 1,\n",
       " 'imagine': 1,\n",
       " 'hymn': 1,\n",
       " 'mean': 1,\n",
       " 'moca': 1,\n",
       " 'months': 1,\n",
       " 'mt': 1,\n",
       " 'raising': 1,\n",
       " 'racist': 1,\n",
       " 'president': 1,\n",
       " 'praying': 1,\n",
       " 'potus': 1,\n",
       " 'posted': 1,\n",
       " 'possible': 1,\n",
       " 'please': 1,\n",
       " 'pictures': 1,\n",
       " 'pic': 1,\n",
       " 'phonics': 1,\n",
       " 'oath': 1,\n",
       " 'nice': 1,\n",
       " 'nhs': 1,\n",
       " 'must': 1,\n",
       " 'much': 1,\n",
       " '2020': 1}"
      ]
     },
     "execution_count": 37,
     "metadata": {},
     "output_type": "execute_result"
    }
   ],
   "source": [
    "stop_words = set(stopwords.words('english'))\n",
    "print(stop_words)\n",
    "\n",
    "tokens_clean = {key: value for (key, value) in all_words.items() if key not in stop_words}\n",
    "tokens_clean"
   ]
  },
  {
   "cell_type": "code",
   "execution_count": null,
   "metadata": {},
   "outputs": [],
   "source": []
  },
  {
   "cell_type": "markdown",
   "metadata": {},
   "source": [
    "## Topic Extraction with SpaCy Label"
   ]
  },
  {
   "cell_type": "markdown",
   "metadata": {},
   "source": [
    "**Named Entity Recognition (NER)** - Labelling named “real-world” objects, like persons, companies or locations.  \n",
    "**Text Classification** - Assigning categories or labels to a whole document, or parts of a document."
   ]
  },
  {
   "cell_type": "code",
   "execution_count": 70,
   "metadata": {},
   "outputs": [],
   "source": [
    "import spacy\n",
    "from spacy.lang.en import English"
   ]
  },
  {
   "cell_type": "code",
   "execution_count": 72,
   "metadata": {},
   "outputs": [],
   "source": [
    "import en_core_web_sm\n",
    "nlp = en_core_web_sm.load()"
   ]
  },
  {
   "cell_type": "code",
   "execution_count": 105,
   "metadata": {},
   "outputs": [
    {
     "name": "stdout",
     "output_type": "stream",
     "text": [
      "Apple ==> Lema Apple ORG\n",
      "U.K. ==> Lema U.K. GPE\n",
      "$1 billion ==> Lema $ 1 billion MONEY\n"
     ]
    }
   ],
   "source": [
    "#should I substitute all to their lema?\n",
    "doc = nlp(\"Apple is looking at buying U.K. startup for $1 billion\")\n",
    "\n",
    "for ent in doc.ents:\n",
    "    print(ent.text, \"==> Lema\", ent.lemma_, ent.label_)"
   ]
  },
  {
   "cell_type": "code",
   "execution_count": 96,
   "metadata": {},
   "outputs": [
    {
     "data": {
      "text/plain": [
       "{'DATE': 7,\n",
       " 'ORG': 12,\n",
       " 'PERSON': 7,\n",
       " 'MONEY': 2,\n",
       " 'NORP': 5,\n",
       " 'GPE': 4,\n",
       " 'CARDINAL': 1}"
      ]
     },
     "execution_count": 96,
     "metadata": {},
     "output_type": "execute_result"
    }
   ],
   "source": [
    "from collections import Counter\n",
    "\n",
    "labels = []\n",
    "for s in DonaldTrump:\n",
    "    doc = nlp(s)\n",
    "    for ent in doc.ents:\n",
    "        labels.append(ent.label_)\n",
    "labels = dict(Counter(labels))\n",
    "labels"
   ]
  },
  {
   "cell_type": "code",
   "execution_count": 101,
   "metadata": {},
   "outputs": [],
   "source": [
    "labels_explanation = {}\n",
    "for label in labels.keys(): \n",
    "    labels_explanation[label] = spacy.explain(label)"
   ]
  },
  {
   "cell_type": "code",
   "execution_count": 102,
   "metadata": {},
   "outputs": [
    {
     "data": {
      "text/plain": [
       "{'DATE': 'Absolute or relative dates or periods',\n",
       " 'ORG': 'Companies, agencies, institutions, etc.',\n",
       " 'PERSON': 'People, including fictional',\n",
       " 'MONEY': 'Monetary values, including unit',\n",
       " 'NORP': 'Nationalities or religious or political groups',\n",
       " 'GPE': 'Countries, cities, states',\n",
       " 'CARDINAL': 'Numerals that do not fall under another type'}"
      ]
     },
     "execution_count": 102,
     "metadata": {},
     "output_type": "execute_result"
    }
   ],
   "source": [
    "labels_explanation"
   ]
  },
  {
   "cell_type": "code",
   "execution_count": 103,
   "metadata": {},
   "outputs": [],
   "source": [
    "from spacy.matcher import Matcher"
   ]
  },
  {
   "cell_type": "code",
   "execution_count": 104,
   "metadata": {},
   "outputs": [],
   "source": [
    "matcher = Matcher(nlp.vocab)"
   ]
  },
  {
   "cell_type": "code",
   "execution_count": null,
   "metadata": {},
   "outputs": [],
   "source": []
  }
 ],
 "metadata": {
  "kernelspec": {
   "display_name": "Python 3",
   "language": "python",
   "name": "python3"
  },
  "language_info": {
   "codemirror_mode": {
    "name": "ipython",
    "version": 3
   },
   "file_extension": ".py",
   "mimetype": "text/x-python",
   "name": "python",
   "nbconvert_exporter": "python",
   "pygments_lexer": "ipython3",
   "version": "3.7.7"
  }
 },
 "nbformat": 4,
 "nbformat_minor": 4
}
