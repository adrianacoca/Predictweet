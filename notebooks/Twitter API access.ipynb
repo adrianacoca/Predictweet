{
 "cells": [
  {
   "cell_type": "markdown",
   "metadata": {},
   "source": [
    "## Using twitter documentation\n"
   ]
  },
  {
   "cell_type": "code",
   "execution_count": 47,
   "metadata": {},
   "outputs": [],
   "source": [
    "import os\n",
    "from dotenv import load_dotenv\n",
    "import requests\n",
    "import requests_oauthlib\n",
    "import json"
   ]
  },
  {
   "cell_type": "code",
   "execution_count": 48,
   "metadata": {},
   "outputs": [],
   "source": [
    "load_dotenv()\n",
    "ACCESS_TOKEN = os.getenv(\"ACCESS_TOKEN\")\n",
    "ACCESS_SECRET = os.getenv(\"ACCESS_SECRET\")\n",
    "CONSUMER_KEY = os.getenv(\"CONSUMER_KEY\")\n",
    "CONSUMER_SECRET = os.getenv(\"CONSUMER_SECRET\")"
   ]
  },
  {
   "cell_type": "code",
   "execution_count": 49,
   "metadata": {},
   "outputs": [],
   "source": [
    "my_auth = requests_oauthlib.OAuth1(CONSUMER_KEY, CONSUMER_SECRET,ACCESS_TOKEN,\n",
    "ACCESS_SECRET)"
   ]
  },
  {
   "cell_type": "code",
   "execution_count": 50,
   "metadata": {},
   "outputs": [],
   "source": [
    "def get_tweets(user):\n",
    "    url = f'https://api.twitter.com/1.1/search/tweets.json?q=%40{user}'\n",
    "    response = requests.get(url, auth=my_auth, stream=True)\n",
    "    print(url, response)\n",
    "    return response.json()\n",
    "\n",
    "#should add count, result type: recent/popular"
   ]
  },
  {
   "cell_type": "code",
   "execution_count": 51,
   "metadata": {},
   "outputs": [
    {
     "name": "stdout",
     "output_type": "stream",
     "text": [
      "https://api.twitter.com/1.1/search/tweets.json?q=%40realDonaldTrump <Response [200]>\n"
     ]
    }
   ],
   "source": [
    "j = get_tweets(\"realDonaldTrump\")\n"
   ]
  },
  {
   "cell_type": "code",
   "execution_count": 52,
   "metadata": {},
   "outputs": [],
   "source": [
    "tweets = []\n",
    "for i in range(len(j[\"statuses\"])):\n",
    "    tweets.append(j[\"statuses\"][i][\"text\"])"
   ]
  },
  {
   "cell_type": "code",
   "execution_count": 53,
   "metadata": {},
   "outputs": [
    {
     "data": {
      "text/plain": [
       "['RT @joncoopertweets: This Sunday marks exactly 100 days until Election Day. Who’s ready to fire @realDonaldTrump?',\n",
       " '@DiegoMo24998303 @realDonaldTrump Lol',\n",
       " '@itsJeffTiedrich @realDonaldTrump I think he did.\\nLast year when it came out',\n",
       " 'RT @realDonaldTrump: Wow!',\n",
       " '@realcalvinn @realDonaldTrump https://t.co/aPJv5UknWo',\n",
       " 'RT @montaga: Want proof .@realDonaldTrump is not the problem listen &amp; share https://t.co/65bklSR5QR',\n",
       " '@eugenegu @realDonaldTrump Why is saving federal property and keeping a bunch of rioters in control against the constitution?',\n",
       " '@joncoopertweets @realDonaldTrump 🙋🏻\\u200d♀️',\n",
       " 'RT @WhiteHouse: President @realDonaldTrump signed four executive orders yesterday to massively lower prescription drug costs!\\n\\nGet the fact…',\n",
       " 'RT @xnilxnil: @realDonaldTrump @PressSec Misleading at best.\\nThese are those returning to the jobs they lost a few months ago.\\nNot really ‘…',\n",
       " 'RT @realDonaldTrump: Yesterday I signed four measures that will massively reduce the prices of prescription drugs, in many cases by more th…',\n",
       " 'RT @Infantry0300: When @realdonaldtrump sent his Gestapo to Portland there were about 50 protesters. Last night there were 10,000 Americans…',\n",
       " 'RT @ScottPresler: @realDonaldTrump @patriciabellomo The most important thing we can do to re-elect President Trump is register new voters.…',\n",
       " '@kanyewest Isn’t the incumbent @realDonaldTrump ? 🤨',\n",
       " 'RT @ProjectLincoln: What does Ghislaine Maxwell have on @realDonaldTrump? https://t.co/V2kJBesXIW']"
      ]
     },
     "execution_count": 53,
     "metadata": {},
     "output_type": "execute_result"
    }
   ],
   "source": [
    "tweets"
   ]
  },
  {
   "cell_type": "code",
   "execution_count": null,
   "metadata": {},
   "outputs": [],
   "source": []
  },
  {
   "cell_type": "code",
   "execution_count": 54,
   "metadata": {},
   "outputs": [],
   "source": [
    "from textblob import TextBlob"
   ]
  },
  {
   "cell_type": "code",
   "execution_count": 55,
   "metadata": {},
   "outputs": [],
   "source": [
    "def t_polarity(lst): \n",
    "    polarity = []\n",
    "    for l in lst: \n",
    "        polarity.append(TextBlob(l).sentiment.polarity)\n",
    "    return sum(polarity)/len(polarity)"
   ]
  },
  {
   "cell_type": "code",
   "execution_count": 56,
   "metadata": {},
   "outputs": [],
   "source": [
    "#t_polarity(tweets)"
   ]
  },
  {
   "cell_type": "code",
   "execution_count": 57,
   "metadata": {},
   "outputs": [
    {
     "data": {
      "text/plain": [
       "0.1374747474747475"
      ]
     },
     "execution_count": 57,
     "metadata": {},
     "output_type": "execute_result"
    }
   ],
   "source": [
    "t_polarity(tweets)"
   ]
  },
  {
   "cell_type": "code",
   "execution_count": null,
   "metadata": {},
   "outputs": [],
   "source": []
  }
 ],
 "metadata": {
  "kernelspec": {
   "display_name": "Python 3",
   "language": "python",
   "name": "python3"
  },
  "language_info": {
   "codemirror_mode": {
    "name": "ipython",
    "version": 3
   },
   "file_extension": ".py",
   "mimetype": "text/x-python",
   "name": "python",
   "nbconvert_exporter": "python",
   "pygments_lexer": "ipython3",
   "version": "3.7.7"
  }
 },
 "nbformat": 4,
 "nbformat_minor": 4
}
