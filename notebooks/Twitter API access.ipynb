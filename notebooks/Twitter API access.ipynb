{
 "cells": [
  {
   "cell_type": "markdown",
   "metadata": {},
   "source": [
    "## Using twitter documentation\n"
   ]
  },
  {
   "cell_type": "code",
   "execution_count": 80,
   "metadata": {},
   "outputs": [],
   "source": [
    "import os\n",
    "from dotenv import load_dotenv\n",
    "import requests\n",
    "import requests_oauthlib\n",
    "import json\n",
    "import pandas as pd\n",
    "import numpy as np\n",
    "import re"
   ]
  },
  {
   "cell_type": "code",
   "execution_count": 2,
   "metadata": {},
   "outputs": [],
   "source": [
    "load_dotenv()\n",
    "ACCESS_TOKEN = os.getenv(\"ACCESS_TOKEN\")\n",
    "ACCESS_SECRET = os.getenv(\"ACCESS_SECRET\")\n",
    "CONSUMER_KEY = os.getenv(\"CONSUMER_KEY\")\n",
    "CONSUMER_SECRET = os.getenv(\"CONSUMER_SECRET\")"
   ]
  },
  {
   "cell_type": "code",
   "execution_count": 3,
   "metadata": {},
   "outputs": [],
   "source": [
    "my_auth = requests_oauthlib.OAuth1(CONSUMER_KEY, CONSUMER_SECRET,ACCESS_TOKEN,\n",
    "ACCESS_SECRET)"
   ]
  },
  {
   "cell_type": "code",
   "execution_count": 4,
   "metadata": {},
   "outputs": [
    {
     "data": {
      "text/plain": [
       "'import GetOldTweets3 as got\\n\\ntweetCriteria = got.manager.TweetCriteria().setUsername(\"barackobama\")                                           .setSince(\"2015-09-10\")                                           .setUntil(\"2016-01-01\")                                           .setMaxTweets(1)                                           .setEmoji(\"unicode\")\\n\\ntweet = got.manager.TweetManager.getTweets(tweetCriteria)\\n\\ntext_tweets = [[tw.username,\\n                tw.text,\\n                tw.date,\\n                tw.retweets,\\n                tw.favorites,\\n                tw.mentions,\\n                tw.hashtags] for tw in tweet\\n               \\ntext_tweets'"
      ]
     },
     "execution_count": 4,
     "metadata": {},
     "output_type": "execute_result"
    }
   ],
   "source": [
    "\"\"\"import GetOldTweets3 as got\n",
    "\n",
    "tweetCriteria = got.manager.TweetCriteria().setUsername(\"barackobama\")\\\n",
    "                                           .setSince(\"2015-09-10\")\\\n",
    "                                           .setUntil(\"2016-01-01\")\\\n",
    "                                           .setMaxTweets(1)\\\n",
    "                                           .setEmoji(\"unicode\")\n",
    "\n",
    "tweet = got.manager.TweetManager.getTweets(tweetCriteria)\n",
    "\n",
    "text_tweets = [[tw.username,\n",
    "                tw.text,\n",
    "                tw.date,\n",
    "                tw.retweets,\n",
    "                tw.favorites,\n",
    "                tw.mentions,\n",
    "                tw.hashtags] for tw in tweet\n",
    "               \n",
    "text_tweets\"\"\""
   ]
  },
  {
   "cell_type": "markdown",
   "metadata": {},
   "source": [
    "## Choose user"
   ]
  },
  {
   "cell_type": "code",
   "execution_count": 5,
   "metadata": {},
   "outputs": [],
   "source": [
    "user = \"BarackObama\""
   ]
  },
  {
   "cell_type": "markdown",
   "metadata": {},
   "source": [
    "## 1. Get twitter mentions"
   ]
  },
  {
   "cell_type": "code",
   "execution_count": 6,
   "metadata": {},
   "outputs": [
    {
     "data": {
      "text/plain": [
       "'def get_tweet_mentions(user, date):\\n    url = f\\'https://api.twitter.com/1.1/search/tweets.json?q=%40{user}&count=100&tweet_mode=extended&until={date}\\'\\n    response = requests.get(url, auth=my_auth, stream=True)\\n    print(url, response)\\n    return response.json()\\nmentions = get_tweet_mentions(user, \"2020-07-26\")'"
      ]
     },
     "execution_count": 6,
     "metadata": {},
     "output_type": "execute_result"
    }
   ],
   "source": [
    "\"\"\"def get_tweet_mentions(user, date):\n",
    "    url = f'https://api.twitter.com/1.1/search/tweets.json?q=%40{user}&count=100&tweet_mode=extended&until={date}'\n",
    "    response = requests.get(url, auth=my_auth, stream=True)\n",
    "    print(url, response)\n",
    "    return response.json()\n",
    "mentions = get_tweet_mentions(user, \"2020-07-26\")\"\"\"\n",
    "#should add count, result type: recent/popular"
   ]
  },
  {
   "cell_type": "code",
   "execution_count": 7,
   "metadata": {},
   "outputs": [
    {
     "data": {
      "text/plain": [
       "'tweet_mentions = []\\nfor i in range(len(mentions[\"statuses\"])):\\n    try: \\n        tweet_mentions.append(mentions[\"statuses\"][i][\\'retweeted_status\\'][\\'full_text\\'])\\n    except: \\n        tweet_mentions.append(mentions[\"statuses\"][i][\"full_text\"])'"
      ]
     },
     "execution_count": 7,
     "metadata": {},
     "output_type": "execute_result"
    }
   ],
   "source": [
    "\"\"\"tweet_mentions = []\n",
    "for i in range(len(mentions[\"statuses\"])):\n",
    "    try: \n",
    "        tweet_mentions.append(mentions[\"statuses\"][i]['retweeted_status']['full_text'])\n",
    "    except: \n",
    "        tweet_mentions.append(mentions[\"statuses\"][i][\"full_text\"])\"\"\""
   ]
  },
  {
   "cell_type": "code",
   "execution_count": 8,
   "metadata": {},
   "outputs": [
    {
     "data": {
      "text/plain": [
       "'tweet_mentions = []\\nfor i in range(len(j[\"statuses\"])):\\n    #count verified opinions x10\\n    \\n    if j[\"statuses\"][i][\"user\"][\"verified\"]==False: \\n        tweet_mentions.append(j[\"statuses\"][i][\"full_text\"])\\n    elif j[\"statuses\"][i][\"user\"][\"verified\"]==True: \\n        tweet_mentions.extend([j[\"statuses\"][i][\"full_text\"] for l in range(10)])'"
      ]
     },
     "execution_count": 8,
     "metadata": {},
     "output_type": "execute_result"
    }
   ],
   "source": [
    "# Retweets get cut with this code\n",
    "\"\"\"tweet_mentions = []\n",
    "for i in range(len(j[\"statuses\"])):\n",
    "    #count verified opinions x10\n",
    "    \n",
    "    if j[\"statuses\"][i][\"user\"][\"verified\"]==False: \n",
    "        tweet_mentions.append(j[\"statuses\"][i][\"full_text\"])\n",
    "    elif j[\"statuses\"][i][\"user\"][\"verified\"]==True: \n",
    "        tweet_mentions.extend([j[\"statuses\"][i][\"full_text\"] for l in range(10)])\"\"\""
   ]
  },
  {
   "cell_type": "markdown",
   "metadata": {},
   "source": [
    "Parameters:\n",
    "lang ==> en\n",
    "count ==> 100\n",
    "until ==> (Returns tweets created before the given date. Date should be formatted as YYYY-MM-DD. Keep in mind that the search index has a 7-day limit. In other words, no tweets will be found for a date older than one week)"
   ]
  },
  {
   "cell_type": "markdown",
   "metadata": {},
   "source": [
    "## 2. Get tweets from user"
   ]
  },
  {
   "cell_type": "code",
   "execution_count": 9,
   "metadata": {},
   "outputs": [],
   "source": [
    "def get_tweets(user):\n",
    "    url = f'https://api.twitter.com/1.1/statuses/user_timeline.json?screen_name={user}&count=100&tweet_mode=extended'\n",
    "    response = requests.get(url, auth=my_auth, stream=True)\n",
    "    print(url, response)\n",
    "    return response.json()"
   ]
  },
  {
   "cell_type": "code",
   "execution_count": 10,
   "metadata": {},
   "outputs": [
    {
     "name": "stdout",
     "output_type": "stream",
     "text": [
      "https://api.twitter.com/1.1/statuses/user_timeline.json?screen_name=BarackObama&count=100&tweet_mode=extended <Response [200]>\n"
     ]
    }
   ],
   "source": [
    "user_t = get_tweets(user)"
   ]
  },
  {
   "cell_type": "code",
   "execution_count": 11,
   "metadata": {},
   "outputs": [],
   "source": [
    "id_ = []\n",
    "retweet_count = []\n",
    "tweet = []\n",
    "time = []\n",
    "for i in range(len(user_t)):\n",
    "    id_.append(user_t[i][\"id_str\"])\n",
    "    retweet_count.append(user_t[i][\"retweet_count\"])\n",
    "    time.append(user_t[i]['created_at'])\n",
    "    try:\n",
    "        tweet.append(user_t[i]['retweeted_status']['full_text'])\n",
    "    except: \n",
    "        tweet.append(user_t[i][\"full_text\"])"
   ]
  },
  {
   "cell_type": "code",
   "execution_count": 12,
   "metadata": {},
   "outputs": [],
   "source": [
    "d = {\"id\":id_, \"time\":time, \"tweet\": tweet, \"retweets\":retweet_count}\n",
    "data = pd.DataFrame(data = d)"
   ]
  },
  {
   "cell_type": "code",
   "execution_count": 13,
   "metadata": {},
   "outputs": [
    {
     "data": {
      "text/html": [
       "<div>\n",
       "<style scoped>\n",
       "    .dataframe tbody tr th:only-of-type {\n",
       "        vertical-align: middle;\n",
       "    }\n",
       "\n",
       "    .dataframe tbody tr th {\n",
       "        vertical-align: top;\n",
       "    }\n",
       "\n",
       "    .dataframe thead th {\n",
       "        text-align: right;\n",
       "    }\n",
       "</style>\n",
       "<table border=\"1\" class=\"dataframe\">\n",
       "  <thead>\n",
       "    <tr style=\"text-align: right;\">\n",
       "      <th></th>\n",
       "      <th>id</th>\n",
       "      <th>time</th>\n",
       "      <th>tweet</th>\n",
       "      <th>retweets</th>\n",
       "    </tr>\n",
       "  </thead>\n",
       "  <tbody>\n",
       "    <tr>\n",
       "      <th>0</th>\n",
       "      <td>1288149277861195787</td>\n",
       "      <td>Tue Jul 28 16:28:15 +0000 2020</td>\n",
       "      <td>It's National Vote By Mail Day. Voting by mail...</td>\n",
       "      <td>50417</td>\n",
       "    </tr>\n",
       "    <tr>\n",
       "      <th>1</th>\n",
       "      <td>1288148827816460289</td>\n",
       "      <td>Tue Jul 28 16:26:27 +0000 2020</td>\n",
       "      <td>Arianna’s a supporter of our campaign who’s be...</td>\n",
       "      <td>7713</td>\n",
       "    </tr>\n",
       "    <tr>\n",
       "      <th>2</th>\n",
       "      <td>1287417455447552002</td>\n",
       "      <td>Sun Jul 26 16:00:15 +0000 2020</td>\n",
       "      <td>We're 100 days away from Election Day and ther...</td>\n",
       "      <td>55936</td>\n",
       "    </tr>\n",
       "    <tr>\n",
       "      <th>3</th>\n",
       "      <td>1287372117370183687</td>\n",
       "      <td>Sun Jul 26 13:00:05 +0000 2020</td>\n",
       "      <td>To celebrate the 30th anniversary of the Ameri...</td>\n",
       "      <td>9367</td>\n",
       "    </tr>\n",
       "    <tr>\n",
       "      <th>4</th>\n",
       "      <td>1286729522956689410</td>\n",
       "      <td>Fri Jul 24 18:26:39 +0000 2020</td>\n",
       "      <td>Although we’ve seen some positive findings rec...</td>\n",
       "      <td>16773</td>\n",
       "    </tr>\n",
       "    <tr>\n",
       "      <th>...</th>\n",
       "      <td>...</td>\n",
       "      <td>...</td>\n",
       "      <td>...</td>\n",
       "      <td>...</td>\n",
       "    </tr>\n",
       "    <tr>\n",
       "      <th>95</th>\n",
       "      <td>1250091976487317507</td>\n",
       "      <td>Tue Apr 14 16:02:07 +0000 2020</td>\n",
       "      <td>For all of us who love this country and are wi...</td>\n",
       "      <td>19783</td>\n",
       "    </tr>\n",
       "    <tr>\n",
       "      <th>96</th>\n",
       "      <td>1250088269502709762</td>\n",
       "      <td>Tue Apr 14 15:47:23 +0000 2020</td>\n",
       "      <td>I’m proud to endorse my friend @JoeBiden for P...</td>\n",
       "      <td>160907</td>\n",
       "    </tr>\n",
       "    <tr>\n",
       "      <th>97</th>\n",
       "      <td>1249759749102546946</td>\n",
       "      <td>Mon Apr 13 18:01:58 +0000 2020</td>\n",
       "      <td>Dreamers have contributed so much to our count...</td>\n",
       "      <td>22675</td>\n",
       "    </tr>\n",
       "    <tr>\n",
       "      <th>98</th>\n",
       "      <td>1249722411781668865</td>\n",
       "      <td>Mon Apr 13 15:33:36 +0000 2020</td>\n",
       "      <td>We can't deny that racial and socioeconomic fa...</td>\n",
       "      <td>37385</td>\n",
       "    </tr>\n",
       "    <tr>\n",
       "      <th>99</th>\n",
       "      <td>1249346924102275072</td>\n",
       "      <td>Sun Apr 12 14:41:33 +0000 2020</td>\n",
       "      <td>Although our celebrations may look different t...</td>\n",
       "      <td>55093</td>\n",
       "    </tr>\n",
       "  </tbody>\n",
       "</table>\n",
       "<p>100 rows × 4 columns</p>\n",
       "</div>"
      ],
      "text/plain": [
       "                     id                            time  \\\n",
       "0   1288149277861195787  Tue Jul 28 16:28:15 +0000 2020   \n",
       "1   1288148827816460289  Tue Jul 28 16:26:27 +0000 2020   \n",
       "2   1287417455447552002  Sun Jul 26 16:00:15 +0000 2020   \n",
       "3   1287372117370183687  Sun Jul 26 13:00:05 +0000 2020   \n",
       "4   1286729522956689410  Fri Jul 24 18:26:39 +0000 2020   \n",
       "..                  ...                             ...   \n",
       "95  1250091976487317507  Tue Apr 14 16:02:07 +0000 2020   \n",
       "96  1250088269502709762  Tue Apr 14 15:47:23 +0000 2020   \n",
       "97  1249759749102546946  Mon Apr 13 18:01:58 +0000 2020   \n",
       "98  1249722411781668865  Mon Apr 13 15:33:36 +0000 2020   \n",
       "99  1249346924102275072  Sun Apr 12 14:41:33 +0000 2020   \n",
       "\n",
       "                                                tweet  retweets  \n",
       "0   It's National Vote By Mail Day. Voting by mail...     50417  \n",
       "1   Arianna’s a supporter of our campaign who’s be...      7713  \n",
       "2   We're 100 days away from Election Day and ther...     55936  \n",
       "3   To celebrate the 30th anniversary of the Ameri...      9367  \n",
       "4   Although we’ve seen some positive findings rec...     16773  \n",
       "..                                                ...       ...  \n",
       "95  For all of us who love this country and are wi...     19783  \n",
       "96  I’m proud to endorse my friend @JoeBiden for P...    160907  \n",
       "97  Dreamers have contributed so much to our count...     22675  \n",
       "98  We can't deny that racial and socioeconomic fa...     37385  \n",
       "99  Although our celebrations may look different t...     55093  \n",
       "\n",
       "[100 rows x 4 columns]"
      ]
     },
     "execution_count": 13,
     "metadata": {},
     "output_type": "execute_result"
    }
   ],
   "source": [
    "data"
   ]
  },
  {
   "cell_type": "code",
   "execution_count": 14,
   "metadata": {},
   "outputs": [
    {
     "data": {
      "text/plain": [
       "'\\nfor i in range(len(user_t)):\\n    user_t[i][\"user\"][\"followers_count\"]\\n    user_t[i][\"retweet_count\"]\\n    \\n\\nfor i in range(len(user_t)):\\n    try:\\n        tweets[user_t[i][\"id_str\"]]= (user_t[i][\\'retweeted_status\\'][\\'full_text\\'], user_t[i][\\'created_at\\'])\\n    except: \\n        tweets[user_t[i][\"id_str\"]]= (user_t[i][\"full_text\"], user_t[0][\\'created_at\\'])\\n'"
      ]
     },
     "execution_count": 14,
     "metadata": {},
     "output_type": "execute_result"
    }
   ],
   "source": [
    "\"\"\"\n",
    "for i in range(len(user_t)):\n",
    "    user_t[i][\"user\"][\"followers_count\"]\n",
    "    user_t[i][\"retweet_count\"]\n",
    "    \n",
    "\n",
    "for i in range(len(user_t)):\n",
    "    try:\n",
    "        tweets[user_t[i][\"id_str\"]]= (user_t[i]['retweeted_status']['full_text'], user_t[i]['created_at'])\n",
    "    except: \n",
    "        tweets[user_t[i][\"id_str\"]]= (user_t[i][\"full_text\"], user_t[0]['created_at'])\n",
    "\"\"\""
   ]
  },
  {
   "cell_type": "markdown",
   "metadata": {},
   "source": [
    "## 3. Get replies for a tweet"
   ]
  },
  {
   "cell_type": "code",
   "execution_count": 15,
   "metadata": {},
   "outputs": [],
   "source": [
    "def get_replies(user, tweet_id):\n",
    "    url = f'https://api.twitter.com/1.1/search/tweets.json?q=%40{user}&count=100&tweet_mode=extended&in_reply_to_status_id_str={tweet_id}'\n",
    "    response = requests.get(url, auth=my_auth, stream=True)\n",
    "    responses =  response.json()\n",
    "    tweet_responses = []\n",
    "    for i in range(len(responses[\"statuses\"])):\n",
    "        try: \n",
    "            tweet_responses.append(responses[\"statuses\"][i]['retweeted_status']['full_text'])\n",
    "        except: \n",
    "            tweet_responses.append(responses[\"statuses\"][i][\"full_text\"])\n",
    "    return tweet_responses"
   ]
  },
  {
   "cell_type": "code",
   "execution_count": 16,
   "metadata": {},
   "outputs": [
    {
     "data": {
      "text/plain": [
       "\"url = f'https://api.twitter.com/1.1/search/tweets.json?q=%40{user}&count=100&tweet_mode=extended&in_reply_to_status_id_str=1286993270816378881'\\nresponse = requests.get(url, auth=my_auth, stream=True)\\nprint(response.json())\""
      ]
     },
     "execution_count": 16,
     "metadata": {},
     "output_type": "execute_result"
    }
   ],
   "source": [
    "\"\"\"url = f'https://api.twitter.com/1.1/search/tweets.json?q=%40{user}&count=100&tweet_mode=extended&in_reply_to_status_id_str=1286993270816378881'\n",
    "response = requests.get(url, auth=my_auth, stream=True)\n",
    "print(response.json())\"\"\"\n"
   ]
  },
  {
   "cell_type": "code",
   "execution_count": null,
   "metadata": {},
   "outputs": [],
   "source": []
  },
  {
   "cell_type": "markdown",
   "metadata": {},
   "source": [
    "## 4. Create data list"
   ]
  },
  {
   "cell_type": "code",
   "execution_count": 136,
   "metadata": {},
   "outputs": [],
   "source": [
    "responses = []\n",
    "for id_ in list(data[\"id\"]):\n",
    "    r = get_replies(user, id_)\n",
    "    responses.append(r)"
   ]
  },
  {
   "cell_type": "code",
   "execution_count": 137,
   "metadata": {},
   "outputs": [],
   "source": [
    "data[\"responses\"] = responses"
   ]
  },
  {
   "cell_type": "code",
   "execution_count": 138,
   "metadata": {},
   "outputs": [
    {
     "data": {
      "text/html": [
       "<div>\n",
       "<style scoped>\n",
       "    .dataframe tbody tr th:only-of-type {\n",
       "        vertical-align: middle;\n",
       "    }\n",
       "\n",
       "    .dataframe tbody tr th {\n",
       "        vertical-align: top;\n",
       "    }\n",
       "\n",
       "    .dataframe thead th {\n",
       "        text-align: right;\n",
       "    }\n",
       "</style>\n",
       "<table border=\"1\" class=\"dataframe\">\n",
       "  <thead>\n",
       "    <tr style=\"text-align: right;\">\n",
       "      <th></th>\n",
       "      <th>id</th>\n",
       "      <th>time</th>\n",
       "      <th>tweet</th>\n",
       "      <th>retweets</th>\n",
       "      <th>responses</th>\n",
       "      <th>sentiments</th>\n",
       "      <th>hashtags</th>\n",
       "    </tr>\n",
       "  </thead>\n",
       "  <tbody>\n",
       "    <tr>\n",
       "      <th>0</th>\n",
       "      <td>1288149277861195787</td>\n",
       "      <td>Tue Jul 28 16:28:15 2020</td>\n",
       "      <td>It's National Vote By Mail Day. Voting by mail...</td>\n",
       "      <td>50417</td>\n",
       "      <td>[@Aussi_GMurphy @Fifi_Borgia @BarackObama Nope...</td>\n",
       "      <td>0.434536</td>\n",
       "      <td>NaN</td>\n",
       "    </tr>\n",
       "    <tr>\n",
       "      <th>1</th>\n",
       "      <td>1288148827816460289</td>\n",
       "      <td>Tue Jul 28 16:26:27 2020</td>\n",
       "      <td>Arianna’s a supporter of our campaign who’s be...</td>\n",
       "      <td>7713</td>\n",
       "      <td>[@its101191514 @BarackObama I would want those...</td>\n",
       "      <td>0.434536</td>\n",
       "      <td>NaN</td>\n",
       "    </tr>\n",
       "    <tr>\n",
       "      <th>2</th>\n",
       "      <td>1287417455447552002</td>\n",
       "      <td>Sun Jul 26 16:00:15 2020</td>\n",
       "      <td>We're 100 days away from Election Day and ther...</td>\n",
       "      <td>55936</td>\n",
       "      <td>[@its101191514 @BarackObama I would want those...</td>\n",
       "      <td>0.434536</td>\n",
       "      <td>NaN</td>\n",
       "    </tr>\n",
       "    <tr>\n",
       "      <th>3</th>\n",
       "      <td>1287372117370183687</td>\n",
       "      <td>Sun Jul 26 13:00:05 2020</td>\n",
       "      <td>To celebrate the 30th anniversary of the Ameri...</td>\n",
       "      <td>9367</td>\n",
       "      <td>[Arianna’s a supporter of our campaign who’s b...</td>\n",
       "      <td>0.434536</td>\n",
       "      <td>NaN</td>\n",
       "    </tr>\n",
       "    <tr>\n",
       "      <th>4</th>\n",
       "      <td>1286729522956689410</td>\n",
       "      <td>Fri Jul 24 18:26:39 2020</td>\n",
       "      <td>Although we’ve seen some positive findings rec...</td>\n",
       "      <td>16773</td>\n",
       "      <td>[Arianna’s a supporter of our campaign who’s b...</td>\n",
       "      <td>0.434536</td>\n",
       "      <td>NaN</td>\n",
       "    </tr>\n",
       "  </tbody>\n",
       "</table>\n",
       "</div>"
      ],
      "text/plain": [
       "                    id                      time  \\\n",
       "0  1288149277861195787  Tue Jul 28 16:28:15 2020   \n",
       "1  1288148827816460289  Tue Jul 28 16:26:27 2020   \n",
       "2  1287417455447552002  Sun Jul 26 16:00:15 2020   \n",
       "3  1287372117370183687  Sun Jul 26 13:00:05 2020   \n",
       "4  1286729522956689410  Fri Jul 24 18:26:39 2020   \n",
       "\n",
       "                                               tweet  retweets  \\\n",
       "0  It's National Vote By Mail Day. Voting by mail...     50417   \n",
       "1  Arianna’s a supporter of our campaign who’s be...      7713   \n",
       "2  We're 100 days away from Election Day and ther...     55936   \n",
       "3  To celebrate the 30th anniversary of the Ameri...      9367   \n",
       "4  Although we’ve seen some positive findings rec...     16773   \n",
       "\n",
       "                                           responses  sentiments hashtags  \n",
       "0  [@Aussi_GMurphy @Fifi_Borgia @BarackObama Nope...    0.434536      NaN  \n",
       "1  [@its101191514 @BarackObama I would want those...    0.434536      NaN  \n",
       "2  [@its101191514 @BarackObama I would want those...    0.434536      NaN  \n",
       "3  [Arianna’s a supporter of our campaign who’s b...    0.434536      NaN  \n",
       "4  [Arianna’s a supporter of our campaign who’s b...    0.434536      NaN  "
      ]
     },
     "execution_count": 138,
     "metadata": {},
     "output_type": "execute_result"
    }
   ],
   "source": [
    "data.head()"
   ]
  },
  {
   "cell_type": "code",
   "execution_count": 178,
   "metadata": {},
   "outputs": [],
   "source": []
  },
  {
   "cell_type": "markdown",
   "metadata": {},
   "source": [
    "## 5. Extracting Vader Sentiment Analysis"
   ]
  },
  {
   "cell_type": "code",
   "execution_count": 20,
   "metadata": {},
   "outputs": [],
   "source": [
    "from vaderSentiment.vaderSentiment import SentimentIntensityAnalyzer\n",
    "\n",
    "def sentiment_scores(sentence): \n",
    "    sid_obj = SentimentIntensityAnalyzer()\n",
    "    sentiment_dict = sid_obj.polarity_scores(sentence)\n",
    "    return sentiment_dict['compound']\n",
    "\n",
    "def sentiment_averages_vader(lst):\n",
    "    l = []\n",
    "    for e in lst: \n",
    "        l.append(sentiment_scores(e))\n",
    "    return sum(l)/len(l)"
   ]
  },
  {
   "cell_type": "code",
   "execution_count": 21,
   "metadata": {},
   "outputs": [
    {
     "name": "stdout",
     "output_type": "stream",
     "text": [
      "0\n",
      "1\n",
      "2\n",
      "3\n",
      "4\n",
      "5\n",
      "6\n",
      "7\n",
      "8\n",
      "9\n",
      "10\n",
      "11\n",
      "12\n",
      "13\n",
      "14\n",
      "15\n",
      "16\n",
      "17\n",
      "18\n",
      "19\n",
      "20\n",
      "21\n",
      "22\n",
      "23\n",
      "24\n",
      "25\n",
      "26\n",
      "27\n",
      "28\n",
      "29\n",
      "30\n",
      "31\n",
      "32\n",
      "33\n",
      "34\n",
      "35\n",
      "36\n",
      "37\n",
      "38\n",
      "39\n",
      "40\n",
      "41\n",
      "42\n",
      "43\n",
      "44\n",
      "45\n",
      "46\n",
      "47\n",
      "48\n",
      "49\n",
      "50\n",
      "51\n",
      "52\n",
      "53\n",
      "54\n",
      "55\n",
      "56\n",
      "57\n",
      "58\n",
      "59\n",
      "60\n",
      "61\n",
      "62\n",
      "63\n",
      "64\n",
      "65\n",
      "66\n",
      "67\n",
      "68\n",
      "69\n",
      "70\n",
      "71\n",
      "72\n",
      "73\n",
      "74\n",
      "75\n",
      "76\n",
      "77\n",
      "78\n",
      "79\n",
      "80\n",
      "81\n",
      "82\n",
      "83\n",
      "84\n",
      "85\n",
      "86\n",
      "87\n",
      "88\n",
      "89\n",
      "90\n",
      "91\n",
      "92\n",
      "93\n",
      "94\n",
      "95\n",
      "96\n",
      "97\n",
      "98\n",
      "99\n"
     ]
    }
   ],
   "source": [
    "sentiments = []\n",
    "for i in range(len(data)):\n",
    "    print(i)\n",
    "    sentiments.append(sentiment_averages_vader(data[\"responses\"][i]))\n",
    "data[\"sentiments\"]=sentiments"
   ]
  },
  {
   "cell_type": "markdown",
   "metadata": {},
   "source": [
    "## Extracting Topics From Response Hashtags"
   ]
  },
  {
   "cell_type": "code",
   "execution_count": 185,
   "metadata": {},
   "outputs": [
    {
     "name": "stderr",
     "output_type": "stream",
     "text": [
      "<>:2: DeprecationWarning:\n",
      "\n",
      "invalid escape sequence \\w\n",
      "\n",
      "<>:2: DeprecationWarning:\n",
      "\n",
      "invalid escape sequence \\w\n",
      "\n",
      "<>:2: DeprecationWarning:\n",
      "\n",
      "invalid escape sequence \\w\n",
      "\n",
      "<ipython-input-185-629ca45a9ed9>:2: DeprecationWarning:\n",
      "\n",
      "invalid escape sequence \\w\n",
      "\n"
     ]
    }
   ],
   "source": [
    "def get_hashtags(string):\n",
    "    x = re.findall(\"#\\w*\", string)\n",
    "    h = []\n",
    "    for i in x:\n",
    "        result = re.sub(\"#\", \"\", i)\n",
    "        h.append(result)\n",
    "    return h"
   ]
  },
  {
   "cell_type": "code",
   "execution_count": 249,
   "metadata": {},
   "outputs": [],
   "source": [
    "hashtags = []\n",
    "for i in range(len(data[\"responses\"])):\n",
    "    tweet_hashtags = []\n",
    "    for l in range(len(data[\"responses\"][i])):\n",
    "        tweet_hashtags.append(get_hashtag_string(data[\"responses\"][i][l]))\n",
    "    hashtags.append([h for i in tweet_hashtags for h in i])\n",
    "data[\"hashtags\"] = hashtags"
   ]
  },
  {
   "cell_type": "code",
   "execution_count": 250,
   "metadata": {},
   "outputs": [],
   "source": [
    "from collections import Counter\n",
    "hashtags_count = []\n",
    "for i in range(len(data[\"hashtags\"])):\n",
    "    hashtags_count.append(dict(Counter(data[\"hashtags\"][i])))"
   ]
  },
  {
   "cell_type": "code",
   "execution_count": null,
   "metadata": {},
   "outputs": [],
   "source": [
    "\"\"\"for i in range(len(hashtags_count)):\n",
    "    hashtags_count[i]\n",
    "    data[\"sentiments\"][i]\"\"\""
   ]
  },
  {
   "cell_type": "code",
   "execution_count": 252,
   "metadata": {},
   "outputs": [],
   "source": [
    "h = set([w for l in data[\"hashtags\"] for w in l])\n",
    "all_hashtags = {}\n",
    "for w in h:\n",
    "    all_hashtags[w]=[]"
   ]
  },
  {
   "cell_type": "code",
   "execution_count": 253,
   "metadata": {},
   "outputs": [
    {
     "data": {
      "text/plain": [
       "[('MichelleObamaPodcast', 9),\n",
       " ('VoteByMail', 2),\n",
       " ('VoteBlueToSaveAmerica2020', 1),\n",
       " ('wtpGOTV', 1),\n",
       " ('ONEV1', 1),\n",
       " ('sirenKemp', 1),\n",
       " ('15', 1),\n",
       " ('kkkkemp', 1),\n",
       " ('Youhavemyvote', 1),\n",
       " ('TrumpVirus', 1),\n",
       " ('COVID19', 1),\n",
       " ('TrumpPressConference', 1),\n",
       " ('LiesLiesLies', 1),\n",
       " ('SanghiJamaat', 1),\n",
       " ('Hindutva', 1),\n",
       " ('COVIDIOTS', 1),\n",
       " ('coronavirus', 1),\n",
       " ('HCQWorks', 1),\n",
       " ('CovidHoax', 1),\n",
       " ('GeorgeSoros', 1),\n",
       " ('Scamdemic2020', 1),\n",
       " ('MSM', 1),\n",
       " ('Media', 1),\n",
       " ('FakeNews', 1),\n",
       " ('TRUTH', 1),\n",
       " ('LyingTrump', 1)]"
      ]
     },
     "execution_count": 253,
     "metadata": {},
     "output_type": "execute_result"
    }
   ],
   "source": [
    "#list(hashtags_count[1].items())"
   ]
  },
  {
   "cell_type": "code",
   "execution_count": 254,
   "metadata": {},
   "outputs": [],
   "source": [
    "for d in range(len(hashtags_count)):\n",
    "    l = list(hashtags_count[d].items())\n",
    "    s = data[\"sentiments\"][d]\n",
    "    for i in range(len(l)):\n",
    "        key = l[i][0]\n",
    "        value = l[i][1]\n",
    "        for n in range(value):\n",
    "            all_hashtags[key].append(s)"
   ]
  },
  {
   "cell_type": "code",
   "execution_count": 258,
   "metadata": {},
   "outputs": [],
   "source": [
    "topics = pd.DataFrame(all_hashtags.items(), columns=['Hashtag', 'Sentiment List'])"
   ]
  },
  {
   "cell_type": "code",
   "execution_count": 267,
   "metadata": {},
   "outputs": [],
   "source": [
    "def avg(lst):\n",
    "    return sum(lst) / len(lst) \n",
    "topics[\"Average Sentiment\"] = topics['Sentiment List'].apply(avg)"
   ]
  },
  {
   "cell_type": "code",
   "execution_count": 328,
   "metadata": {},
   "outputs": [],
   "source": [
    "topics.sort_values(by='Average Sentiment', ascending=True, inplace=True)"
   ]
  },
  {
   "cell_type": "code",
   "execution_count": 358,
   "metadata": {},
   "outputs": [
    {
     "data": {
      "text/plain": [
       "[0.010000000000000009,\n",
       " 0.016062194444444344,\n",
       " 0.016062194444444344,\n",
       " 0.016062194444444344,\n",
       " 0.016062194444444344,\n",
       " 0.016062194444444344,\n",
       " 0.016062194444444344,\n",
       " 0.016062194444444344,\n",
       " 0.016062194444444344,\n",
       " 0.02098894860627143,\n",
       " 0.02098894860627143,\n",
       " 0.02098894860627143,\n",
       " 0.02098894860627143,\n",
       " 0.02441572714285639,\n",
       " 0.02441572714285639,\n",
       " 0.02441572714285639,\n",
       " 0.02441572714285639,\n",
       " 0.02441572714285639,\n",
       " 0.02441572714285639,\n",
       " 0.02441572714285639,\n",
       " 0.02441572714285639,\n",
       " 0.02441572714285639,\n",
       " 0.02441572714285639,\n",
       " 0.02441572714285639,\n",
       " 0.024415727142857835,\n",
       " 0.0248508772699792]"
      ]
     },
     "execution_count": 358,
     "metadata": {},
     "output_type": "execute_result"
    }
   ],
   "source": []
  },
  {
   "cell_type": "code",
   "execution_count": 359,
   "metadata": {},
   "outputs": [],
   "source": [
    "mn = topics[\"Average Sentiment\"].min()-0.01\n",
    "topics[\"plot\"] = list(topics[\"Average Sentiment\"]-mn)"
   ]
  },
  {
   "cell_type": "code",
   "execution_count": 377,
   "metadata": {},
   "outputs": [
    {
     "data": {
      "application/vnd.plotly.v1+json": {
       "config": {
        "plotlyServerURL": "https://plot.ly"
       },
       "data": [
        {
         "alignmentgroup": "True",
         "hovertemplate": "plot=%{x}<br>Hashtag=%{y}<br>Average Sentiment=%{marker.color}<extra></extra>",
         "legendgroup": "",
         "marker": {
          "color": [
           0.4423013928571428,
           0.44836358730158715,
           0.44836358730158715,
           0.44836358730158715,
           0.44836358730158715,
           0.44836358730158715,
           0.44836358730158715,
           0.44836358730158715,
           0.44836358730158715,
           0.45329034146341424,
           0.45329034146341424,
           0.45329034146341424,
           0.45329034146341424,
           0.4567171199999992,
           0.4567171199999992,
           0.4567171199999992,
           0.4567171199999992,
           0.4567171199999992,
           0.4567171199999992,
           0.4567171199999992,
           0.4567171199999992,
           0.4567171199999992,
           0.4567171199999992,
           0.4567171199999992,
           0.45671712000000064,
           0.457152270127122
          ],
          "coloraxis": "coloraxis"
         },
         "name": "",
         "offsetgroup": "",
         "orientation": "h",
         "showlegend": false,
         "textposition": "auto",
         "type": "bar",
         "x": [
          0.010000000000000009,
          0.016062194444444344,
          0.016062194444444344,
          0.016062194444444344,
          0.016062194444444344,
          0.016062194444444344,
          0.016062194444444344,
          0.016062194444444344,
          0.016062194444444344,
          0.02098894860627143,
          0.02098894860627143,
          0.02098894860627143,
          0.02098894860627143,
          0.02441572714285639,
          0.02441572714285639,
          0.02441572714285639,
          0.02441572714285639,
          0.02441572714285639,
          0.02441572714285639,
          0.02441572714285639,
          0.02441572714285639,
          0.02441572714285639,
          0.02441572714285639,
          0.02441572714285639,
          0.024415727142857835,
          0.0248508772699792
         ],
         "xaxis": "x",
         "y": [
          "LyingTrump",
          "TRUTH",
          "Scamdemic2020",
          "HCQWorks",
          "MSM",
          "CovidHoax",
          "Media",
          "FakeNews",
          "GeorgeSoros",
          "Hindutva",
          "SanghiJamaat",
          "COVIDIOTS",
          "coronavirus",
          "sirenKemp",
          "15",
          "ONEV1",
          "wtpGOTV",
          "LiesLiesLies",
          "Youhavemyvote",
          "TrumpVirus",
          "TrumpPressConference",
          "COVID19",
          "kkkkemp",
          "VoteBlueToSaveAmerica2020",
          "VoteByMail",
          "MichelleObamaPodcast"
         ],
         "yaxis": "y"
        }
       ],
       "layout": {
        "barmode": "relative",
        "coloraxis": {
         "colorbar": {
          "title": {
           "text": "Average Sentiment"
          }
         },
         "colorscale": [
          [
           0,
           "rgb(2,4,25)"
          ],
          [
           0.0625,
           "rgb(24,15,41)"
          ],
          [
           0.125,
           "rgb(47,23,57)"
          ],
          [
           0.1875,
           "rgb(71,28,72)"
          ],
          [
           0.25,
           "rgb(97,30,82)"
          ],
          [
           0.3125,
           "rgb(123,30,89)"
          ],
          [
           0.375,
           "rgb(150,27,91)"
          ],
          [
           0.4375,
           "rgb(177,22,88)"
          ],
          [
           0.5,
           "rgb(203,26,79)"
          ],
          [
           0.5625,
           "rgb(223,47,67)"
          ],
          [
           0.625,
           "rgb(236,76,61)"
          ],
          [
           0.6875,
           "rgb(242,107,73)"
          ],
          [
           0.75,
           "rgb(244,135,95)"
          ],
          [
           0.8125,
           "rgb(245,162,122)"
          ],
          [
           0.875,
           "rgb(246,188,153)"
          ],
          [
           0.9375,
           "rgb(247,212,187)"
          ],
          [
           1,
           "rgb(250,234,220)"
          ]
         ]
        },
        "legend": {
         "tracegroupgap": 0
        },
        "margin": {
         "t": 60
        },
        "template": {
         "data": {
          "bar": [
           {
            "error_x": {
             "color": "rgb(36,36,36)"
            },
            "error_y": {
             "color": "rgb(36,36,36)"
            },
            "marker": {
             "line": {
              "color": "rgb(234,234,242)",
              "width": 0.5
             }
            },
            "type": "bar"
           }
          ],
          "barpolar": [
           {
            "marker": {
             "line": {
              "color": "rgb(234,234,242)",
              "width": 0.5
             }
            },
            "type": "barpolar"
           }
          ],
          "carpet": [
           {
            "aaxis": {
             "endlinecolor": "rgb(36,36,36)",
             "gridcolor": "white",
             "linecolor": "white",
             "minorgridcolor": "white",
             "startlinecolor": "rgb(36,36,36)"
            },
            "baxis": {
             "endlinecolor": "rgb(36,36,36)",
             "gridcolor": "white",
             "linecolor": "white",
             "minorgridcolor": "white",
             "startlinecolor": "rgb(36,36,36)"
            },
            "type": "carpet"
           }
          ],
          "choropleth": [
           {
            "colorbar": {
             "outlinewidth": 0,
             "tickcolor": "rgb(36,36,36)",
             "ticklen": 8,
             "ticks": "outside",
             "tickwidth": 2
            },
            "type": "choropleth"
           }
          ],
          "contour": [
           {
            "colorbar": {
             "outlinewidth": 0,
             "tickcolor": "rgb(36,36,36)",
             "ticklen": 8,
             "ticks": "outside",
             "tickwidth": 2
            },
            "colorscale": [
             [
              0,
              "rgb(2,4,25)"
             ],
             [
              0.06274509803921569,
              "rgb(24,15,41)"
             ],
             [
              0.12549019607843137,
              "rgb(47,23,57)"
             ],
             [
              0.18823529411764706,
              "rgb(71,28,72)"
             ],
             [
              0.25098039215686274,
              "rgb(97,30,82)"
             ],
             [
              0.3137254901960784,
              "rgb(123,30,89)"
             ],
             [
              0.3764705882352941,
              "rgb(150,27,91)"
             ],
             [
              0.4392156862745098,
              "rgb(177,22,88)"
             ],
             [
              0.5019607843137255,
              "rgb(203,26,79)"
             ],
             [
              0.5647058823529412,
              "rgb(223,47,67)"
             ],
             [
              0.6274509803921569,
              "rgb(236,76,61)"
             ],
             [
              0.6901960784313725,
              "rgb(242,107,73)"
             ],
             [
              0.7529411764705882,
              "rgb(244,135,95)"
             ],
             [
              0.8156862745098039,
              "rgb(245,162,122)"
             ],
             [
              0.8784313725490196,
              "rgb(246,188,153)"
             ],
             [
              0.9411764705882353,
              "rgb(247,212,187)"
             ],
             [
              1,
              "rgb(250,234,220)"
             ]
            ],
            "type": "contour"
           }
          ],
          "contourcarpet": [
           {
            "colorbar": {
             "outlinewidth": 0,
             "tickcolor": "rgb(36,36,36)",
             "ticklen": 8,
             "ticks": "outside",
             "tickwidth": 2
            },
            "type": "contourcarpet"
           }
          ],
          "heatmap": [
           {
            "colorbar": {
             "outlinewidth": 0,
             "tickcolor": "rgb(36,36,36)",
             "ticklen": 8,
             "ticks": "outside",
             "tickwidth": 2
            },
            "colorscale": [
             [
              0,
              "rgb(2,4,25)"
             ],
             [
              0.06274509803921569,
              "rgb(24,15,41)"
             ],
             [
              0.12549019607843137,
              "rgb(47,23,57)"
             ],
             [
              0.18823529411764706,
              "rgb(71,28,72)"
             ],
             [
              0.25098039215686274,
              "rgb(97,30,82)"
             ],
             [
              0.3137254901960784,
              "rgb(123,30,89)"
             ],
             [
              0.3764705882352941,
              "rgb(150,27,91)"
             ],
             [
              0.4392156862745098,
              "rgb(177,22,88)"
             ],
             [
              0.5019607843137255,
              "rgb(203,26,79)"
             ],
             [
              0.5647058823529412,
              "rgb(223,47,67)"
             ],
             [
              0.6274509803921569,
              "rgb(236,76,61)"
             ],
             [
              0.6901960784313725,
              "rgb(242,107,73)"
             ],
             [
              0.7529411764705882,
              "rgb(244,135,95)"
             ],
             [
              0.8156862745098039,
              "rgb(245,162,122)"
             ],
             [
              0.8784313725490196,
              "rgb(246,188,153)"
             ],
             [
              0.9411764705882353,
              "rgb(247,212,187)"
             ],
             [
              1,
              "rgb(250,234,220)"
             ]
            ],
            "type": "heatmap"
           }
          ],
          "heatmapgl": [
           {
            "colorbar": {
             "outlinewidth": 0,
             "tickcolor": "rgb(36,36,36)",
             "ticklen": 8,
             "ticks": "outside",
             "tickwidth": 2
            },
            "colorscale": [
             [
              0,
              "rgb(2,4,25)"
             ],
             [
              0.06274509803921569,
              "rgb(24,15,41)"
             ],
             [
              0.12549019607843137,
              "rgb(47,23,57)"
             ],
             [
              0.18823529411764706,
              "rgb(71,28,72)"
             ],
             [
              0.25098039215686274,
              "rgb(97,30,82)"
             ],
             [
              0.3137254901960784,
              "rgb(123,30,89)"
             ],
             [
              0.3764705882352941,
              "rgb(150,27,91)"
             ],
             [
              0.4392156862745098,
              "rgb(177,22,88)"
             ],
             [
              0.5019607843137255,
              "rgb(203,26,79)"
             ],
             [
              0.5647058823529412,
              "rgb(223,47,67)"
             ],
             [
              0.6274509803921569,
              "rgb(236,76,61)"
             ],
             [
              0.6901960784313725,
              "rgb(242,107,73)"
             ],
             [
              0.7529411764705882,
              "rgb(244,135,95)"
             ],
             [
              0.8156862745098039,
              "rgb(245,162,122)"
             ],
             [
              0.8784313725490196,
              "rgb(246,188,153)"
             ],
             [
              0.9411764705882353,
              "rgb(247,212,187)"
             ],
             [
              1,
              "rgb(250,234,220)"
             ]
            ],
            "type": "heatmapgl"
           }
          ],
          "histogram": [
           {
            "marker": {
             "colorbar": {
              "outlinewidth": 0,
              "tickcolor": "rgb(36,36,36)",
              "ticklen": 8,
              "ticks": "outside",
              "tickwidth": 2
             }
            },
            "type": "histogram"
           }
          ],
          "histogram2d": [
           {
            "colorbar": {
             "outlinewidth": 0,
             "tickcolor": "rgb(36,36,36)",
             "ticklen": 8,
             "ticks": "outside",
             "tickwidth": 2
            },
            "colorscale": [
             [
              0,
              "rgb(2,4,25)"
             ],
             [
              0.06274509803921569,
              "rgb(24,15,41)"
             ],
             [
              0.12549019607843137,
              "rgb(47,23,57)"
             ],
             [
              0.18823529411764706,
              "rgb(71,28,72)"
             ],
             [
              0.25098039215686274,
              "rgb(97,30,82)"
             ],
             [
              0.3137254901960784,
              "rgb(123,30,89)"
             ],
             [
              0.3764705882352941,
              "rgb(150,27,91)"
             ],
             [
              0.4392156862745098,
              "rgb(177,22,88)"
             ],
             [
              0.5019607843137255,
              "rgb(203,26,79)"
             ],
             [
              0.5647058823529412,
              "rgb(223,47,67)"
             ],
             [
              0.6274509803921569,
              "rgb(236,76,61)"
             ],
             [
              0.6901960784313725,
              "rgb(242,107,73)"
             ],
             [
              0.7529411764705882,
              "rgb(244,135,95)"
             ],
             [
              0.8156862745098039,
              "rgb(245,162,122)"
             ],
             [
              0.8784313725490196,
              "rgb(246,188,153)"
             ],
             [
              0.9411764705882353,
              "rgb(247,212,187)"
             ],
             [
              1,
              "rgb(250,234,220)"
             ]
            ],
            "type": "histogram2d"
           }
          ],
          "histogram2dcontour": [
           {
            "colorbar": {
             "outlinewidth": 0,
             "tickcolor": "rgb(36,36,36)",
             "ticklen": 8,
             "ticks": "outside",
             "tickwidth": 2
            },
            "colorscale": [
             [
              0,
              "rgb(2,4,25)"
             ],
             [
              0.06274509803921569,
              "rgb(24,15,41)"
             ],
             [
              0.12549019607843137,
              "rgb(47,23,57)"
             ],
             [
              0.18823529411764706,
              "rgb(71,28,72)"
             ],
             [
              0.25098039215686274,
              "rgb(97,30,82)"
             ],
             [
              0.3137254901960784,
              "rgb(123,30,89)"
             ],
             [
              0.3764705882352941,
              "rgb(150,27,91)"
             ],
             [
              0.4392156862745098,
              "rgb(177,22,88)"
             ],
             [
              0.5019607843137255,
              "rgb(203,26,79)"
             ],
             [
              0.5647058823529412,
              "rgb(223,47,67)"
             ],
             [
              0.6274509803921569,
              "rgb(236,76,61)"
             ],
             [
              0.6901960784313725,
              "rgb(242,107,73)"
             ],
             [
              0.7529411764705882,
              "rgb(244,135,95)"
             ],
             [
              0.8156862745098039,
              "rgb(245,162,122)"
             ],
             [
              0.8784313725490196,
              "rgb(246,188,153)"
             ],
             [
              0.9411764705882353,
              "rgb(247,212,187)"
             ],
             [
              1,
              "rgb(250,234,220)"
             ]
            ],
            "type": "histogram2dcontour"
           }
          ],
          "mesh3d": [
           {
            "colorbar": {
             "outlinewidth": 0,
             "tickcolor": "rgb(36,36,36)",
             "ticklen": 8,
             "ticks": "outside",
             "tickwidth": 2
            },
            "type": "mesh3d"
           }
          ],
          "parcoords": [
           {
            "line": {
             "colorbar": {
              "outlinewidth": 0,
              "tickcolor": "rgb(36,36,36)",
              "ticklen": 8,
              "ticks": "outside",
              "tickwidth": 2
             }
            },
            "type": "parcoords"
           }
          ],
          "pie": [
           {
            "automargin": true,
            "type": "pie"
           }
          ],
          "scatter": [
           {
            "marker": {
             "colorbar": {
              "outlinewidth": 0,
              "tickcolor": "rgb(36,36,36)",
              "ticklen": 8,
              "ticks": "outside",
              "tickwidth": 2
             }
            },
            "type": "scatter"
           }
          ],
          "scatter3d": [
           {
            "line": {
             "colorbar": {
              "outlinewidth": 0,
              "tickcolor": "rgb(36,36,36)",
              "ticklen": 8,
              "ticks": "outside",
              "tickwidth": 2
             }
            },
            "marker": {
             "colorbar": {
              "outlinewidth": 0,
              "tickcolor": "rgb(36,36,36)",
              "ticklen": 8,
              "ticks": "outside",
              "tickwidth": 2
             }
            },
            "type": "scatter3d"
           }
          ],
          "scattercarpet": [
           {
            "marker": {
             "colorbar": {
              "outlinewidth": 0,
              "tickcolor": "rgb(36,36,36)",
              "ticklen": 8,
              "ticks": "outside",
              "tickwidth": 2
             }
            },
            "type": "scattercarpet"
           }
          ],
          "scattergeo": [
           {
            "marker": {
             "colorbar": {
              "outlinewidth": 0,
              "tickcolor": "rgb(36,36,36)",
              "ticklen": 8,
              "ticks": "outside",
              "tickwidth": 2
             }
            },
            "type": "scattergeo"
           }
          ],
          "scattergl": [
           {
            "marker": {
             "colorbar": {
              "outlinewidth": 0,
              "tickcolor": "rgb(36,36,36)",
              "ticklen": 8,
              "ticks": "outside",
              "tickwidth": 2
             }
            },
            "type": "scattergl"
           }
          ],
          "scattermapbox": [
           {
            "marker": {
             "colorbar": {
              "outlinewidth": 0,
              "tickcolor": "rgb(36,36,36)",
              "ticklen": 8,
              "ticks": "outside",
              "tickwidth": 2
             }
            },
            "type": "scattermapbox"
           }
          ],
          "scatterpolar": [
           {
            "marker": {
             "colorbar": {
              "outlinewidth": 0,
              "tickcolor": "rgb(36,36,36)",
              "ticklen": 8,
              "ticks": "outside",
              "tickwidth": 2
             }
            },
            "type": "scatterpolar"
           }
          ],
          "scatterpolargl": [
           {
            "marker": {
             "colorbar": {
              "outlinewidth": 0,
              "tickcolor": "rgb(36,36,36)",
              "ticklen": 8,
              "ticks": "outside",
              "tickwidth": 2
             }
            },
            "type": "scatterpolargl"
           }
          ],
          "scatterternary": [
           {
            "marker": {
             "colorbar": {
              "outlinewidth": 0,
              "tickcolor": "rgb(36,36,36)",
              "ticklen": 8,
              "ticks": "outside",
              "tickwidth": 2
             }
            },
            "type": "scatterternary"
           }
          ],
          "surface": [
           {
            "colorbar": {
             "outlinewidth": 0,
             "tickcolor": "rgb(36,36,36)",
             "ticklen": 8,
             "ticks": "outside",
             "tickwidth": 2
            },
            "colorscale": [
             [
              0,
              "rgb(2,4,25)"
             ],
             [
              0.06274509803921569,
              "rgb(24,15,41)"
             ],
             [
              0.12549019607843137,
              "rgb(47,23,57)"
             ],
             [
              0.18823529411764706,
              "rgb(71,28,72)"
             ],
             [
              0.25098039215686274,
              "rgb(97,30,82)"
             ],
             [
              0.3137254901960784,
              "rgb(123,30,89)"
             ],
             [
              0.3764705882352941,
              "rgb(150,27,91)"
             ],
             [
              0.4392156862745098,
              "rgb(177,22,88)"
             ],
             [
              0.5019607843137255,
              "rgb(203,26,79)"
             ],
             [
              0.5647058823529412,
              "rgb(223,47,67)"
             ],
             [
              0.6274509803921569,
              "rgb(236,76,61)"
             ],
             [
              0.6901960784313725,
              "rgb(242,107,73)"
             ],
             [
              0.7529411764705882,
              "rgb(244,135,95)"
             ],
             [
              0.8156862745098039,
              "rgb(245,162,122)"
             ],
             [
              0.8784313725490196,
              "rgb(246,188,153)"
             ],
             [
              0.9411764705882353,
              "rgb(247,212,187)"
             ],
             [
              1,
              "rgb(250,234,220)"
             ]
            ],
            "type": "surface"
           }
          ],
          "table": [
           {
            "cells": {
             "fill": {
              "color": "rgb(231,231,240)"
             },
             "line": {
              "color": "white"
             }
            },
            "header": {
             "fill": {
              "color": "rgb(183,183,191)"
             },
             "line": {
              "color": "white"
             }
            },
            "type": "table"
           }
          ]
         },
         "layout": {
          "annotationdefaults": {
           "arrowcolor": "rgb(67,103,167)"
          },
          "coloraxis": {
           "colorbar": {
            "outlinewidth": 0,
            "tickcolor": "rgb(36,36,36)",
            "ticklen": 8,
            "ticks": "outside",
            "tickwidth": 2
           }
          },
          "colorscale": {
           "sequential": [
            [
             0,
             "rgb(2,4,25)"
            ],
            [
             0.06274509803921569,
             "rgb(24,15,41)"
            ],
            [
             0.12549019607843137,
             "rgb(47,23,57)"
            ],
            [
             0.18823529411764706,
             "rgb(71,28,72)"
            ],
            [
             0.25098039215686274,
             "rgb(97,30,82)"
            ],
            [
             0.3137254901960784,
             "rgb(123,30,89)"
            ],
            [
             0.3764705882352941,
             "rgb(150,27,91)"
            ],
            [
             0.4392156862745098,
             "rgb(177,22,88)"
            ],
            [
             0.5019607843137255,
             "rgb(203,26,79)"
            ],
            [
             0.5647058823529412,
             "rgb(223,47,67)"
            ],
            [
             0.6274509803921569,
             "rgb(236,76,61)"
            ],
            [
             0.6901960784313725,
             "rgb(242,107,73)"
            ],
            [
             0.7529411764705882,
             "rgb(244,135,95)"
            ],
            [
             0.8156862745098039,
             "rgb(245,162,122)"
            ],
            [
             0.8784313725490196,
             "rgb(246,188,153)"
            ],
            [
             0.9411764705882353,
             "rgb(247,212,187)"
            ],
            [
             1,
             "rgb(250,234,220)"
            ]
           ],
           "sequentialminus": [
            [
             0,
             "rgb(2,4,25)"
            ],
            [
             0.06274509803921569,
             "rgb(24,15,41)"
            ],
            [
             0.12549019607843137,
             "rgb(47,23,57)"
            ],
            [
             0.18823529411764706,
             "rgb(71,28,72)"
            ],
            [
             0.25098039215686274,
             "rgb(97,30,82)"
            ],
            [
             0.3137254901960784,
             "rgb(123,30,89)"
            ],
            [
             0.3764705882352941,
             "rgb(150,27,91)"
            ],
            [
             0.4392156862745098,
             "rgb(177,22,88)"
            ],
            [
             0.5019607843137255,
             "rgb(203,26,79)"
            ],
            [
             0.5647058823529412,
             "rgb(223,47,67)"
            ],
            [
             0.6274509803921569,
             "rgb(236,76,61)"
            ],
            [
             0.6901960784313725,
             "rgb(242,107,73)"
            ],
            [
             0.7529411764705882,
             "rgb(244,135,95)"
            ],
            [
             0.8156862745098039,
             "rgb(245,162,122)"
            ],
            [
             0.8784313725490196,
             "rgb(246,188,153)"
            ],
            [
             0.9411764705882353,
             "rgb(247,212,187)"
            ],
            [
             1,
             "rgb(250,234,220)"
            ]
           ]
          },
          "colorway": [
           "rgb(76,114,176)",
           "rgb(221,132,82)",
           "rgb(85,168,104)",
           "rgb(196,78,82)",
           "rgb(129,114,179)",
           "rgb(147,120,96)",
           "rgb(218,139,195)",
           "rgb(140,140,140)",
           "rgb(204,185,116)",
           "rgb(100,181,205)"
          ],
          "font": {
           "color": "rgb(36,36,36)"
          },
          "geo": {
           "bgcolor": "white",
           "lakecolor": "white",
           "landcolor": "rgb(234,234,242)",
           "showlakes": true,
           "showland": true,
           "subunitcolor": "white"
          },
          "hoverlabel": {
           "align": "left"
          },
          "hovermode": "closest",
          "paper_bgcolor": "white",
          "plot_bgcolor": "rgb(234,234,242)",
          "polar": {
           "angularaxis": {
            "gridcolor": "white",
            "linecolor": "white",
            "showgrid": true,
            "ticks": ""
           },
           "bgcolor": "rgb(234,234,242)",
           "radialaxis": {
            "gridcolor": "white",
            "linecolor": "white",
            "showgrid": true,
            "ticks": ""
           }
          },
          "scene": {
           "xaxis": {
            "backgroundcolor": "rgb(234,234,242)",
            "gridcolor": "white",
            "gridwidth": 2,
            "linecolor": "white",
            "showbackground": true,
            "showgrid": true,
            "ticks": "",
            "zerolinecolor": "white"
           },
           "yaxis": {
            "backgroundcolor": "rgb(234,234,242)",
            "gridcolor": "white",
            "gridwidth": 2,
            "linecolor": "white",
            "showbackground": true,
            "showgrid": true,
            "ticks": "",
            "zerolinecolor": "white"
           },
           "zaxis": {
            "backgroundcolor": "rgb(234,234,242)",
            "gridcolor": "white",
            "gridwidth": 2,
            "linecolor": "white",
            "showbackground": true,
            "showgrid": true,
            "ticks": "",
            "zerolinecolor": "white"
           }
          },
          "shapedefaults": {
           "fillcolor": "rgb(67,103,167)",
           "line": {
            "width": 0
           },
           "opacity": 0.5
          },
          "ternary": {
           "aaxis": {
            "gridcolor": "white",
            "linecolor": "white",
            "showgrid": true,
            "ticks": ""
           },
           "baxis": {
            "gridcolor": "white",
            "linecolor": "white",
            "showgrid": true,
            "ticks": ""
           },
           "bgcolor": "rgb(234,234,242)",
           "caxis": {
            "gridcolor": "white",
            "linecolor": "white",
            "showgrid": true,
            "ticks": ""
           }
          },
          "xaxis": {
           "automargin": true,
           "gridcolor": "white",
           "linecolor": "white",
           "showgrid": true,
           "ticks": "",
           "title": {
            "standoff": 15
           },
           "zerolinecolor": "white"
          },
          "yaxis": {
           "automargin": true,
           "gridcolor": "white",
           "linecolor": "white",
           "showgrid": true,
           "ticks": "",
           "title": {
            "standoff": 15
           },
           "zerolinecolor": "white"
          }
         }
        },
        "xaxis": {
         "anchor": "y",
         "domain": [
          0,
          1
         ],
         "title": {
          "text": "plot"
         }
        },
        "yaxis": {
         "anchor": "x",
         "domain": [
          0,
          1
         ],
         "title": {
          "text": "Hashtag"
         }
        }
       }
      },
      "text/html": [
       "<div>\n",
       "        \n",
       "        \n",
       "            <div id=\"30a8e04e-03ef-4224-9d60-a4ac4700a73f\" class=\"plotly-graph-div\" style=\"height:525px; width:100%;\"></div>\n",
       "            <script type=\"text/javascript\">\n",
       "                require([\"plotly\"], function(Plotly) {\n",
       "                    window.PLOTLYENV=window.PLOTLYENV || {};\n",
       "                    \n",
       "                if (document.getElementById(\"30a8e04e-03ef-4224-9d60-a4ac4700a73f\")) {\n",
       "                    Plotly.newPlot(\n",
       "                        '30a8e04e-03ef-4224-9d60-a4ac4700a73f',\n",
       "                        [{\"alignmentgroup\": \"True\", \"hovertemplate\": \"plot=%{x}<br>Hashtag=%{y}<br>Average Sentiment=%{marker.color}<extra></extra>\", \"legendgroup\": \"\", \"marker\": {\"color\": [0.4423013928571428, 0.44836358730158715, 0.44836358730158715, 0.44836358730158715, 0.44836358730158715, 0.44836358730158715, 0.44836358730158715, 0.44836358730158715, 0.44836358730158715, 0.45329034146341424, 0.45329034146341424, 0.45329034146341424, 0.45329034146341424, 0.4567171199999992, 0.4567171199999992, 0.4567171199999992, 0.4567171199999992, 0.4567171199999992, 0.4567171199999992, 0.4567171199999992, 0.4567171199999992, 0.4567171199999992, 0.4567171199999992, 0.4567171199999992, 0.45671712000000064, 0.457152270127122], \"coloraxis\": \"coloraxis\"}, \"name\": \"\", \"offsetgroup\": \"\", \"orientation\": \"h\", \"showlegend\": false, \"textposition\": \"auto\", \"type\": \"bar\", \"x\": [0.010000000000000009, 0.016062194444444344, 0.016062194444444344, 0.016062194444444344, 0.016062194444444344, 0.016062194444444344, 0.016062194444444344, 0.016062194444444344, 0.016062194444444344, 0.02098894860627143, 0.02098894860627143, 0.02098894860627143, 0.02098894860627143, 0.02441572714285639, 0.02441572714285639, 0.02441572714285639, 0.02441572714285639, 0.02441572714285639, 0.02441572714285639, 0.02441572714285639, 0.02441572714285639, 0.02441572714285639, 0.02441572714285639, 0.02441572714285639, 0.024415727142857835, 0.0248508772699792], \"xaxis\": \"x\", \"y\": [\"LyingTrump\", \"TRUTH\", \"Scamdemic2020\", \"HCQWorks\", \"MSM\", \"CovidHoax\", \"Media\", \"FakeNews\", \"GeorgeSoros\", \"Hindutva\", \"SanghiJamaat\", \"COVIDIOTS\", \"coronavirus\", \"sirenKemp\", \"15\", \"ONEV1\", \"wtpGOTV\", \"LiesLiesLies\", \"Youhavemyvote\", \"TrumpVirus\", \"TrumpPressConference\", \"COVID19\", \"kkkkemp\", \"VoteBlueToSaveAmerica2020\", \"VoteByMail\", \"MichelleObamaPodcast\"], \"yaxis\": \"y\"}],\n",
       "                        {\"barmode\": \"relative\", \"coloraxis\": {\"colorbar\": {\"title\": {\"text\": \"Average Sentiment\"}}, \"colorscale\": [[0.0, \"rgb(2,4,25)\"], [0.0625, \"rgb(24,15,41)\"], [0.125, \"rgb(47,23,57)\"], [0.1875, \"rgb(71,28,72)\"], [0.25, \"rgb(97,30,82)\"], [0.3125, \"rgb(123,30,89)\"], [0.375, \"rgb(150,27,91)\"], [0.4375, \"rgb(177,22,88)\"], [0.5, \"rgb(203,26,79)\"], [0.5625, \"rgb(223,47,67)\"], [0.625, \"rgb(236,76,61)\"], [0.6875, \"rgb(242,107,73)\"], [0.75, \"rgb(244,135,95)\"], [0.8125, \"rgb(245,162,122)\"], [0.875, \"rgb(246,188,153)\"], [0.9375, \"rgb(247,212,187)\"], [1.0, \"rgb(250,234,220)\"]]}, \"legend\": {\"tracegroupgap\": 0}, \"margin\": {\"t\": 60}, \"template\": {\"data\": {\"bar\": [{\"error_x\": {\"color\": \"rgb(36,36,36)\"}, \"error_y\": {\"color\": \"rgb(36,36,36)\"}, \"marker\": {\"line\": {\"color\": \"rgb(234,234,242)\", \"width\": 0.5}}, \"type\": \"bar\"}], \"barpolar\": [{\"marker\": {\"line\": {\"color\": \"rgb(234,234,242)\", \"width\": 0.5}}, \"type\": \"barpolar\"}], \"carpet\": [{\"aaxis\": {\"endlinecolor\": \"rgb(36,36,36)\", \"gridcolor\": \"white\", \"linecolor\": \"white\", \"minorgridcolor\": \"white\", \"startlinecolor\": \"rgb(36,36,36)\"}, \"baxis\": {\"endlinecolor\": \"rgb(36,36,36)\", \"gridcolor\": \"white\", \"linecolor\": \"white\", \"minorgridcolor\": \"white\", \"startlinecolor\": \"rgb(36,36,36)\"}, \"type\": \"carpet\"}], \"choropleth\": [{\"colorbar\": {\"outlinewidth\": 0, \"tickcolor\": \"rgb(36,36,36)\", \"ticklen\": 8, \"ticks\": \"outside\", \"tickwidth\": 2}, \"type\": \"choropleth\"}], \"contour\": [{\"colorbar\": {\"outlinewidth\": 0, \"tickcolor\": \"rgb(36,36,36)\", \"ticklen\": 8, \"ticks\": \"outside\", \"tickwidth\": 2}, \"colorscale\": [[0.0, \"rgb(2,4,25)\"], [0.06274509803921569, \"rgb(24,15,41)\"], [0.12549019607843137, \"rgb(47,23,57)\"], [0.18823529411764706, \"rgb(71,28,72)\"], [0.25098039215686274, \"rgb(97,30,82)\"], [0.3137254901960784, \"rgb(123,30,89)\"], [0.3764705882352941, \"rgb(150,27,91)\"], [0.4392156862745098, \"rgb(177,22,88)\"], [0.5019607843137255, \"rgb(203,26,79)\"], [0.5647058823529412, \"rgb(223,47,67)\"], [0.6274509803921569, \"rgb(236,76,61)\"], [0.6901960784313725, \"rgb(242,107,73)\"], [0.7529411764705882, \"rgb(244,135,95)\"], [0.8156862745098039, \"rgb(245,162,122)\"], [0.8784313725490196, \"rgb(246,188,153)\"], [0.9411764705882353, \"rgb(247,212,187)\"], [1.0, \"rgb(250,234,220)\"]], \"type\": \"contour\"}], \"contourcarpet\": [{\"colorbar\": {\"outlinewidth\": 0, \"tickcolor\": \"rgb(36,36,36)\", \"ticklen\": 8, \"ticks\": \"outside\", \"tickwidth\": 2}, \"type\": \"contourcarpet\"}], \"heatmap\": [{\"colorbar\": {\"outlinewidth\": 0, \"tickcolor\": \"rgb(36,36,36)\", \"ticklen\": 8, \"ticks\": \"outside\", \"tickwidth\": 2}, \"colorscale\": [[0.0, \"rgb(2,4,25)\"], [0.06274509803921569, \"rgb(24,15,41)\"], [0.12549019607843137, \"rgb(47,23,57)\"], [0.18823529411764706, \"rgb(71,28,72)\"], [0.25098039215686274, \"rgb(97,30,82)\"], [0.3137254901960784, \"rgb(123,30,89)\"], [0.3764705882352941, \"rgb(150,27,91)\"], [0.4392156862745098, \"rgb(177,22,88)\"], [0.5019607843137255, \"rgb(203,26,79)\"], [0.5647058823529412, \"rgb(223,47,67)\"], [0.6274509803921569, \"rgb(236,76,61)\"], [0.6901960784313725, \"rgb(242,107,73)\"], [0.7529411764705882, \"rgb(244,135,95)\"], [0.8156862745098039, \"rgb(245,162,122)\"], [0.8784313725490196, \"rgb(246,188,153)\"], [0.9411764705882353, \"rgb(247,212,187)\"], [1.0, \"rgb(250,234,220)\"]], \"type\": \"heatmap\"}], \"heatmapgl\": [{\"colorbar\": {\"outlinewidth\": 0, \"tickcolor\": \"rgb(36,36,36)\", \"ticklen\": 8, \"ticks\": \"outside\", \"tickwidth\": 2}, \"colorscale\": [[0.0, \"rgb(2,4,25)\"], [0.06274509803921569, \"rgb(24,15,41)\"], [0.12549019607843137, \"rgb(47,23,57)\"], [0.18823529411764706, \"rgb(71,28,72)\"], [0.25098039215686274, \"rgb(97,30,82)\"], [0.3137254901960784, \"rgb(123,30,89)\"], [0.3764705882352941, \"rgb(150,27,91)\"], [0.4392156862745098, \"rgb(177,22,88)\"], [0.5019607843137255, \"rgb(203,26,79)\"], [0.5647058823529412, \"rgb(223,47,67)\"], [0.6274509803921569, \"rgb(236,76,61)\"], [0.6901960784313725, \"rgb(242,107,73)\"], [0.7529411764705882, \"rgb(244,135,95)\"], [0.8156862745098039, \"rgb(245,162,122)\"], [0.8784313725490196, \"rgb(246,188,153)\"], [0.9411764705882353, \"rgb(247,212,187)\"], [1.0, \"rgb(250,234,220)\"]], \"type\": \"heatmapgl\"}], \"histogram\": [{\"marker\": {\"colorbar\": {\"outlinewidth\": 0, \"tickcolor\": \"rgb(36,36,36)\", \"ticklen\": 8, \"ticks\": \"outside\", \"tickwidth\": 2}}, \"type\": \"histogram\"}], \"histogram2d\": [{\"colorbar\": {\"outlinewidth\": 0, \"tickcolor\": \"rgb(36,36,36)\", \"ticklen\": 8, \"ticks\": \"outside\", \"tickwidth\": 2}, \"colorscale\": [[0.0, \"rgb(2,4,25)\"], [0.06274509803921569, \"rgb(24,15,41)\"], [0.12549019607843137, \"rgb(47,23,57)\"], [0.18823529411764706, \"rgb(71,28,72)\"], [0.25098039215686274, \"rgb(97,30,82)\"], [0.3137254901960784, \"rgb(123,30,89)\"], [0.3764705882352941, \"rgb(150,27,91)\"], [0.4392156862745098, \"rgb(177,22,88)\"], [0.5019607843137255, \"rgb(203,26,79)\"], [0.5647058823529412, \"rgb(223,47,67)\"], [0.6274509803921569, \"rgb(236,76,61)\"], [0.6901960784313725, \"rgb(242,107,73)\"], [0.7529411764705882, \"rgb(244,135,95)\"], [0.8156862745098039, \"rgb(245,162,122)\"], [0.8784313725490196, \"rgb(246,188,153)\"], [0.9411764705882353, \"rgb(247,212,187)\"], [1.0, \"rgb(250,234,220)\"]], \"type\": \"histogram2d\"}], \"histogram2dcontour\": [{\"colorbar\": {\"outlinewidth\": 0, \"tickcolor\": \"rgb(36,36,36)\", \"ticklen\": 8, \"ticks\": \"outside\", \"tickwidth\": 2}, \"colorscale\": [[0.0, \"rgb(2,4,25)\"], [0.06274509803921569, \"rgb(24,15,41)\"], [0.12549019607843137, \"rgb(47,23,57)\"], [0.18823529411764706, \"rgb(71,28,72)\"], [0.25098039215686274, \"rgb(97,30,82)\"], [0.3137254901960784, \"rgb(123,30,89)\"], [0.3764705882352941, \"rgb(150,27,91)\"], [0.4392156862745098, \"rgb(177,22,88)\"], [0.5019607843137255, \"rgb(203,26,79)\"], [0.5647058823529412, \"rgb(223,47,67)\"], [0.6274509803921569, \"rgb(236,76,61)\"], [0.6901960784313725, \"rgb(242,107,73)\"], [0.7529411764705882, \"rgb(244,135,95)\"], [0.8156862745098039, \"rgb(245,162,122)\"], [0.8784313725490196, \"rgb(246,188,153)\"], [0.9411764705882353, \"rgb(247,212,187)\"], [1.0, \"rgb(250,234,220)\"]], \"type\": \"histogram2dcontour\"}], \"mesh3d\": [{\"colorbar\": {\"outlinewidth\": 0, \"tickcolor\": \"rgb(36,36,36)\", \"ticklen\": 8, \"ticks\": \"outside\", \"tickwidth\": 2}, \"type\": \"mesh3d\"}], \"parcoords\": [{\"line\": {\"colorbar\": {\"outlinewidth\": 0, \"tickcolor\": \"rgb(36,36,36)\", \"ticklen\": 8, \"ticks\": \"outside\", \"tickwidth\": 2}}, \"type\": \"parcoords\"}], \"pie\": [{\"automargin\": true, \"type\": \"pie\"}], \"scatter\": [{\"marker\": {\"colorbar\": {\"outlinewidth\": 0, \"tickcolor\": \"rgb(36,36,36)\", \"ticklen\": 8, \"ticks\": \"outside\", \"tickwidth\": 2}}, \"type\": \"scatter\"}], \"scatter3d\": [{\"line\": {\"colorbar\": {\"outlinewidth\": 0, \"tickcolor\": \"rgb(36,36,36)\", \"ticklen\": 8, \"ticks\": \"outside\", \"tickwidth\": 2}}, \"marker\": {\"colorbar\": {\"outlinewidth\": 0, \"tickcolor\": \"rgb(36,36,36)\", \"ticklen\": 8, \"ticks\": \"outside\", \"tickwidth\": 2}}, \"type\": \"scatter3d\"}], \"scattercarpet\": [{\"marker\": {\"colorbar\": {\"outlinewidth\": 0, \"tickcolor\": \"rgb(36,36,36)\", \"ticklen\": 8, \"ticks\": \"outside\", \"tickwidth\": 2}}, \"type\": \"scattercarpet\"}], \"scattergeo\": [{\"marker\": {\"colorbar\": {\"outlinewidth\": 0, \"tickcolor\": \"rgb(36,36,36)\", \"ticklen\": 8, \"ticks\": \"outside\", \"tickwidth\": 2}}, \"type\": \"scattergeo\"}], \"scattergl\": [{\"marker\": {\"colorbar\": {\"outlinewidth\": 0, \"tickcolor\": \"rgb(36,36,36)\", \"ticklen\": 8, \"ticks\": \"outside\", \"tickwidth\": 2}}, \"type\": \"scattergl\"}], \"scattermapbox\": [{\"marker\": {\"colorbar\": {\"outlinewidth\": 0, \"tickcolor\": \"rgb(36,36,36)\", \"ticklen\": 8, \"ticks\": \"outside\", \"tickwidth\": 2}}, \"type\": \"scattermapbox\"}], \"scatterpolar\": [{\"marker\": {\"colorbar\": {\"outlinewidth\": 0, \"tickcolor\": \"rgb(36,36,36)\", \"ticklen\": 8, \"ticks\": \"outside\", \"tickwidth\": 2}}, \"type\": \"scatterpolar\"}], \"scatterpolargl\": [{\"marker\": {\"colorbar\": {\"outlinewidth\": 0, \"tickcolor\": \"rgb(36,36,36)\", \"ticklen\": 8, \"ticks\": \"outside\", \"tickwidth\": 2}}, \"type\": \"scatterpolargl\"}], \"scatterternary\": [{\"marker\": {\"colorbar\": {\"outlinewidth\": 0, \"tickcolor\": \"rgb(36,36,36)\", \"ticklen\": 8, \"ticks\": \"outside\", \"tickwidth\": 2}}, \"type\": \"scatterternary\"}], \"surface\": [{\"colorbar\": {\"outlinewidth\": 0, \"tickcolor\": \"rgb(36,36,36)\", \"ticklen\": 8, \"ticks\": \"outside\", \"tickwidth\": 2}, \"colorscale\": [[0.0, \"rgb(2,4,25)\"], [0.06274509803921569, \"rgb(24,15,41)\"], [0.12549019607843137, \"rgb(47,23,57)\"], [0.18823529411764706, \"rgb(71,28,72)\"], [0.25098039215686274, \"rgb(97,30,82)\"], [0.3137254901960784, \"rgb(123,30,89)\"], [0.3764705882352941, \"rgb(150,27,91)\"], [0.4392156862745098, \"rgb(177,22,88)\"], [0.5019607843137255, \"rgb(203,26,79)\"], [0.5647058823529412, \"rgb(223,47,67)\"], [0.6274509803921569, \"rgb(236,76,61)\"], [0.6901960784313725, \"rgb(242,107,73)\"], [0.7529411764705882, \"rgb(244,135,95)\"], [0.8156862745098039, \"rgb(245,162,122)\"], [0.8784313725490196, \"rgb(246,188,153)\"], [0.9411764705882353, \"rgb(247,212,187)\"], [1.0, \"rgb(250,234,220)\"]], \"type\": \"surface\"}], \"table\": [{\"cells\": {\"fill\": {\"color\": \"rgb(231,231,240)\"}, \"line\": {\"color\": \"white\"}}, \"header\": {\"fill\": {\"color\": \"rgb(183,183,191)\"}, \"line\": {\"color\": \"white\"}}, \"type\": \"table\"}]}, \"layout\": {\"annotationdefaults\": {\"arrowcolor\": \"rgb(67,103,167)\"}, \"coloraxis\": {\"colorbar\": {\"outlinewidth\": 0, \"tickcolor\": \"rgb(36,36,36)\", \"ticklen\": 8, \"ticks\": \"outside\", \"tickwidth\": 2}}, \"colorscale\": {\"sequential\": [[0.0, \"rgb(2,4,25)\"], [0.06274509803921569, \"rgb(24,15,41)\"], [0.12549019607843137, \"rgb(47,23,57)\"], [0.18823529411764706, \"rgb(71,28,72)\"], [0.25098039215686274, \"rgb(97,30,82)\"], [0.3137254901960784, \"rgb(123,30,89)\"], [0.3764705882352941, \"rgb(150,27,91)\"], [0.4392156862745098, \"rgb(177,22,88)\"], [0.5019607843137255, \"rgb(203,26,79)\"], [0.5647058823529412, \"rgb(223,47,67)\"], [0.6274509803921569, \"rgb(236,76,61)\"], [0.6901960784313725, \"rgb(242,107,73)\"], [0.7529411764705882, \"rgb(244,135,95)\"], [0.8156862745098039, \"rgb(245,162,122)\"], [0.8784313725490196, \"rgb(246,188,153)\"], [0.9411764705882353, \"rgb(247,212,187)\"], [1.0, \"rgb(250,234,220)\"]], \"sequentialminus\": [[0.0, \"rgb(2,4,25)\"], [0.06274509803921569, \"rgb(24,15,41)\"], [0.12549019607843137, \"rgb(47,23,57)\"], [0.18823529411764706, \"rgb(71,28,72)\"], [0.25098039215686274, \"rgb(97,30,82)\"], [0.3137254901960784, \"rgb(123,30,89)\"], [0.3764705882352941, \"rgb(150,27,91)\"], [0.4392156862745098, \"rgb(177,22,88)\"], [0.5019607843137255, \"rgb(203,26,79)\"], [0.5647058823529412, \"rgb(223,47,67)\"], [0.6274509803921569, \"rgb(236,76,61)\"], [0.6901960784313725, \"rgb(242,107,73)\"], [0.7529411764705882, \"rgb(244,135,95)\"], [0.8156862745098039, \"rgb(245,162,122)\"], [0.8784313725490196, \"rgb(246,188,153)\"], [0.9411764705882353, \"rgb(247,212,187)\"], [1.0, \"rgb(250,234,220)\"]]}, \"colorway\": [\"rgb(76,114,176)\", \"rgb(221,132,82)\", \"rgb(85,168,104)\", \"rgb(196,78,82)\", \"rgb(129,114,179)\", \"rgb(147,120,96)\", \"rgb(218,139,195)\", \"rgb(140,140,140)\", \"rgb(204,185,116)\", \"rgb(100,181,205)\"], \"font\": {\"color\": \"rgb(36,36,36)\"}, \"geo\": {\"bgcolor\": \"white\", \"lakecolor\": \"white\", \"landcolor\": \"rgb(234,234,242)\", \"showlakes\": true, \"showland\": true, \"subunitcolor\": \"white\"}, \"hoverlabel\": {\"align\": \"left\"}, \"hovermode\": \"closest\", \"paper_bgcolor\": \"white\", \"plot_bgcolor\": \"rgb(234,234,242)\", \"polar\": {\"angularaxis\": {\"gridcolor\": \"white\", \"linecolor\": \"white\", \"showgrid\": true, \"ticks\": \"\"}, \"bgcolor\": \"rgb(234,234,242)\", \"radialaxis\": {\"gridcolor\": \"white\", \"linecolor\": \"white\", \"showgrid\": true, \"ticks\": \"\"}}, \"scene\": {\"xaxis\": {\"backgroundcolor\": \"rgb(234,234,242)\", \"gridcolor\": \"white\", \"gridwidth\": 2, \"linecolor\": \"white\", \"showbackground\": true, \"showgrid\": true, \"ticks\": \"\", \"zerolinecolor\": \"white\"}, \"yaxis\": {\"backgroundcolor\": \"rgb(234,234,242)\", \"gridcolor\": \"white\", \"gridwidth\": 2, \"linecolor\": \"white\", \"showbackground\": true, \"showgrid\": true, \"ticks\": \"\", \"zerolinecolor\": \"white\"}, \"zaxis\": {\"backgroundcolor\": \"rgb(234,234,242)\", \"gridcolor\": \"white\", \"gridwidth\": 2, \"linecolor\": \"white\", \"showbackground\": true, \"showgrid\": true, \"ticks\": \"\", \"zerolinecolor\": \"white\"}}, \"shapedefaults\": {\"fillcolor\": \"rgb(67,103,167)\", \"line\": {\"width\": 0}, \"opacity\": 0.5}, \"ternary\": {\"aaxis\": {\"gridcolor\": \"white\", \"linecolor\": \"white\", \"showgrid\": true, \"ticks\": \"\"}, \"baxis\": {\"gridcolor\": \"white\", \"linecolor\": \"white\", \"showgrid\": true, \"ticks\": \"\"}, \"bgcolor\": \"rgb(234,234,242)\", \"caxis\": {\"gridcolor\": \"white\", \"linecolor\": \"white\", \"showgrid\": true, \"ticks\": \"\"}}, \"xaxis\": {\"automargin\": true, \"gridcolor\": \"white\", \"linecolor\": \"white\", \"showgrid\": true, \"ticks\": \"\", \"title\": {\"standoff\": 15}, \"zerolinecolor\": \"white\"}, \"yaxis\": {\"automargin\": true, \"gridcolor\": \"white\", \"linecolor\": \"white\", \"showgrid\": true, \"ticks\": \"\", \"title\": {\"standoff\": 15}, \"zerolinecolor\": \"white\"}}}, \"xaxis\": {\"anchor\": \"y\", \"domain\": [0.0, 1.0], \"title\": {\"text\": \"plot\"}}, \"yaxis\": {\"anchor\": \"x\", \"domain\": [0.0, 1.0], \"title\": {\"text\": \"Hashtag\"}}},\n",
       "                        {\"responsive\": true}\n",
       "                    ).then(function(){\n",
       "                            \n",
       "var gd = document.getElementById('30a8e04e-03ef-4224-9d60-a4ac4700a73f');\n",
       "var x = new MutationObserver(function (mutations, observer) {{\n",
       "        var display = window.getComputedStyle(gd).display;\n",
       "        if (!display || display === 'none') {{\n",
       "            console.log([gd, 'removed!']);\n",
       "            Plotly.purge(gd);\n",
       "            observer.disconnect();\n",
       "        }}\n",
       "}});\n",
       "\n",
       "// Listen for the removal of the full notebook cells\n",
       "var notebookContainer = gd.closest('#notebook-container');\n",
       "if (notebookContainer) {{\n",
       "    x.observe(notebookContainer, {childList: true});\n",
       "}}\n",
       "\n",
       "// Listen for the clearing of the current output cell\n",
       "var outputEl = gd.closest('.output');\n",
       "if (outputEl) {{\n",
       "    x.observe(outputEl, {childList: true});\n",
       "}}\n",
       "\n",
       "                        })\n",
       "                };\n",
       "                });\n",
       "            </script>\n",
       "        </div>"
      ]
     },
     "metadata": {},
     "output_type": "display_data"
    }
   ],
   "source": [
    "import plotly.express as px\n",
    "fig = px.bar(topics, x=\"plot\", y=\"Hashtag\", color=\"Average Sentiment\", template=\"seaborn\")\n",
    "fig.show()"
   ]
  },
  {
   "cell_type": "markdown",
   "metadata": {},
   "source": [
    "### Extracting Topics From User Hashtags "
   ]
  },
  {
   "cell_type": "code",
   "execution_count": 184,
   "metadata": {},
   "outputs": [
    {
     "data": {
      "text/plain": [
       "'hashtags = []\\nfor i in range(len(user_t)):\\n    h = []\\n    for t in range(len(user_t[i][\"entities\"][\"hashtags\"])):\\n        h.append(user_t[i][\"entities\"][\"hashtags\"][t][\"text\"])\\n    hashtags.append(h)\\ndata[\"hashtags\"] = hashtags\\ndata.hashtags = data.hashtags.apply(lambda y: np.nan if len(y)==0 else y)\\ndata[\"hashtags\"]'"
      ]
     },
     "execution_count": 184,
     "metadata": {},
     "output_type": "execute_result"
    }
   ],
   "source": [
    "\"\"\"hashtags = []\n",
    "for i in range(len(user_t)):\n",
    "    h = []\n",
    "    for t in range(len(user_t[i][\"entities\"][\"hashtags\"])):\n",
    "        h.append(user_t[i][\"entities\"][\"hashtags\"][t][\"text\"])\n",
    "    hashtags.append(h)\n",
    "data[\"hashtags\"] = hashtags\n",
    "data.hashtags = data.hashtags.apply(lambda y: np.nan if len(y)==0 else y)\n",
    "data[\"hashtags\"]\"\"\""
   ]
  },
  {
   "cell_type": "markdown",
   "metadata": {},
   "source": [
    "### Extracting Topics with CountVectorizer and Stopwords"
   ]
  },
  {
   "cell_type": "code",
   "execution_count": 26,
   "metadata": {},
   "outputs": [
    {
     "data": {
      "text/plain": [
       "'from sklearn.feature_extraction.text import CountVectorizer\\nimport nltk\\nfrom nltk.corpus import stopwords'"
      ]
     },
     "execution_count": 26,
     "metadata": {},
     "output_type": "execute_result"
    }
   ],
   "source": [
    "\"\"\"from sklearn.feature_extraction.text import CountVectorizer\n",
    "import nltk\n",
    "from nltk.corpus import stopwords\"\"\""
   ]
  },
  {
   "cell_type": "code",
   "execution_count": 27,
   "metadata": {},
   "outputs": [
    {
     "data": {
      "text/plain": [
       "\"def word_exctraction(lst):\\n    count_vectorizer = CountVectorizer()\\n    sparse_matrix = count_vectorizer.fit_transform(lst) \\n    doc_term_matrix = sparse_matrix.todense()\\n    df = pd.DataFrame(doc_term_matrix, columns=count_vectorizer.get_feature_names())\\n    all_words = df.sum().sort_values(ascending=[False]).to_dict()   \\n    stop_words = set(stopwords.words('english'))\\n    tokens_clean = {key: value for (key, value) in all_words.items() if key not in stop_words}\\n    return (tokens_clean)\""
      ]
     },
     "execution_count": 27,
     "metadata": {},
     "output_type": "execute_result"
    }
   ],
   "source": [
    "\"\"\"def word_exctraction(lst):\n",
    "    count_vectorizer = CountVectorizer()\n",
    "    sparse_matrix = count_vectorizer.fit_transform(lst) \n",
    "    doc_term_matrix = sparse_matrix.todense()\n",
    "    df = pd.DataFrame(doc_term_matrix, columns=count_vectorizer.get_feature_names())\n",
    "    all_words = df.sum().sort_values(ascending=[False]).to_dict()   \n",
    "    stop_words = set(stopwords.words('english'))\n",
    "    tokens_clean = {key: value for (key, value) in all_words.items() if key not in stop_words}\n",
    "    return (tokens_clean)\"\"\""
   ]
  },
  {
   "cell_type": "code",
   "execution_count": 28,
   "metadata": {},
   "outputs": [
    {
     "data": {
      "text/plain": [
       "'topics = []\\nfor i in range(len(data)):\\n    print(i)\\n    topics.append(word_exctraction(data[i][\"tweet\"]))'"
      ]
     },
     "execution_count": 28,
     "metadata": {},
     "output_type": "execute_result"
    }
   ],
   "source": [
    "\"\"\"topics = []\n",
    "for i in range(len(data)):\n",
    "    print(i)\n",
    "    topics.append(word_exctraction(data[i][\"tweet\"]))\"\"\""
   ]
  },
  {
   "cell_type": "code",
   "execution_count": 29,
   "metadata": {},
   "outputs": [
    {
     "data": {
      "text/plain": [
       "'times = []\\nfor i in range(len(data)): \\n    times.append(data[i][\"time\"])\\nzip_iterator = zip(sentiments, times)\\nsentiment_changes = dict(zip_iterator)'"
      ]
     },
     "execution_count": 29,
     "metadata": {},
     "output_type": "execute_result"
    }
   ],
   "source": [
    "# Creating dict with sentiments and time\n",
    "\"\"\"times = []\n",
    "for i in range(len(data)): \n",
    "    times.append(data[i][\"time\"])\n",
    "zip_iterator = zip(sentiments, times)\n",
    "sentiment_changes = dict(zip_iterator)\"\"\""
   ]
  },
  {
   "cell_type": "markdown",
   "metadata": {},
   "source": [
    "### Extracting Topics with Genism"
   ]
  },
  {
   "cell_type": "code",
   "execution_count": 30,
   "metadata": {},
   "outputs": [],
   "source": [
    "from gensim import corpora, models\n",
    "import nltk\n",
    "from nltk.corpus import stopwords"
   ]
  },
  {
   "cell_type": "code",
   "execution_count": 31,
   "metadata": {},
   "outputs": [],
   "source": [
    "def makelist(string): \n",
    "    li = list(string.split(\" \")) \n",
    "    return li"
   ]
  },
  {
   "cell_type": "code",
   "execution_count": 32,
   "metadata": {},
   "outputs": [],
   "source": [
    "stop_words = list(stopwords.words('english'))"
   ]
  },
  {
   "cell_type": "code",
   "execution_count": 33,
   "metadata": {},
   "outputs": [],
   "source": [
    "word_lists = []\n",
    "for i in range(len(data[\"responses\"][0])):\n",
    "    word_lists.append(makelist(data[\"responses\"][0][i]))"
   ]
  },
  {
   "cell_type": "code",
   "execution_count": 34,
   "metadata": {},
   "outputs": [],
   "source": [
    "separated_responses = []\n",
    "for r in range(len(word_lists)):\n",
    "    separated_string=[]\n",
    "    for i in range(len(word_lists[r])):\n",
    "        if word_lists[r][i] not in stop_words:\n",
    "            separated_string.append(word_lists[r][i])\n",
    "    separated_responses.append(separated_string)"
   ]
  },
  {
   "cell_type": "code",
   "execution_count": 35,
   "metadata": {},
   "outputs": [
    {
     "data": {
      "text/plain": [
       "[[\"It's\",\n",
       "  'National',\n",
       "  'Vote',\n",
       "  'By',\n",
       "  'Mail',\n",
       "  'Day.',\n",
       "  'Voting',\n",
       "  'mail',\n",
       "  'easy',\n",
       "  'safe.',\n",
       "  'Take',\n",
       "  'minutes',\n",
       "  'request',\n",
       "  'vote-by-mail',\n",
       "  'ballot,',\n",
       "  'get',\n",
       "  'family',\n",
       "  'friends',\n",
       "  'same.',\n",
       "  'Request',\n",
       "  'ballot',\n",
       "  'early,',\n",
       "  'send',\n",
       "  'back',\n",
       "  'early,',\n",
       "  'fill',\n",
       "  'carefully.',\n",
       "  'Get',\n",
       "  'started:',\n",
       "  'https://t.co/pmWQqs4PbB',\n",
       "  'https://t.co/JlOWmkJG57'],\n",
       " ['Can’t',\n",
       "  'wait',\n",
       "  'hear',\n",
       "  'first',\n",
       "  'episode',\n",
       "  'The',\n",
       "  '#MichelleObamaPodcast!',\n",
       "  'It’s',\n",
       "  'long,',\n",
       "  'thoughtful',\n",
       "  'talk',\n",
       "  '@BarackObama—we',\n",
       "  'fun',\n",
       "  'one.',\n",
       "  'That',\n",
       "  'conversation',\n",
       "  'goes',\n",
       "  'live',\n",
       "  'tomorrow,',\n",
       "  'follow',\n",
       "  'us',\n",
       "  'right',\n",
       "  'hear',\n",
       "  'preview',\n",
       "  'https://t.co/L8FgSZGAkG.',\n",
       "  'https://t.co/AvPZTCnHvh'],\n",
       " ['@CarBrad2',\n",
       "  '@DMfixedit',\n",
       "  '@bosco_mary',\n",
       "  '@BarackObama',\n",
       "  \"They're\",\n",
       "  'pushing',\n",
       "  'votal',\n",
       "  'posting',\n",
       "  'hard',\n",
       "  'Repubs',\n",
       "  'made',\n",
       "  'voting',\n",
       "  'person',\n",
       "  'unreliable',\n",
       "  '&amp;',\n",
       "  'difficult,',\n",
       "  'especially',\n",
       "  'areas',\n",
       "  'high',\n",
       "  'BAME',\n",
       "  'populations.',\n",
       "  'The',\n",
       "  'mechanisms',\n",
       "  '&amp;',\n",
       "  'protections',\n",
       "  'place',\n",
       "  'mail-in',\n",
       "  'well',\n",
       "  'established',\n",
       "  'used',\n",
       "  'successfully',\n",
       "  'decades.'],\n",
       " [\"It's\",\n",
       "  'National',\n",
       "  'Vote',\n",
       "  'By',\n",
       "  'Mail',\n",
       "  'Day.',\n",
       "  'Voting',\n",
       "  'mail',\n",
       "  'easy',\n",
       "  'safe.',\n",
       "  'Take',\n",
       "  'minutes',\n",
       "  'request',\n",
       "  'vote-by-mail',\n",
       "  'ballot,',\n",
       "  'get',\n",
       "  'family',\n",
       "  'friends',\n",
       "  'same.',\n",
       "  'Request',\n",
       "  'ballot',\n",
       "  'early,',\n",
       "  'send',\n",
       "  'back',\n",
       "  'early,',\n",
       "  'fill',\n",
       "  'carefully.',\n",
       "  'Get',\n",
       "  'started:',\n",
       "  'https://t.co/pmWQqs4PbB',\n",
       "  'https://t.co/JlOWmkJG57'],\n",
       " ['@shanshine148', '@its101191514', '@ishabad', '@BarackObama', 'Cropped'],\n",
       " ['Can’t',\n",
       "  'wait',\n",
       "  'hear',\n",
       "  'first',\n",
       "  'episode',\n",
       "  'The',\n",
       "  '#MichelleObamaPodcast!',\n",
       "  'It’s',\n",
       "  'long,',\n",
       "  'thoughtful',\n",
       "  'talk',\n",
       "  '@BarackObama—we',\n",
       "  'fun',\n",
       "  'one.',\n",
       "  'That',\n",
       "  'conversation',\n",
       "  'goes',\n",
       "  'live',\n",
       "  'tomorrow,',\n",
       "  'follow',\n",
       "  'us',\n",
       "  'right',\n",
       "  'hear',\n",
       "  'preview',\n",
       "  'https://t.co/L8FgSZGAkG.',\n",
       "  'https://t.co/AvPZTCnHvh'],\n",
       " ['@Joey2Lips',\n",
       "  '@BarackObama',\n",
       "  '@JoeBiden',\n",
       "  'Obama',\n",
       "  'tweeted,',\n",
       "  '',\n",
       "  'I',\n",
       "  'simply',\n",
       "  'asking',\n",
       "  'questions.',\n",
       "  '',\n",
       "  '@JoeBiden',\n",
       "  '',\n",
       "  'chance',\n",
       "  'hell',\n",
       "  'becoming',\n",
       "  'mayor,',\n",
       "  'let',\n",
       "  'alone',\n",
       "  'PRESIDENT..'],\n",
       " ['@RoboVonCosmos',\n",
       "  '@BarackObama',\n",
       "  'Been',\n",
       "  'seen',\n",
       "  'abroad',\n",
       "  'army',\n",
       "  'reason,',\n",
       "  'sent',\n",
       "  'company',\n",
       "  'not?\\nHow',\n",
       "  'voting',\n",
       "  'rules',\n",
       "  'President',\n",
       "  '50',\n",
       "  'differ',\n",
       "  'one',\n",
       "  'state?\\nThe',\n",
       "  'US',\n",
       "  'voting',\n",
       "  'system',\n",
       "  'ridiculous.'],\n",
       " [\"It's\",\n",
       "  'National',\n",
       "  'Vote',\n",
       "  'By',\n",
       "  'Mail',\n",
       "  'Day.',\n",
       "  'Voting',\n",
       "  'mail',\n",
       "  'easy',\n",
       "  'safe.',\n",
       "  'Take',\n",
       "  'minutes',\n",
       "  'request',\n",
       "  'vote-by-mail',\n",
       "  'ballot,',\n",
       "  'get',\n",
       "  'family',\n",
       "  'friends',\n",
       "  'same.',\n",
       "  'Request',\n",
       "  'ballot',\n",
       "  'early,',\n",
       "  'send',\n",
       "  'back',\n",
       "  'early,',\n",
       "  'fill',\n",
       "  'carefully.',\n",
       "  'Get',\n",
       "  'started:',\n",
       "  'https://t.co/pmWQqs4PbB',\n",
       "  'https://t.co/JlOWmkJG57'],\n",
       " [\"It's\",\n",
       "  'National',\n",
       "  'Vote',\n",
       "  'By',\n",
       "  'Mail',\n",
       "  'Day.',\n",
       "  'Voting',\n",
       "  'mail',\n",
       "  'easy',\n",
       "  'safe.',\n",
       "  'Take',\n",
       "  'minutes',\n",
       "  'request',\n",
       "  'vote-by-mail',\n",
       "  'ballot,',\n",
       "  'get',\n",
       "  'family',\n",
       "  'friends',\n",
       "  'same.',\n",
       "  'Request',\n",
       "  'ballot',\n",
       "  'early,',\n",
       "  'send',\n",
       "  'back',\n",
       "  'early,',\n",
       "  'fill',\n",
       "  'carefully.',\n",
       "  'Get',\n",
       "  'started:',\n",
       "  'https://t.co/pmWQqs4PbB',\n",
       "  'https://t.co/JlOWmkJG57'],\n",
       " ['@KeishaBottoms',\n",
       "  '@FultonCountyDA',\n",
       "  '@NikemaWilliams',\n",
       "  '@Andre4Atlanta',\n",
       "  '@RepJoeNeguse',\n",
       "  '@RepJeffries',\n",
       "  '@RepValDemings',\n",
       "  '@SenKamalaHarris',\n",
       "  '@SenWarren',\n",
       "  '@BarackObama',\n",
       "  '@EricHolder',\n",
       "  '@SallyQYates',\n",
       "  '@RepMaxineWaters',\n",
       "  '#SirenKemp',\n",
       "  'stole',\n",
       "  'election',\n",
       "  'abusing',\n",
       "  'position',\n",
       "  'governor.'],\n",
       " ['@Earthengal',\n",
       "  '@3sidedstory',\n",
       "  '@BarackObama',\n",
       "  'I’m',\n",
       "  'Christian.',\n",
       "  'Hypocrite?',\n",
       "  'Probably,',\n",
       "  'yes.',\n",
       "  'I',\n",
       "  'think',\n",
       "  'degree.',\n",
       "  'But',\n",
       "  'fake?',\n",
       "  'No.'],\n",
       " [\"It's\",\n",
       "  'National',\n",
       "  'Vote',\n",
       "  'By',\n",
       "  'Mail',\n",
       "  'Day.',\n",
       "  'Voting',\n",
       "  'mail',\n",
       "  'easy',\n",
       "  'safe.',\n",
       "  'Take',\n",
       "  'minutes',\n",
       "  'request',\n",
       "  'vote-by-mail',\n",
       "  'ballot,',\n",
       "  'get',\n",
       "  'family',\n",
       "  'friends',\n",
       "  'same.',\n",
       "  'Request',\n",
       "  'ballot',\n",
       "  'early,',\n",
       "  'send',\n",
       "  'back',\n",
       "  'early,',\n",
       "  'fill',\n",
       "  'carefully.',\n",
       "  'Get',\n",
       "  'started:',\n",
       "  'https://t.co/pmWQqs4PbB',\n",
       "  'https://t.co/JlOWmkJG57'],\n",
       " ['@JoeBiden',\n",
       "  '@BarackObama',\n",
       "  'Election',\n",
       "  'time,',\n",
       "  'everything',\n",
       "  'possible',\n",
       "  'now.'],\n",
       " ['@Hamsammich42',\n",
       "  '@its101191514',\n",
       "  '@ishabad',\n",
       "  '@BarackObama',\n",
       "  'Wait',\n",
       "  'what?'],\n",
       " [\"It's\",\n",
       "  'National',\n",
       "  'Vote',\n",
       "  'By',\n",
       "  'Mail',\n",
       "  'Day.',\n",
       "  'Voting',\n",
       "  'mail',\n",
       "  'easy',\n",
       "  'safe.',\n",
       "  'Take',\n",
       "  'minutes',\n",
       "  'request',\n",
       "  'vote-by-mail',\n",
       "  'ballot,',\n",
       "  'get',\n",
       "  'family',\n",
       "  'friends',\n",
       "  'same.',\n",
       "  'Request',\n",
       "  'ballot',\n",
       "  'early,',\n",
       "  'send',\n",
       "  'back',\n",
       "  'early,',\n",
       "  'fill',\n",
       "  'carefully.',\n",
       "  'Get',\n",
       "  'started:',\n",
       "  'https://t.co/pmWQqs4PbB',\n",
       "  'https://t.co/JlOWmkJG57'],\n",
       " [\"It's\",\n",
       "  'National',\n",
       "  'Vote',\n",
       "  'By',\n",
       "  'Mail',\n",
       "  'Day.',\n",
       "  'Voting',\n",
       "  'mail',\n",
       "  'easy',\n",
       "  'safe.',\n",
       "  'Take',\n",
       "  'minutes',\n",
       "  'request',\n",
       "  'vote-by-mail',\n",
       "  'ballot,',\n",
       "  'get',\n",
       "  'family',\n",
       "  'friends',\n",
       "  'same.',\n",
       "  'Request',\n",
       "  'ballot',\n",
       "  'early,',\n",
       "  'send',\n",
       "  'back',\n",
       "  'early,',\n",
       "  'fill',\n",
       "  'carefully.',\n",
       "  'Get',\n",
       "  'started:',\n",
       "  'https://t.co/pmWQqs4PbB',\n",
       "  'https://t.co/JlOWmkJG57'],\n",
       " ['@BarackObama', 'I', 'American', 'China', 'vote?'],\n",
       " [\"It's\",\n",
       "  'National',\n",
       "  'Vote',\n",
       "  'By',\n",
       "  'Mail',\n",
       "  'Day.',\n",
       "  'Voting',\n",
       "  'mail',\n",
       "  'easy',\n",
       "  'safe.',\n",
       "  'Take',\n",
       "  'minutes',\n",
       "  'request',\n",
       "  'vote-by-mail',\n",
       "  'ballot,',\n",
       "  'get',\n",
       "  'family',\n",
       "  'friends',\n",
       "  'same.',\n",
       "  'Request',\n",
       "  'ballot',\n",
       "  'early,',\n",
       "  'send',\n",
       "  'back',\n",
       "  'early,',\n",
       "  'fill',\n",
       "  'carefully.',\n",
       "  'Get',\n",
       "  'started:',\n",
       "  'https://t.co/pmWQqs4PbB',\n",
       "  'https://t.co/JlOWmkJG57'],\n",
       " [\"It's\",\n",
       "  'National',\n",
       "  'Vote',\n",
       "  'By',\n",
       "  'Mail',\n",
       "  'Day.',\n",
       "  'Voting',\n",
       "  'mail',\n",
       "  'easy',\n",
       "  'safe.',\n",
       "  'Take',\n",
       "  'minutes',\n",
       "  'request',\n",
       "  'vote-by-mail',\n",
       "  'ballot,',\n",
       "  'get',\n",
       "  'family',\n",
       "  'friends',\n",
       "  'same.',\n",
       "  'Request',\n",
       "  'ballot',\n",
       "  'early,',\n",
       "  'send',\n",
       "  'back',\n",
       "  'early,',\n",
       "  'fill',\n",
       "  'carefully.',\n",
       "  'Get',\n",
       "  'started:',\n",
       "  'https://t.co/pmWQqs4PbB',\n",
       "  'https://t.co/JlOWmkJG57'],\n",
       " ['I',\n",
       "  '1200',\n",
       "  'followers',\n",
       "  'one',\n",
       "  '@BarackObama!',\n",
       "  'I',\n",
       "  'literally',\n",
       "  'pinch',\n",
       "  'myself.',\n",
       "  'I',\n",
       "  'know',\n",
       "  'doesn’t',\n",
       "  'mean',\n",
       "  'much',\n",
       "  '8',\n",
       "  'billion',\n",
       "  '+',\n",
       "  'people',\n",
       "  'planet,',\n",
       "  'follows',\n",
       "  '600k',\n",
       "  'I’m',\n",
       "  'one',\n",
       "  'them.',\n",
       "  'Wow.',\n",
       "  '❤️'],\n",
       " ['I',\n",
       "  'gotta',\n",
       "  'go...Sorry',\n",
       "  'came',\n",
       "  'late.\\nI',\n",
       "  'trying',\n",
       "  'see',\n",
       "  'worlds',\n",
       "  'point',\n",
       "  'view',\n",
       "  'wind',\n",
       "  '&amp;',\n",
       "  'water',\n",
       "  '&amp;',\n",
       "  'etc.\\nI',\n",
       "  'trying',\n",
       "  'get',\n",
       "  'stronger.\\nReady',\n",
       "  'weekend',\n",
       "  '🌹\\n@MichelleObama\\n@BarackObama\\n@JessicaYellin\\n@tailopez\\n@NYGovCuomo\\n@Strawburry17\\n@DoveCameron\\n@selenagomez',\n",
       "  'https://t.co/5jaEBmqM9M'],\n",
       " [\"It's\",\n",
       "  'National',\n",
       "  'Vote',\n",
       "  'By',\n",
       "  'Mail',\n",
       "  'Day.',\n",
       "  'Voting',\n",
       "  'mail',\n",
       "  'easy',\n",
       "  'safe.',\n",
       "  'Take',\n",
       "  'minutes',\n",
       "  'request',\n",
       "  'vote-by-mail',\n",
       "  'ballot,',\n",
       "  'get',\n",
       "  'family',\n",
       "  'friends',\n",
       "  'same.',\n",
       "  'Request',\n",
       "  'ballot',\n",
       "  'early,',\n",
       "  'send',\n",
       "  'back',\n",
       "  'early,',\n",
       "  'fill',\n",
       "  'carefully.',\n",
       "  'Get',\n",
       "  'started:',\n",
       "  'https://t.co/pmWQqs4PbB',\n",
       "  'https://t.co/JlOWmkJG57'],\n",
       " ['@Forbes',\n",
       "  'done',\n",
       "  'brilliant',\n",
       "  'job',\n",
       "  'probing',\n",
       "  'U.S.',\n",
       "  'President',\n",
       "  'delivered',\n",
       "  'best',\n",
       "  'stock',\n",
       "  'returns',\n",
       "  '1',\n",
       "  '@BillClinton,',\n",
       "  '2',\n",
       "  '@BarackObama',\n",
       "  '',\n",
       "  '@realDonaldTrump',\n",
       "  'languishes',\n",
       "  '8th',\n",
       "  'place',\n",
       "  'behind',\n",
       "  'Eisenhower',\n",
       "  'Truman',\n",
       "  'George',\n",
       "  'HW',\n",
       "  'Bush',\n",
       "  '&amp;',\n",
       "  'Johnson',\n",
       "  'https://t.co/22CdCY8O7I',\n",
       "  'https://t.co/a8peFt1gmL'],\n",
       " ['@BarackObama', '@BillGates', 'Hydroxychloroquine'],\n",
       " [\"It's\",\n",
       "  'National',\n",
       "  'Vote',\n",
       "  'By',\n",
       "  'Mail',\n",
       "  'Day.',\n",
       "  'Voting',\n",
       "  'mail',\n",
       "  'easy',\n",
       "  'safe.',\n",
       "  'Take',\n",
       "  'minutes',\n",
       "  'request',\n",
       "  'vote-by-mail',\n",
       "  'ballot,',\n",
       "  'get',\n",
       "  'family',\n",
       "  'friends',\n",
       "  'same.',\n",
       "  'Request',\n",
       "  'ballot',\n",
       "  'early,',\n",
       "  'send',\n",
       "  'back',\n",
       "  'early,',\n",
       "  'fill',\n",
       "  'carefully.',\n",
       "  'Get',\n",
       "  'started:',\n",
       "  'https://t.co/pmWQqs4PbB',\n",
       "  'https://t.co/JlOWmkJG57'],\n",
       " [\"It's\",\n",
       "  'National',\n",
       "  'Vote',\n",
       "  'By',\n",
       "  'Mail',\n",
       "  'Day.',\n",
       "  'Voting',\n",
       "  'mail',\n",
       "  'easy',\n",
       "  'safe.',\n",
       "  'Take',\n",
       "  'minutes',\n",
       "  'request',\n",
       "  'vote-by-mail',\n",
       "  'ballot,',\n",
       "  'get',\n",
       "  'family',\n",
       "  'friends',\n",
       "  'same.',\n",
       "  'Request',\n",
       "  'ballot',\n",
       "  'early,',\n",
       "  'send',\n",
       "  'back',\n",
       "  'early,',\n",
       "  'fill',\n",
       "  'carefully.',\n",
       "  'Get',\n",
       "  'started:',\n",
       "  'https://t.co/pmWQqs4PbB',\n",
       "  'https://t.co/JlOWmkJG57'],\n",
       " ['@BarackObama',\n",
       "  'Let',\n",
       "  'say',\n",
       "  'again.',\n",
       "  'Your',\n",
       "  'president.',\n",
       "  'Take',\n",
       "  'bio',\n",
       "  ',',\n",
       "  'Just',\n",
       "  'democrat’s',\n",
       "  'know',\n",
       "  '😘',\n",
       "  '#trump2020',\n",
       "  '#trumpforpresident'],\n",
       " [\"It's\",\n",
       "  'National',\n",
       "  'Vote',\n",
       "  'By',\n",
       "  'Mail',\n",
       "  'Day.',\n",
       "  'Voting',\n",
       "  'mail',\n",
       "  'easy',\n",
       "  'safe.',\n",
       "  'Take',\n",
       "  'minutes',\n",
       "  'request',\n",
       "  'vote-by-mail',\n",
       "  'ballot,',\n",
       "  'get',\n",
       "  'family',\n",
       "  'friends',\n",
       "  'same.',\n",
       "  'Request',\n",
       "  'ballot',\n",
       "  'early,',\n",
       "  'send',\n",
       "  'back',\n",
       "  'early,',\n",
       "  'fill',\n",
       "  'carefully.',\n",
       "  'Get',\n",
       "  'started:',\n",
       "  'https://t.co/pmWQqs4PbB',\n",
       "  'https://t.co/JlOWmkJG57'],\n",
       " ['Dear',\n",
       "  'Queen',\n",
       "  'Elizabeth,',\n",
       "  'I',\n",
       "  'ask',\n",
       "  'help',\n",
       "  'get',\n",
       "  'Camilla',\n",
       "  'Charles',\n",
       "  'hypnotized?',\n",
       "  'find',\n",
       "  'killed',\n",
       "  'Diana',\n",
       "  'Spencer',\n",
       "  '&amp;',\n",
       "  'dodi',\n",
       "  'al',\n",
       "  'fayed',\n",
       "  '?',\n",
       "  '@RoyalFamily',\n",
       "  '@KensingtonRoyal',\n",
       "  '@BorisJohnson',\n",
       "  '@KingSalman',\n",
       "  '@kbsalsaud',\n",
       "  '@7sainaljassmi',\n",
       "  '@qubadjt',\n",
       "  '@rterdogan_ar',\n",
       "  '@jokowi',\n",
       "  '@SimonCowell',\n",
       "  '@BarackObama',\n",
       "  '@algore'],\n",
       " ['@the_resistor',\n",
       "  '@realDonaldTrump',\n",
       "  '@BarackObama',\n",
       "  'Why',\n",
       "  'would',\n",
       "  'one',\n",
       "  'blame',\n",
       "  'lying,',\n",
       "  'deceitful,',\n",
       "  'gay',\n",
       "  'puppet',\n",
       "  'anything?',\n",
       "  'He',\n",
       "  'everything',\n",
       "  'could',\n",
       "  'divide',\n",
       "  'destroy',\n",
       "  'America.'],\n",
       " [\"It's\",\n",
       "  'National',\n",
       "  'Vote',\n",
       "  'By',\n",
       "  'Mail',\n",
       "  'Day.',\n",
       "  'Voting',\n",
       "  'mail',\n",
       "  'easy',\n",
       "  'safe.',\n",
       "  'Take',\n",
       "  'minutes',\n",
       "  'request',\n",
       "  'vote-by-mail',\n",
       "  'ballot,',\n",
       "  'get',\n",
       "  'family',\n",
       "  'friends',\n",
       "  'same.',\n",
       "  'Request',\n",
       "  'ballot',\n",
       "  'early,',\n",
       "  'send',\n",
       "  'back',\n",
       "  'early,',\n",
       "  'fill',\n",
       "  'carefully.',\n",
       "  'Get',\n",
       "  'started:',\n",
       "  'https://t.co/pmWQqs4PbB',\n",
       "  'https://t.co/JlOWmkJG57'],\n",
       " ['@TinamarieLobue',\n",
       "  '@BarackObama',\n",
       "  'I',\n",
       "  'don’t',\n",
       "  'know',\n",
       "  'getting',\n",
       "  'information',\n",
       "  'true.',\n",
       "  '',\n",
       "  'I',\n",
       "  'vote',\n",
       "  'mail',\n",
       "  'I’m',\n",
       "  'disabled',\n",
       "  'it’s',\n",
       "  'easy.',\n",
       "  '',\n",
       "  'I',\n",
       "  '20',\n",
       "  'years',\n",
       "  'interest',\n",
       "  'rigging',\n",
       "  'election.',\n",
       "  '',\n",
       "  'STOP',\n",
       "  'WITH',\n",
       "  'THAT!!!!!'],\n",
       " ['@YaliubliuMoskvu',\n",
       "  '@BennyDdp',\n",
       "  '@TinamarieLobue',\n",
       "  '@AndyDraya10',\n",
       "  '@BarackObama',\n",
       "  'Facts',\n",
       "  'care',\n",
       "  'agenda',\n",
       "  'feelings,',\n",
       "  'theres',\n",
       "  'reason',\n",
       "  'trump',\n",
       "  'losing',\n",
       "  'polls.',\n",
       "  'Also',\n",
       "  'Russian,',\n",
       "  'shut',\n",
       "  'paid',\n",
       "  'promotion.'],\n",
       " [\"It's\",\n",
       "  'National',\n",
       "  'Vote',\n",
       "  'By',\n",
       "  'Mail',\n",
       "  'Day.',\n",
       "  'Voting',\n",
       "  'mail',\n",
       "  'easy',\n",
       "  'safe.',\n",
       "  'Take',\n",
       "  'minutes',\n",
       "  'request',\n",
       "  'vote-by-mail',\n",
       "  'ballot,',\n",
       "  'get',\n",
       "  'family',\n",
       "  'friends',\n",
       "  'same.',\n",
       "  'Request',\n",
       "  'ballot',\n",
       "  'early,',\n",
       "  'send',\n",
       "  'back',\n",
       "  'early,',\n",
       "  'fill',\n",
       "  'carefully.',\n",
       "  'Get',\n",
       "  'started:',\n",
       "  'https://t.co/pmWQqs4PbB',\n",
       "  'https://t.co/JlOWmkJG57'],\n",
       " [\"It's\",\n",
       "  'National',\n",
       "  'Vote',\n",
       "  'By',\n",
       "  'Mail',\n",
       "  'Day.',\n",
       "  'Voting',\n",
       "  'mail',\n",
       "  'easy',\n",
       "  'safe.',\n",
       "  'Take',\n",
       "  'minutes',\n",
       "  'request',\n",
       "  'vote-by-mail',\n",
       "  'ballot,',\n",
       "  'get',\n",
       "  'family',\n",
       "  'friends',\n",
       "  'same.',\n",
       "  'Request',\n",
       "  'ballot',\n",
       "  'early,',\n",
       "  'send',\n",
       "  'back',\n",
       "  'early,',\n",
       "  'fill',\n",
       "  'carefully.',\n",
       "  'Get',\n",
       "  'started:',\n",
       "  'https://t.co/pmWQqs4PbB',\n",
       "  'https://t.co/JlOWmkJG57'],\n",
       " [\"It's\",\n",
       "  'National',\n",
       "  'Vote',\n",
       "  'By',\n",
       "  'Mail',\n",
       "  'Day.',\n",
       "  'Voting',\n",
       "  'mail',\n",
       "  'easy',\n",
       "  'safe.',\n",
       "  'Take',\n",
       "  'minutes',\n",
       "  'request',\n",
       "  'vote-by-mail',\n",
       "  'ballot,',\n",
       "  'get',\n",
       "  'family',\n",
       "  'friends',\n",
       "  'same.',\n",
       "  'Request',\n",
       "  'ballot',\n",
       "  'early,',\n",
       "  'send',\n",
       "  'back',\n",
       "  'early,',\n",
       "  'fill',\n",
       "  'carefully.',\n",
       "  'Get',\n",
       "  'started:',\n",
       "  'https://t.co/pmWQqs4PbB',\n",
       "  'https://t.co/JlOWmkJG57'],\n",
       " ['@soloyochapin',\n",
       "  '@dvillella',\n",
       "  '@realDonaldTrump',\n",
       "  '@foxandfriends',\n",
       "  '@BarackObama',\n",
       "  '@JoeBiden',\n",
       "  '@WhiteHouse',\n",
       "  'And',\n",
       "  'hope',\n",
       "  'keeps',\n",
       "  'happening...these',\n",
       "  'babies',\n",
       "  'going',\n",
       "  'get',\n",
       "  'way'],\n",
       " ['@1nonblonde2',\n",
       "  '@JRubinBlogger',\n",
       "  '@olhowling_husky',\n",
       "  'No',\n",
       "  'need',\n",
       "  'Dodd',\n",
       "  'apologize.',\n",
       "  '',\n",
       "  'He',\n",
       "  'supporting',\n",
       "  '@JoeBiden',\n",
       "  '\\nNo',\n",
       "  'room',\n",
       "  'infighting',\n",
       "  'election.',\n",
       "  '\\n@Biden',\n",
       "  'stood',\n",
       "  '@BarackObama',\n",
       "  '8',\n",
       "  'years.',\n",
       "  '',\n",
       "  'That’s',\n",
       "  'do.',\n",
       "  '',\n",
       "  'Plenty',\n",
       "  'qualified',\n",
       "  'women.',\n",
       "  '',\n",
       "  'Don’t',\n",
       "  'make',\n",
       "  'one.',\n",
       "  '@sunny'],\n",
       " ['@annaesmith91',\n",
       "  '@NewYork77687677',\n",
       "  '@ChinoHillsLA',\n",
       "  '@CobbBigBrain',\n",
       "  '@KoolFreedom',\n",
       "  '@Styx666Official',\n",
       "  '@BarackObama',\n",
       "  '@Twitter',\n",
       "  '@TheDemocrats',\n",
       "  '@larryelder',\n",
       "  '@davidaxelrod',\n",
       "  '@NBCNews',\n",
       "  '@Google',\n",
       "  '@AC360',\n",
       "  '@charliekirk11',\n",
       "  '@taylorswift13',\n",
       "  '@politico',\n",
       "  '@MMFlint',\n",
       "  '@realDonaldTrump',\n",
       "  '@TallahForTrump',\n",
       "  '@TheRightMelissa',\n",
       "  '@DailyCaller',\n",
       "  '@nytopinion',\n",
       "  '@kanyewest',\n",
       "  '@NYGovCuomo',\n",
       "  'Good',\n",
       "  'point'],\n",
       " ['@benstowe_nengi', '@JoeBiden', '@BarackObama', 'Redirect', 'energy', 'Sir'],\n",
       " [\"It's\",\n",
       "  'National',\n",
       "  'Vote',\n",
       "  'By',\n",
       "  'Mail',\n",
       "  'Day.',\n",
       "  'Voting',\n",
       "  'mail',\n",
       "  'easy',\n",
       "  'safe.',\n",
       "  'Take',\n",
       "  'minutes',\n",
       "  'request',\n",
       "  'vote-by-mail',\n",
       "  'ballot,',\n",
       "  'get',\n",
       "  'family',\n",
       "  'friends',\n",
       "  'same.',\n",
       "  'Request',\n",
       "  'ballot',\n",
       "  'early,',\n",
       "  'send',\n",
       "  'back',\n",
       "  'early,',\n",
       "  'fill',\n",
       "  'carefully.',\n",
       "  'Get',\n",
       "  'started:',\n",
       "  'https://t.co/pmWQqs4PbB',\n",
       "  'https://t.co/JlOWmkJG57'],\n",
       " ['Although',\n",
       "  'we’ve',\n",
       "  'seen',\n",
       "  'positive',\n",
       "  'findings',\n",
       "  'recently',\n",
       "  'possibilities',\n",
       "  'developing',\n",
       "  'vaccine',\n",
       "  'COVID-19,',\n",
       "  'article',\n",
       "  'gives',\n",
       "  'good',\n",
       "  'summary',\n",
       "  'may',\n",
       "  'take',\n",
       "  'months',\n",
       "  'effective',\n",
       "  'vaccine',\n",
       "  'widely',\n",
       "  'distributed.',\n",
       "  'https://t.co/C1nPSNwKBa'],\n",
       " [\"It's\",\n",
       "  'National',\n",
       "  'Vote',\n",
       "  'By',\n",
       "  'Mail',\n",
       "  'Day.',\n",
       "  'Voting',\n",
       "  'mail',\n",
       "  'easy',\n",
       "  'safe.',\n",
       "  'Take',\n",
       "  'minutes',\n",
       "  'request',\n",
       "  'vote-by-mail',\n",
       "  'ballot,',\n",
       "  'get',\n",
       "  'family',\n",
       "  'friends',\n",
       "  'same.',\n",
       "  'Request',\n",
       "  'ballot',\n",
       "  'early,',\n",
       "  'send',\n",
       "  'back',\n",
       "  'early,',\n",
       "  'fill',\n",
       "  'carefully.',\n",
       "  'Get',\n",
       "  'started:',\n",
       "  'https://t.co/pmWQqs4PbB',\n",
       "  'https://t.co/JlOWmkJG57'],\n",
       " ['@its101191514', '@ishabad', '@BarackObama', 'ouch', '@shanshine148'],\n",
       " ['@BarackObama',\n",
       "  'Mr',\n",
       "  'President',\n",
       "  'watch',\n",
       "  'Biden',\n",
       "  'Obama',\n",
       "  'setting',\n",
       "  'get',\n",
       "  'robbed'],\n",
       " ['To',\n",
       "  'celebrate',\n",
       "  '30th',\n",
       "  'anniversary',\n",
       "  'Americans',\n",
       "  'Disabilities',\n",
       "  'Act,',\n",
       "  'I',\n",
       "  'got',\n",
       "  'chance',\n",
       "  'talk',\n",
       "  'next',\n",
       "  'generation',\n",
       "  'activists',\n",
       "  'advocates',\n",
       "  'disability',\n",
       "  'rights',\n",
       "  \"movement––they're\",\n",
       "  'continuing',\n",
       "  'work',\n",
       "  'activists',\n",
       "  '@CripCampFilm',\n",
       "  'I',\n",
       "  'prouder',\n",
       "  'them.',\n",
       "  'https://t.co/k7r5JJUC9T'],\n",
       " [\"It's\",\n",
       "  'National',\n",
       "  'Vote',\n",
       "  'By',\n",
       "  'Mail',\n",
       "  'Day.',\n",
       "  'Voting',\n",
       "  'mail',\n",
       "  'easy',\n",
       "  'safe.',\n",
       "  'Take',\n",
       "  'minutes',\n",
       "  'request',\n",
       "  'vote-by-mail',\n",
       "  'ballot,',\n",
       "  'get',\n",
       "  'family',\n",
       "  'friends',\n",
       "  'same.',\n",
       "  'Request',\n",
       "  'ballot',\n",
       "  'early,',\n",
       "  'send',\n",
       "  'back',\n",
       "  'early,',\n",
       "  'fill',\n",
       "  'carefully.',\n",
       "  'Get',\n",
       "  'started:',\n",
       "  'https://t.co/pmWQqs4PbB',\n",
       "  'https://t.co/JlOWmkJG57'],\n",
       " [\"It's\",\n",
       "  'National',\n",
       "  'Vote',\n",
       "  'By',\n",
       "  'Mail',\n",
       "  'Day.',\n",
       "  'Voting',\n",
       "  'mail',\n",
       "  'easy',\n",
       "  'safe.',\n",
       "  'Take',\n",
       "  'minutes',\n",
       "  'request',\n",
       "  'vote-by-mail',\n",
       "  'ballot,',\n",
       "  'get',\n",
       "  'family',\n",
       "  'friends',\n",
       "  'same.',\n",
       "  'Request',\n",
       "  'ballot',\n",
       "  'early,',\n",
       "  'send',\n",
       "  'back',\n",
       "  'early,',\n",
       "  'fill',\n",
       "  'carefully.',\n",
       "  'Get',\n",
       "  'started:',\n",
       "  'https://t.co/pmWQqs4PbB',\n",
       "  'https://t.co/JlOWmkJG57'],\n",
       " [\"It's\",\n",
       "  'National',\n",
       "  'Vote',\n",
       "  'By',\n",
       "  'Mail',\n",
       "  'Day.',\n",
       "  'Voting',\n",
       "  'mail',\n",
       "  'easy',\n",
       "  'safe.',\n",
       "  'Take',\n",
       "  'minutes',\n",
       "  'request',\n",
       "  'vote-by-mail',\n",
       "  'ballot,',\n",
       "  'get',\n",
       "  'family',\n",
       "  'friends',\n",
       "  'same.',\n",
       "  'Request',\n",
       "  'ballot',\n",
       "  'early,',\n",
       "  'send',\n",
       "  'back',\n",
       "  'early,',\n",
       "  'fill',\n",
       "  'carefully.',\n",
       "  'Get',\n",
       "  'started:',\n",
       "  'https://t.co/pmWQqs4PbB',\n",
       "  'https://t.co/JlOWmkJG57'],\n",
       " [\"It's\",\n",
       "  'National',\n",
       "  'Vote',\n",
       "  'By',\n",
       "  'Mail',\n",
       "  'Day.',\n",
       "  'Voting',\n",
       "  'mail',\n",
       "  'easy',\n",
       "  'safe.',\n",
       "  'Take',\n",
       "  'minutes',\n",
       "  'request',\n",
       "  'vote-by-mail',\n",
       "  'ballot,',\n",
       "  'get',\n",
       "  'family',\n",
       "  'friends',\n",
       "  'same.',\n",
       "  'Request',\n",
       "  'ballot',\n",
       "  'early,',\n",
       "  'send',\n",
       "  'back',\n",
       "  'early,',\n",
       "  'fill',\n",
       "  'carefully.',\n",
       "  'Get',\n",
       "  'started:',\n",
       "  'https://t.co/pmWQqs4PbB',\n",
       "  'https://t.co/JlOWmkJG57'],\n",
       " ['@RoboVonCosmos', '@AbFend', '@BarackObama', 'Fake', 'news'],\n",
       " ['@fredcuy1',\n",
       "  '@nowsgood320',\n",
       "  '@tvitin',\n",
       "  '@Dyncymraeg2',\n",
       "  '@italy_rocks',\n",
       "  '@WulfKhan',\n",
       "  '@AASGAAbuse',\n",
       "  '@Tvitin2',\n",
       "  '@jordan_law21',\n",
       "  '@FOLLOW_DA_BUCKS',\n",
       "  '@LeanneH56251190',\n",
       "  '@43a6f0ce5dac4ea',\n",
       "  '@kppotatoes',\n",
       "  '@michaelhallida4',\n",
       "  '@engpravda',\n",
       "  '@GermanLawGroup',\n",
       "  '@anticorruption',\n",
       "  '@OCCRP',\n",
       "  '@LawTimes',\n",
       "  '@TimesLaw',\n",
       "  '@GdnLaw',\n",
       "  '@LawNowMag',\n",
       "  '@LawScribes',\n",
       "  '@Avinci_law',\n",
       "  '@OSFJustice',\n",
       "  '@ijmonitor',\n",
       "  '@JusticePolicy',\n",
       "  '@BarackObama',\n",
       "  'So',\n",
       "  'true!',\n",
       "  \"let's\",\n",
       "  'hope',\n",
       "  'many',\n",
       "  'put',\n",
       "  'faith',\n",
       "  \"God's\",\n",
       "  'truth',\n",
       "  'reality',\n",
       "  'Jesus',\n",
       "  'Christ.\\nWe',\n",
       "  'need',\n",
       "  'accept',\n",
       "  'reality',\n",
       "  'politics',\n",
       "  'cannot',\n",
       "  'possibly',\n",
       "  'save',\n",
       "  'ruined',\n",
       "  'world\\nhttps://t.co/78Q8nohVbi'],\n",
       " [\"It's\",\n",
       "  'National',\n",
       "  'Vote',\n",
       "  'By',\n",
       "  'Mail',\n",
       "  'Day.',\n",
       "  'Voting',\n",
       "  'mail',\n",
       "  'easy',\n",
       "  'safe.',\n",
       "  'Take',\n",
       "  'minutes',\n",
       "  'request',\n",
       "  'vote-by-mail',\n",
       "  'ballot,',\n",
       "  'get',\n",
       "  'family',\n",
       "  'friends',\n",
       "  'same.',\n",
       "  'Request',\n",
       "  'ballot',\n",
       "  'early,',\n",
       "  'send',\n",
       "  'back',\n",
       "  'early,',\n",
       "  'fill',\n",
       "  'carefully.',\n",
       "  'Get',\n",
       "  'started:',\n",
       "  'https://t.co/pmWQqs4PbB',\n",
       "  'https://t.co/JlOWmkJG57'],\n",
       " [\"It's\",\n",
       "  'National',\n",
       "  'Vote',\n",
       "  'By',\n",
       "  'Mail',\n",
       "  'Day.',\n",
       "  'Voting',\n",
       "  'mail',\n",
       "  'easy',\n",
       "  'safe.',\n",
       "  'Take',\n",
       "  'minutes',\n",
       "  'request',\n",
       "  'vote-by-mail',\n",
       "  'ballot,',\n",
       "  'get',\n",
       "  'family',\n",
       "  'friends',\n",
       "  'same.',\n",
       "  'Request',\n",
       "  'ballot',\n",
       "  'early,',\n",
       "  'send',\n",
       "  'back',\n",
       "  'early,',\n",
       "  'fill',\n",
       "  'carefully.',\n",
       "  'Get',\n",
       "  'started:',\n",
       "  'https://t.co/pmWQqs4PbB',\n",
       "  'https://t.co/JlOWmkJG57'],\n",
       " ['@QPatriot17',\n",
       "  '@realDonaldTrump',\n",
       "  'Obama',\n",
       "  'goid',\n",
       "  'kiss',\n",
       "  'ayatollah',\n",
       "  'ass\\n@BarackObama',\n",
       "  'https://t.co/eNOaV5CUrf'],\n",
       " ['@its101191514', '@BarackObama', 'W'],\n",
       " ['@DonaldTrumpJrA1',\n",
       "  'Hey',\n",
       "  'Donny,',\n",
       "  '@BarackObama',\n",
       "  '44%',\n",
       "  'twitter',\n",
       "  'followers',\n",
       "  'yo',\n",
       "  'pa!',\n",
       "  'Might',\n",
       "  'wanna',\n",
       "  'tell',\n",
       "  'him..',\n",
       "  '😂🤣'],\n",
       " ['@DanRather',\n",
       "  '#COVID19',\n",
       "  '',\n",
       "  'cases',\n",
       "  'growing',\n",
       "  'exponentially',\n",
       "  '06/08/2020',\n",
       "  'crossed',\n",
       "  '2M',\n",
       "  'cases,',\n",
       "  '07/08/2020',\n",
       "  '3M',\n",
       "  'up:',\n",
       "  '1M',\n",
       "  '30',\n",
       "  'days\\n07/21/2020',\n",
       "  'American',\n",
       "  'passed',\n",
       "  '4M',\n",
       "  'threshold\\nIn',\n",
       "  '8',\n",
       "  'days',\n",
       "  'America',\n",
       "  'added',\n",
       "  '0.5M',\n",
       "  'new',\n",
       "  'cases\\nMy',\n",
       "  'prediction',\n",
       "  '5M',\n",
       "  \"@BarackObama's\",\n",
       "  'birthday',\n",
       "  '08/04/2020',\n",
       "  'w/',\n",
       "  'est',\n",
       "  '6%',\n",
       "  'fatalities'],\n",
       " [\"It's\",\n",
       "  'National',\n",
       "  'Vote',\n",
       "  'By',\n",
       "  'Mail',\n",
       "  'Day.',\n",
       "  'Voting',\n",
       "  'mail',\n",
       "  'easy',\n",
       "  'safe.',\n",
       "  'Take',\n",
       "  'minutes',\n",
       "  'request',\n",
       "  'vote-by-mail',\n",
       "  'ballot,',\n",
       "  'get',\n",
       "  'family',\n",
       "  'friends',\n",
       "  'same.',\n",
       "  'Request',\n",
       "  'ballot',\n",
       "  'early,',\n",
       "  'send',\n",
       "  'back',\n",
       "  'early,',\n",
       "  'fill',\n",
       "  'carefully.',\n",
       "  'Get',\n",
       "  'started:',\n",
       "  'https://t.co/pmWQqs4PbB',\n",
       "  'https://t.co/JlOWmkJG57'],\n",
       " [\"It's\",\n",
       "  'National',\n",
       "  'Vote',\n",
       "  'By',\n",
       "  'Mail',\n",
       "  'Day.',\n",
       "  'Voting',\n",
       "  'mail',\n",
       "  'easy',\n",
       "  'safe.',\n",
       "  'Take',\n",
       "  'minutes',\n",
       "  'request',\n",
       "  'vote-by-mail',\n",
       "  'ballot,',\n",
       "  'get',\n",
       "  'family',\n",
       "  'friends',\n",
       "  'same.',\n",
       "  'Request',\n",
       "  'ballot',\n",
       "  'early,',\n",
       "  'send',\n",
       "  'back',\n",
       "  'early,',\n",
       "  'fill',\n",
       "  'carefully.',\n",
       "  'Get',\n",
       "  'started:',\n",
       "  'https://t.co/pmWQqs4PbB',\n",
       "  'https://t.co/JlOWmkJG57'],\n",
       " ['This',\n",
       "  'holiday',\n",
       "  'weekend,',\n",
       "  'let’s',\n",
       "  'safe',\n",
       "  'smart.',\n",
       "  'It’s',\n",
       "  'going',\n",
       "  'take',\n",
       "  'us',\n",
       "  'beat',\n",
       "  'virus.',\n",
       "  'So',\n",
       "  'wear',\n",
       "  'mask.',\n",
       "  'Wash',\n",
       "  'hands.',\n",
       "  'And',\n",
       "  'listen',\n",
       "  'experts,',\n",
       "  'folks',\n",
       "  'trying',\n",
       "  'divide',\n",
       "  'us.',\n",
       "  \"That's\",\n",
       "  'way',\n",
       "  'we’ll',\n",
       "  'this—together.\\nhttps://t.co/UwNKAzL8JU'],\n",
       " ['@fuck_blind',\n",
       "  '@CHRISTINE_M69',\n",
       "  '@NoWay7790',\n",
       "  '@BarackObama',\n",
       "  '@JoeBiden',\n",
       "  'Funny',\n",
       "  'evidence',\n",
       "  'future',\n",
       "  'prosecution.',\n",
       "  'Why',\n",
       "  'isn’t',\n",
       "  'Barr',\n",
       "  'prosecuting',\n",
       "  'them?',\n",
       "  'He',\n",
       "  'literally',\n",
       "  'power',\n",
       "  'would',\n",
       "  'love',\n",
       "  'to.',\n",
       "  'But',\n",
       "  'evidence',\n",
       "  'wrong',\n",
       "  'doing.',\n",
       "  'And',\n",
       "  'literally',\n",
       "  'investigate',\n",
       "  'cover',\n",
       "  'up.',\n",
       "  'You',\n",
       "  'people',\n",
       "  'aren’t',\n",
       "  'Americans.',\n",
       "  'You’re',\n",
       "  'Psychos.',\n",
       "  'Poorly',\n",
       "  'Raised.'],\n",
       " [\"It's\",\n",
       "  'National',\n",
       "  'Vote',\n",
       "  'By',\n",
       "  'Mail',\n",
       "  'Day.',\n",
       "  'Voting',\n",
       "  'mail',\n",
       "  'easy',\n",
       "  'safe.',\n",
       "  'Take',\n",
       "  'minutes',\n",
       "  'request',\n",
       "  'vote-by-mail',\n",
       "  'ballot,',\n",
       "  'get',\n",
       "  'family',\n",
       "  'friends',\n",
       "  'same.',\n",
       "  'Request',\n",
       "  'ballot',\n",
       "  'early,',\n",
       "  'send',\n",
       "  'back',\n",
       "  'early,',\n",
       "  'fill',\n",
       "  'carefully.',\n",
       "  'Get',\n",
       "  'started:',\n",
       "  'https://t.co/pmWQqs4PbB',\n",
       "  'https://t.co/JlOWmkJG57'],\n",
       " [\"It's\",\n",
       "  'National',\n",
       "  'Vote',\n",
       "  'By',\n",
       "  'Mail',\n",
       "  'Day.',\n",
       "  'Voting',\n",
       "  'mail',\n",
       "  'easy',\n",
       "  'safe.',\n",
       "  'Take',\n",
       "  'minutes',\n",
       "  'request',\n",
       "  'vote-by-mail',\n",
       "  'ballot,',\n",
       "  'get',\n",
       "  'family',\n",
       "  'friends',\n",
       "  'same.',\n",
       "  'Request',\n",
       "  'ballot',\n",
       "  'early,',\n",
       "  'send',\n",
       "  'back',\n",
       "  'early,',\n",
       "  'fill',\n",
       "  'carefully.',\n",
       "  'Get',\n",
       "  'started:',\n",
       "  'https://t.co/pmWQqs4PbB',\n",
       "  'https://t.co/JlOWmkJG57'],\n",
       " [\"It's\",\n",
       "  'National',\n",
       "  'Vote',\n",
       "  'By',\n",
       "  'Mail',\n",
       "  'Day.',\n",
       "  'Voting',\n",
       "  'mail',\n",
       "  'easy',\n",
       "  'safe.',\n",
       "  'Take',\n",
       "  'minutes',\n",
       "  'request',\n",
       "  'vote-by-mail',\n",
       "  'ballot,',\n",
       "  'get',\n",
       "  'family',\n",
       "  'friends',\n",
       "  'same.',\n",
       "  'Request',\n",
       "  'ballot',\n",
       "  'early,',\n",
       "  'send',\n",
       "  'back',\n",
       "  'early,',\n",
       "  'fill',\n",
       "  'carefully.',\n",
       "  'Get',\n",
       "  'started:',\n",
       "  'https://t.co/pmWQqs4PbB',\n",
       "  'https://t.co/JlOWmkJG57'],\n",
       " [\"It's\",\n",
       "  'National',\n",
       "  'Vote',\n",
       "  'By',\n",
       "  'Mail',\n",
       "  'Day.',\n",
       "  'Voting',\n",
       "  'mail',\n",
       "  'easy',\n",
       "  'safe.',\n",
       "  'Take',\n",
       "  'minutes',\n",
       "  'request',\n",
       "  'vote-by-mail',\n",
       "  'ballot,',\n",
       "  'get',\n",
       "  'family',\n",
       "  'friends',\n",
       "  'same.',\n",
       "  'Request',\n",
       "  'ballot',\n",
       "  'early,',\n",
       "  'send',\n",
       "  'back',\n",
       "  'early,',\n",
       "  'fill',\n",
       "  'carefully.',\n",
       "  'Get',\n",
       "  'started:',\n",
       "  'https://t.co/pmWQqs4PbB',\n",
       "  'https://t.co/JlOWmkJG57'],\n",
       " [\"It's\",\n",
       "  'National',\n",
       "  'Vote',\n",
       "  'By',\n",
       "  'Mail',\n",
       "  'Day.',\n",
       "  'Voting',\n",
       "  'mail',\n",
       "  'easy',\n",
       "  'safe.',\n",
       "  'Take',\n",
       "  'minutes',\n",
       "  'request',\n",
       "  'vote-by-mail',\n",
       "  'ballot,',\n",
       "  'get',\n",
       "  'family',\n",
       "  'friends',\n",
       "  'same.',\n",
       "  'Request',\n",
       "  'ballot',\n",
       "  'early,',\n",
       "  'send',\n",
       "  'back',\n",
       "  'early,',\n",
       "  'fill',\n",
       "  'carefully.',\n",
       "  'Get',\n",
       "  'started:',\n",
       "  'https://t.co/pmWQqs4PbB',\n",
       "  'https://t.co/JlOWmkJG57'],\n",
       " ['@daksh67739719', '@Lazarbeam', '@BarackObama', 'Ew', 'light', 'mode'],\n",
       " ['#VoteBlueToSaveAmerica2020',\n",
       "  '#CheckYourRegistration',\n",
       "  '#Trump',\n",
       "  'delaying',\n",
       "  'mail....',\n",
       "  'check',\n",
       "  'today!',\n",
       "  '#USPS',\n",
       "  '#VoteByMail',\n",
       "  '#Ballot',\n",
       "  'Thanks,',\n",
       "  '@BarackObama',\n",
       "  'https://t.co/Po3XkDRhhB'],\n",
       " ['@BarackObama', 'https://t.co/pliQRKUlPh'],\n",
       " [\"It's\",\n",
       "  'National',\n",
       "  'Vote',\n",
       "  'By',\n",
       "  'Mail',\n",
       "  'Day.',\n",
       "  'Voting',\n",
       "  'mail',\n",
       "  'easy',\n",
       "  'safe.',\n",
       "  'Take',\n",
       "  'minutes',\n",
       "  'request',\n",
       "  'vote-by-mail',\n",
       "  'ballot,',\n",
       "  'get',\n",
       "  'family',\n",
       "  'friends',\n",
       "  'same.',\n",
       "  'Request',\n",
       "  'ballot',\n",
       "  'early,',\n",
       "  'send',\n",
       "  'back',\n",
       "  'early,',\n",
       "  'fill',\n",
       "  'carefully.',\n",
       "  'Get',\n",
       "  'started:',\n",
       "  'https://t.co/pmWQqs4PbB',\n",
       "  'https://t.co/JlOWmkJG57'],\n",
       " [\"It's\",\n",
       "  'National',\n",
       "  'Vote',\n",
       "  'By',\n",
       "  'Mail',\n",
       "  'Day.',\n",
       "  'Voting',\n",
       "  'mail',\n",
       "  'easy',\n",
       "  'safe.',\n",
       "  'Take',\n",
       "  'minutes',\n",
       "  'request',\n",
       "  'vote-by-mail',\n",
       "  'ballot,',\n",
       "  'get',\n",
       "  'family',\n",
       "  'friends',\n",
       "  'same.',\n",
       "  'Request',\n",
       "  'ballot',\n",
       "  'early,',\n",
       "  'send',\n",
       "  'back',\n",
       "  'early,',\n",
       "  'fill',\n",
       "  'carefully.',\n",
       "  'Get',\n",
       "  'started:',\n",
       "  'https://t.co/pmWQqs4PbB',\n",
       "  'https://t.co/JlOWmkJG57'],\n",
       " [\"It's\",\n",
       "  'National',\n",
       "  'Vote',\n",
       "  'By',\n",
       "  'Mail',\n",
       "  'Day.',\n",
       "  'Voting',\n",
       "  'mail',\n",
       "  'easy',\n",
       "  'safe.',\n",
       "  'Take',\n",
       "  'minutes',\n",
       "  'request',\n",
       "  'vote-by-mail',\n",
       "  'ballot,',\n",
       "  'get',\n",
       "  'family',\n",
       "  'friends',\n",
       "  'same.',\n",
       "  'Request',\n",
       "  'ballot',\n",
       "  'early,',\n",
       "  'send',\n",
       "  'back',\n",
       "  'early,',\n",
       "  'fill',\n",
       "  'carefully.',\n",
       "  'Get',\n",
       "  'started:',\n",
       "  'https://t.co/pmWQqs4PbB',\n",
       "  'https://t.co/JlOWmkJG57'],\n",
       " [\"It's\",\n",
       "  'National',\n",
       "  'Vote',\n",
       "  'By',\n",
       "  'Mail',\n",
       "  'Day.',\n",
       "  'Voting',\n",
       "  'mail',\n",
       "  'easy',\n",
       "  'safe.',\n",
       "  'Take',\n",
       "  'minutes',\n",
       "  'request',\n",
       "  'vote-by-mail',\n",
       "  'ballot,',\n",
       "  'get',\n",
       "  'family',\n",
       "  'friends',\n",
       "  'same.',\n",
       "  'Request',\n",
       "  'ballot',\n",
       "  'early,',\n",
       "  'send',\n",
       "  'back',\n",
       "  'early,',\n",
       "  'fill',\n",
       "  'carefully.',\n",
       "  'Get',\n",
       "  'started:',\n",
       "  'https://t.co/pmWQqs4PbB',\n",
       "  'https://t.co/JlOWmkJG57'],\n",
       " [\"It's\",\n",
       "  'National',\n",
       "  'Vote',\n",
       "  'By',\n",
       "  'Mail',\n",
       "  'Day.',\n",
       "  'Voting',\n",
       "  'mail',\n",
       "  'easy',\n",
       "  'safe.',\n",
       "  'Take',\n",
       "  'minutes',\n",
       "  'request',\n",
       "  'vote-by-mail',\n",
       "  'ballot,',\n",
       "  'get',\n",
       "  'family',\n",
       "  'friends',\n",
       "  'same.',\n",
       "  'Request',\n",
       "  'ballot',\n",
       "  'early,',\n",
       "  'send',\n",
       "  'back',\n",
       "  'early,',\n",
       "  'fill',\n",
       "  'carefully.',\n",
       "  'Get',\n",
       "  'started:',\n",
       "  'https://t.co/pmWQqs4PbB',\n",
       "  'https://t.co/JlOWmkJG57'],\n",
       " ['@BarackObama',\n",
       "  'niggah',\n",
       "  'presidents',\n",
       "  '@GovernorVA',\n",
       "  'doctor',\n",
       "  'politicians.',\n",
       "  'https://t.co/AjlNgCcmjH'],\n",
       " [\"It's\",\n",
       "  'National',\n",
       "  'Vote',\n",
       "  'By',\n",
       "  'Mail',\n",
       "  'Day.',\n",
       "  'Voting',\n",
       "  'mail',\n",
       "  'easy',\n",
       "  'safe.',\n",
       "  'Take',\n",
       "  'minutes',\n",
       "  'request',\n",
       "  'vote-by-mail',\n",
       "  'ballot,',\n",
       "  'get',\n",
       "  'family',\n",
       "  'friends',\n",
       "  'same.',\n",
       "  'Request',\n",
       "  'ballot',\n",
       "  'early,',\n",
       "  'send',\n",
       "  'back',\n",
       "  'early,',\n",
       "  'fill',\n",
       "  'carefully.',\n",
       "  'Get',\n",
       "  'started:',\n",
       "  'https://t.co/pmWQqs4PbB',\n",
       "  'https://t.co/JlOWmkJG57'],\n",
       " ['@HillaryReplyGuy',\n",
       "  '@BarackObama',\n",
       "  'I',\n",
       "  'idea,',\n",
       "  'followed',\n",
       "  'I',\n",
       "  'really',\n",
       "  'low',\n",
       "  'follower',\n",
       "  'account.',\n",
       "  'I',\n",
       "  'used',\n",
       "  'ONLY',\n",
       "  'affiliate',\n",
       "  'Econ',\n",
       "  'Twitter',\n",
       "  'really',\n",
       "  'personal',\n",
       "  'post,',\n",
       "  'meme',\n",
       "  'anything',\n",
       "  'maybe',\n",
       "  \"that's\"],\n",
       " [\"It's\",\n",
       "  'National',\n",
       "  'Vote',\n",
       "  'By',\n",
       "  'Mail',\n",
       "  'Day.',\n",
       "  'Voting',\n",
       "  'mail',\n",
       "  'easy',\n",
       "  'safe.',\n",
       "  'Take',\n",
       "  'minutes',\n",
       "  'request',\n",
       "  'vote-by-mail',\n",
       "  'ballot,',\n",
       "  'get',\n",
       "  'family',\n",
       "  'friends',\n",
       "  'same.',\n",
       "  'Request',\n",
       "  'ballot',\n",
       "  'early,',\n",
       "  'send',\n",
       "  'back',\n",
       "  'early,',\n",
       "  'fill',\n",
       "  'carefully.',\n",
       "  'Get',\n",
       "  'started:',\n",
       "  'https://t.co/pmWQqs4PbB',\n",
       "  'https://t.co/JlOWmkJG57'],\n",
       " ['Hey',\n",
       "  '@realDonaldTrump',\n",
       "  '',\n",
       "  '@BarackObama',\n",
       "  '',\n",
       "  '44%',\n",
       "  'twitter',\n",
       "  'followers',\n",
       "  '🤣🤣🤣'],\n",
       " [\"It's\",\n",
       "  'National',\n",
       "  'Vote',\n",
       "  'By',\n",
       "  'Mail',\n",
       "  'Day.',\n",
       "  'Voting',\n",
       "  'mail',\n",
       "  'easy',\n",
       "  'safe.',\n",
       "  'Take',\n",
       "  'minutes',\n",
       "  'request',\n",
       "  'vote-by-mail',\n",
       "  'ballot,',\n",
       "  'get',\n",
       "  'family',\n",
       "  'friends',\n",
       "  'same.',\n",
       "  'Request',\n",
       "  'ballot',\n",
       "  'early,',\n",
       "  'send',\n",
       "  'back',\n",
       "  'early,',\n",
       "  'fill',\n",
       "  'carefully.',\n",
       "  'Get',\n",
       "  'started:',\n",
       "  'https://t.co/pmWQqs4PbB',\n",
       "  'https://t.co/JlOWmkJG57'],\n",
       " [\"It's\",\n",
       "  'National',\n",
       "  'Vote',\n",
       "  'By',\n",
       "  'Mail',\n",
       "  'Day.',\n",
       "  'Voting',\n",
       "  'mail',\n",
       "  'easy',\n",
       "  'safe.',\n",
       "  'Take',\n",
       "  'minutes',\n",
       "  'request',\n",
       "  'vote-by-mail',\n",
       "  'ballot,',\n",
       "  'get',\n",
       "  'family',\n",
       "  'friends',\n",
       "  'same.',\n",
       "  'Request',\n",
       "  'ballot',\n",
       "  'early,',\n",
       "  'send',\n",
       "  'back',\n",
       "  'early,',\n",
       "  'fill',\n",
       "  'carefully.',\n",
       "  'Get',\n",
       "  'started:',\n",
       "  'https://t.co/pmWQqs4PbB',\n",
       "  'https://t.co/JlOWmkJG57'],\n",
       " ['@BarackObama',\n",
       "  'Your',\n",
       "  'longer',\n",
       "  'president.',\n",
       "  'Take',\n",
       "  'bio.',\n",
       "  '#trump2020',\n",
       "  '',\n",
       "  '#trumpthetruepresident',\n",
       "  '#'],\n",
       " ['@its101191514', '@BarackObama', 'Stop', 'showing', 'popularity!'],\n",
       " [\"It's\",\n",
       "  'National',\n",
       "  'Vote',\n",
       "  'By',\n",
       "  'Mail',\n",
       "  'Day.',\n",
       "  'Voting',\n",
       "  'mail',\n",
       "  'easy',\n",
       "  'safe.',\n",
       "  'Take',\n",
       "  'minutes',\n",
       "  'request',\n",
       "  'vote-by-mail',\n",
       "  'ballot,',\n",
       "  'get',\n",
       "  'family',\n",
       "  'friends',\n",
       "  'same.',\n",
       "  'Request',\n",
       "  'ballot',\n",
       "  'early,',\n",
       "  'send',\n",
       "  'back',\n",
       "  'early,',\n",
       "  'fill',\n",
       "  'carefully.',\n",
       "  'Get',\n",
       "  'started:',\n",
       "  'https://t.co/pmWQqs4PbB',\n",
       "  'https://t.co/JlOWmkJG57'],\n",
       " [\"It's\",\n",
       "  'National',\n",
       "  'Vote',\n",
       "  'By',\n",
       "  'Mail',\n",
       "  'Day.',\n",
       "  'Voting',\n",
       "  'mail',\n",
       "  'easy',\n",
       "  'safe.',\n",
       "  'Take',\n",
       "  'minutes',\n",
       "  'request',\n",
       "  'vote-by-mail',\n",
       "  'ballot,',\n",
       "  'get',\n",
       "  'family',\n",
       "  'friends',\n",
       "  'same.',\n",
       "  'Request',\n",
       "  'ballot',\n",
       "  'early,',\n",
       "  'send',\n",
       "  'back',\n",
       "  'early,',\n",
       "  'fill',\n",
       "  'carefully.',\n",
       "  'Get',\n",
       "  'started:',\n",
       "  'https://t.co/pmWQqs4PbB',\n",
       "  'https://t.co/JlOWmkJG57'],\n",
       " ['DeLong',\n",
       "  '☑️\\nNoah',\n",
       "  'Smith',\n",
       "  '☑️\\nMedlock',\n",
       "  '☑️\\n\\n@BarackObama,',\n",
       "  'next.',\n",
       "  'https://t.co/qiAxIWhjkj'],\n",
       " ['@Firedskull1',\n",
       "  '@BennyDdp',\n",
       "  '@TinamarieLobue',\n",
       "  '@AndyDraya10',\n",
       "  '@BarackObama',\n",
       "  'Have',\n",
       "  'ever',\n",
       "  'seen',\n",
       "  'big',\n",
       "  'scandal',\n",
       "  'left',\n",
       "  'rigged',\n",
       "  'election',\n",
       "  'newspapers?',\n",
       "  'Never,',\n",
       "  'make',\n",
       "  'question',\n",
       "  'give',\n",
       "  'answer'],\n",
       " [\"It's\",\n",
       "  'National',\n",
       "  'Vote',\n",
       "  'By',\n",
       "  'Mail',\n",
       "  'Day.',\n",
       "  'Voting',\n",
       "  'mail',\n",
       "  'easy',\n",
       "  'safe.',\n",
       "  'Take',\n",
       "  'minutes',\n",
       "  'request',\n",
       "  'vote-by-mail',\n",
       "  'ballot,',\n",
       "  'get',\n",
       "  'family',\n",
       "  'friends',\n",
       "  'same.',\n",
       "  'Request',\n",
       "  'ballot',\n",
       "  'early,',\n",
       "  'send',\n",
       "  'back',\n",
       "  'early,',\n",
       "  'fill',\n",
       "  'carefully.',\n",
       "  'Get',\n",
       "  'started:',\n",
       "  'https://t.co/pmWQqs4PbB',\n",
       "  'https://t.co/JlOWmkJG57'],\n",
       " [\"It's\",\n",
       "  'National',\n",
       "  'Vote',\n",
       "  'By',\n",
       "  'Mail',\n",
       "  'Day.',\n",
       "  'Voting',\n",
       "  'mail',\n",
       "  'easy',\n",
       "  'safe.',\n",
       "  'Take',\n",
       "  'minutes',\n",
       "  'request',\n",
       "  'vote-by-mail',\n",
       "  'ballot,',\n",
       "  'get',\n",
       "  'family',\n",
       "  'friends',\n",
       "  'same.',\n",
       "  'Request',\n",
       "  'ballot',\n",
       "  'early,',\n",
       "  'send',\n",
       "  'back',\n",
       "  'early,',\n",
       "  'fill',\n",
       "  'carefully.',\n",
       "  'Get',\n",
       "  'started:',\n",
       "  'https://t.co/pmWQqs4PbB',\n",
       "  'https://t.co/JlOWmkJG57'],\n",
       " ['@BarackObama',\n",
       "  'You',\n",
       "  'must',\n",
       "  'worried',\n",
       "  'truth',\n",
       "  'coming',\n",
       "  'abuse',\n",
       "  'power!'],\n",
       " [\"It's\",\n",
       "  'National',\n",
       "  'Vote',\n",
       "  'By',\n",
       "  'Mail',\n",
       "  'Day.',\n",
       "  'Voting',\n",
       "  'mail',\n",
       "  'easy',\n",
       "  'safe.',\n",
       "  'Take',\n",
       "  'minutes',\n",
       "  'request',\n",
       "  'vote-by-mail',\n",
       "  'ballot,',\n",
       "  'get',\n",
       "  'family',\n",
       "  'friends',\n",
       "  'same.',\n",
       "  'Request',\n",
       "  'ballot',\n",
       "  'early,',\n",
       "  'send',\n",
       "  'back',\n",
       "  'early,',\n",
       "  'fill',\n",
       "  'carefully.',\n",
       "  'Get',\n",
       "  'started:',\n",
       "  'https://t.co/pmWQqs4PbB',\n",
       "  'https://t.co/JlOWmkJG57'],\n",
       " [\"It's\",\n",
       "  'National',\n",
       "  'Vote',\n",
       "  'By',\n",
       "  'Mail',\n",
       "  'Day.',\n",
       "  'Voting',\n",
       "  'mail',\n",
       "  'easy',\n",
       "  'safe.',\n",
       "  'Take',\n",
       "  'minutes',\n",
       "  'request',\n",
       "  'vote-by-mail',\n",
       "  'ballot,',\n",
       "  'get',\n",
       "  'family',\n",
       "  'friends',\n",
       "  'same.',\n",
       "  'Request',\n",
       "  'ballot',\n",
       "  'early,',\n",
       "  'send',\n",
       "  'back',\n",
       "  'early,',\n",
       "  'fill',\n",
       "  'carefully.',\n",
       "  'Get',\n",
       "  'started:',\n",
       "  'https://t.co/pmWQqs4PbB',\n",
       "  'https://t.co/JlOWmkJG57'],\n",
       " ['@HillaryReplyGuy',\n",
       "  '@BarackObama',\n",
       "  'I',\n",
       "  'idea,',\n",
       "  'followed',\n",
       "  'I',\n",
       "  'really',\n",
       "  'low',\n",
       "  'follower',\n",
       "  'account.',\n",
       "  'I',\n",
       "  'used',\n",
       "  'ONLY',\n",
       "  'affiliate',\n",
       "  'Econ',\n",
       "  'Twitter',\n",
       "  'really',\n",
       "  'personal',\n",
       "  'post,',\n",
       "  'meme',\n",
       "  'anything',\n",
       "  'maybe',\n",
       "  \"that's\"],\n",
       " ['Arianna’s',\n",
       "  'supporter',\n",
       "  'campaign',\n",
       "  'who’s',\n",
       "  'organizing',\n",
       "  'food',\n",
       "  'drives',\n",
       "  'community',\n",
       "  'COVID',\n",
       "  'crisis.',\n",
       "  'My',\n",
       "  'team',\n",
       "  'told',\n",
       "  'work,',\n",
       "  '@BarackObama',\n",
       "  'I',\n",
       "  'decided',\n",
       "  'surprise',\n",
       "  'call.',\n",
       "  'https://t.co/GnwvU6HMld'],\n",
       " ['#VoteBlueToSaveAmerica2020',\n",
       "  '#CheckYourRegistration',\n",
       "  '#Trump',\n",
       "  'delaying',\n",
       "  'mail....',\n",
       "  'check',\n",
       "  'today!',\n",
       "  '#USPS',\n",
       "  '#VoteByMail',\n",
       "  '#Ballot',\n",
       "  'Thanks,',\n",
       "  '@BarackObama',\n",
       "  'https://t.co/Po3XkDRhhB'],\n",
       " ['@LezaLimbo',\n",
       "  '@glamelegance',\n",
       "  '@BarackObama',\n",
       "  'Lyin',\n",
       "  'Leza.',\n",
       "  'You',\n",
       "  'need',\n",
       "  'quit',\n",
       "  'drinking',\n",
       "  'Koolaid!'],\n",
       " [\"It's\",\n",
       "  'National',\n",
       "  'Vote',\n",
       "  'By',\n",
       "  'Mail',\n",
       "  'Day.',\n",
       "  'Voting',\n",
       "  'mail',\n",
       "  'easy',\n",
       "  'safe.',\n",
       "  'Take',\n",
       "  'minutes',\n",
       "  'request',\n",
       "  'vote-by-mail',\n",
       "  'ballot,',\n",
       "  'get',\n",
       "  'family',\n",
       "  'friends',\n",
       "  'same.',\n",
       "  'Request',\n",
       "  'ballot',\n",
       "  'early,',\n",
       "  'send',\n",
       "  'back',\n",
       "  'early,',\n",
       "  'fill',\n",
       "  'carefully.',\n",
       "  'Get',\n",
       "  'started:',\n",
       "  'https://t.co/pmWQqs4PbB',\n",
       "  'https://t.co/JlOWmkJG57'],\n",
       " [\"It's\",\n",
       "  'National',\n",
       "  'Vote',\n",
       "  'By',\n",
       "  'Mail',\n",
       "  'Day.',\n",
       "  'Voting',\n",
       "  'mail',\n",
       "  'easy',\n",
       "  'safe.',\n",
       "  'Take',\n",
       "  'minutes',\n",
       "  'request',\n",
       "  'vote-by-mail',\n",
       "  'ballot,',\n",
       "  'get',\n",
       "  'family',\n",
       "  'friends',\n",
       "  'same.',\n",
       "  'Request',\n",
       "  'ballot',\n",
       "  'early,',\n",
       "  'send',\n",
       "  'back',\n",
       "  'early,',\n",
       "  'fill',\n",
       "  'carefully.',\n",
       "  'Get',\n",
       "  'started:',\n",
       "  'https://t.co/pmWQqs4PbB',\n",
       "  'https://t.co/JlOWmkJG57']]"
      ]
     },
     "execution_count": 35,
     "metadata": {},
     "output_type": "execute_result"
    }
   ],
   "source": [
    "separated_responses"
   ]
  },
  {
   "cell_type": "code",
   "execution_count": 36,
   "metadata": {},
   "outputs": [],
   "source": [
    "dictionary_LDA = corpora.Dictionary(separated_responses)\n",
    "dictionary_LDA.filter_extremes(no_below=3)"
   ]
  },
  {
   "cell_type": "code",
   "execution_count": 37,
   "metadata": {},
   "outputs": [],
   "source": [
    "corpus = [dictionary_LDA.doc2bow(w) for w in separated_responses]"
   ]
  },
  {
   "cell_type": "code",
   "execution_count": 38,
   "metadata": {},
   "outputs": [
    {
     "name": "stdout",
     "output_type": "stream",
     "text": [
      "CPU times: user 339 ms, sys: 3.77 ms, total: 342 ms\n",
      "Wall time: 344 ms\n"
     ]
    }
   ],
   "source": [
    "num_topics = 20\n",
    "%time lda_model = models.LdaModel(corpus, num_topics=num_topics, \\\n",
    "                                  id2word=dictionary_LDA, \\\n",
    "                                  passes=4, alpha=[0.01]*num_topics, \\\n",
    "                                  eta=[0.01]*len(dictionary_LDA.keys()))"
   ]
  },
  {
   "cell_type": "code",
   "execution_count": 39,
   "metadata": {},
   "outputs": [
    {
     "name": "stdout",
     "output_type": "stream",
     "text": [
      "0.318*\"@BarackObama\" + 0.310*\"@its101191514\" + 0.204*\"@ishabad\" + 0.009*\"early,\" + 0.006*\"Request\" + 0.006*\"Vote\" + 0.006*\"Day.\" + 0.006*\"minutes\" + 0.006*\"same.\" + 0.006*\"family\"\n",
      "0.061*\"early,\" + 0.036*\"By\" + 0.035*\"It's\" + 0.035*\"minutes\" + 0.034*\"started:\" + 0.034*\"safe.\" + 0.033*\"carefully.\" + 0.033*\"ballot,\" + 0.033*\"Mail\" + 0.032*\"vote-by-mail\"\n",
      "0.066*\"early,\" + 0.035*\"https://t.co/JlOWmkJG57\" + 0.034*\"ballot,\" + 0.034*\"Vote\" + 0.033*\"friends\" + 0.033*\"https://t.co/pmWQqs4PbB\" + 0.032*\"back\" + 0.032*\"Get\" + 0.032*\"National\" + 0.032*\"Request\"\n",
      "0.580*\"@BarackObama\" + 0.151*\"Obama\" + 0.147*\"President\" + 0.081*\"know\" + 0.001*\"@ishabad\" + 0.001*\"@JoeBiden\" + 0.001*\"\" + 0.001*\"@its101191514\" + 0.001*\"one.\" + 0.001*\"us\"\n",
      "0.256*\"@BarackObama\" + 0.182*\"\" + 0.133*\"@JoeBiden\" + 0.087*\"need\" + 0.087*\"You\" + 0.084*\"He\" + 0.057*\"8\" + 0.057*\"seen\" + 0.030*\"one.\" + 0.013*\"@its101191514\"\n",
      "0.217*\"\" + 0.180*\"I\" + 0.117*\"@TinamarieLobue\" + 0.074*\"@BarackObama\" + 0.051*\"mail\" + 0.045*\"I’m\" + 0.045*\"know\" + 0.045*\"Obama\" + 0.042*\"@JoeBiden\" + 0.012*\"early,\"\n",
      "0.872*\"I\" + 0.084*\"talk\" + 0.001*\"@ishabad\" + 0.001*\"@JoeBiden\" + 0.001*\"\" + 0.001*\"@its101191514\" + 0.001*\"Obama\" + 0.001*\"used\" + 0.001*\"one.\" + 0.001*\"us\"\n",
      "0.201*\"I\" + 0.175*\"one\" + 0.118*\"followers\" + 0.115*\"@BarackObama\" + 0.085*\"I’m\" + 0.045*\"8\" + 0.045*\"know\" + 0.045*\"seen\" + 0.016*\"&amp;\" + 0.008*\"President\"\n",
      "0.062*\"early,\" + 0.037*\"It's\" + 0.036*\"minutes\" + 0.036*\"By\" + 0.036*\"Request\" + 0.035*\"ballot\" + 0.035*\"easy\" + 0.035*\"family\" + 0.035*\"Voting\" + 0.035*\"Day.\"\n",
      "0.062*\"early,\" + 0.032*\"https://t.co/JlOWmkJG57\" + 0.032*\"Mail\" + 0.032*\"National\" + 0.032*\"ballot\" + 0.032*\"Day.\" + 0.032*\"minutes\" + 0.032*\"friends\" + 0.032*\"back\" + 0.032*\"easy\"\n",
      "0.254*\"@BarackObama\" + 0.126*\"I\" + 0.034*\"early,\" + 0.017*\"Request\" + 0.017*\"ballot\" + 0.017*\"same.\" + 0.017*\"ballot,\" + 0.017*\"https://t.co/pmWQqs4PbB\" + 0.017*\"https://t.co/JlOWmkJG57\" + 0.017*\"Get\"\n",
      "0.662*\"@BarackObama\" + 0.283*\"\" + 0.001*\"used\" + 0.001*\"@JoeBiden\" + 0.001*\"@its101191514\" + 0.001*\"@ishabad\" + 0.001*\"Obama\" + 0.001*\"one.\" + 0.001*\"us\" + 0.001*\"President\"\n",
      "0.069*\"early,\" + 0.035*\"fill\" + 0.035*\"request\" + 0.035*\"https://t.co/pmWQqs4PbB\" + 0.035*\"https://t.co/JlOWmkJG57\" + 0.035*\"carefully.\" + 0.035*\"National\" + 0.035*\"mail\" + 0.034*\"same.\" + 0.034*\"Voting\"\n",
      "0.037*\"back\" + 0.037*\"https://t.co/JlOWmkJG57\" + 0.034*\"family\" + 0.034*\"Vote\" + 0.034*\"easy\" + 0.033*\"Get\" + 0.032*\"friends\" + 0.032*\"early,\" + 0.031*\"National\" + 0.031*\"Request\"\n",
      "0.070*\"early,\" + 0.033*\"Day.\" + 0.033*\"mail\" + 0.033*\"https://t.co/JlOWmkJG57\" + 0.033*\"https://t.co/pmWQqs4PbB\" + 0.033*\"safe.\" + 0.033*\"It's\" + 0.033*\"Get\" + 0.032*\"family\" + 0.032*\"Vote\"\n",
      "0.050*\"early,\" + 0.049*\"@BarackObama\" + 0.038*\"followers\" + 0.034*\"\" + 0.027*\"Get\" + 0.027*\"mail\" + 0.027*\"Request\" + 0.027*\"ballot,\" + 0.027*\"send\" + 0.027*\"Vote\"\n",
      "0.228*\"It’s\" + 0.228*\"us\" + 0.155*\"one.\" + 0.155*\"talk\" + 0.155*\"The\" + 0.004*\"early,\" + 0.003*\"family\" + 0.002*\"mail\" + 0.002*\"send\" + 0.002*\"safe.\"\n",
      "0.018*\"used\" + 0.018*\"@BarackObama\" + 0.018*\"@JoeBiden\" + 0.018*\"\" + 0.018*\"@its101191514\" + 0.018*\"@ishabad\" + 0.018*\"Obama\" + 0.018*\"one.\" + 0.018*\"us\" + 0.018*\"President\"\n",
      "0.058*\"early,\" + 0.039*\"Get\" + 0.037*\"vote-by-mail\" + 0.037*\"back\" + 0.036*\"easy\" + 0.036*\"family\" + 0.035*\"Request\" + 0.035*\"same.\" + 0.034*\"fill\" + 0.034*\"Mail\"\n"
     ]
    }
   ],
   "source": [
    "for i,topic in lda_model.show_topics(formatted=True, num_topics=num_topics, num_words=10):\n",
    "    if i>0.8:\n",
    "        print(topic)"
   ]
  },
  {
   "cell_type": "code",
   "execution_count": 40,
   "metadata": {},
   "outputs": [
    {
     "data": {
      "text/html": [
       "\n",
       "<link rel=\"stylesheet\" type=\"text/css\" href=\"https://cdn.rawgit.com/bmabey/pyLDAvis/files/ldavis.v1.0.0.css\">\n",
       "\n",
       "\n",
       "<div id=\"ldavis_el335134984463824917152129\"></div>\n",
       "<script type=\"text/javascript\">\n",
       "\n",
       "var ldavis_el335134984463824917152129_data = {\"mdsDat\": {\"x\": [0.27284406947571727, -0.3456176174444612, -0.3315565210658227, -0.09148596663546975, -0.13538735521215078, -0.12571988184204455, -0.13204371867001619, -0.031891744346532455, -0.35289023829976446, -0.33778644919522155, 0.20395332985537437, 0.1757571168611771, 0.23689111739128074, 0.06683103496388419, 0.2134679084648731, -0.010654417438211243, 0.16750696782801613, 0.19945421565372026, 0.10174150106061118, 0.2565866485950417], \"y\": [-0.044537484243335715, -0.07753603397234717, -0.07775785560303981, 0.07381375269866568, 0.14947101037542687, 0.4451155179248693, -0.1503092209493291, 0.24668551696845253, -0.13758517826552774, -0.11384762925923203, -0.060602069632020576, -0.0627118826555432, -0.03721081830491213, 0.020135868701766643, -0.02259841666542351, -0.02654345889958029, -0.009209387909031988, -0.02067399106566182, -0.05641967303663611, -0.037678566207559966], \"topics\": [1, 2, 3, 4, 5, 6, 7, 8, 9, 10, 11, 12, 13, 14, 15, 16, 17, 18, 19, 20], \"cluster\": [1, 1, 1, 1, 1, 1, 1, 1, 1, 1, 1, 1, 1, 1, 1, 1, 1, 1, 1, 1], \"Freq\": [89.211181640625, 2.1352322101593018, 1.8521000146865845, 1.1903189420700073, 1.1694520711898804, 0.8351685404777527, 0.822467565536499, 0.78560870885849, 0.714028000831604, 0.6869829893112183, 0.059746939688920975, 0.059746939688920975, 0.059746939688920975, 0.059746939688920975, 0.059746939688920975, 0.059746939688920975, 0.059746939688920975, 0.059746939688920975, 0.059746939688920975, 0.059746939688920975]}, \"tinfo\": {\"Term\": [\"early,\", \"https://t.co/JlOWmkJG57\", \"Get\", \"back\", \"Vote\", \"family\", \"National\", \"easy\", \"friends\", \"ballot,\", \"Request\", \"minutes\", \"It's\", \"https://t.co/pmWQqs4PbB\", \"vote-by-mail\", \"Mail\", \"By\", \"send\", \"started:\", \"safe.\", \"fill\", \"Voting\", \"ballot\", \"carefully.\", \"request\", \"Day.\", \"same.\", \"mail\", \"@BarackObama\", \"I\", \"early,\", \"fill\", \"https://t.co/pmWQqs4PbB\", \"request\", \"Voting\", \"safe.\", \"carefully.\", \"ballot,\", \"National\", \"vote-by-mail\", \"https://t.co/JlOWmkJG57\", \"minutes\", \"By\", \"friends\", \"started:\", \"send\", \"Mail\", \"Get\", \"It's\", \"same.\", \"ballot\", \"Day.\", \"easy\", \"Request\", \"back\", \"Vote\", \"family\", \"mail\", \"8\", \"\", \"You\", \"need\", \"He\", \"seen\", \"@JoeBiden\", \"8\", \"\", \"one.\", \"@BarackObama\", \"@its101191514\", \"followers\", \"@TinamarieLobue\", \"I\\u2019m\", \"Obama\", \"know\", \"President\", \"@ishabad\", \"And\", \"used\", \"us\", \"It\\u2019s\", \"The\", \"talk\", \"one\", \"@realDonaldTrump\", \"&amp;\", \"I\", \"It's\", \"family\", \"Get\", \"early,\", \"mail\", \"https://t.co/pmWQqs4PbB\", \"https://t.co/JlOWmkJG57\", \"Day.\", \"friends\", \"fill\", \"easy\", \"ballot,\", \"carefully.\", \"Mail\", \"request\", \"ballot\", \"back\", \"Voting\", \"Vote\", \"Request\", \"@realDonaldTrump\", \"&amp;\", \"And\", \"used\", \"President\", \"The\", \"@JoeBiden\", \"@BarackObama\", \"\", \"followers\", \"@TinamarieLobue\", \"I\\u2019m\", \"Obama\", \"know\", \"seen\", \"@ishabad\", \"He\", \"8\", \"It\\u2019s\", \"us\", \"You\", \"one.\", \"need\", \"talk\", \"one\", \"@its101191514\", \"I\", \"It's\", \"family\", \"Get\", \"friends\", \"fill\", \"carefully.\", \"easy\", \"early,\", \"https://t.co/JlOWmkJG57\", \"https://t.co/pmWQqs4PbB\", \"mail\", \"ballot,\", \"request\", \"ballot\", \"back\", \"Voting\", \"Vote\", \"Request\", \"National\", \"Mail\", \"@TinamarieLobue\", \"I\\u2019m\", \"Obama\", \"know\", \"\", \"I\", \"@JoeBiden\", \"@BarackObama\", \"mail\", \"followers\", \"President\", \"seen\", \"@ishabad\", \"He\", \"8\", \"And\", \"used\", \"It\\u2019s\", \"us\", \"The\", \"You\", \"one.\", \"need\", \"talk\", \"Request\", \"It's\", \"one\", \"ballot,\", \"https://t.co/pmWQqs4PbB\", \"Vote\", \"National\", \"friends\", \"started:\", \"send\", \"early,\", \"safe.\", \"Voting\", \"By\", \"request\", \"Day.\", \"family\", \"https://t.co/JlOWmkJG57\", \"same.\", \"easy\", \"Mail\", \"carefully.\", \"one\", \"followers\", \"I\\u2019m\", \"know\", \"seen\", \"8\", \"I\", \"@BarackObama\", \"President\", \"&amp;\", \"@ishabad\", \"And\", \"used\", \"us\", \"It\\u2019s\", \"@its101191514\", \"@TinamarieLobue\", \"Obama\", \"He\", \"The\", \"You\", \"one.\", \"need\", \"talk\", \"ballot\", \"back\", \"same.\", \"easy\", \"fill\", \"carefully.\", \"Day.\", \"Mail\", \"request\", \"early,\", \"send\", \"vote-by-mail\", \"family\", \"By\", \"mail\", \"I\", \"talk\", \"followers\", \"@TinamarieLobue\", \"I\\u2019m\", \"Obama\", \"know\", \"President\", \"seen\", \"@ishabad\", \"He\", \"8\", \"And\", \"used\", \"us\", \"It\\u2019s\", \"The\", \"You\", \"one.\", \"need\", \"one\", \"@its101191514\", \"@realDonaldTrump\", \"&amp;\", \"@JoeBiden\", \"\", \"@BarackObama\", \"It's\", \"family\", \"Get\", \"send\", \"safe.\", \"request\", \"minutes\", \"mail\", \"https://t.co/pmWQqs4PbB\", \"https://t.co/JlOWmkJG57\", \"friends\", \"fill\", \"easy\", \"early,\", \"carefully.\", \"ballot,\", \"ballot\", \"back\", \"Voting\", \"Vote\", \"Request\", \"National\", \"Mail\", \"Day.\", \"same.\", \"vote-by-mail\", \"started:\", \"@ishabad\", \"@its101191514\", \"@BarackObama\", \"followers\", \"@TinamarieLobue\", \"I\\u2019m\", \"Obama\", \"know\", \"President\", \"seen\", \"He\", \"8\", \"And\", \"used\", \"It\\u2019s\", \"us\", \"The\", \"You\", \"one.\", \"need\", \"talk\", \"one\", \"@realDonaldTrump\", \"Request\", \"&amp;\", \"Vote\", \"Day.\", \"minutes\", \"same.\", \"family\", \"easy\", \"vote-by-mail\", \"friends\", \"By\", \"started:\", \"early,\", \"Mail\", \"back\", \"It's\", \"Get\", \"ballot\", \"request\", \"https://t.co/pmWQqs4PbB\", \"send\", \"safe.\", \"Voting\", \"National\", \"ballot,\", \"https://t.co/JlOWmkJG57\", \"carefully.\", \"fill\", \"us\", \"It\\u2019s\", \"The\", \"one.\", \"talk\", \"followers\", \"@TinamarieLobue\", \"I\\u2019m\", \"Obama\", \"know\", \"President\", \"seen\", \"@ishabad\", \"He\", \"8\", \"And\", \"used\", \"You\", \"need\", \"one\", \"@its101191514\", \"@realDonaldTrump\", \"&amp;\", \"@JoeBiden\", \"\", \"family\", \"mail\", \"send\", \"safe.\", \"Day.\", \"early,\", \"Request\", \"ballot\", \"back\", \"carefully.\", \"https://t.co/JlOWmkJG57\", \"Mail\", \"Get\", \"Vote\", \"started:\", \"It's\", \"National\", \"minutes\", \"same.\", \"Voting\", \"friends\", \"ballot,\", \"easy\", \"By\", \"vote-by-mail\", \"\", \"@BarackObama\", \"followers\", \"@TinamarieLobue\", \"I\\u2019m\", \"Obama\", \"know\", \"President\", \"seen\", \"@ishabad\", \"He\", \"8\", \"And\", \"used\", \"It\\u2019s\", \"us\", \"The\", \"You\", \"one.\", \"need\", \"talk\", \"one\", \"@its101191514\", \"@realDonaldTrump\", \"&amp;\", \"@JoeBiden\", \"I\", \"It's\", \"family\", \"Get\", \"send\", \"safe.\", \"request\", \"minutes\", \"mail\", \"https://t.co/pmWQqs4PbB\", \"https://t.co/JlOWmkJG57\", \"friends\", \"fill\", \"easy\", \"early,\", \"carefully.\", \"ballot,\", \"ballot\", \"back\", \"Voting\", \"Vote\", \"Request\", \"National\", \"Mail\", \"Day.\", \"same.\", \"vote-by-mail\", \"started:\", \"Obama\", \"President\", \"know\", \"@BarackObama\", \"followers\", \"@TinamarieLobue\", \"I\\u2019m\", \"seen\", \"@ishabad\", \"He\", \"8\", \"And\", \"used\", \"It\\u2019s\", \"us\", \"The\", \"You\", \"one.\", \"need\", \"talk\", \"one\", \"@its101191514\", \"@realDonaldTrump\", \"&amp;\", \"@JoeBiden\", \"\", \"I\", \"It's\", \"family\", \"Get\", \"carefully.\", \"request\", \"minutes\", \"mail\", \"https://t.co/pmWQqs4PbB\", \"https://t.co/JlOWmkJG57\", \"friends\", \"fill\", \"easy\", \"early,\", \"ballot\", \"ballot,\", \"same.\", \"back\", \"Voting\", \"Vote\", \"Request\", \"National\", \"Mail\", \"Day.\", \"safe.\", \"vote-by-mail\", \"@TinamarieLobue\", \"seen\", \"@ishabad\", \"@its101191514\", \"By\", \"It's\", \"minutes\", \"started:\", \"safe.\", \"carefully.\", \"ballot,\", \"Mail\", \"vote-by-mail\", \"https://t.co/pmWQqs4PbB\", \"Voting\", \"friends\", \"Vote\", \"request\", \"send\", \"Day.\", \"ballot\", \"easy\", \"family\", \"National\", \"fill\", \"same.\", \"early,\", \"Request\", \"Get\", \"back\", \"mail\", \"https://t.co/JlOWmkJG57\", \"@BarackObama\", \"He\", \"one\", \"@realDonaldTrump\", \"@BarackObama\", \"https://t.co/JlOWmkJG57\", \"ballot,\", \"Vote\", \"early,\", \"friends\", \"https://t.co/pmWQqs4PbB\", \"back\", \"Get\", \"National\", \"Request\", \"family\", \"Mail\", \"easy\", \"request\", \"started:\", \"send\", \"Voting\", \"ballot\", \"same.\", \"mail\", \"vote-by-mail\", \"carefully.\", \"safe.\", \"minutes\", \"Day.\", \"fill\", \"It's\", \"By\", \"Obama\", \"@realDonaldTrump\", \"Get\", \"vote-by-mail\", \"back\", \"family\", \"easy\", \"Request\", \"same.\", \"Mail\", \"fill\", \"ballot\", \"send\", \"https://t.co/JlOWmkJG57\", \"Day.\", \"Vote\", \"request\", \"carefully.\", \"ballot,\", \"safe.\", \"friends\", \"mail\", \"minutes\", \"By\", \"Voting\", \"National\", \"It's\", \"https://t.co/pmWQqs4PbB\", \"early,\", \"started:\", \"followers\", \"@TinamarieLobue\", \"I\\u2019m\", \"Obama\", \"know\", \"President\", \"seen\", \"@ishabad\", \"He\", \"8\", \"And\", \"used\", \"It\\u2019s\", \"us\", \"The\", \"You\", \"one.\", \"need\", \"talk\", \"one\", \"@its101191514\", \"@realDonaldTrump\", \"&amp;\", \"@JoeBiden\", \"\", \"I\", \"@BarackObama\", \"It's\", \"family\", \"Get\", \"early,\", \"same.\", \"safe.\", \"request\", \"minutes\", \"mail\", \"https://t.co/pmWQqs4PbB\", \"https://t.co/JlOWmkJG57\", \"friends\", \"fill\", \"easy\", \"carefully.\", \"started:\", \"ballot,\", \"ballot\", \"back\", \"Voting\", \"Vote\", \"Request\", \"National\", \"Mail\", \"Day.\", \"send\", \"vote-by-mail\", \"followers\", \"@TinamarieLobue\", \"I\\u2019m\", \"Obama\", \"know\", \"President\", \"seen\", \"@ishabad\", \"He\", \"8\", \"And\", \"used\", \"us\", \"It\\u2019s\", \"The\", \"You\", \"one.\", \"need\", \"talk\", \"one\", \"It's\", \"family\", \"Get\", \"Request\", \"minutes\", \"Vote\", \"By\", \"Day.\", \"easy\", \"vote-by-mail\", \"early,\", \"back\", \"Mail\", \"send\", \"ballot,\", \"safe.\", \"started:\", \"friends\", \"ballot\", \"Voting\", \"National\", \"same.\", \"carefully.\", \"https://t.co/pmWQqs4PbB\", \"request\", \"https://t.co/JlOWmkJG57\", \"fill\", \"mail\", \"@BarackObama\", \"I\", \"used\", \"need\", \"@its101191514\", \"@realDonaldTrump\", \"@JoeBiden\", \"followers\", \"@TinamarieLobue\", \"I\\u2019m\", \"Obama\", \"know\", \"President\", \"seen\", \"@ishabad\", \"He\", \"8\", \"And\", \"us\", \"It\\u2019s\", \"The\", \"You\", \"one.\", \"talk\", \"one\", \"It's\", \"family\", \"Get\", \"Request\", \"minutes\", \"early,\", \"Vote\", \"By\", \"Day.\", \"easy\", \"vote-by-mail\", \"back\", \"Mail\", \"send\", \"ballot,\", \"safe.\", \"started:\", \"friends\", \"ballot\", \"Voting\", \"same.\", \"National\", \"carefully.\", \"https://t.co/pmWQqs4PbB\", \"https://t.co/JlOWmkJG57\", \"fill\", \"followers\", \"@TinamarieLobue\", \"I\\u2019m\", \"Obama\", \"know\", \"President\", \"seen\", \"@ishabad\", \"He\", \"8\", \"And\", \"used\", \"us\", \"It\\u2019s\", \"The\", \"You\", \"one.\", \"need\", \"talk\", \"one\", \"@its101191514\", \"@realDonaldTrump\", \"&amp;\", \"@JoeBiden\", \"back\", \"https://t.co/JlOWmkJG57\", \"family\", \"Vote\", \"easy\", \"Get\", \"friends\", \"National\", \"Request\", \"ballot\", \"minutes\", \"mail\", \"By\", \"It's\", \"started:\", \"Mail\", \"send\", \"https://t.co/pmWQqs4PbB\", \"carefully.\", \"fill\", \"Voting\", \"vote-by-mail\", \"same.\", \"request\", \"Day.\", \"safe.\", \"ballot,\", \"early,\", \"followers\", \"It\\u2019s\", \"us\", \"The\", \"one.\", \"talk\", \"@JoeBiden\", \"early,\", \"Day.\", \"It's\", \"safe.\", \"https://t.co/JlOWmkJG57\", \"https://t.co/pmWQqs4PbB\", \"Get\", \"family\", \"Vote\", \"Request\", \"mail\", \"started:\", \"Mail\", \"ballot,\", \"National\", \"Voting\", \"send\", \"back\", \"minutes\", \"vote-by-mail\", \"request\", \"By\", \"friends\", \"easy\", \"fill\", \"same.\", \"ballot\", \"carefully.\", \"@BarackObama\", \"followers\", \"I\\u2019m\", \"He\", \"And\", \"You\", \"@realDonaldTrump\", \"@JoeBiden\", \"\", \"@BarackObama\", \"I\", \"@TinamarieLobue\", \"Get\", \"Request\", \"ballot,\", \"send\", \"mail\", \"Vote\", \"It's\", \"Day.\", \"family\", \"started:\", \"same.\", \"back\", \"Mail\", \"https://t.co/JlOWmkJG57\", \"https://t.co/pmWQqs4PbB\", \"early,\", \"easy\", \"Obama\", \"carefully.\", \"ballot\", \"friends\", \"vote-by-mail\", \"safe.\", \"minutes\", \"National\", \"Voting\", \"By\", \"request\", \"It's\", \"minutes\", \"By\", \"Request\", \"family\", \"easy\", \"ballot\", \"Voting\", \"Day.\", \"Get\", \"started:\", \"send\", \"friends\", \"carefully.\", \"back\", \"same.\", \"vote-by-mail\", \"Vote\", \"National\", \"safe.\", \"Mail\", \"mail\", \"fill\", \"request\", \"ballot,\", \"https://t.co/pmWQqs4PbB\", \"https://t.co/JlOWmkJG57\", \"early,\", \"followers\", \"@TinamarieLobue\", \"President\", \"8\"], \"Freq\": [98.0, 49.0, 49.0, 49.0, 49.0, 49.0, 49.0, 49.0, 49.0, 49.0, 49.0, 49.0, 49.0, 49.0, 49.0, 49.0, 49.0, 49.0, 49.0, 49.0, 49.0, 49.0, 49.0, 49.0, 49.0, 49.0, 49.0, 50.0, 37.0, 18.0, 97.48668670654297, 48.80995559692383, 48.75741195678711, 48.762184143066406, 48.70441818237305, 48.69001770019531, 48.736541748046875, 48.684356689453125, 48.725807189941406, 48.655845642089844, 48.75302505493164, 48.6285514831543, 48.6345329284668, 48.68614196777344, 48.6759147644043, 48.659912109375, 48.658226013183594, 48.597373962402344, 48.577537536621094, 48.705997467041016, 48.67654037475586, 48.630680084228516, 48.634117126464844, 48.59581756591797, 48.64066696166992, 48.612220764160156, 48.57216262817383, 48.72388458251953, 0.13495883345603943, 0.13495872914791107, 2.94126558303833, 2.9412662982940674, 2.822500705718994, 1.9163472652435303, 4.493717670440674, 1.924643874168396, 6.168501853942871, 1.0267812013626099, 8.654828071594238, 0.4533790946006775, 0.010166221298277378, 0.010166221298277378, 0.010166221298277378, 0.010166221298277378, 0.010166221298277378, 0.010166221298277378, 0.010166221298277378, 0.010166221298277378, 0.010166221298277378, 0.010166221298277378, 0.010166221298277378, 0.010166221298277378, 0.010166221298277378, 0.010166221298277378, 0.010166221298277378, 0.010166221298277378, 0.010166221298277378, 0.010166221298277378, 0.010166221298277378, 0.010166221298277378, 0.010166221298277378, 0.010166221298277378, 0.010166221298277378, 0.010166221298277378, 0.010166221298277378, 0.010166221298277378, 0.010166221298277378, 0.010166221298277378, 0.010166221298277378, 0.010166221298277378, 0.010166221298277378, 0.010166221298277378, 0.010166221298277378, 0.010166221298277378, 0.010166221298277378, 0.010166221298277378, 0.010166221298277378, 5.591024875640869, 5.722380638122559, 2.807173252105713, 2.8071789741516113, 1.02120840549469, 1.0212085247039795, 1.3323777914047241, 7.475918769836426, 1.0751503705978394, 0.010111034847795963, 0.010111034847795963, 0.010111034847795963, 0.010111034847795963, 0.010111034847795963, 0.010111034847795963, 0.010111034847795963, 0.010111034847795963, 0.010111034847795963, 0.010111034847795963, 0.010111034847795963, 0.010111034847795963, 0.010111034847795963, 0.010111034847795963, 0.010111034847795963, 0.010111034847795963, 0.010111034847795963, 0.010111034847795963, 0.010111034847795963, 0.010111034847795963, 0.010111034847795963, 0.010111034847795963, 0.010111034847795963, 0.010111034847795963, 0.010111034847795963, 0.010111034847795963, 0.010111034847795963, 0.010111034847795963, 0.010111034847795963, 0.010111034847795963, 0.010111034847795963, 0.010111034847795963, 0.010111034847795963, 0.010111034847795963, 0.010111034847795963, 0.010111034847795963, 0.010111034847795963, 0.010111034847795963, 2.2079532146453857, 0.8522017002105713, 0.852197527885437, 0.8522011637687683, 4.080066680908203, 3.383509397506714, 0.7944414615631104, 1.388516902923584, 0.9687047004699707, 0.008437699638307095, 0.008437699638307095, 0.008437699638307095, 0.008437699638307095, 0.008437699638307095, 0.008437699638307095, 0.008437699638307095, 0.008437699638307095, 0.008437699638307095, 0.008437699638307095, 0.008437699638307095, 0.008437699638307095, 0.008437699638307095, 0.008437699638307095, 0.008437699638307095, 0.12377779185771942, 0.12357387691736221, 0.008437699638307095, 0.12309079617261887, 0.1223195269703865, 0.1219768226146698, 0.12217630445957184, 0.12115755677223206, 0.12087137997150421, 0.1207989901304245, 0.23317588865756989, 0.12054496258497238, 0.1198631227016449, 0.11935559660196304, 0.11937788873910904, 0.11900804936885834, 0.118712417781353, 0.1185104176402092, 0.11641285568475723, 0.11601383984088898, 0.1150100901722908, 0.11499085277318954, 3.2397990226745605, 2.177610158920288, 1.5754530429840088, 0.8404912948608398, 0.8404865264892578, 0.8404914736747742, 3.7258639335632324, 2.1203267574310303, 0.14622217416763306, 0.2999570071697235, 0.10553330928087234, 0.10553330928087234, 0.10553348064422607, 0.1055331826210022, 0.10553302615880966, 0.10553288459777832, 0.00832175463438034, 0.00832175463438034, 0.00832175463438034, 0.00832175463438034, 0.00832175463438034, 0.00832175463438034, 0.00832175463438034, 0.00832175463438034, 0.0833388939499855, 0.07891416549682617, 0.07836796343326569, 0.07772092521190643, 0.07710600644350052, 0.07525654882192612, 0.07420617341995239, 0.07158011943101883, 0.07156838476657867, 0.12138628959655762, 0.07051461935043335, 0.07042508572340012, 0.06785961240530014, 0.06750572472810745, 0.06759456545114517, 11.53287124633789, 1.1069597005844116, 0.01096002571284771, 0.01096002571284771, 0.01096002571284771, 0.01096002571284771, 0.01096002571284771, 0.01096002571284771, 0.01096002571284771, 0.01096002571284771, 0.01096002571284771, 0.01096002571284771, 0.01096002571284771, 0.01096002571284771, 0.01096002571284771, 0.01096002571284771, 0.01096002571284771, 0.01096002571284771, 0.01096002571284771, 0.01096002571284771, 0.01096002571284771, 0.01096002571284771, 0.01096002571284771, 0.01096002571284771, 0.01096002571284771, 0.01096002571284771, 0.01096002571284771, 0.01096002571284771, 0.01096002571284771, 0.01096002571284771, 0.01096002571284771, 0.01096002571284771, 0.01096002571284771, 0.01096002571284771, 0.01096002571284771, 0.01096002571284771, 0.01096002571284771, 0.01096002571284771, 0.01096002571284771, 0.01096002571284771, 0.01096002571284771, 0.01096002571284771, 0.01096002571284771, 0.01096002571284771, 0.01096002571284771, 0.01096002571284771, 0.01096002571284771, 0.01096002571284771, 0.01096002571284771, 0.01096002571284771, 0.01096002571284771, 0.01096002571284771, 0.01096002571284771, 0.01096002571284771, 2.651285171508789, 4.033301830291748, 4.1448564529418945, 0.009549502283334732, 0.009549502283334732, 0.009549502283334732, 0.009549502283334732, 0.009549502283334732, 0.009549502283334732, 0.009549502283334732, 0.009549502283334732, 0.009549502283334732, 0.009549502283334732, 0.009549502283334732, 0.009549502283334732, 0.009549502283334732, 0.009549502283334732, 0.009549502283334732, 0.009549502283334732, 0.009549502283334732, 0.009549502283334732, 0.009549502283334732, 0.009549502283334732, 0.07745761424303055, 0.009549502283334732, 0.07661255449056625, 0.07642537355422974, 0.07613839209079742, 0.07608921080827713, 0.0758596733212471, 0.07544028759002686, 0.07450684905052185, 0.07419838011264801, 0.07327646017074585, 0.07286716997623444, 0.11988308280706406, 0.0708092674612999, 0.07078152149915695, 0.07056436687707901, 0.07045640796422958, 0.06892149895429611, 0.06506915390491486, 0.06345132738351822, 0.06334743648767471, 0.06278124451637268, 0.062197454273700714, 0.061618395149707794, 0.05988079681992531, 0.05912540853023529, 0.057269129902124405, 0.0537482425570488, 2.8338329792022705, 2.8338332176208496, 1.9323683977127075, 1.9323686361312866, 1.9323686361312866, 0.010207004845142365, 0.010207004845142365, 0.010207004845142365, 0.010207004845142365, 0.010207004845142365, 0.010207004845142365, 0.010207004845142365, 0.010207004845142365, 0.010207004845142365, 0.010207004845142365, 0.010207004845142365, 0.010207004845142365, 0.010207004845142365, 0.010207004845142365, 0.010207004845142365, 0.010207004845142365, 0.010207004845142365, 0.010207004845142365, 0.010207004845142365, 0.010207004845142365, 0.031708043068647385, 0.030396882444620132, 0.029683325439691544, 0.028543978929519653, 0.028118811547756195, 0.05393582582473755, 0.02805432863533497, 0.02772247977554798, 0.02729594148695469, 0.026933914050459862, 0.02691604569554329, 0.026696303859353065, 0.02660215087234974, 0.026540933176875114, 0.02630939893424511, 0.026266317814588547, 0.025937791913747787, 0.025540683418512344, 0.024695994332432747, 0.02440403401851654, 0.024336127564311028, 0.024258030578494072, 0.02246811054646969, 0.0213538259267807, 0.021348964422941208, 3.197500228881836, 7.480952739715576, 0.011785004287958145, 0.011785004287958145, 0.011785004287958145, 0.011785004287958145, 0.011785004287958145, 0.011785004287958145, 0.011785004287958145, 0.011785004287958145, 0.011785004287958145, 0.011785004287958145, 0.011785004287958145, 0.011785004287958145, 0.011785004287958145, 0.011785004287958145, 0.011785004287958145, 0.011785004287958145, 0.011785004287958145, 0.011785004287958145, 0.011785004287958145, 0.011785004287958145, 0.011785004287958145, 0.011785004287958145, 0.011785004287958145, 0.011785004287958145, 0.011785004287958145, 0.011785004287958145, 0.011785004287958145, 0.011785004287958145, 0.011785004287958145, 0.011785004287958145, 0.011785004287958145, 0.011785004287958145, 0.011785004287958145, 0.011785004287958145, 0.011785004287958145, 0.011785004287958145, 0.011785004287958145, 0.011785004287958145, 0.011785004287958145, 0.011785004287958145, 0.011785004287958145, 0.011785004287958145, 0.011785004287958145, 0.011785004287958145, 0.011785004287958145, 0.011785004287958145, 0.011785004287958145, 0.011785004287958145, 0.011785004287958145, 0.011785004287958145, 0.011785004287958145, 0.011785004287958145, 1.6444549560546875, 1.6019850969314575, 0.8773052096366882, 6.308193206787109, 0.008686218410730362, 0.008686218410730362, 0.008686218410730362, 0.008686218410730362, 0.008686218410730362, 0.008686218410730362, 0.008686218410730362, 0.008686218410730362, 0.008686218410730362, 0.008686218410730362, 0.008686218410730362, 0.008686218410730362, 0.008686218410730362, 0.008686218410730362, 0.008686218410730362, 0.008686218410730362, 0.008686218410730362, 0.008686218410730362, 0.008686218410730362, 0.008686218410730362, 0.008686218410730362, 0.008686218410730362, 0.008686218410730362, 0.008686218410730362, 0.008686218410730362, 0.008686218410730362, 0.008686218410730362, 0.008686218410730362, 0.008686218410730362, 0.008686218410730362, 0.008686218410730362, 0.008686218410730362, 0.008686218410730362, 0.008686218410730362, 0.008686218410730362, 0.008686218410730362, 0.008686218410730362, 0.008686218410730362, 0.008686218410730362, 0.008686218410730362, 0.008686218410730362, 0.008686218410730362, 0.008686218410730362, 0.008686218410730362, 0.008686218410730362, 0.008686218410730362, 0.008686218410730362, 0.008686218410730362, 0.020803365856409073, 0.006964107509702444, 0.006543146912008524, 0.006543167866766453, 0.0340874157845974, 0.03302549198269844, 0.032858993858098984, 0.032318346202373505, 0.031802963465452194, 0.03120381385087967, 0.03097417578101158, 0.030834699049592018, 0.030719030648469925, 0.030667107552289963, 0.03062690980732441, 0.030255094170570374, 0.03018917515873909, 0.03023599274456501, 0.030174771323800087, 0.030161244794726372, 0.02991313859820366, 0.029820702970027924, 0.02974657528102398, 0.029715023934841156, 0.029703248292207718, 0.02925204299390316, 0.05758432671427727, 0.02861042134463787, 0.027869338169693947, 0.027783459052443504, 0.027814636006951332, 0.026736799627542496, 0.0189039409160614, 0.014597369357943535, 0.014597411267459393, 0.014597451314330101, 0.028043797239661217, 0.03319385647773743, 0.032349541783332825, 0.0319940485060215, 0.06249150261282921, 0.030993852764368057, 0.030939115211367607, 0.03050187975168228, 0.030352793633937836, 0.030313177034258842, 0.030203547328710556, 0.030150558799505234, 0.02946551702916622, 0.029365720227360725, 0.02922992594540119, 0.028789088129997253, 0.028593074530363083, 0.028490768745541573, 0.028222380205988884, 0.02804509364068508, 0.02837396413087845, 0.027754386886954308, 0.02775653265416622, 0.02748449705541134, 0.02726920321583748, 0.02703244239091873, 0.026974355801939964, 0.02577357180416584, 0.025378506630659103, 0.009542986750602722, 0.00954296812415123, 0.03652918338775635, 0.035437192767858505, 0.03484852984547615, 0.03361157700419426, 0.033643562346696854, 0.03325210139155388, 0.03266628459095955, 0.032454341650009155, 0.03253069892525673, 0.03218814358115196, 0.03213266655802727, 0.03161675110459328, 0.03151031211018562, 0.031458646059036255, 0.03149516507983208, 0.03136428818106651, 0.03114594891667366, 0.030951442196965218, 0.03078102506697178, 0.030721843242645264, 0.029778076335787773, 0.02969704382121563, 0.029706239700317383, 0.029683154076337814, 0.028914107009768486, 0.028119195252656937, 0.05509411171078682, 0.026563461869955063, 0.017196251079440117, 0.017196251079440117, 0.017196251079440117, 0.017196251079440117, 0.017196251079440117, 0.017196251079440117, 0.017196251079440117, 0.017196251079440117, 0.017196251079440117, 0.017196251079440117, 0.017196251079440117, 0.017196251079440117, 0.017196251079440117, 0.017196251079440117, 0.017196251079440117, 0.017196251079440117, 0.017196251079440117, 0.017196251079440117, 0.017196251079440117, 0.017196251079440117, 0.017196251079440117, 0.017196251079440117, 0.017196251079440117, 0.017196251079440117, 0.017196251079440117, 0.017196251079440117, 0.017196251079440117, 0.017196251079440117, 0.017196251079440117, 0.017196251079440117, 0.017196251079440117, 0.017196251079440117, 0.017196251079440117, 0.017196251079440117, 0.017196251079440117, 0.017196251079440117, 0.017196251079440117, 0.017196251079440117, 0.017196251079440117, 0.017196251079440117, 0.017196251079440117, 0.017196251079440117, 0.017196251079440117, 0.017196251079440117, 0.017196251079440117, 0.017196251079440117, 0.017196251079440117, 0.017196251079440117, 0.017196251079440117, 0.017196251079440117, 0.017196251079440117, 0.017196251079440117, 0.017196251079440117, 0.017196251079440117, 0.0024019135162234306, 0.0024019135162234306, 0.0024019135162234306, 0.0024019135162234306, 0.0024019135162234306, 0.0024019135162234306, 0.0024019135162234306, 0.0024019135162234306, 0.0024019135162234306, 0.0024019135162234306, 0.0024019135162234306, 0.0024019135162234306, 0.0024019135162234306, 0.0024019135162234306, 0.0024019135162234306, 0.0024019135162234306, 0.0024019135162234306, 0.0024019135162234306, 0.0024019135162234306, 0.0024019135162234306, 0.030460089445114136, 0.030460121110081673, 0.03046010062098503, 0.03046012856066227, 0.030460180714726448, 0.030460096895694733, 0.030460145324468613, 0.030460191890597343, 0.030460167676210403, 0.030459946021437645, 0.058518316596746445, 0.030460171401500702, 0.03046019934117794, 0.03046015277504921, 0.030460156500339508, 0.030460113659501076, 0.03046015277504921, 0.03046017698943615, 0.030460195615887642, 0.030460141599178314, 0.030460195615887642, 0.030460096895694733, 0.03046015277504921, 0.030460113659501076, 0.030460139736533165, 0.030460216104984283, 0.030460121110081673, 0.03046010434627533, 0.2406259924173355, 0.11892593652009964, 0.016514675691723824, 0.01651465892791748, 0.01651466079056263, 0.016514575108885765, 0.01651465892791748, 0.0013022536877542734, 0.0013022536877542734, 0.0013022536877542734, 0.0013022536877542734, 0.0013022536877542734, 0.0013022536877542734, 0.0013022536877542734, 0.0013022536877542734, 0.0013022536877542734, 0.0013022536877542734, 0.0013022536877542734, 0.0013022536877542734, 0.0013022536877542734, 0.0013022536877542734, 0.0013022536877542734, 0.0013022536877542734, 0.0013022536877542734, 0.0013022536877542734, 0.016514604911208153, 0.016514670103788376, 0.016514698043465614, 0.016514716669917107, 0.016514679417014122, 0.03172711282968521, 0.016514668241143227, 0.016514671966433525, 0.016514675691723824, 0.016514679417014122, 0.016514688730239868, 0.016514690592885017, 0.016514668241143227, 0.016514625400304794, 0.01651470549404621, 0.01651466079056263, 0.016514690592885017, 0.016514668241143227, 0.01651471108198166, 0.016514668241143227, 0.01651470735669136, 0.016514640301465988, 0.016514664515852928, 0.016514701768755913, 0.016514698043465614, 0.01651468127965927, 0.005975864827632904, 0.005975864827632904, 0.005975864827632904, 0.005975864827632904, 0.005975864827632904, 0.005975864827632904, 0.005975864827632904, 0.005975864827632904, 0.005975864827632904, 0.005975864827632904, 0.005975864827632904, 0.005975864827632904, 0.005975864827632904, 0.005975864827632904, 0.005975864827632904, 0.005975864827632904, 0.005975864827632904, 0.005975864827632904, 0.005975864827632904, 0.005975864827632904, 0.005975864827632904, 0.005975864827632904, 0.005975864827632904, 0.005975864827632904, 0.035343561321496964, 0.03504277020692825, 0.03248772770166397, 0.0318463034927845, 0.03183100000023842, 0.031496573239564896, 0.03033222071826458, 0.02975897304713726, 0.029440999031066895, 0.02885441668331623, 0.028810294345021248, 0.028923295438289642, 0.02860947512090206, 0.02835676446557045, 0.02766869030892849, 0.026095906272530556, 0.025723055005073547, 0.025569627061486244, 0.025145357474684715, 0.025073574855923653, 0.024419162422418594, 0.02437305822968483, 0.02409765124320984, 0.023983491584658623, 0.023920470848679543, 0.023899780586361885, 0.02325195074081421, 0.03008919022977352, 0.008036339655518532, 0.008036336861550808, 0.008036336861550808, 0.008036303333938122, 0.008036339655518532, 0.00803632102906704, 0.008036320097744465, 0.06648316234350204, 0.03138045594096184, 0.03090018220245838, 0.030946379527449608, 0.030973879620432854, 0.03096161037683487, 0.030767520889639854, 0.03061077930033207, 0.030540354549884796, 0.030441056936979294, 0.031000087037682533, 0.030299611389636993, 0.030272087082266808, 0.03002009727060795, 0.029922030866146088, 0.029318705201148987, 0.029298515990376472, 0.029177945107221603, 0.02872283011674881, 0.028730900958180428, 0.02856488525867462, 0.028427742421627045, 0.02828715369105339, 0.02769959345459938, 0.027541030198335648, 0.027515636757016182, 0.027156636118888855, 0.02609919011592865, 0.015438960865139961, 0.036186423152685165, 0.016024291515350342, 0.016024252399802208, 0.016024278476834297, 0.016024284064769745, 0.017678145319223404, 0.0160242710262537, 0.032025594264268875, 0.04640822857618332, 0.016024284064769745, 0.0012635821476578712, 0.025665761902928352, 0.025229165330529213, 0.025207290425896645, 0.025132136419415474, 0.02554977498948574, 0.025071362033486366, 0.024945881217718124, 0.024677501991391182, 0.02448607236146927, 0.024525480344891548, 0.02438020333647728, 0.02434292808175087, 0.02430211938917637, 0.024104993790388107, 0.02391749992966652, 0.04766417667269707, 0.023793606087565422, 0.0012635821476578712, 0.02379632368683815, 0.02363591641187668, 0.0235938411206007, 0.023490481078624725, 0.02336818166077137, 0.023231539875268936, 0.023211322724819183, 0.023138785734772682, 0.022450048476457596, 0.02198038622736931, 0.034930068999528885, 0.034513380378484726, 0.03421797603368759, 0.03367326781153679, 0.0334584042429924, 0.033462412655353546, 0.033470287919044495, 0.03314691036939621, 0.03299664333462715, 0.032776109874248505, 0.03277566656470299, 0.03266606107354164, 0.03256833925843239, 0.03258339315652847, 0.032498255372047424, 0.03253000229597092, 0.03224913030862808, 0.03214414045214653, 0.031907279044389725, 0.03159405291080475, 0.03147755190730095, 0.03192966803908348, 0.031354501843452454, 0.030944447964429855, 0.030851097777485847, 0.030045179650187492, 0.029937973245978355, 0.05900320038199425, 0.00037364044692367315, 0.00037364044692367315, 0.00037364044692367315, 0.00037364044692367315], \"Total\": [98.0, 49.0, 49.0, 49.0, 49.0, 49.0, 49.0, 49.0, 49.0, 49.0, 49.0, 49.0, 49.0, 49.0, 49.0, 49.0, 49.0, 49.0, 49.0, 49.0, 49.0, 49.0, 49.0, 49.0, 49.0, 49.0, 49.0, 50.0, 37.0, 18.0, 98.5526351928711, 49.37946319580078, 49.34415817260742, 49.34976577758789, 49.291786193847656, 49.27768325805664, 49.324825286865234, 49.2725944519043, 49.3159294128418, 49.2519416809082, 49.35139083862305, 49.226158142089844, 49.234771728515625, 49.28853225708008, 49.27847671508789, 49.263851165771484, 49.26310348510742, 49.204742431640625, 49.18543243408203, 49.3159294128418, 49.289451599121094, 49.245994567871094, 49.25124740600586, 49.216522216796875, 49.262691497802734, 49.233917236328125, 49.19673156738281, 50.16301727294922, 3.0013976097106934, 14.766230583190918, 3.076293468475342, 3.0767459869384766, 2.970974922180176, 2.875227451324463, 6.7596306800842285, 3.0013976097106934, 14.766230583190918, 3.0766124725341797, 37.981529235839844, 4.71584939956665, 2.3420472145080566, 2.350236415863037, 2.556089401245117, 2.6187522411346436, 2.67498517036438, 2.872730016708374, 2.8754076957702637, 3.0394678115844727, 3.0399255752563477, 3.05867338180542, 3.05867338180542, 3.0710949897766113, 3.1559972763061523, 3.375356912612915, 5.76521110534668, 6.134337902069092, 18.877342224121094, 49.18543243408203, 49.19673156738281, 49.204742431640625, 98.5526351928711, 50.16301727294922, 49.34415817260742, 49.35139083862305, 49.245994567871094, 49.28853225708008, 49.37946319580078, 49.25124740600586, 49.2725944519043, 49.324825286865234, 49.26310348510742, 49.34976577758789, 49.289451599121094, 49.262691497802734, 49.291786193847656, 49.233917236328125, 49.216522216796875, 5.76521110534668, 6.134337902069092, 3.0394678115844727, 3.0399255752563477, 2.872730016708374, 3.0710949897766113, 6.7596306800842285, 37.981529235839844, 14.766230583190918, 2.3420472145080566, 2.350236415863037, 2.556089401245117, 2.6187522411346436, 2.67498517036438, 2.875227451324463, 2.8754076957702637, 2.970974922180176, 3.0013976097106934, 3.05867338180542, 3.05867338180542, 3.076293468475342, 3.0766124725341797, 3.0767459869384766, 3.1559972763061523, 3.375356912612915, 4.71584939956665, 18.877342224121094, 49.18543243408203, 49.19673156738281, 49.204742431640625, 49.28853225708008, 49.37946319580078, 49.324825286865234, 49.25124740600586, 98.5526351928711, 49.35139083862305, 49.34415817260742, 50.16301727294922, 49.2725944519043, 49.34976577758789, 49.289451599121094, 49.262691497802734, 49.291786193847656, 49.233917236328125, 49.216522216796875, 49.3159294128418, 49.26310348510742, 2.350236415863037, 2.556089401245117, 2.6187522411346436, 2.67498517036438, 14.766230583190918, 18.877342224121094, 6.7596306800842285, 37.981529235839844, 50.16301727294922, 2.3420472145080566, 2.872730016708374, 2.875227451324463, 2.8754076957702637, 2.970974922180176, 3.0013976097106934, 3.0394678115844727, 3.0399255752563477, 3.05867338180542, 3.05867338180542, 3.0710949897766113, 3.076293468475342, 3.0766124725341797, 3.0767459869384766, 3.1559972763061523, 49.216522216796875, 49.18543243408203, 3.375356912612915, 49.2725944519043, 49.34415817260742, 49.233917236328125, 49.3159294128418, 49.28853225708008, 49.27847671508789, 49.263851165771484, 98.5526351928711, 49.27768325805664, 49.291786193847656, 49.234771728515625, 49.34976577758789, 49.245994567871094, 49.19673156738281, 49.35139083862305, 49.3159294128418, 49.25124740600586, 49.26310348510742, 49.324825286865234, 3.375356912612915, 2.3420472145080566, 2.556089401245117, 2.67498517036438, 2.875227451324463, 3.0013976097106934, 18.877342224121094, 37.981529235839844, 2.872730016708374, 6.134337902069092, 2.8754076957702637, 3.0394678115844727, 3.0399255752563477, 3.05867338180542, 3.05867338180542, 4.71584939956665, 2.350236415863037, 2.6187522411346436, 2.970974922180176, 3.0710949897766113, 3.076293468475342, 3.0766124725341797, 3.0767459869384766, 3.1559972763061523, 49.289451599121094, 49.262691497802734, 49.3159294128418, 49.25124740600586, 49.37946319580078, 49.324825286865234, 49.245994567871094, 49.26310348510742, 49.34976577758789, 98.5526351928711, 49.263851165771484, 49.2519416809082, 49.19673156738281, 49.234771728515625, 50.16301727294922, 18.877342224121094, 3.1559972763061523, 2.3420472145080566, 2.350236415863037, 2.556089401245117, 2.6187522411346436, 2.67498517036438, 2.872730016708374, 2.875227451324463, 2.8754076957702637, 2.970974922180176, 3.0013976097106934, 3.0394678115844727, 3.0399255752563477, 3.05867338180542, 3.05867338180542, 3.0710949897766113, 3.076293468475342, 3.0766124725341797, 3.0767459869384766, 3.375356912612915, 4.71584939956665, 5.76521110534668, 6.134337902069092, 6.7596306800842285, 14.766230583190918, 37.981529235839844, 49.18543243408203, 49.19673156738281, 49.204742431640625, 49.263851165771484, 49.27768325805664, 49.34976577758789, 49.226158142089844, 50.16301727294922, 49.34415817260742, 49.35139083862305, 49.28853225708008, 49.37946319580078, 49.25124740600586, 98.5526351928711, 49.324825286865234, 49.2725944519043, 49.289451599121094, 49.262691497802734, 49.291786193847656, 49.233917236328125, 49.216522216796875, 49.3159294128418, 49.26310348510742, 49.245994567871094, 49.3159294128418, 49.2519416809082, 49.27847671508789, 2.8754076957702637, 4.71584939956665, 37.981529235839844, 2.3420472145080566, 2.350236415863037, 2.556089401245117, 2.6187522411346436, 2.67498517036438, 2.872730016708374, 2.875227451324463, 2.970974922180176, 3.0013976097106934, 3.0394678115844727, 3.0399255752563477, 3.05867338180542, 3.05867338180542, 3.0710949897766113, 3.076293468475342, 3.0766124725341797, 3.0767459869384766, 3.1559972763061523, 3.375356912612915, 5.76521110534668, 49.216522216796875, 6.134337902069092, 49.233917236328125, 49.245994567871094, 49.226158142089844, 49.3159294128418, 49.19673156738281, 49.25124740600586, 49.2519416809082, 49.28853225708008, 49.234771728515625, 49.27847671508789, 98.5526351928711, 49.26310348510742, 49.262691497802734, 49.18543243408203, 49.204742431640625, 49.289451599121094, 49.34976577758789, 49.34415817260742, 49.263851165771484, 49.27768325805664, 49.291786193847656, 49.3159294128418, 49.2725944519043, 49.35139083862305, 49.324825286865234, 49.37946319580078, 3.05867338180542, 3.05867338180542, 3.0710949897766113, 3.0766124725341797, 3.1559972763061523, 2.3420472145080566, 2.350236415863037, 2.556089401245117, 2.6187522411346436, 2.67498517036438, 2.872730016708374, 2.875227451324463, 2.8754076957702637, 2.970974922180176, 3.0013976097106934, 3.0394678115844727, 3.0399255752563477, 3.076293468475342, 3.0767459869384766, 3.375356912612915, 4.71584939956665, 5.76521110534668, 6.134337902069092, 6.7596306800842285, 14.766230583190918, 49.19673156738281, 50.16301727294922, 49.263851165771484, 49.27768325805664, 49.245994567871094, 98.5526351928711, 49.216522216796875, 49.289451599121094, 49.262691497802734, 49.324825286865234, 49.35139083862305, 49.26310348510742, 49.204742431640625, 49.233917236328125, 49.27847671508789, 49.18543243408203, 49.3159294128418, 49.226158142089844, 49.3159294128418, 49.291786193847656, 49.28853225708008, 49.2725944519043, 49.25124740600586, 49.234771728515625, 49.2519416809082, 14.766230583190918, 37.981529235839844, 2.3420472145080566, 2.350236415863037, 2.556089401245117, 2.6187522411346436, 2.67498517036438, 2.872730016708374, 2.875227451324463, 2.8754076957702637, 2.970974922180176, 3.0013976097106934, 3.0394678115844727, 3.0399255752563477, 3.05867338180542, 3.05867338180542, 3.0710949897766113, 3.076293468475342, 3.0766124725341797, 3.0767459869384766, 3.1559972763061523, 3.375356912612915, 4.71584939956665, 5.76521110534668, 6.134337902069092, 6.7596306800842285, 18.877342224121094, 49.18543243408203, 49.19673156738281, 49.204742431640625, 49.263851165771484, 49.27768325805664, 49.34976577758789, 49.226158142089844, 50.16301727294922, 49.34415817260742, 49.35139083862305, 49.28853225708008, 49.37946319580078, 49.25124740600586, 98.5526351928711, 49.324825286865234, 49.2725944519043, 49.289451599121094, 49.262691497802734, 49.291786193847656, 49.233917236328125, 49.216522216796875, 49.3159294128418, 49.26310348510742, 49.245994567871094, 49.3159294128418, 49.2519416809082, 49.27847671508789, 2.6187522411346436, 2.872730016708374, 2.67498517036438, 37.981529235839844, 2.3420472145080566, 2.350236415863037, 2.556089401245117, 2.875227451324463, 2.8754076957702637, 2.970974922180176, 3.0013976097106934, 3.0394678115844727, 3.0399255752563477, 3.05867338180542, 3.05867338180542, 3.0710949897766113, 3.076293468475342, 3.0766124725341797, 3.0767459869384766, 3.1559972763061523, 3.375356912612915, 4.71584939956665, 5.76521110534668, 6.134337902069092, 6.7596306800842285, 14.766230583190918, 18.877342224121094, 49.18543243408203, 49.19673156738281, 49.204742431640625, 49.324825286865234, 49.34976577758789, 49.226158142089844, 50.16301727294922, 49.34415817260742, 49.35139083862305, 49.28853225708008, 49.37946319580078, 49.25124740600586, 98.5526351928711, 49.289451599121094, 49.2725944519043, 49.3159294128418, 49.262691497802734, 49.291786193847656, 49.233917236328125, 49.216522216796875, 49.3159294128418, 49.26310348510742, 49.245994567871094, 49.27768325805664, 49.2519416809082, 2.350236415863037, 2.875227451324463, 2.8754076957702637, 4.71584939956665, 49.234771728515625, 49.18543243408203, 49.226158142089844, 49.27847671508789, 49.27768325805664, 49.324825286865234, 49.2725944519043, 49.26310348510742, 49.2519416809082, 49.34415817260742, 49.291786193847656, 49.28853225708008, 49.233917236328125, 49.34976577758789, 49.263851165771484, 49.245994567871094, 49.289451599121094, 49.25124740600586, 49.19673156738281, 49.3159294128418, 49.37946319580078, 49.3159294128418, 98.5526351928711, 49.216522216796875, 49.204742431640625, 49.262691497802734, 50.16301727294922, 49.35139083862305, 37.981529235839844, 2.970974922180176, 3.375356912612915, 5.76521110534668, 37.981529235839844, 49.35139083862305, 49.2725944519043, 49.233917236328125, 98.5526351928711, 49.28853225708008, 49.34415817260742, 49.262691497802734, 49.204742431640625, 49.3159294128418, 49.216522216796875, 49.19673156738281, 49.26310348510742, 49.25124740600586, 49.34976577758789, 49.27847671508789, 49.263851165771484, 49.291786193847656, 49.289451599121094, 49.3159294128418, 50.16301727294922, 49.2519416809082, 49.324825286865234, 49.27768325805664, 49.226158142089844, 49.245994567871094, 49.37946319580078, 49.18543243408203, 49.234771728515625, 2.6187522411346436, 5.76521110534668, 49.204742431640625, 49.2519416809082, 49.262691497802734, 49.19673156738281, 49.25124740600586, 49.216522216796875, 49.3159294128418, 49.26310348510742, 49.37946319580078, 49.289451599121094, 49.263851165771484, 49.35139083862305, 49.245994567871094, 49.233917236328125, 49.34976577758789, 49.324825286865234, 49.2725944519043, 49.27768325805664, 49.28853225708008, 50.16301727294922, 49.226158142089844, 49.234771728515625, 49.291786193847656, 49.3159294128418, 49.18543243408203, 49.34415817260742, 98.5526351928711, 49.27847671508789, 2.3420472145080566, 2.350236415863037, 2.556089401245117, 2.6187522411346436, 2.67498517036438, 2.872730016708374, 2.875227451324463, 2.8754076957702637, 2.970974922180176, 3.0013976097106934, 3.0394678115844727, 3.0399255752563477, 3.05867338180542, 3.05867338180542, 3.0710949897766113, 3.076293468475342, 3.0766124725341797, 3.0767459869384766, 3.1559972763061523, 3.375356912612915, 4.71584939956665, 5.76521110534668, 6.134337902069092, 6.7596306800842285, 14.766230583190918, 18.877342224121094, 37.981529235839844, 49.18543243408203, 49.19673156738281, 49.204742431640625, 98.5526351928711, 49.3159294128418, 49.27768325805664, 49.34976577758789, 49.226158142089844, 50.16301727294922, 49.34415817260742, 49.35139083862305, 49.28853225708008, 49.37946319580078, 49.25124740600586, 49.324825286865234, 49.27847671508789, 49.2725944519043, 49.289451599121094, 49.262691497802734, 49.291786193847656, 49.233917236328125, 49.216522216796875, 49.3159294128418, 49.26310348510742, 49.245994567871094, 49.263851165771484, 49.2519416809082, 2.3420472145080566, 2.350236415863037, 2.556089401245117, 2.6187522411346436, 2.67498517036438, 2.872730016708374, 2.875227451324463, 2.8754076957702637, 2.970974922180176, 3.0013976097106934, 3.0394678115844727, 3.0399255752563477, 3.05867338180542, 3.05867338180542, 3.0710949897766113, 3.076293468475342, 3.0766124725341797, 3.0767459869384766, 3.1559972763061523, 3.375356912612915, 49.18543243408203, 49.19673156738281, 49.204742431640625, 49.216522216796875, 49.226158142089844, 49.233917236328125, 49.234771728515625, 49.245994567871094, 49.25124740600586, 49.2519416809082, 98.5526351928711, 49.262691497802734, 49.26310348510742, 49.263851165771484, 49.2725944519043, 49.27768325805664, 49.27847671508789, 49.28853225708008, 49.289451599121094, 49.291786193847656, 49.3159294128418, 49.3159294128418, 49.324825286865234, 49.34415817260742, 49.34976577758789, 49.35139083862305, 49.37946319580078, 50.16301727294922, 37.981529235839844, 18.877342224121094, 3.0399255752563477, 3.0767459869384766, 4.71584939956665, 5.76521110534668, 6.7596306800842285, 2.3420472145080566, 2.350236415863037, 2.556089401245117, 2.6187522411346436, 2.67498517036438, 2.872730016708374, 2.875227451324463, 2.8754076957702637, 2.970974922180176, 3.0013976097106934, 3.0394678115844727, 3.05867338180542, 3.05867338180542, 3.0710949897766113, 3.076293468475342, 3.0766124725341797, 3.1559972763061523, 3.375356912612915, 49.18543243408203, 49.19673156738281, 49.204742431640625, 49.216522216796875, 49.226158142089844, 98.5526351928711, 49.233917236328125, 49.234771728515625, 49.245994567871094, 49.25124740600586, 49.2519416809082, 49.262691497802734, 49.26310348510742, 49.263851165771484, 49.2725944519043, 49.27768325805664, 49.27847671508789, 49.28853225708008, 49.289451599121094, 49.291786193847656, 49.3159294128418, 49.3159294128418, 49.324825286865234, 49.34415817260742, 49.35139083862305, 49.37946319580078, 2.3420472145080566, 2.350236415863037, 2.556089401245117, 2.6187522411346436, 2.67498517036438, 2.872730016708374, 2.875227451324463, 2.8754076957702637, 2.970974922180176, 3.0013976097106934, 3.0394678115844727, 3.0399255752563477, 3.05867338180542, 3.05867338180542, 3.0710949897766113, 3.076293468475342, 3.0766124725341797, 3.0767459869384766, 3.1559972763061523, 3.375356912612915, 4.71584939956665, 5.76521110534668, 6.134337902069092, 6.7596306800842285, 49.262691497802734, 49.35139083862305, 49.19673156738281, 49.233917236328125, 49.25124740600586, 49.204742431640625, 49.28853225708008, 49.3159294128418, 49.216522216796875, 49.289451599121094, 49.226158142089844, 50.16301727294922, 49.234771728515625, 49.18543243408203, 49.27847671508789, 49.26310348510742, 49.263851165771484, 49.34415817260742, 49.324825286865234, 49.37946319580078, 49.291786193847656, 49.2519416809082, 49.3159294128418, 49.34976577758789, 49.245994567871094, 49.27768325805664, 49.2725944519043, 98.5526351928711, 2.3420472145080566, 3.05867338180542, 3.05867338180542, 3.0710949897766113, 3.0766124725341797, 3.1559972763061523, 6.7596306800842285, 98.5526351928711, 49.245994567871094, 49.18543243408203, 49.27768325805664, 49.35139083862305, 49.34415817260742, 49.204742431640625, 49.19673156738281, 49.233917236328125, 49.216522216796875, 50.16301727294922, 49.27847671508789, 49.26310348510742, 49.2725944519043, 49.3159294128418, 49.291786193847656, 49.263851165771484, 49.262691497802734, 49.226158142089844, 49.2519416809082, 49.34976577758789, 49.234771728515625, 49.28853225708008, 49.25124740600586, 49.37946319580078, 49.3159294128418, 49.289451599121094, 49.324825286865234, 37.981529235839844, 2.3420472145080566, 2.556089401245117, 2.970974922180176, 3.0394678115844727, 3.076293468475342, 5.76521110534668, 6.7596306800842285, 14.766230583190918, 37.981529235839844, 18.877342224121094, 2.350236415863037, 49.204742431640625, 49.216522216796875, 49.2725944519043, 49.263851165771484, 50.16301727294922, 49.233917236328125, 49.18543243408203, 49.245994567871094, 49.19673156738281, 49.27847671508789, 49.3159294128418, 49.262691497802734, 49.26310348510742, 49.35139083862305, 49.34415817260742, 98.5526351928711, 49.25124740600586, 2.6187522411346436, 49.324825286865234, 49.289451599121094, 49.28853225708008, 49.2519416809082, 49.27768325805664, 49.226158142089844, 49.3159294128418, 49.291786193847656, 49.234771728515625, 49.34976577758789, 49.18543243408203, 49.226158142089844, 49.234771728515625, 49.216522216796875, 49.19673156738281, 49.25124740600586, 49.289451599121094, 49.291786193847656, 49.245994567871094, 49.204742431640625, 49.27847671508789, 49.263851165771484, 49.28853225708008, 49.324825286865234, 49.262691497802734, 49.3159294128418, 49.2519416809082, 49.233917236328125, 49.3159294128418, 49.27768325805664, 49.26310348510742, 50.16301727294922, 49.37946319580078, 49.34976577758789, 49.2725944519043, 49.34415817260742, 49.35139083862305, 98.5526351928711, 2.3420472145080566, 2.350236415863037, 2.872730016708374, 3.0013976097106934], \"Category\": [\"Default\", \"Default\", \"Default\", \"Default\", \"Default\", \"Default\", \"Default\", \"Default\", \"Default\", \"Default\", \"Default\", \"Default\", \"Default\", \"Default\", \"Default\", \"Default\", \"Default\", \"Default\", \"Default\", \"Default\", \"Default\", \"Default\", \"Default\", \"Default\", \"Default\", \"Default\", \"Default\", \"Default\", \"Default\", \"Default\", \"Topic1\", \"Topic1\", \"Topic1\", \"Topic1\", \"Topic1\", \"Topic1\", \"Topic1\", \"Topic1\", \"Topic1\", \"Topic1\", \"Topic1\", \"Topic1\", \"Topic1\", \"Topic1\", \"Topic1\", \"Topic1\", \"Topic1\", \"Topic1\", \"Topic1\", \"Topic1\", \"Topic1\", \"Topic1\", \"Topic1\", \"Topic1\", \"Topic1\", \"Topic1\", \"Topic1\", \"Topic1\", \"Topic1\", \"Topic1\", \"Topic2\", \"Topic2\", \"Topic2\", \"Topic2\", \"Topic2\", \"Topic2\", \"Topic2\", \"Topic2\", \"Topic2\", \"Topic2\", \"Topic2\", \"Topic2\", \"Topic2\", \"Topic2\", \"Topic2\", \"Topic2\", \"Topic2\", \"Topic2\", \"Topic2\", \"Topic2\", \"Topic2\", \"Topic2\", \"Topic2\", \"Topic2\", \"Topic2\", \"Topic2\", \"Topic2\", \"Topic2\", \"Topic2\", \"Topic2\", \"Topic2\", \"Topic2\", \"Topic2\", \"Topic2\", \"Topic2\", \"Topic2\", \"Topic2\", \"Topic2\", \"Topic2\", \"Topic2\", \"Topic2\", \"Topic2\", \"Topic2\", \"Topic2\", \"Topic2\", \"Topic2\", \"Topic2\", \"Topic3\", \"Topic3\", \"Topic3\", \"Topic3\", \"Topic3\", \"Topic3\", \"Topic3\", \"Topic3\", \"Topic3\", \"Topic3\", \"Topic3\", \"Topic3\", \"Topic3\", \"Topic3\", \"Topic3\", \"Topic3\", \"Topic3\", \"Topic3\", \"Topic3\", \"Topic3\", \"Topic3\", \"Topic3\", \"Topic3\", \"Topic3\", \"Topic3\", \"Topic3\", \"Topic3\", \"Topic3\", \"Topic3\", \"Topic3\", \"Topic3\", \"Topic3\", \"Topic3\", \"Topic3\", \"Topic3\", \"Topic3\", \"Topic3\", \"Topic3\", \"Topic3\", \"Topic3\", \"Topic3\", \"Topic3\", \"Topic3\", \"Topic3\", \"Topic3\", \"Topic3\", \"Topic3\", \"Topic4\", \"Topic4\", \"Topic4\", \"Topic4\", \"Topic4\", \"Topic4\", \"Topic4\", \"Topic4\", \"Topic4\", \"Topic4\", \"Topic4\", \"Topic4\", \"Topic4\", \"Topic4\", \"Topic4\", \"Topic4\", \"Topic4\", \"Topic4\", \"Topic4\", \"Topic4\", \"Topic4\", \"Topic4\", \"Topic4\", \"Topic4\", \"Topic4\", \"Topic4\", \"Topic4\", \"Topic4\", \"Topic4\", \"Topic4\", \"Topic4\", \"Topic4\", \"Topic4\", \"Topic4\", \"Topic4\", \"Topic4\", \"Topic4\", \"Topic4\", \"Topic4\", \"Topic4\", \"Topic4\", \"Topic4\", \"Topic4\", \"Topic4\", \"Topic4\", \"Topic4\", \"Topic5\", \"Topic5\", \"Topic5\", \"Topic5\", \"Topic5\", \"Topic5\", \"Topic5\", \"Topic5\", \"Topic5\", \"Topic5\", \"Topic5\", \"Topic5\", \"Topic5\", \"Topic5\", \"Topic5\", \"Topic5\", \"Topic5\", \"Topic5\", \"Topic5\", \"Topic5\", \"Topic5\", \"Topic5\", \"Topic5\", \"Topic5\", \"Topic5\", \"Topic5\", \"Topic5\", \"Topic5\", \"Topic5\", \"Topic5\", \"Topic5\", \"Topic5\", \"Topic5\", \"Topic5\", \"Topic5\", \"Topic5\", \"Topic5\", \"Topic5\", \"Topic5\", \"Topic6\", \"Topic6\", \"Topic6\", \"Topic6\", \"Topic6\", \"Topic6\", \"Topic6\", \"Topic6\", \"Topic6\", \"Topic6\", \"Topic6\", \"Topic6\", \"Topic6\", \"Topic6\", \"Topic6\", \"Topic6\", \"Topic6\", \"Topic6\", \"Topic6\", \"Topic6\", \"Topic6\", \"Topic6\", \"Topic6\", \"Topic6\", \"Topic6\", \"Topic6\", \"Topic6\", \"Topic6\", \"Topic6\", \"Topic6\", \"Topic6\", \"Topic6\", \"Topic6\", \"Topic6\", \"Topic6\", \"Topic6\", \"Topic6\", \"Topic6\", \"Topic6\", \"Topic6\", \"Topic6\", \"Topic6\", \"Topic6\", \"Topic6\", \"Topic6\", \"Topic6\", \"Topic6\", \"Topic6\", \"Topic6\", \"Topic6\", \"Topic6\", \"Topic6\", \"Topic6\", \"Topic6\", \"Topic7\", \"Topic7\", \"Topic7\", \"Topic7\", \"Topic7\", \"Topic7\", \"Topic7\", \"Topic7\", \"Topic7\", \"Topic7\", \"Topic7\", \"Topic7\", \"Topic7\", \"Topic7\", \"Topic7\", \"Topic7\", \"Topic7\", \"Topic7\", \"Topic7\", \"Topic7\", \"Topic7\", \"Topic7\", \"Topic7\", \"Topic7\", \"Topic7\", \"Topic7\", \"Topic7\", \"Topic7\", \"Topic7\", \"Topic7\", \"Topic7\", \"Topic7\", \"Topic7\", \"Topic7\", \"Topic7\", \"Topic7\", \"Topic7\", \"Topic7\", \"Topic7\", \"Topic7\", \"Topic7\", \"Topic7\", \"Topic7\", \"Topic7\", \"Topic7\", \"Topic7\", \"Topic7\", \"Topic7\", \"Topic7\", \"Topic7\", \"Topic7\", \"Topic8\", \"Topic8\", \"Topic8\", \"Topic8\", \"Topic8\", \"Topic8\", \"Topic8\", \"Topic8\", \"Topic8\", \"Topic8\", \"Topic8\", \"Topic8\", \"Topic8\", \"Topic8\", \"Topic8\", \"Topic8\", \"Topic8\", \"Topic8\", \"Topic8\", \"Topic8\", \"Topic8\", \"Topic8\", \"Topic8\", \"Topic8\", \"Topic8\", \"Topic8\", \"Topic8\", \"Topic8\", \"Topic8\", \"Topic8\", \"Topic8\", \"Topic8\", \"Topic8\", \"Topic8\", \"Topic8\", \"Topic8\", \"Topic8\", \"Topic8\", \"Topic8\", \"Topic8\", \"Topic8\", \"Topic8\", \"Topic8\", \"Topic8\", \"Topic8\", \"Topic8\", \"Topic8\", \"Topic8\", \"Topic8\", \"Topic8\", \"Topic9\", \"Topic9\", \"Topic9\", \"Topic9\", \"Topic9\", \"Topic9\", \"Topic9\", \"Topic9\", \"Topic9\", \"Topic9\", \"Topic9\", \"Topic9\", \"Topic9\", \"Topic9\", \"Topic9\", \"Topic9\", \"Topic9\", \"Topic9\", \"Topic9\", \"Topic9\", \"Topic9\", \"Topic9\", \"Topic9\", \"Topic9\", \"Topic9\", \"Topic9\", \"Topic9\", \"Topic9\", \"Topic9\", \"Topic9\", \"Topic9\", \"Topic9\", \"Topic9\", \"Topic9\", \"Topic9\", \"Topic9\", \"Topic9\", \"Topic9\", \"Topic9\", \"Topic9\", \"Topic9\", \"Topic9\", \"Topic9\", \"Topic9\", \"Topic9\", \"Topic9\", \"Topic9\", \"Topic9\", \"Topic9\", \"Topic9\", \"Topic9\", \"Topic9\", \"Topic9\", \"Topic9\", \"Topic10\", \"Topic10\", \"Topic10\", \"Topic10\", \"Topic10\", \"Topic10\", \"Topic10\", \"Topic10\", \"Topic10\", \"Topic10\", \"Topic10\", \"Topic10\", \"Topic10\", \"Topic10\", \"Topic10\", \"Topic10\", \"Topic10\", \"Topic10\", \"Topic10\", \"Topic10\", \"Topic10\", \"Topic10\", \"Topic10\", \"Topic10\", \"Topic10\", \"Topic10\", \"Topic10\", \"Topic10\", \"Topic10\", \"Topic10\", \"Topic10\", \"Topic10\", \"Topic10\", \"Topic10\", \"Topic10\", \"Topic10\", \"Topic10\", \"Topic10\", \"Topic10\", \"Topic10\", \"Topic10\", \"Topic10\", \"Topic10\", \"Topic10\", \"Topic10\", \"Topic10\", \"Topic10\", \"Topic10\", \"Topic10\", \"Topic10\", \"Topic10\", \"Topic10\", \"Topic11\", \"Topic11\", \"Topic11\", \"Topic11\", \"Topic11\", \"Topic11\", \"Topic11\", \"Topic11\", \"Topic11\", \"Topic11\", \"Topic11\", \"Topic11\", \"Topic11\", \"Topic11\", \"Topic11\", \"Topic11\", \"Topic11\", \"Topic11\", \"Topic11\", \"Topic11\", \"Topic11\", \"Topic11\", \"Topic11\", \"Topic11\", \"Topic11\", \"Topic11\", \"Topic11\", \"Topic11\", \"Topic11\", \"Topic11\", \"Topic11\", \"Topic11\", \"Topic11\", \"Topic12\", \"Topic12\", \"Topic12\", \"Topic12\", \"Topic12\", \"Topic12\", \"Topic12\", \"Topic12\", \"Topic12\", \"Topic12\", \"Topic12\", \"Topic12\", \"Topic12\", \"Topic12\", \"Topic12\", \"Topic12\", \"Topic12\", \"Topic12\", \"Topic12\", \"Topic12\", \"Topic12\", \"Topic12\", \"Topic12\", \"Topic12\", \"Topic12\", \"Topic12\", \"Topic12\", \"Topic12\", \"Topic12\", \"Topic12\", \"Topic12\", \"Topic12\", \"Topic13\", \"Topic13\", \"Topic13\", \"Topic13\", \"Topic13\", \"Topic13\", \"Topic13\", \"Topic13\", \"Topic13\", \"Topic13\", \"Topic13\", \"Topic13\", \"Topic13\", \"Topic13\", \"Topic13\", \"Topic13\", \"Topic13\", \"Topic13\", \"Topic13\", \"Topic13\", \"Topic13\", \"Topic13\", \"Topic13\", \"Topic13\", \"Topic13\", \"Topic13\", \"Topic13\", \"Topic13\", \"Topic13\", \"Topic13\", \"Topic14\", \"Topic14\", \"Topic14\", \"Topic14\", \"Topic14\", \"Topic14\", \"Topic14\", \"Topic14\", \"Topic14\", \"Topic14\", \"Topic14\", \"Topic14\", \"Topic14\", \"Topic14\", \"Topic14\", \"Topic14\", \"Topic14\", \"Topic14\", \"Topic14\", \"Topic14\", \"Topic14\", \"Topic14\", \"Topic14\", \"Topic14\", \"Topic14\", \"Topic14\", \"Topic14\", \"Topic14\", \"Topic14\", \"Topic14\", \"Topic14\", \"Topic14\", \"Topic14\", \"Topic14\", \"Topic14\", \"Topic14\", \"Topic14\", \"Topic14\", \"Topic14\", \"Topic14\", \"Topic14\", \"Topic14\", \"Topic14\", \"Topic14\", \"Topic14\", \"Topic14\", \"Topic14\", \"Topic14\", \"Topic14\", \"Topic14\", \"Topic14\", \"Topic14\", \"Topic14\", \"Topic14\", \"Topic15\", \"Topic15\", \"Topic15\", \"Topic15\", \"Topic15\", \"Topic15\", \"Topic15\", \"Topic15\", \"Topic15\", \"Topic15\", \"Topic15\", \"Topic15\", \"Topic15\", \"Topic15\", \"Topic15\", \"Topic15\", \"Topic15\", \"Topic15\", \"Topic15\", \"Topic15\", \"Topic15\", \"Topic15\", \"Topic15\", \"Topic15\", \"Topic15\", \"Topic15\", \"Topic15\", \"Topic15\", \"Topic15\", \"Topic15\", \"Topic15\", \"Topic15\", \"Topic15\", \"Topic15\", \"Topic15\", \"Topic15\", \"Topic15\", \"Topic15\", \"Topic15\", \"Topic15\", \"Topic15\", \"Topic15\", \"Topic15\", \"Topic15\", \"Topic15\", \"Topic15\", \"Topic15\", \"Topic15\", \"Topic16\", \"Topic16\", \"Topic16\", \"Topic16\", \"Topic16\", \"Topic16\", \"Topic16\", \"Topic16\", \"Topic16\", \"Topic16\", \"Topic16\", \"Topic16\", \"Topic16\", \"Topic16\", \"Topic16\", \"Topic16\", \"Topic16\", \"Topic16\", \"Topic16\", \"Topic16\", \"Topic16\", \"Topic16\", \"Topic16\", \"Topic16\", \"Topic16\", \"Topic16\", \"Topic16\", \"Topic16\", \"Topic16\", \"Topic16\", \"Topic16\", \"Topic16\", \"Topic16\", \"Topic16\", \"Topic16\", \"Topic16\", \"Topic16\", \"Topic16\", \"Topic16\", \"Topic16\", \"Topic16\", \"Topic16\", \"Topic16\", \"Topic16\", \"Topic16\", \"Topic16\", \"Topic16\", \"Topic16\", \"Topic16\", \"Topic16\", \"Topic16\", \"Topic17\", \"Topic17\", \"Topic17\", \"Topic17\", \"Topic17\", \"Topic17\", \"Topic17\", \"Topic17\", \"Topic17\", \"Topic17\", \"Topic17\", \"Topic17\", \"Topic17\", \"Topic17\", \"Topic17\", \"Topic17\", \"Topic17\", \"Topic17\", \"Topic17\", \"Topic17\", \"Topic17\", \"Topic17\", \"Topic17\", \"Topic17\", \"Topic17\", \"Topic17\", \"Topic17\", \"Topic17\", \"Topic17\", \"Topic17\", \"Topic17\", \"Topic17\", \"Topic17\", \"Topic17\", \"Topic17\", \"Topic17\", \"Topic17\", \"Topic17\", \"Topic17\", \"Topic17\", \"Topic17\", \"Topic17\", \"Topic17\", \"Topic17\", \"Topic17\", \"Topic17\", \"Topic17\", \"Topic17\", \"Topic17\", \"Topic17\", \"Topic17\", \"Topic17\", \"Topic18\", \"Topic18\", \"Topic18\", \"Topic18\", \"Topic18\", \"Topic18\", \"Topic18\", \"Topic18\", \"Topic18\", \"Topic18\", \"Topic18\", \"Topic18\", \"Topic18\", \"Topic18\", \"Topic18\", \"Topic18\", \"Topic18\", \"Topic18\", \"Topic18\", \"Topic18\", \"Topic18\", \"Topic18\", \"Topic18\", \"Topic18\", \"Topic18\", \"Topic18\", \"Topic18\", \"Topic18\", \"Topic18\", \"Topic18\", \"Topic18\", \"Topic18\", \"Topic18\", \"Topic18\", \"Topic18\", \"Topic18\", \"Topic19\", \"Topic19\", \"Topic19\", \"Topic19\", \"Topic19\", \"Topic19\", \"Topic19\", \"Topic19\", \"Topic19\", \"Topic19\", \"Topic19\", \"Topic19\", \"Topic19\", \"Topic19\", \"Topic19\", \"Topic19\", \"Topic19\", \"Topic19\", \"Topic19\", \"Topic19\", \"Topic19\", \"Topic19\", \"Topic19\", \"Topic19\", \"Topic19\", \"Topic19\", \"Topic19\", \"Topic19\", \"Topic19\", \"Topic19\", \"Topic19\", \"Topic19\", \"Topic19\", \"Topic19\", \"Topic19\", \"Topic19\", \"Topic19\", \"Topic19\", \"Topic19\", \"Topic20\", \"Topic20\", \"Topic20\", \"Topic20\", \"Topic20\", \"Topic20\", \"Topic20\", \"Topic20\", \"Topic20\", \"Topic20\", \"Topic20\", \"Topic20\", \"Topic20\", \"Topic20\", \"Topic20\", \"Topic20\", \"Topic20\", \"Topic20\", \"Topic20\", \"Topic20\", \"Topic20\", \"Topic20\", \"Topic20\", \"Topic20\", \"Topic20\", \"Topic20\", \"Topic20\", \"Topic20\", \"Topic20\", \"Topic20\", \"Topic20\", \"Topic20\"], \"logprob\": [30.0, 29.0, 28.0, 27.0, 26.0, 25.0, 24.0, 23.0, 22.0, 21.0, 20.0, 19.0, 18.0, 17.0, 16.0, 15.0, 14.0, 13.0, 12.0, 11.0, 10.0, 9.0, 8.0, 7.0, 6.0, 5.0, 4.0, 3.0, 2.0, 1.0, -2.6731998920440674, -3.365000009536743, -3.3661000728607178, -3.365999937057495, -3.3671000003814697, -3.3673999309539795, -3.366499900817871, -3.3675999641418457, -3.3666999340057373, -3.3680999279022217, -3.3661000728607178, -3.3687000274658203, -3.3685998916625977, -3.367500066757202, -3.3677000999450684, -3.3680999279022217, -3.3680999279022217, -3.36929988861084, -3.369800090789795, -3.3671000003814697, -3.3677000999450684, -3.3687000274658203, -3.3685998916625977, -3.3694000244140625, -3.368499994277954, -3.36899995803833, -3.3698999881744385, -3.3666999340057373, -9.25570011138916, -9.25570011138916, -2.4416000843048096, -2.4416000843048096, -2.4828999042510986, -2.8701000213623047, -2.0178000926971436, -2.8657000064849854, -1.7009999752044678, -3.4941000938415527, -1.3624000549316406, -4.311500072479248, -8.109199523925781, -8.109199523925781, -8.109199523925781, -8.109199523925781, -8.109199523925781, -8.109199523925781, -8.109199523925781, -8.109199523925781, -8.109199523925781, -8.109199523925781, -8.109199523925781, -8.109199523925781, -8.109199523925781, -8.109199523925781, -8.109199523925781, -8.109199523925781, -8.109199523925781, -8.109199523925781, -8.109199523925781, -8.109199523925781, -8.109199523925781, -8.109199523925781, -8.109199523925781, -8.109199523925781, -8.109199523925781, -8.109199523925781, -8.109199523925781, -8.109199523925781, -8.109199523925781, -8.109199523925781, -8.109199523925781, -8.109199523925781, -8.109199523925781, -8.109199523925781, -8.109199523925781, -8.109199523925781, -8.109199523925781, -1.657099962234497, -1.6338000297546387, -2.3459999561309814, -2.3459999561309814, -3.3571999073028564, -3.3571999073028564, -3.0913000106811523, -1.3665000200271606, -3.305799961090088, -7.972400188446045, -7.972400188446045, -7.972400188446045, -7.972400188446045, -7.972400188446045, -7.972400188446045, -7.972400188446045, -7.972400188446045, -7.972400188446045, -7.972400188446045, -7.972400188446045, -7.972400188446045, -7.972400188446045, -7.972400188446045, -7.972400188446045, -7.972400188446045, -7.972400188446045, -7.972400188446045, -7.972400188446045, -7.972400188446045, -7.972400188446045, -7.972400188446045, -7.972400188446045, -7.972400188446045, -7.972400188446045, -7.972400188446045, -7.972400188446045, -7.972400188446045, -7.972400188446045, -7.972400188446045, -7.972400188446045, -7.972400188446045, -7.972400188446045, -7.972400188446045, -7.972400188446045, -7.972400188446045, -7.972400188446045, -7.972400188446045, -2.1440999507904053, -3.096100091934204, -3.096100091934204, -3.096100091934204, -1.5299999713897705, -1.7172000408172607, -3.1661999225616455, -2.6078999042510986, -2.967900037765503, -7.71120023727417, -7.71120023727417, -7.71120023727417, -7.71120023727417, -7.71120023727417, -7.71120023727417, -7.71120023727417, -7.71120023727417, -7.71120023727417, -7.71120023727417, -7.71120023727417, -7.71120023727417, -7.71120023727417, -7.71120023727417, -7.71120023727417, -5.025400161743164, -5.0269999504089355, -7.71120023727417, -5.031000137329102, -5.037199974060059, -5.04010009765625, -5.038400173187256, -5.046800136566162, -5.049200057983398, -5.049799919128418, -4.392099857330322, -5.0518999099731445, -5.057499885559082, -5.061800003051758, -5.061600208282471, -5.064700126647949, -5.067200183868408, -5.068900108337402, -5.086699962615967, -5.090199947357178, -5.098899841308594, -5.098999977111816, -1.742900013923645, -2.140199899673462, -2.463900089263916, -3.0922000408172607, -3.0922000408172607, -3.0922000408172607, -1.6030999422073364, -2.1668999195098877, -4.841100215911865, -4.122600078582764, -5.167200088500977, -5.167200088500977, -5.167200088500977, -5.167200088500977, -5.167200088500977, -5.167200088500977, -7.707300186157227, -7.707300186157227, -7.707300186157227, -7.707300186157227, -7.707300186157227, -7.707300186157227, -7.707300186157227, -7.707300186157227, -5.403299808502197, -5.457799911499023, -5.464799880981445, -5.473100185394287, -5.480999946594238, -5.505300045013428, -5.5192999839782715, -5.5553998947143555, -5.555500030517578, -5.027200222015381, -5.570400238037109, -5.571599960327148, -5.608799934387207, -5.613999843597412, -5.61269998550415, -0.13660000264644623, -2.4802000522613525, -7.095300197601318, -7.095300197601318, -7.095300197601318, -7.095300197601318, -7.095300197601318, -7.095300197601318, -7.095300197601318, -7.095300197601318, -7.095300197601318, -7.095300197601318, -7.095300197601318, -7.095300197601318, -7.095300197601318, -7.095300197601318, -7.095300197601318, -7.095300197601318, -7.095300197601318, -7.095300197601318, -7.095300197601318, -7.095300197601318, -7.095300197601318, -7.095300197601318, -7.095300197601318, -7.095300197601318, -7.095300197601318, -7.095300197601318, -7.095300197601318, -7.095300197601318, -7.095300197601318, -7.095300197601318, -7.095300197601318, -7.095300197601318, -7.095300197601318, -7.095300197601318, -7.095300197601318, -7.095300197601318, -7.095300197601318, -7.095300197601318, -7.095300197601318, -7.095300197601318, -7.095300197601318, -7.095300197601318, -7.095300197601318, -7.095300197601318, -7.095300197601318, -7.095300197601318, -7.095300197601318, -7.095300197601318, -7.095300197601318, -7.095300197601318, -7.095300197601318, -7.095300197601318, -1.5914000272750854, -1.1719000339508057, -1.1446000337600708, -7.217700004577637, -7.217700004577637, -7.217700004577637, -7.217700004577637, -7.217700004577637, -7.217700004577637, -7.217700004577637, -7.217700004577637, -7.217700004577637, -7.217700004577637, -7.217700004577637, -7.217700004577637, -7.217700004577637, -7.217700004577637, -7.217700004577637, -7.217700004577637, -7.217700004577637, -7.217700004577637, -7.217700004577637, -7.217700004577637, -5.124499797821045, -7.217700004577637, -5.135499954223633, -5.137899875640869, -5.14169979095459, -5.142300128936768, -5.145299911499023, -5.150899887084961, -5.163300037384033, -5.167500019073486, -5.179999828338623, -5.1855998039245605, -4.687699794769287, -5.214200019836426, -5.214600086212158, -5.217700004577637, -5.219200134277344, -5.241199970245361, -5.298799991607666, -5.32390022277832, -5.3256001472473145, -5.33459997177124, -5.343900203704834, -5.353300094604492, -5.381899833679199, -5.394599914550781, -5.426499843597412, -5.4899001121521, -1.4789999723434448, -1.4789999723434448, -1.861899971961975, -1.861899971961975, -1.861899971961975, -7.105299949645996, -7.105299949645996, -7.105299949645996, -7.105299949645996, -7.105299949645996, -7.105299949645996, -7.105299949645996, -7.105299949645996, -7.105299949645996, -7.105299949645996, -7.105299949645996, -7.105299949645996, -7.105299949645996, -7.105299949645996, -7.105299949645996, -7.105299949645996, -7.105299949645996, -7.105299949645996, -7.105299949645996, -7.105299949645996, -5.971799850463867, -6.013999938964844, -6.037799835205078, -6.076900005340576, -6.091899871826172, -5.4405999183654785, -6.094200134277344, -6.106100082397461, -6.121600151062012, -6.135000228881836, -6.1356000900268555, -6.143799781799316, -6.14739990234375, -6.149700164794922, -6.158400058746338, -6.160099983215332, -6.172699928283691, -6.1880998611450195, -6.221700191497803, -6.23360013961792, -6.236400127410889, -6.23960018157959, -6.316299915313721, -6.367099761962891, -6.367400169372559, -1.2626999616622925, -0.41269999742507935, -6.866000175476074, -6.866000175476074, -6.866000175476074, -6.866000175476074, -6.866000175476074, -6.866000175476074, -6.866000175476074, -6.866000175476074, -6.866000175476074, -6.866000175476074, -6.866000175476074, -6.866000175476074, -6.866000175476074, -6.866000175476074, -6.866000175476074, -6.866000175476074, -6.866000175476074, -6.866000175476074, -6.866000175476074, -6.866000175476074, -6.866000175476074, -6.866000175476074, -6.866000175476074, -6.866000175476074, -6.866000175476074, -6.866000175476074, -6.866000175476074, -6.866000175476074, -6.866000175476074, -6.866000175476074, -6.866000175476074, -6.866000175476074, -6.866000175476074, -6.866000175476074, -6.866000175476074, -6.866000175476074, -6.866000175476074, -6.866000175476074, -6.866000175476074, -6.866000175476074, -6.866000175476074, -6.866000175476074, -6.866000175476074, -6.866000175476074, -6.866000175476074, -6.866000175476074, -6.866000175476074, -6.866000175476074, -6.866000175476074, -6.866000175476074, -6.866000175476074, -6.866000175476074, -1.8890999555587769, -1.9151999950408936, -2.517400026321411, -0.5446000099182129, -7.132500171661377, -7.132500171661377, -7.132500171661377, -7.132500171661377, -7.132500171661377, -7.132500171661377, -7.132500171661377, -7.132500171661377, -7.132500171661377, -7.132500171661377, -7.132500171661377, -7.132500171661377, -7.132500171661377, -7.132500171661377, -7.132500171661377, -7.132500171661377, -7.132500171661377, -7.132500171661377, -7.132500171661377, -7.132500171661377, -7.132500171661377, -7.132500171661377, -7.132500171661377, -7.132500171661377, -7.132500171661377, -7.132500171661377, -7.132500171661377, -7.132500171661377, -7.132500171661377, -7.132500171661377, -7.132500171661377, -7.132500171661377, -7.132500171661377, -7.132500171661377, -7.132500171661377, -7.132500171661377, -7.132500171661377, -7.132500171661377, -7.132500171661377, -7.132500171661377, -7.132500171661377, -7.132500171661377, -7.132500171661377, -7.132500171661377, -7.132500171661377, -7.132500171661377, -7.132500171661377, -7.132500171661377, -3.8169000148773193, -4.911300182342529, -4.973599910736084, -4.973599910736084, -3.3231000900268555, -3.3547000885009766, -3.359800100326538, -3.3763999938964844, -3.3924999237060547, -3.4114999771118164, -3.4189000129699707, -3.4233999252319336, -3.4270999431610107, -3.428800106048584, -3.4300999641418457, -3.4423999786376953, -3.444499969482422, -3.443000078201294, -3.444999933242798, -3.445499897003174, -3.453700065612793, -3.4567999839782715, -3.4593000411987305, -3.460400104522705, -3.4607999324798584, -3.476099967956543, -2.798799991607666, -3.498300075531006, -3.5244998931884766, -3.527600049972534, -3.5264999866485596, -3.565999984741211, -3.9126999378204346, -4.171199798583984, -4.171199798583984, -4.171199798583984, -3.5183000564575195, -3.3496999740600586, -3.3754000663757324, -3.3864998817443848, -2.7170000076293945, -3.4182000160217285, -3.4200000762939453, -3.4342000484466553, -3.4391000270843506, -3.4403998851776123, -3.4440999031066895, -3.4458000659942627, -3.4688000679016113, -3.4721999168395996, -3.476799964904785, -3.492000102996826, -3.4988999366760254, -3.5023999214172363, -3.511899948120117, -3.518199920654297, -3.5065999031066895, -3.528599977493286, -3.528599977493286, -3.5383999347686768, -3.546299934387207, -3.555000066757202, -3.5571000576019287, -3.6026999950408936, -3.6180999279022217, -4.596199989318848, -4.596199989318848, -3.2539000511169434, -3.2843000888824463, -3.3010001182556152, -3.3371999263763428, -3.336199998855591, -3.347899913787842, -3.3657000064849854, -3.3722000122070312, -3.369800090789795, -3.3803999423980713, -3.382200002670288, -3.3982999324798584, -3.401700019836426, -3.40339994430542, -3.4021999835968018, -3.406399965286255, -3.413300037384033, -3.419600009918213, -3.425100088119507, -3.4270999431610107, -3.4583001136779785, -3.4609999656677246, -3.460700035095215, -3.461400032043457, -3.4876999855041504, -3.5155999660491943, -2.8429999351501465, -3.572499990463257, -4.007299900054932, -4.007299900054932, -4.007299900054932, -4.007299900054932, -4.007299900054932, -4.007299900054932, -4.007299900054932, -4.007299900054932, -4.007299900054932, -4.007299900054932, -4.007299900054932, -4.007299900054932, -4.007299900054932, -4.007299900054932, -4.007299900054932, -4.007299900054932, -4.007299900054932, -4.007299900054932, -4.007299900054932, -4.007299900054932, -4.007299900054932, -4.007299900054932, -4.007299900054932, -4.007299900054932, -4.007299900054932, -4.007299900054932, -4.007299900054932, -4.007299900054932, -4.007299900054932, -4.007299900054932, -4.007299900054932, -4.007299900054932, -4.007299900054932, -4.007299900054932, -4.007299900054932, -4.007299900054932, -4.007299900054932, -4.007299900054932, -4.007299900054932, -4.007299900054932, -4.007299900054932, -4.007299900054932, -4.007299900054932, -4.007299900054932, -4.007299900054932, -4.007299900054932, -4.007299900054932, -4.007299900054932, -4.007299900054932, -4.007299900054932, -4.007299900054932, -4.007299900054932, -4.007299900054932, -4.007299900054932, -5.975800037384033, -5.975800037384033, -5.975800037384033, -5.975800037384033, -5.975800037384033, -5.975800037384033, -5.975800037384033, -5.975800037384033, -5.975800037384033, -5.975800037384033, -5.975800037384033, -5.975800037384033, -5.975800037384033, -5.975800037384033, -5.975800037384033, -5.975800037384033, -5.975800037384033, -5.975800037384033, -5.975800037384033, -5.975800037384033, -3.4356000423431396, -3.4356000423431396, -3.4356000423431396, -3.4356000423431396, -3.4356000423431396, -3.4356000423431396, -3.4356000423431396, -3.4356000423431396, -3.4356000423431396, -3.4356000423431396, -2.7827000617980957, -3.4356000423431396, -3.4356000423431396, -3.4356000423431396, -3.4356000423431396, -3.4356000423431396, -3.4356000423431396, -3.4356000423431396, -3.4356000423431396, -3.4356000423431396, -3.4356000423431396, -3.4356000423431396, -3.4356000423431396, -3.4356000423431396, -3.4356000423431396, -3.4356000423431396, -3.4356000423431396, -3.4356000423431396, -1.3688000440597534, -2.073499917984009, -4.047800064086914, -4.047800064086914, -4.047800064086914, -4.047800064086914, -4.047800064086914, -6.587900161743164, -6.587900161743164, -6.587900161743164, -6.587900161743164, -6.587900161743164, -6.587900161743164, -6.587900161743164, -6.587900161743164, -6.587900161743164, -6.587900161743164, -6.587900161743164, -6.587900161743164, -6.587900161743164, -6.587900161743164, -6.587900161743164, -6.587900161743164, -6.587900161743164, -6.587900161743164, -4.047800064086914, -4.047800064086914, -4.047800064086914, -4.047800064086914, -4.047800064086914, -3.39490008354187, -4.047800064086914, -4.047800064086914, -4.047800064086914, -4.047800064086914, -4.047800064086914, -4.047800064086914, -4.047800064086914, -4.047800064086914, -4.047800064086914, -4.047800064086914, -4.047800064086914, -4.047800064086914, -4.047800064086914, -4.047800064086914, -4.047800064086914, -4.047800064086914, -4.047800064086914, -4.047800064086914, -4.047800064086914, -4.047800064086914, -5.064300060272217, -5.064300060272217, -5.064300060272217, -5.064300060272217, -5.064300060272217, -5.064300060272217, -5.064300060272217, -5.064300060272217, -5.064300060272217, -5.064300060272217, -5.064300060272217, -5.064300060272217, -5.064300060272217, -5.064300060272217, -5.064300060272217, -5.064300060272217, -5.064300060272217, -5.064300060272217, -5.064300060272217, -5.064300060272217, -5.064300060272217, -5.064300060272217, -5.064300060272217, -5.064300060272217, -3.286900043487549, -3.2955000400543213, -3.3712000846862793, -3.3910999298095703, -3.3915998935699463, -3.402100086212158, -3.4398000240325928, -3.458899974822998, -3.469599962234497, -3.489799976348877, -3.491300106048584, -3.4874000549316406, -3.498300075531006, -3.507200002670288, -3.5316998958587646, -3.5901999473571777, -3.604599952697754, -3.610599994659424, -3.6273999214172363, -3.630199909210205, -3.6566998958587646, -3.6584999561309814, -3.6698999404907227, -3.6747000217437744, -3.677299976348877, -3.6782000064849854, -3.7056000232696533, -3.4479000568389893, -4.768099784851074, -4.768099784851074, -4.768099784851074, -4.768099784851074, -4.768099784851074, -4.768099784851074, -4.768099784851074, -2.655100107192993, -3.4058001041412354, -3.421299934387207, -3.419800043106079, -3.4189000129699707, -3.419300079345703, -3.425600051879883, -3.4307000637054443, -3.433000087738037, -3.436199903488159, -3.4179999828338623, -3.4409000873565674, -3.441800117492676, -3.450200080871582, -3.453399896621704, -3.47379994392395, -3.4744999408721924, -3.478600025177002, -3.49429988861084, -3.4941000938415527, -3.499799966812134, -3.504699945449829, -3.5095999240875244, -3.530600070953369, -3.53629994392395, -3.5373001098632812, -3.5504000186920166, -3.590100049972534, -4.115099906921387, -3.2632999420166016, -4.077899932861328, -4.077899932861328, -4.077899932861328, -4.077899932861328, -3.9797000885009766, -4.077899932861328, -3.385499954223633, -3.0144999027252197, -4.077899932861328, -6.618100166320801, -3.6068999767303467, -3.624000072479248, -3.6249001026153564, -3.6278998851776123, -3.6113998889923096, -3.6303000450134277, -3.6352999210357666, -3.6461000442504883, -3.653899908065796, -3.6522998809814453, -3.6582999229431152, -3.6598000526428223, -3.6614999771118164, -3.669600009918213, -3.6774001121520996, -2.987799882888794, -3.6826000213623047, -6.618100166320801, -3.682499885559082, -3.689300060272217, -3.690999984741211, -3.6953999996185303, -3.7005999088287354, -3.7065000534057617, -3.70740008354187, -3.7105000019073486, -3.7407000064849854, -3.761899948120117, -3.2987000942230225, -3.310699939727783, -3.3192999362945557, -3.3352999687194824, -3.3417000770568848, -3.341599941253662, -3.341399908065796, -3.351099967956543, -3.355600118637085, -3.362299919128418, -3.362299919128418, -3.3657000064849854, -3.3687000274658203, -3.3682000637054443, -3.370800018310547, -3.3698999881744385, -3.378499984741211, -3.3817999362945557, -3.38919997215271, -3.3991000652313232, -3.4026999473571777, -3.3884999752044678, -3.4066998958587646, -3.419800043106079, -3.4228999614715576, -3.4493000507354736, -3.452899932861328, -2.774399995803833, -7.83650016784668, -7.83650016784668, -7.83650016784668, -7.83650016784668], \"loglift\": [30.0, 29.0, 28.0, 27.0, 26.0, 25.0, 24.0, 23.0, 22.0, 21.0, 20.0, 19.0, 18.0, 17.0, 16.0, 15.0, 14.0, 13.0, 12.0, 11.0, 10.0, 9.0, 8.0, 7.0, 6.0, 5.0, 4.0, 3.0, 2.0, 1.0, 0.10329999774694443, 0.10260000079870224, 0.10220000147819519, 0.10220000147819519, 0.10220000147819519, 0.10220000147819519, 0.10220000147819519, 0.10220000147819519, 0.10209999978542328, 0.10199999809265137, 0.10199999809265137, 0.10189999639987946, 0.10189999639987946, 0.10189999639987946, 0.10189999639987946, 0.10180000215768814, 0.10180000215768814, 0.10170000046491623, 0.10170000046491623, 0.10170000046491623, 0.10170000046491623, 0.10159999877214432, 0.10159999877214432, 0.1014999970793724, 0.1014999970793724, 0.1014999970793724, 0.10140000283718109, 0.08510000258684158, -2.9876999855041504, -4.580999851226807, 3.8017001152038574, 3.8015999794006348, 3.795300006866455, 3.4409000873565674, 3.4382998943328857, 3.4022998809814453, 2.9737000465393066, 2.7492001056671143, 2.3675999641418457, 1.5046000480651855, -1.5930999517440796, -1.59660005569458, -1.6806000471115112, -1.704800009727478, -1.7259999513626099, -1.7973999977111816, -1.79830002784729, -1.8538000583648682, -1.8538999557495117, -1.8601000308990479, -1.8601000308990479, -1.8640999794006348, -1.8913999795913696, -1.9586000442504883, -2.4939000606536865, -2.555999994277954, -3.6800999641418457, -4.637700080871582, -4.637899875640869, -4.6381001472473145, -5.332699775695801, -4.657400131225586, -4.640900135040283, -4.64109992980957, -4.638899803161621, -4.639800071716309, -4.641600131988525, -4.638999938964844, -4.639500141143799, -4.640500068664551, -4.6392998695373535, -4.640999794006348, -4.639800071716309, -4.6392998695373535, -4.639800071716309, -4.638700008392334, -4.638299942016602, 3.958199977874756, 3.919300079345703, 3.9093000888824463, 3.9091999530792236, 2.9546000957489014, 2.8877999782562256, 2.364799976348877, 2.3633999824523926, 1.36899995803833, -1.4563000202178955, -1.4598000049591064, -1.5437999963760376, -1.5679999589920044, -1.5892000198364258, -1.6613999605178833, -1.6614999771118164, -1.694200038909912, -1.7043999433517456, -1.7232999801635742, -1.7232999801635742, -1.7289999723434448, -1.729099988937378, -1.729200005531311, -1.7546000480651855, -1.8217999935150146, -2.1561999320983887, -3.5432000160217285, -4.500899791717529, -4.501100063323975, -4.501299858093262, -4.502999782562256, -4.504799842834473, -4.503699779510498, -4.502200126647949, -5.195899963378906, -4.504199981689453, -4.5040998458862305, -4.520599842071533, -4.502600193023682, -4.504199981689453, -4.502999782562256, -4.502399921417236, -4.502999782562256, -4.5019001960754395, -4.501500129699707, -4.503499984741211, -4.502500057220459, 4.368500232696533, 3.3324999809265137, 3.308300018310547, 3.287100076675415, 3.144700050354004, 2.711899995803833, 2.289900064468384, 1.1220999956130981, 0.4839000105857849, -1.195099949836731, -1.399399995803833, -1.4002000093460083, -1.4003000259399414, -1.4329999685287476, -1.4431999921798706, -1.4558000564575195, -1.455899953842163, -1.4621000289916992, -1.4621000289916992, -1.4660999774932861, -1.4678000211715698, -1.467900037765503, -1.468000054359436, -1.493399977684021, -1.5544999837875366, -1.5556000471115112, -1.5606000423431396, -1.5613000392913818, -1.569000005722046, -1.569599986076355, -1.569599986076355, -1.5773999691009521, -1.5795999765396118, -1.5799000263214111, -1.6155999898910522, -1.5822999477386475, -1.5881999731063843, -1.5913000106811523, -1.593400001525879, -1.5944000482559204, -1.595900058746338, -1.6008000373840332, -1.617900013923645, -1.6200000047683716, -1.628999948501587, -1.6303999423980713, 4.407599925994873, 4.375800132751465, 3.9646999835968018, 3.2908999919891357, 3.2186999320983887, 3.175800085067749, 2.8259999752044678, 1.563099980354309, 1.4707000255584717, 1.4306000471115112, 1.1437000036239624, 1.0881999731063843, 1.0880999565124512, 1.0819000005722046, 1.0819000005722046, 0.6489999890327454, -1.1948000192642212, -1.302899956703186, -1.4291000366210938, -1.4622999429702759, -1.4639999866485596, -1.4641000032424927, -1.4641000032424927, -1.4895999431610107, -1.933899998664856, -1.9879000186920166, -1.996000051498413, -2.0028998851776123, -2.0134999752044678, -2.036600112915039, -2.049099922180176, -2.0855000019073486, -2.087399959564209, -2.250699996948242, -2.1005001068115234, -2.1015000343322754, -2.137500047683716, -2.1435000896453857, -2.160900115966797, 4.292500019073486, 3.737600088119507, -0.579200029373169, -0.5827000141143799, -0.666700005531311, -0.6909000277519226, -0.7121999859809875, -0.7835000157356262, -0.7843000292778015, -0.7843999862670898, -0.8170999884605408, -0.8273000121116638, -0.839900016784668, -0.8399999737739563, -0.8461999893188477, -0.8461999893188477, -0.8501999974250793, -0.8518999814987183, -0.8519999980926514, -0.8521000146865845, -0.9447000026702881, -1.279099941253662, -1.4801000356674194, -1.542099952697754, -1.63919997215271, -2.420599937438965, -3.365299940109253, -3.623800039291382, -3.624000072479248, -3.6242001056671143, -3.6254000663757324, -3.625699996948242, -3.6270999908447266, -3.6245999336242676, -3.6435000896453857, -3.627000093460083, -3.62719988822937, -3.6259000301361084, -3.627700090408325, -3.6250998973846436, -4.31879997253418, -3.6266000270843506, -3.6256000995635986, -3.6259000301361084, -3.6254000663757324, -3.625999927520752, -3.624799966812134, -3.6243999004364014, -3.626499891281128, -3.6254000663757324, -3.625, -3.626499891281128, -3.625200033187866, -3.625699996948242, 4.7195000648498535, 4.6442999839782715, 2.585400104522705, -0.70169997215271, -0.7052000164985657, -0.7890999913215637, -0.8133000135421753, -0.8345999717712402, -0.9059000015258789, -0.9067999720573425, -0.9394999742507935, -0.9496999979019165, -0.9623000025749207, -0.9624999761581421, -0.9685999751091003, -0.9685999751091003, -0.9726999998092651, -0.974399983882904, -0.9745000004768372, -0.9745000004768372, -1.0, -1.067199945449829, -1.6024999618530273, -1.6535999774932861, -1.6646000146865845, -1.6649999618530273, -1.6677000522613525, -1.6710000038146973, -1.6734999418258667, -1.6741000413894653, -1.6806999444961548, -1.6931999921798706, -1.698099970817566, -1.7094999551773071, -1.715999960899353, -1.9112000465393066, -1.7443000078201294, -1.7446999549865723, -1.7461999654769897, -1.7481000423431396, -1.7719000577926636, -1.8306000232696533, -1.8557000160217285, -1.8557000160217285, -1.8650000095367432, -1.8746000528335571, -1.8844000101089478, -1.9121999740600586, -1.9263999462127686, -1.957800030708313, -2.02239990234375, 4.770100116729736, 4.770100116729736, 4.383200168609619, 4.381400108337402, 4.355899810791016, -0.5892000198364258, -0.5927000045776367, -0.6766999959945679, -0.7009000182151794, -0.7221999764442444, -0.7935000061988831, -0.7943000197410583, -0.7943999767303467, -0.8270999789237976, -0.8373000025749207, -0.8499000072479248, -0.8500000238418579, -0.8618999719619751, -0.8621000051498413, -0.9546999931335449, -1.2891000509262085, -1.4901000261306763, -1.5520999431610107, -1.6491999626159668, -2.4305999279022217, -2.500499963760376, -2.5622000694274902, -2.5678999423980713, -2.607300043106079, -2.6217000484466553, -2.664099931716919, -2.6233999729156494, -2.6368000507354736, -2.651700019836426, -2.666300058364868, -2.6675000190734863, -2.6738998889923096, -2.676300048828125, -2.6791999340057373, -2.688800096511841, -2.6886000633239746, -2.7037999629974365, -2.717400074005127, -2.7528998851776123, -2.7643001079559326, -2.7669999599456787, -2.76990008354187, -2.846100091934204, -2.896699905395508, -2.897200107574463, 3.4119999408721924, 3.3173000812530518, -0.3499000072479248, -0.35339999198913574, -0.4374000132083893, -0.46160000562667847, -0.4828999936580658, -0.5541999936103821, -0.5551000237464905, -0.5551000237464905, -0.5878000259399414, -0.5979999899864197, -0.6105999946594238, -0.61080002784729, -0.6169000267982483, -0.6169000267982483, -0.6209999918937683, -0.6226000189781189, -0.6227999925613403, -0.6227999925613403, -0.6481999754905701, -0.715399980545044, -1.0499000549316406, -1.2508000135421753, -1.3128000497817993, -1.4098999500274658, -2.4368999004364014, -3.3945000171661377, -3.3947999477386475, -3.39490008354187, -3.3961000442504883, -3.396399974822998, -3.397900104522705, -3.3952999114990234, -3.4142000675201416, -3.397700071334839, -3.397900104522705, -3.3966000080108643, -3.3984999656677246, -3.395900011062622, -4.0894999504089355, -3.39739990234375, -3.3963000774383545, -3.3966000080108643, -3.3961000442504883, -3.396699905395508, -3.3954999446868896, -3.39520001411438, -3.397200107574463, -3.3961000442504883, -3.3958001136779785, -3.397200107574463, -3.395900011062622, -3.396399974822998, 4.5152997970581055, 4.396599769592285, 3.865799903869629, 3.1854000091552734, -0.6164000034332275, -0.6198999881744385, -0.7038999795913696, -0.8215000033378601, -0.8216000199317932, -0.8543000221252441, -0.8644999861717224, -0.8770999908447266, -0.8772000074386597, -0.883400022983551, -0.883400022983551, -0.8873999714851379, -0.8891000151634216, -0.88919997215271, -0.8892999887466431, -0.9146999716758728, -0.9818999767303467, -1.3163000345230103, -1.517199993133545, -1.579300045967102, -1.6763999462127686, -2.45770001411438, -2.703399896621704, -3.6610000133514404, -3.6612000465393066, -3.661400079727173, -3.663800001144409, -3.664299964904785, -3.661799907684326, -3.6807000637054443, -3.6642000675201416, -3.664400100708008, -3.663100004196167, -3.664900064468384, -3.6623001098632812, -4.355999946594238, -3.663100004196167, -3.6628000736236572, -3.663599967956543, -3.662600040435791, -3.6631999015808105, -3.6619999408721924, -3.661600112915039, -3.663599967956543, -3.662600040435791, -3.6621999740600586, -3.662899971008301, -3.662400007247925, 2.69569993019104, 1.3997000455856323, 1.3372999429702759, 0.8424999713897705, 0.14740000665187836, 0.11670000106096268, 0.11089999973773956, 0.09319999814033508, 0.0771000012755394, 0.05719999969005585, 0.05079999938607216, 0.04650000110268593, 0.0430000014603138, 0.039400000125169754, 0.03920000046491623, 0.027000000700354576, 0.026000000536441803, 0.025200000032782555, 0.024900000542402267, 0.024800000712275505, 0.015599999576807022, 0.013299999758601189, 0.011900000274181366, 0.008500000461935997, 0.006800000090152025, -0.007199999876320362, -0.022299999371170998, -0.027400000020861626, -0.05339999869465828, -0.05770000070333481, -0.0746999979019165, -0.09790000319480896, -0.1826999932527542, 2.1070001125335693, 1.9794000387191772, 1.444100022315979, 0.21170000731945038, 0.1185000017285347, 0.09430000185966492, 0.08399999886751175, 0.05950000137090683, 0.051100000739097595, 0.04830000177025795, 0.0357000008225441, 0.03200000151991844, 0.0284000001847744, 0.026799999177455902, 0.02539999969303608, 0.0010999999940395355, -0.002099999925121665, -0.008700000122189522, -0.02239999920129776, -0.028999999165534973, -0.03310000151395798, -0.042500000447034836, -0.049400001764297485, -0.05480000004172325, -0.05849999934434891, -0.05990000069141388, -0.06880000233650208, -0.07559999823570251, -0.08470000326633453, -0.08959999680519104, -0.13120000064373016, -0.147599995136261, 1.8082000017166138, 1.0190000534057617, 0.21719999611377716, 0.1859000027179718, 0.1688999980688095, 0.13410000503063202, 0.1339000016450882, 0.12290000170469284, 0.1031000018119812, 0.09769999980926514, 0.09769999980926514, 0.08889999985694885, 0.0877000018954277, 0.0697999969124794, 0.06849999725818634, 0.06710000336170197, 0.06599999964237213, 0.062300000339746475, 0.05640000104904175, 0.05000000074505806, 0.04430000111460686, 0.024700000882148743, 0.012400000356137753, 0.009499999694526196, 0.008700000122189522, 0.007400000002235174, -0.016200000420212746, -0.04729999974370003, -0.06650000065565109, -0.10289999842643738, 2.508699893951416, 2.505199909210205, 2.421299934387207, 2.3970000743865967, 2.3757998943328857, 2.304500102996826, 2.3036000728607178, 2.303499937057495, 2.270900011062622, 2.260699987411499, 2.2481000423431396, 2.2479000091552734, 2.24180006980896, 2.24180006980896, 2.2376999855041504, 2.2360000610351562, 2.2358999252319336, 2.2358999252319336, 2.210400104522705, 2.143199920654297, 1.8087999820709229, 1.6079000234603882, 1.545799970626831, 1.448799967765808, 0.6674000024795532, 0.42179998755455017, -0.2773999869823456, -0.5358999967575073, -0.5360999703407288, -0.5361999869346619, -1.2308000326156616, -0.5385000109672546, -0.5376999974250793, -0.5392000079154968, -0.5367000102996826, -0.5554999709129333, -0.5390999913215637, -0.5392000079154968, -0.5378999710083008, -0.5397999882698059, -0.5371999740600586, -0.5386999845504761, -0.5376999974250793, -0.5375999808311462, -0.5379999876022339, -0.5374000072479248, -0.5379999876022339, -0.5368000268936157, -0.5364999771118164, -0.5385000109672546, -0.5374000072479248, -0.5371000170707703, -0.5374000072479248, -0.5371999740600586, 0.5403000116348267, 0.5368000268936157, 0.4528000056743622, 0.428600013256073, 0.4074000120162964, 0.3361000120639801, 0.3352000117301941, 0.335099995136261, 0.30239999294281006, 0.2921999990940094, 0.27959999442100525, 0.27950000762939453, 0.2732999920845032, 0.2732999920845032, 0.26930001378059387, 0.26759999990463257, 0.26750001311302185, 0.26739999651908875, 0.24199999868869781, 0.17479999363422394, 0.03590000048279762, 0.035599999129772186, 0.03550000116229057, 0.03519999980926514, 0.03500000014901161, 0.0348999984562397, 0.0348999984562397, 0.03460000082850456, 0.03449999913573265, 0.03449999913573265, -0.006200000178068876, 0.034299999475479126, 0.034299999475479126, 0.034299999475479126, 0.0340999998152256, 0.03400000184774399, 0.03400000184774399, 0.033799998462200165, 0.033799998462200165, 0.03370000049471855, 0.03319999948143959, 0.03319999948143959, 0.032999999821186066, 0.03269999846816063, 0.032499998807907104, 0.032499998807907104, 0.03189999982714653, 0.016200000420212746, 2.3612000942230225, 2.355600118637085, 2.2074999809265137, 2.1953999996185303, 1.768399953842163, 1.5674999952316284, 1.4083000421524048, -0.07190000265836716, -0.07540000230073929, -0.15929999947547913, -0.1835000067949295, -0.20479999482631683, -0.2761000096797943, -0.2770000100135803, -0.2770000100135803, -0.30970001220703125, -0.3199000060558319, -0.33250001072883606, -0.33880001306533813, -0.33880001306533813, -0.34290000796318054, -0.34459999203681946, -0.34470000863075256, -0.3702000081539154, -0.4374000132083893, -0.5763000249862671, -0.5764999985694885, -0.57669997215271, -0.5769000053405762, -0.5770999789237976, -0.618399977684021, -0.5773000121116638, -0.5773000121116638, -0.5774999856948853, -0.5776000022888184, -0.5776000022888184, -0.5778999924659729, -0.5778999924659729, -0.5778999924659729, -0.5781000256538391, -0.5781999826431274, -0.5781999826431274, -0.5784000158309937, -0.5784000158309937, -0.578499972820282, -0.5788999795913696, -0.5788999795913696, -0.5791000127792358, -0.5795000195503235, -0.5796999931335449, -0.5802000164985657, 1.451799988746643, 1.4483000040054321, 1.364300012588501, 1.3401000499725342, 1.3187999725341797, 1.247499942779541, 1.2466000318527222, 1.2466000318527222, 1.2138999700546265, 1.2036999464035034, 1.191100001335144, 1.1908999681472778, 1.1848000288009644, 1.1848000288009644, 1.1806999444961548, 1.1791000366210938, 1.1790000200271606, 1.1789000034332275, 1.153499960899353, 1.086300015449524, 0.7519000172615051, 0.5508999824523926, 0.48890000581741333, 0.3917999863624573, 0.18299999833106995, 0.17270000278949738, 0.10010000318288803, 0.07940000295639038, 0.07859999686479568, 0.06889999657869339, 0.029600000008940697, 0.00989999994635582, 0.0012000000569969416, -0.020400000736117363, -0.020600000396370888, -0.035599999129772186, -0.027799999341368675, -0.0357000008225441, -0.06210000067949295, -0.12030000239610672, -0.1348000019788742, -0.14239999651908875, -0.15870000422000885, -0.16269999742507935, -0.18729999661445618, -0.188400000333786, -0.20110000669956207, -0.20649999380111694, -0.2070000022649765, -0.2084999978542328, -0.23589999973773956, -0.6714000105857849, 1.7480000257492065, 1.4809999465942383, 1.4809999465942383, 1.4769999980926514, 1.4752000570297241, 1.4496999979019165, 0.6880999803543091, 0.12139999866485596, 0.06440000236034393, 0.050200000405311584, 0.049800001084804535, 0.04919999837875366, 0.04899999871850014, 0.045499999076128006, 0.0406000018119812, 0.03750000149011612, 0.03460000082850456, 0.033799998462200165, 0.028699999675154686, 0.02810000069439411, 0.019600000232458115, 0.015399999916553497, -0.0044999998062849045, -0.004600000102072954, -0.008700000122189522, -0.02370000071823597, -0.023900000378489494, -0.031700000166893005, -0.03420000150799751, -0.04019999876618385, -0.060499999672174454, -0.06880000233650208, -0.06840000301599503, -0.08100000023841858, -0.12150000035762787, -0.38519999384880066, 3.252700090408325, 2.3506999015808105, 2.2002999782562256, 2.177500009536743, 2.1654000282287598, 1.6354999542236328, 1.3782000541687012, 1.289199948310852, 0.715399980545044, 0.35120001435279846, -0.1054999977350235, -0.13580000400543213, -0.15320000052452087, -0.15520000457763672, -0.15800000727176666, -0.15960000455379486, -0.1597999930381775, -0.16380000114440918, -0.17589999735355377, -0.1826999932527542, -0.1826999932527542, -0.18940000236034393, -0.1898999959230423, -0.1915999948978424, -0.20149999856948853, -0.20919999480247498, -0.21140000224113464, -0.21250000596046448, -0.21369999647140503, -0.21379999816417694, -0.2198999971151352, -0.22169999778270721, -0.22529999911785126, -0.23100000619888306, -0.23589999973773956, -0.2386000007390976, -0.24120000004768372, -0.2703000009059906, -0.2937000095844269, 0.1728000044822693, 0.1599999964237213, 0.15119999647140503, 0.1354999989271164, 0.12950000166893005, 0.12849999964237213, 0.12800000607967377, 0.11819999665021896, 0.11460000276565552, 0.1088000014424324, 0.10729999840259552, 0.10419999808073044, 0.1006999984383583, 0.10040000081062317, 0.09910000115633011, 0.0989999994635582, 0.09160000085830688, 0.08869999647140503, 0.07959999889135361, 0.07050000131130219, 0.06719999760389328, 0.0632999986410141, 0.0608999989926815, 0.04830000177025795, 0.04690000042319298, 0.01889999955892563, 0.015200000256299973, 0.002099999925121665, -1.3203999996185303, -1.3238999843597412, -1.5247000455856323, -1.56850004196167]}, \"token.table\": {\"Topic\": [2, 3, 4, 9, 3, 2, 5, 2, 3, 4, 5, 7, 9, 10, 2, 3, 4, 4, 7, 7, 3, 3, 1, 1, 1, 2, 4, 5, 6, 1, 8, 4, 5, 1, 1, 4, 10, 3, 10, 1, 3, 8, 1, 1, 2, 1, 1, 1, 1, 1, 1, 1, 1, 5, 1, 1, 1, 4, 5, 10, 1, 4, 1, 2, 5, 2, 8, 1, 1, 1, 2, 5, 1, 1, 6, 8, 8, 3, 1], \"Freq\": [0.4063325524330139, 0.06772208958864212, 0.2708883583545685, 0.20316627621650696, 0.9781006574630737, 0.6663562059402466, 0.3331781029701233, 0.23695728182792664, 0.18430010974407196, 0.026328587904572487, 0.052657175809144974, 0.10531435161828995, 0.18430010974407196, 0.15797151625156403, 0.5917482972145081, 0.14793707430362701, 0.14793707430362701, 0.8509781956672668, 1.0433303117752075, 0.8482034802436829, 1.0407251119613647, 0.987014889717102, 0.995231568813324, 0.9950047731399536, 0.9958389401435852, 1.0097695589065552, 0.15892067551612854, 0.211894229054451, 0.6356827020645142, 0.9962299466133118, 0.9808173775672913, 0.39122262597084045, 0.7824452519416809, 0.9946592450141907, 0.9935937523841858, 0.38186123967170715, 0.7637224793434143, 0.3481009304523468, 0.6962018609046936, 0.9956006407737732, 0.3256167471408844, 0.6512334942817688, 0.9952488541603088, 0.9940804243087769, 0.9751995205879211, 0.9946675300598145, 0.9941275119781494, 0.9944676160812378, 0.993414580821991, 0.9842455983161926, 0.9948986768722534, 0.996001124382019, 0.9923153519630432, 0.8539537787437439, 0.9941460490226746, 0.9928798079490662, 0.9930253624916077, 0.3738338351249695, 0.3738338351249695, 0.3738338351249695, 0.9768152236938477, 0.0199350044131279, 0.9954057335853577, 0.9750561118125916, 0.8887948989868164, 0.3250328004360199, 0.6500656008720398, 0.9929125308990479, 0.9943649172782898, 0.9935937523841858, 0.6955971717834473, 0.34779858589172363, 0.9946441054344177, 0.99434894323349, 0.3168570399284363, 0.6337140798568726, 0.9808173775672913, 0.986866295337677, 0.9948846101760864], \"Term\": [\"\", \"\", \"\", \"\", \"&amp;\", \"8\", \"8\", \"@BarackObama\", \"@BarackObama\", \"@BarackObama\", \"@BarackObama\", \"@BarackObama\", \"@BarackObama\", \"@BarackObama\", \"@JoeBiden\", \"@JoeBiden\", \"@JoeBiden\", \"@TinamarieLobue\", \"@ishabad\", \"@its101191514\", \"@realDonaldTrump\", \"And\", \"By\", \"Day.\", \"Get\", \"He\", \"I\", \"I\", \"I\", \"It's\", \"It\\u2019s\", \"I\\u2019m\", \"I\\u2019m\", \"Mail\", \"National\", \"Obama\", \"Obama\", \"President\", \"President\", \"Request\", \"The\", \"The\", \"Vote\", \"Voting\", \"You\", \"back\", \"ballot\", \"ballot,\", \"carefully.\", \"early,\", \"easy\", \"family\", \"fill\", \"followers\", \"friends\", \"https://t.co/JlOWmkJG57\", \"https://t.co/pmWQqs4PbB\", \"know\", \"know\", \"know\", \"mail\", \"mail\", \"minutes\", \"need\", \"one\", \"one.\", \"one.\", \"request\", \"safe.\", \"same.\", \"seen\", \"seen\", \"send\", \"started:\", \"talk\", \"talk\", \"us\", \"used\", \"vote-by-mail\"]}, \"R\": 30, \"lambda.step\": 0.01, \"plot.opts\": {\"xlab\": \"PC1\", \"ylab\": \"PC2\"}, \"topic.order\": [14, 6, 1, 7, 9, 8, 2, 18, 13, 5, 3, 4, 20, 19, 11, 12, 15, 16, 17, 10]};\n",
       "\n",
       "function LDAvis_load_lib(url, callback){\n",
       "  var s = document.createElement('script');\n",
       "  s.src = url;\n",
       "  s.async = true;\n",
       "  s.onreadystatechange = s.onload = callback;\n",
       "  s.onerror = function(){console.warn(\"failed to load library \" + url);};\n",
       "  document.getElementsByTagName(\"head\")[0].appendChild(s);\n",
       "}\n",
       "\n",
       "if(typeof(LDAvis) !== \"undefined\"){\n",
       "   // already loaded: just create the visualization\n",
       "   !function(LDAvis){\n",
       "       new LDAvis(\"#\" + \"ldavis_el335134984463824917152129\", ldavis_el335134984463824917152129_data);\n",
       "   }(LDAvis);\n",
       "}else if(typeof define === \"function\" && define.amd){\n",
       "   // require.js is available: use it to load d3/LDAvis\n",
       "   require.config({paths: {d3: \"https://cdnjs.cloudflare.com/ajax/libs/d3/3.5.5/d3.min\"}});\n",
       "   require([\"d3\"], function(d3){\n",
       "      window.d3 = d3;\n",
       "      LDAvis_load_lib(\"https://cdn.rawgit.com/bmabey/pyLDAvis/files/ldavis.v1.0.0.js\", function(){\n",
       "        new LDAvis(\"#\" + \"ldavis_el335134984463824917152129\", ldavis_el335134984463824917152129_data);\n",
       "      });\n",
       "    });\n",
       "}else{\n",
       "    // require.js not available: dynamically load d3 & LDAvis\n",
       "    LDAvis_load_lib(\"https://cdnjs.cloudflare.com/ajax/libs/d3/3.5.5/d3.min.js\", function(){\n",
       "         LDAvis_load_lib(\"https://cdn.rawgit.com/bmabey/pyLDAvis/files/ldavis.v1.0.0.js\", function(){\n",
       "                 new LDAvis(\"#\" + \"ldavis_el335134984463824917152129\", ldavis_el335134984463824917152129_data);\n",
       "            })\n",
       "         });\n",
       "}\n",
       "</script>"
      ],
      "text/plain": [
       "<IPython.core.display.HTML object>"
      ]
     },
     "execution_count": 40,
     "metadata": {},
     "output_type": "execute_result"
    }
   ],
   "source": [
    "%matplotlib inline\n",
    "import pyLDAvis\n",
    "import pyLDAvis.gensim\n",
    "vis = pyLDAvis.gensim.prepare(topic_model=lda_model, corpus=corpus, dictionary=dictionary_LDA)\n",
    "pyLDAvis.enable_notebook()\n",
    "pyLDAvis.display(vis)"
   ]
  },
  {
   "cell_type": "markdown",
   "metadata": {},
   "source": [
    "## Graphs"
   ]
  },
  {
   "cell_type": "code",
   "execution_count": 270,
   "metadata": {},
   "outputs": [
    {
     "data": {
      "text/plain": [
       "[<matplotlib.lines.Line2D at 0x12db08410>]"
      ]
     },
     "execution_count": 270,
     "metadata": {},
     "output_type": "execute_result"
    },
    {
     "data": {
      "image/png": "[encoded data removed]",
      "text/plain": [
       "<Figure size 432x288 with 1 Axes>"
      ]
     },
     "metadata": {
      "needs_background": "light"
     },
     "output_type": "display_data"
    }
   ],
   "source": [
    "import matplotlib.pyplot as plt\n",
    "plt.plot(data[\"sentiments\"])"
   ]
  },
  {
   "cell_type": "code",
   "execution_count": 271,
   "metadata": {},
   "outputs": [],
   "source": [
    "def clean_time(time):\n",
    "    t = time.replace(\"+0000 \",\"\")\n",
    "    return t\n",
    "data['time'] = data['time'].apply(clean_time)"
   ]
  },
  {
   "cell_type": "code",
   "execution_count": 272,
   "metadata": {},
   "outputs": [
    {
     "data": {
      "text/plain": [
       "'import plotly.express as px\\nfig = px.line(df, y=\"sentiment\", labels={\\'x\\':\\'sentiment\\', \\'y\\':\\'time\\'}, text=df[\\'time\\'])\\n# add hover_name=\"topic\"\\n\\n\\nfig.show()'"
      ]
     },
     "execution_count": 272,
     "metadata": {},
     "output_type": "execute_result"
    }
   ],
   "source": [
    "\"\"\"import plotly.express as px\n",
    "fig = px.line(df, y=\"sentiment\", labels={'x':'sentiment', 'y':'time'}, text=df['time'])\n",
    "# add hover_name=\"topic\"\n",
    "\n",
    "\n",
    "fig.show()\"\"\""
   ]
  },
  {
   "cell_type": "code",
   "execution_count": 273,
   "metadata": {},
   "outputs": [],
   "source": [
    "def getindex(y_pred):\n",
    "    start = y_pred.index.start\n",
    "    stop = y_pred.index.stop\n",
    "    step = y_pred.index.step\n",
    "    l = []\n",
    "    for i in range(start, stop, step):\n",
    "        l.append(i)\n",
    "    return l"
   ]
  },
  {
   "cell_type": "code",
   "execution_count": 344,
   "metadata": {},
   "outputs": [
    {
     "data": {
      "application/vnd.plotly.v1+json": {
       "config": {
        "plotlyServerURL": "https://plot.ly"
       },
       "data": [
        {
         "mode": "lines+markers",
         "name": "ground truth",
         "text": [
          "Tue Jul 28 16:28:15 2020",
          "Tue Jul 28 16:26:27 2020",
          "Sun Jul 26 16:00:15 2020",
          "Sun Jul 26 13:00:05 2020",
          "Fri Jul 24 18:26:39 2020",
          "Thu Jul 23 14:00:56 2020",
          "Wed Jul 22 14:00:04 2020",
          "Tue Jul 21 15:17:03 2020",
          "Sat Jul 18 05:25:25 2020",
          "Fri Jul 17 14:58:27 2020",
          "Wed Jul 15 14:38:15 2020",
          "Wed Jul 15 14:38:14 2020",
          "Mon Jul 13 18:33:53 2020",
          "Mon Jul 13 18:33:53 2020",
          "Thu Jul 09 18:15:51 2020",
          "Thu Jul 09 18:15:50 2020",
          "Thu Jul 09 18:15:50 2020",
          "Thu Jul 09 18:15:50 2020",
          "Thu Jul 09 18:15:49 2020",
          "Wed Jul 08 16:58:33 2020",
          "Sat Jul 04 14:35:02 2020",
          "Fri Jul 03 16:00:04 2020",
          "Mon Jun 29 14:00:17 2020",
          "Fri Jun 26 23:11:31 2020",
          "Fri Jun 26 17:30:03 2020",
          "Fri Jun 26 14:56:57 2020",
          "Thu Jun 25 19:47:05 2020",
          "Wed Jun 24 22:05:14 2020",
          "Mon Jun 22 16:30:58 2020",
          "Fri Jun 19 16:51:15 2020",
          "Thu Jun 18 15:24:24 2020",
          "Thu Jun 18 15:23:59 2020",
          "Tue Jun 16 15:30:53 2020",
          "Tue Jun 16 15:30:52 2020",
          "Tue Jun 16 01:06:17 2020",
          "Thu Jun 11 18:30:59 2020",
          "Thu Jun 11 18:30:58 2020",
          "Thu Jun 11 18:30:58 2020",
          "Thu Jun 11 18:30:57 2020",
          "Wed Jun 10 15:10:15 2020",
          "Tue Jun 09 23:30:04 2020",
          "Tue Jun 09 21:56:52 2020",
          "Sun Jun 07 23:25:01 2020",
          "Sat Jun 06 00:37:08 2020",
          "Fri Jun 05 16:21:00 2020",
          "Thu Jun 04 23:15:58 2020",
          "Thu Jun 04 23:15:58 2020",
          "Thu Jun 04 23:15:57 2020",
          "Thu Jun 04 23:15:57 2020",
          "Thu Jun 04 13:04:56 2020",
          "Wed Jun 03 15:04:20 2020",
          "Wed Jun 03 15:04:20 2020",
          "Wed Jun 03 15:04:19 2020",
          "Mon Jun 01 23:59:01 2020",
          "Mon Jun 01 19:11:51 2020",
          "Mon Jun 01 19:11:51 2020",
          "Mon Jun 01 19:11:51 2020",
          "Mon Jun 01 19:11:50 2020",
          "Mon Jun 01 19:11:50 2020",
          "Mon Jun 01 19:11:50 2020",
          "Mon Jun 01 19:11:50 2020",
          "Mon Jun 01 19:11:49 2020",
          "Mon Jun 01 19:11:49 2020",
          "Mon Jun 01 19:11:49 2020",
          "Mon Jun 01 14:15:57 2020",
          "Fri May 29 16:06:54 2020",
          "Wed May 27 15:00:15 2020",
          "Mon May 25 14:31:05 2020",
          "Sat May 23 21:55:57 2020",
          "Sat May 23 21:55:56 2020",
          "Sat May 23 21:55:56 2020",
          "Sat May 23 18:03:41 2020",
          "Wed May 20 21:34:17 2020",
          "Sun May 17 01:00:04 2020",
          "Sat May 16 23:54:47 2020",
          "Sat May 16 21:47:43 2020",
          "Sat May 16 16:00:01 2020",
          "Thu May 14 18:44:56 2020",
          "Thu May 14 15:30:44 2020",
          "Wed May 13 23:05:11 2020",
          "Mon May 11 21:06:14 2020",
          "Sun May 10 15:03:15 2020",
          "Wed May 06 14:10:45 2020",
          "Tue May 05 15:05:41 2020",
          "Fri May 01 18:25:11 2020",
          "Mon Apr 27 17:22:11 2020",
          "Sat Apr 25 20:49:19 2020",
          "Sat Apr 25 00:00:58 2020",
          "Fri Apr 24 20:53:55 2020",
          "Wed Apr 22 19:40:36 2020",
          "Wed Apr 22 15:32:30 2020",
          "Mon Apr 20 17:01:39 2020",
          "Fri Apr 17 19:52:14 2020",
          "Fri Apr 17 14:45:45 2020",
          "Wed Apr 15 16:43:48 2020",
          "Tue Apr 14 16:02:07 2020",
          "Tue Apr 14 15:47:23 2020",
          "Mon Apr 13 18:01:58 2020",
          "Mon Apr 13 15:33:36 2020",
          "Sun Apr 12 14:41:33 2020"
         ],
         "type": "scatter",
         "y": [
          0.4345359999999996,
          0.4345359999999996,
          0.4345359999999996,
          0.4345359999999996,
          0.4345359999999996,
          0.4345359999999996,
          0.4345359999999996,
          0.4345359999999996,
          0.43453599999999964,
          0.43453599999999964,
          0.43453599999999964,
          0.43453599999999964,
          0.43453599999999976,
          0.43453599999999976,
          0.43453599999999976,
          0.4430909999999998,
          0.4430909999999998,
          0.4467199999999997,
          0.4467199999999997,
          0.45399299999999976,
          0.45399299999999976,
          0.45399299999999976,
          0.4541329999999998,
          0.4541329999999998,
          0.4541329999999998,
          0.4541329999999998,
          0.4541329999999998,
          0.4541329999999998,
          0.45413299999999973,
          0.45413299999999973,
          0.45413299999999973,
          0.45413299999999973,
          0.45413299999999973,
          0.45413299999999973,
          0.45413299999999973,
          0.45413299999999973,
          0.4455779999999997,
          0.4455779999999997,
          0.4455779999999997,
          0.4455779999999997,
          0.4455779999999997,
          0.45216599999999973,
          0.4521659999999996,
          0.4521659999999996,
          0.4486209999999997,
          0.4486209999999997,
          0.4486209999999997,
          0.4486209999999997,
          0.4486209999999997,
          0.4486209999999997,
          0.4486209999999997,
          0.4486209999999997,
          0.4486209999999997,
          0.4486209999999997,
          0.4486209999999997,
          0.4637729999999996,
          0.4637729999999996,
          0.4637729999999996,
          0.4637729999999996,
          0.4637729999999996,
          0.4637729999999996,
          0.4637729999999996,
          0.4637729999999996,
          0.4637729999999996,
          0.4637729999999996,
          0.4637729999999996,
          0.4637729999999996,
          0.4637729999999996,
          0.4637729999999996,
          0.4723279999999997,
          0.4723279999999997,
          0.4723279999999997,
          0.4723279999999997,
          0.4723279999999997,
          0.4723279999999997,
          0.4723279999999997,
          0.4723279999999997,
          0.4723279999999997,
          0.4723279999999997,
          0.4723279999999997,
          0.4723279999999997,
          0.4723279999999997,
          0.4723279999999997,
          0.4723279999999997,
          0.4723279999999997,
          0.4723279999999997,
          0.4723279999999997,
          0.4723279999999997,
          0.4723279999999997,
          0.4723279999999997,
          0.4723279999999997,
          0.4723279999999997,
          0.4723279999999997,
          0.4723279999999997,
          0.4723279999999997,
          0.4723279999999997,
          0.4723279999999997,
          0.4723279999999997,
          0.4723279999999997,
          0.4723279999999997
         ]
        }
       ],
       "layout": {
        "template": {
         "data": {
          "bar": [
           {
            "error_x": {
             "color": "#2a3f5f"
            },
            "error_y": {
             "color": "#2a3f5f"
            },
            "marker": {
             "line": {
              "color": "#E5ECF6",
              "width": 0.5
             }
            },
            "type": "bar"
           }
          ],
          "barpolar": [
           {
            "marker": {
             "line": {
              "color": "#E5ECF6",
              "width": 0.5
             }
            },
            "type": "barpolar"
           }
          ],
          "carpet": [
           {
            "aaxis": {
             "endlinecolor": "#2a3f5f",
             "gridcolor": "white",
             "linecolor": "white",
             "minorgridcolor": "white",
             "startlinecolor": "#2a3f5f"
            },
            "baxis": {
             "endlinecolor": "#2a3f5f",
             "gridcolor": "white",
             "linecolor": "white",
             "minorgridcolor": "white",
             "startlinecolor": "#2a3f5f"
            },
            "type": "carpet"
           }
          ],
          "choropleth": [
           {
            "colorbar": {
             "outlinewidth": 0,
             "ticks": ""
            },
            "type": "choropleth"
           }
          ],
          "contour": [
           {
            "colorbar": {
             "outlinewidth": 0,
             "ticks": ""
            },
            "colorscale": [
             [
              0,
              "#0d0887"
             ],
             [
              0.1111111111111111,
              "#46039f"
             ],
             [
              0.2222222222222222,
              "#7201a8"
             ],
             [
              0.3333333333333333,
              "#9c179e"
             ],
             [
              0.4444444444444444,
              "#bd3786"
             ],
             [
              0.5555555555555556,
              "#d8576b"
             ],
             [
              0.6666666666666666,
              "#ed7953"
             ],
             [
              0.7777777777777778,
              "#fb9f3a"
             ],
             [
              0.8888888888888888,
              "#fdca26"
             ],
             [
              1,
              "#f0f921"
             ]
            ],
            "type": "contour"
           }
          ],
          "contourcarpet": [
           {
            "colorbar": {
             "outlinewidth": 0,
             "ticks": ""
            },
            "type": "contourcarpet"
           }
          ],
          "heatmap": [
           {
            "colorbar": {
             "outlinewidth": 0,
             "ticks": ""
            },
            "colorscale": [
             [
              0,
              "#0d0887"
             ],
             [
              0.1111111111111111,
              "#46039f"
             ],
             [
              0.2222222222222222,
              "#7201a8"
             ],
             [
              0.3333333333333333,
              "#9c179e"
             ],
             [
              0.4444444444444444,
              "#bd3786"
             ],
             [
              0.5555555555555556,
              "#d8576b"
             ],
             [
              0.6666666666666666,
              "#ed7953"
             ],
             [
              0.7777777777777778,
              "#fb9f3a"
             ],
             [
              0.8888888888888888,
              "#fdca26"
             ],
             [
              1,
              "#f0f921"
             ]
            ],
            "type": "heatmap"
           }
          ],
          "heatmapgl": [
           {
            "colorbar": {
             "outlinewidth": 0,
             "ticks": ""
            },
            "colorscale": [
             [
              0,
              "#0d0887"
             ],
             [
              0.1111111111111111,
              "#46039f"
             ],
             [
              0.2222222222222222,
              "#7201a8"
             ],
             [
              0.3333333333333333,
              "#9c179e"
             ],
             [
              0.4444444444444444,
              "#bd3786"
             ],
             [
              0.5555555555555556,
              "#d8576b"
             ],
             [
              0.6666666666666666,
              "#ed7953"
             ],
             [
              0.7777777777777778,
              "#fb9f3a"
             ],
             [
              0.8888888888888888,
              "#fdca26"
             ],
             [
              1,
              "#f0f921"
             ]
            ],
            "type": "heatmapgl"
           }
          ],
          "histogram": [
           {
            "marker": {
             "colorbar": {
              "outlinewidth": 0,
              "ticks": ""
             }
            },
            "type": "histogram"
           }
          ],
          "histogram2d": [
           {
            "colorbar": {
             "outlinewidth": 0,
             "ticks": ""
            },
            "colorscale": [
             [
              0,
              "#0d0887"
             ],
             [
              0.1111111111111111,
              "#46039f"
             ],
             [
              0.2222222222222222,
              "#7201a8"
             ],
             [
              0.3333333333333333,
              "#9c179e"
             ],
             [
              0.4444444444444444,
              "#bd3786"
             ],
             [
              0.5555555555555556,
              "#d8576b"
             ],
             [
              0.6666666666666666,
              "#ed7953"
             ],
             [
              0.7777777777777778,
              "#fb9f3a"
             ],
             [
              0.8888888888888888,
              "#fdca26"
             ],
             [
              1,
              "#f0f921"
             ]
            ],
            "type": "histogram2d"
           }
          ],
          "histogram2dcontour": [
           {
            "colorbar": {
             "outlinewidth": 0,
             "ticks": ""
            },
            "colorscale": [
             [
              0,
              "#0d0887"
             ],
             [
              0.1111111111111111,
              "#46039f"
             ],
             [
              0.2222222222222222,
              "#7201a8"
             ],
             [
              0.3333333333333333,
              "#9c179e"
             ],
             [
              0.4444444444444444,
              "#bd3786"
             ],
             [
              0.5555555555555556,
              "#d8576b"
             ],
             [
              0.6666666666666666,
              "#ed7953"
             ],
             [
              0.7777777777777778,
              "#fb9f3a"
             ],
             [
              0.8888888888888888,
              "#fdca26"
             ],
             [
              1,
              "#f0f921"
             ]
            ],
            "type": "histogram2dcontour"
           }
          ],
          "mesh3d": [
           {
            "colorbar": {
             "outlinewidth": 0,
             "ticks": ""
            },
            "type": "mesh3d"
           }
          ],
          "parcoords": [
           {
            "line": {
             "colorbar": {
              "outlinewidth": 0,
              "ticks": ""
             }
            },
            "type": "parcoords"
           }
          ],
          "pie": [
           {
            "automargin": true,
            "type": "pie"
           }
          ],
          "scatter": [
           {
            "marker": {
             "colorbar": {
              "outlinewidth": 0,
              "ticks": ""
             }
            },
            "type": "scatter"
           }
          ],
          "scatter3d": [
           {
            "line": {
             "colorbar": {
              "outlinewidth": 0,
              "ticks": ""
             }
            },
            "marker": {
             "colorbar": {
              "outlinewidth": 0,
              "ticks": ""
             }
            },
            "type": "scatter3d"
           }
          ],
          "scattercarpet": [
           {
            "marker": {
             "colorbar": {
              "outlinewidth": 0,
              "ticks": ""
             }
            },
            "type": "scattercarpet"
           }
          ],
          "scattergeo": [
           {
            "marker": {
             "colorbar": {
              "outlinewidth": 0,
              "ticks": ""
             }
            },
            "type": "scattergeo"
           }
          ],
          "scattergl": [
           {
            "marker": {
             "colorbar": {
              "outlinewidth": 0,
              "ticks": ""
             }
            },
            "type": "scattergl"
           }
          ],
          "scattermapbox": [
           {
            "marker": {
             "colorbar": {
              "outlinewidth": 0,
              "ticks": ""
             }
            },
            "type": "scattermapbox"
           }
          ],
          "scatterpolar": [
           {
            "marker": {
             "colorbar": {
              "outlinewidth": 0,
              "ticks": ""
             }
            },
            "type": "scatterpolar"
           }
          ],
          "scatterpolargl": [
           {
            "marker": {
             "colorbar": {
              "outlinewidth": 0,
              "ticks": ""
             }
            },
            "type": "scatterpolargl"
           }
          ],
          "scatterternary": [
           {
            "marker": {
             "colorbar": {
              "outlinewidth": 0,
              "ticks": ""
             }
            },
            "type": "scatterternary"
           }
          ],
          "surface": [
           {
            "colorbar": {
             "outlinewidth": 0,
             "ticks": ""
            },
            "colorscale": [
             [
              0,
              "#0d0887"
             ],
             [
              0.1111111111111111,
              "#46039f"
             ],
             [
              0.2222222222222222,
              "#7201a8"
             ],
             [
              0.3333333333333333,
              "#9c179e"
             ],
             [
              0.4444444444444444,
              "#bd3786"
             ],
             [
              0.5555555555555556,
              "#d8576b"
             ],
             [
              0.6666666666666666,
              "#ed7953"
             ],
             [
              0.7777777777777778,
              "#fb9f3a"
             ],
             [
              0.8888888888888888,
              "#fdca26"
             ],
             [
              1,
              "#f0f921"
             ]
            ],
            "type": "surface"
           }
          ],
          "table": [
           {
            "cells": {
             "fill": {
              "color": "#EBF0F8"
             },
             "line": {
              "color": "white"
             }
            },
            "header": {
             "fill": {
              "color": "#C8D4E3"
             },
             "line": {
              "color": "white"
             }
            },
            "type": "table"
           }
          ]
         },
         "layout": {
          "annotationdefaults": {
           "arrowcolor": "#2a3f5f",
           "arrowhead": 0,
           "arrowwidth": 1
          },
          "coloraxis": {
           "colorbar": {
            "outlinewidth": 0,
            "ticks": ""
           }
          },
          "colorscale": {
           "diverging": [
            [
             0,
             "#8e0152"
            ],
            [
             0.1,
             "#c51b7d"
            ],
            [
             0.2,
             "#de77ae"
            ],
            [
             0.3,
             "#f1b6da"
            ],
            [
             0.4,
             "#fde0ef"
            ],
            [
             0.5,
             "#f7f7f7"
            ],
            [
             0.6,
             "#e6f5d0"
            ],
            [
             0.7,
             "#b8e186"
            ],
            [
             0.8,
             "#7fbc41"
            ],
            [
             0.9,
             "#4d9221"
            ],
            [
             1,
             "#276419"
            ]
           ],
           "sequential": [
            [
             0,
             "#0d0887"
            ],
            [
             0.1111111111111111,
             "#46039f"
            ],
            [
             0.2222222222222222,
             "#7201a8"
            ],
            [
             0.3333333333333333,
             "#9c179e"
            ],
            [
             0.4444444444444444,
             "#bd3786"
            ],
            [
             0.5555555555555556,
             "#d8576b"
            ],
            [
             0.6666666666666666,
             "#ed7953"
            ],
            [
             0.7777777777777778,
             "#fb9f3a"
            ],
            [
             0.8888888888888888,
             "#fdca26"
            ],
            [
             1,
             "#f0f921"
            ]
           ],
           "sequentialminus": [
            [
             0,
             "#0d0887"
            ],
            [
             0.1111111111111111,
             "#46039f"
            ],
            [
             0.2222222222222222,
             "#7201a8"
            ],
            [
             0.3333333333333333,
             "#9c179e"
            ],
            [
             0.4444444444444444,
             "#bd3786"
            ],
            [
             0.5555555555555556,
             "#d8576b"
            ],
            [
             0.6666666666666666,
             "#ed7953"
            ],
            [
             0.7777777777777778,
             "#fb9f3a"
            ],
            [
             0.8888888888888888,
             "#fdca26"
            ],
            [
             1,
             "#f0f921"
            ]
           ]
          },
          "colorway": [
           "#636efa",
           "#EF553B",
           "#00cc96",
           "#ab63fa",
           "#FFA15A",
           "#19d3f3",
           "#FF6692",
           "#B6E880",
           "#FF97FF",
           "#FECB52"
          ],
          "font": {
           "color": "#2a3f5f"
          },
          "geo": {
           "bgcolor": "white",
           "lakecolor": "white",
           "landcolor": "#E5ECF6",
           "showlakes": true,
           "showland": true,
           "subunitcolor": "white"
          },
          "hoverlabel": {
           "align": "left"
          },
          "hovermode": "closest",
          "mapbox": {
           "style": "light"
          },
          "paper_bgcolor": "white",
          "plot_bgcolor": "#E5ECF6",
          "polar": {
           "angularaxis": {
            "gridcolor": "white",
            "linecolor": "white",
            "ticks": ""
           },
           "bgcolor": "#E5ECF6",
           "radialaxis": {
            "gridcolor": "white",
            "linecolor": "white",
            "ticks": ""
           }
          },
          "scene": {
           "xaxis": {
            "backgroundcolor": "#E5ECF6",
            "gridcolor": "white",
            "gridwidth": 2,
            "linecolor": "white",
            "showbackground": true,
            "ticks": "",
            "zerolinecolor": "white"
           },
           "yaxis": {
            "backgroundcolor": "#E5ECF6",
            "gridcolor": "white",
            "gridwidth": 2,
            "linecolor": "white",
            "showbackground": true,
            "ticks": "",
            "zerolinecolor": "white"
           },
           "zaxis": {
            "backgroundcolor": "#E5ECF6",
            "gridcolor": "white",
            "gridwidth": 2,
            "linecolor": "white",
            "showbackground": true,
            "ticks": "",
            "zerolinecolor": "white"
           }
          },
          "shapedefaults": {
           "line": {
            "color": "#2a3f5f"
           }
          },
          "ternary": {
           "aaxis": {
            "gridcolor": "white",
            "linecolor": "white",
            "ticks": ""
           },
           "baxis": {
            "gridcolor": "white",
            "linecolor": "white",
            "ticks": ""
           },
           "bgcolor": "#E5ECF6",
           "caxis": {
            "gridcolor": "white",
            "linecolor": "white",
            "ticks": ""
           }
          },
          "title": {
           "x": 0.05
          },
          "xaxis": {
           "automargin": true,
           "gridcolor": "white",
           "linecolor": "white",
           "ticks": "",
           "title": {
            "standoff": 15
           },
           "zerolinecolor": "white",
           "zerolinewidth": 2
          },
          "yaxis": {
           "automargin": true,
           "gridcolor": "white",
           "linecolor": "white",
           "ticks": "",
           "title": {
            "standoff": 15
           },
           "zerolinecolor": "white",
           "zerolinewidth": 2
          }
         }
        },
        "title": {
         "text": "Sentiment Analysis of @BarackObama twitter interactions"
        }
       }
      },
      "text/html": [
       "<div>\n",
       "        \n",
       "        \n",
       "            <div id=\"5abcc289-7af8-4e8a-8ce9-0578102cf4eb\" class=\"plotly-graph-div\" style=\"height:525px; width:100%;\"></div>\n",
       "            <script type=\"text/javascript\">\n",
       "                require([\"plotly\"], function(Plotly) {\n",
       "                    window.PLOTLYENV=window.PLOTLYENV || {};\n",
       "                    \n",
       "                if (document.getElementById(\"5abcc289-7af8-4e8a-8ce9-0578102cf4eb\")) {\n",
       "                    Plotly.newPlot(\n",
       "                        '5abcc289-7af8-4e8a-8ce9-0578102cf4eb',\n",
       "                        [{\"mode\": \"lines+markers\", \"name\": \"ground truth\", \"text\": [\"Tue Jul 28 16:28:15 2020\", \"Tue Jul 28 16:26:27 2020\", \"Sun Jul 26 16:00:15 2020\", \"Sun Jul 26 13:00:05 2020\", \"Fri Jul 24 18:26:39 2020\", \"Thu Jul 23 14:00:56 2020\", \"Wed Jul 22 14:00:04 2020\", \"Tue Jul 21 15:17:03 2020\", \"Sat Jul 18 05:25:25 2020\", \"Fri Jul 17 14:58:27 2020\", \"Wed Jul 15 14:38:15 2020\", \"Wed Jul 15 14:38:14 2020\", \"Mon Jul 13 18:33:53 2020\", \"Mon Jul 13 18:33:53 2020\", \"Thu Jul 09 18:15:51 2020\", \"Thu Jul 09 18:15:50 2020\", \"Thu Jul 09 18:15:50 2020\", \"Thu Jul 09 18:15:50 2020\", \"Thu Jul 09 18:15:49 2020\", \"Wed Jul 08 16:58:33 2020\", \"Sat Jul 04 14:35:02 2020\", \"Fri Jul 03 16:00:04 2020\", \"Mon Jun 29 14:00:17 2020\", \"Fri Jun 26 23:11:31 2020\", \"Fri Jun 26 17:30:03 2020\", \"Fri Jun 26 14:56:57 2020\", \"Thu Jun 25 19:47:05 2020\", \"Wed Jun 24 22:05:14 2020\", \"Mon Jun 22 16:30:58 2020\", \"Fri Jun 19 16:51:15 2020\", \"Thu Jun 18 15:24:24 2020\", \"Thu Jun 18 15:23:59 2020\", \"Tue Jun 16 15:30:53 2020\", \"Tue Jun 16 15:30:52 2020\", \"Tue Jun 16 01:06:17 2020\", \"Thu Jun 11 18:30:59 2020\", \"Thu Jun 11 18:30:58 2020\", \"Thu Jun 11 18:30:58 2020\", \"Thu Jun 11 18:30:57 2020\", \"Wed Jun 10 15:10:15 2020\", \"Tue Jun 09 23:30:04 2020\", \"Tue Jun 09 21:56:52 2020\", \"Sun Jun 07 23:25:01 2020\", \"Sat Jun 06 00:37:08 2020\", \"Fri Jun 05 16:21:00 2020\", \"Thu Jun 04 23:15:58 2020\", \"Thu Jun 04 23:15:58 2020\", \"Thu Jun 04 23:15:57 2020\", \"Thu Jun 04 23:15:57 2020\", \"Thu Jun 04 13:04:56 2020\", \"Wed Jun 03 15:04:20 2020\", \"Wed Jun 03 15:04:20 2020\", \"Wed Jun 03 15:04:19 2020\", \"Mon Jun 01 23:59:01 2020\", \"Mon Jun 01 19:11:51 2020\", \"Mon Jun 01 19:11:51 2020\", \"Mon Jun 01 19:11:51 2020\", \"Mon Jun 01 19:11:50 2020\", \"Mon Jun 01 19:11:50 2020\", \"Mon Jun 01 19:11:50 2020\", \"Mon Jun 01 19:11:50 2020\", \"Mon Jun 01 19:11:49 2020\", \"Mon Jun 01 19:11:49 2020\", \"Mon Jun 01 19:11:49 2020\", \"Mon Jun 01 14:15:57 2020\", \"Fri May 29 16:06:54 2020\", \"Wed May 27 15:00:15 2020\", \"Mon May 25 14:31:05 2020\", \"Sat May 23 21:55:57 2020\", \"Sat May 23 21:55:56 2020\", \"Sat May 23 21:55:56 2020\", \"Sat May 23 18:03:41 2020\", \"Wed May 20 21:34:17 2020\", \"Sun May 17 01:00:04 2020\", \"Sat May 16 23:54:47 2020\", \"Sat May 16 21:47:43 2020\", \"Sat May 16 16:00:01 2020\", \"Thu May 14 18:44:56 2020\", \"Thu May 14 15:30:44 2020\", \"Wed May 13 23:05:11 2020\", \"Mon May 11 21:06:14 2020\", \"Sun May 10 15:03:15 2020\", \"Wed May 06 14:10:45 2020\", \"Tue May 05 15:05:41 2020\", \"Fri May 01 18:25:11 2020\", \"Mon Apr 27 17:22:11 2020\", \"Sat Apr 25 20:49:19 2020\", \"Sat Apr 25 00:00:58 2020\", \"Fri Apr 24 20:53:55 2020\", \"Wed Apr 22 19:40:36 2020\", \"Wed Apr 22 15:32:30 2020\", \"Mon Apr 20 17:01:39 2020\", \"Fri Apr 17 19:52:14 2020\", \"Fri Apr 17 14:45:45 2020\", \"Wed Apr 15 16:43:48 2020\", \"Tue Apr 14 16:02:07 2020\", \"Tue Apr 14 15:47:23 2020\", \"Mon Apr 13 18:01:58 2020\", \"Mon Apr 13 15:33:36 2020\", \"Sun Apr 12 14:41:33 2020\"], \"type\": \"scatter\", \"y\": [0.4345359999999996, 0.4345359999999996, 0.4345359999999996, 0.4345359999999996, 0.4345359999999996, 0.4345359999999996, 0.4345359999999996, 0.4345359999999996, 0.43453599999999964, 0.43453599999999964, 0.43453599999999964, 0.43453599999999964, 0.43453599999999976, 0.43453599999999976, 0.43453599999999976, 0.4430909999999998, 0.4430909999999998, 0.4467199999999997, 0.4467199999999997, 0.45399299999999976, 0.45399299999999976, 0.45399299999999976, 0.4541329999999998, 0.4541329999999998, 0.4541329999999998, 0.4541329999999998, 0.4541329999999998, 0.4541329999999998, 0.45413299999999973, 0.45413299999999973, 0.45413299999999973, 0.45413299999999973, 0.45413299999999973, 0.45413299999999973, 0.45413299999999973, 0.45413299999999973, 0.4455779999999997, 0.4455779999999997, 0.4455779999999997, 0.4455779999999997, 0.4455779999999997, 0.45216599999999973, 0.4521659999999996, 0.4521659999999996, 0.4486209999999997, 0.4486209999999997, 0.4486209999999997, 0.4486209999999997, 0.4486209999999997, 0.4486209999999997, 0.4486209999999997, 0.4486209999999997, 0.4486209999999997, 0.4486209999999997, 0.4486209999999997, 0.4637729999999996, 0.4637729999999996, 0.4637729999999996, 0.4637729999999996, 0.4637729999999996, 0.4637729999999996, 0.4637729999999996, 0.4637729999999996, 0.4637729999999996, 0.4637729999999996, 0.4637729999999996, 0.4637729999999996, 0.4637729999999996, 0.4637729999999996, 0.4723279999999997, 0.4723279999999997, 0.4723279999999997, 0.4723279999999997, 0.4723279999999997, 0.4723279999999997, 0.4723279999999997, 0.4723279999999997, 0.4723279999999997, 0.4723279999999997, 0.4723279999999997, 0.4723279999999997, 0.4723279999999997, 0.4723279999999997, 0.4723279999999997, 0.4723279999999997, 0.4723279999999997, 0.4723279999999997, 0.4723279999999997, 0.4723279999999997, 0.4723279999999997, 0.4723279999999997, 0.4723279999999997, 0.4723279999999997, 0.4723279999999997, 0.4723279999999997, 0.4723279999999997, 0.4723279999999997, 0.4723279999999997, 0.4723279999999997, 0.4723279999999997]}],\n",
       "                        {\"template\": {\"data\": {\"bar\": [{\"error_x\": {\"color\": \"#2a3f5f\"}, \"error_y\": {\"color\": \"#2a3f5f\"}, \"marker\": {\"line\": {\"color\": \"#E5ECF6\", \"width\": 0.5}}, \"type\": \"bar\"}], \"barpolar\": [{\"marker\": {\"line\": {\"color\": \"#E5ECF6\", \"width\": 0.5}}, \"type\": \"barpolar\"}], \"carpet\": [{\"aaxis\": {\"endlinecolor\": \"#2a3f5f\", \"gridcolor\": \"white\", \"linecolor\": \"white\", \"minorgridcolor\": \"white\", \"startlinecolor\": \"#2a3f5f\"}, \"baxis\": {\"endlinecolor\": \"#2a3f5f\", \"gridcolor\": \"white\", \"linecolor\": \"white\", \"minorgridcolor\": \"white\", \"startlinecolor\": \"#2a3f5f\"}, \"type\": \"carpet\"}], \"choropleth\": [{\"colorbar\": {\"outlinewidth\": 0, \"ticks\": \"\"}, \"type\": \"choropleth\"}], \"contour\": [{\"colorbar\": {\"outlinewidth\": 0, \"ticks\": \"\"}, \"colorscale\": [[0.0, \"#0d0887\"], [0.1111111111111111, \"#46039f\"], [0.2222222222222222, \"#7201a8\"], [0.3333333333333333, \"#9c179e\"], [0.4444444444444444, \"#bd3786\"], [0.5555555555555556, \"#d8576b\"], [0.6666666666666666, \"#ed7953\"], [0.7777777777777778, \"#fb9f3a\"], [0.8888888888888888, \"#fdca26\"], [1.0, \"#f0f921\"]], \"type\": \"contour\"}], \"contourcarpet\": [{\"colorbar\": {\"outlinewidth\": 0, \"ticks\": \"\"}, \"type\": \"contourcarpet\"}], \"heatmap\": [{\"colorbar\": {\"outlinewidth\": 0, \"ticks\": \"\"}, \"colorscale\": [[0.0, \"#0d0887\"], [0.1111111111111111, \"#46039f\"], [0.2222222222222222, \"#7201a8\"], [0.3333333333333333, \"#9c179e\"], [0.4444444444444444, \"#bd3786\"], [0.5555555555555556, \"#d8576b\"], [0.6666666666666666, \"#ed7953\"], [0.7777777777777778, \"#fb9f3a\"], [0.8888888888888888, \"#fdca26\"], [1.0, \"#f0f921\"]], \"type\": \"heatmap\"}], \"heatmapgl\": [{\"colorbar\": {\"outlinewidth\": 0, \"ticks\": \"\"}, \"colorscale\": [[0.0, \"#0d0887\"], [0.1111111111111111, \"#46039f\"], [0.2222222222222222, \"#7201a8\"], [0.3333333333333333, \"#9c179e\"], [0.4444444444444444, \"#bd3786\"], [0.5555555555555556, \"#d8576b\"], [0.6666666666666666, \"#ed7953\"], [0.7777777777777778, \"#fb9f3a\"], [0.8888888888888888, \"#fdca26\"], [1.0, \"#f0f921\"]], \"type\": \"heatmapgl\"}], \"histogram\": [{\"marker\": {\"colorbar\": {\"outlinewidth\": 0, \"ticks\": \"\"}}, \"type\": \"histogram\"}], \"histogram2d\": [{\"colorbar\": {\"outlinewidth\": 0, \"ticks\": \"\"}, \"colorscale\": [[0.0, \"#0d0887\"], [0.1111111111111111, \"#46039f\"], [0.2222222222222222, \"#7201a8\"], [0.3333333333333333, \"#9c179e\"], [0.4444444444444444, \"#bd3786\"], [0.5555555555555556, \"#d8576b\"], [0.6666666666666666, \"#ed7953\"], [0.7777777777777778, \"#fb9f3a\"], [0.8888888888888888, \"#fdca26\"], [1.0, \"#f0f921\"]], \"type\": \"histogram2d\"}], \"histogram2dcontour\": [{\"colorbar\": {\"outlinewidth\": 0, \"ticks\": \"\"}, \"colorscale\": [[0.0, \"#0d0887\"], [0.1111111111111111, \"#46039f\"], [0.2222222222222222, \"#7201a8\"], [0.3333333333333333, \"#9c179e\"], [0.4444444444444444, \"#bd3786\"], [0.5555555555555556, \"#d8576b\"], [0.6666666666666666, \"#ed7953\"], [0.7777777777777778, \"#fb9f3a\"], [0.8888888888888888, \"#fdca26\"], [1.0, \"#f0f921\"]], \"type\": \"histogram2dcontour\"}], \"mesh3d\": [{\"colorbar\": {\"outlinewidth\": 0, \"ticks\": \"\"}, \"type\": \"mesh3d\"}], \"parcoords\": [{\"line\": {\"colorbar\": {\"outlinewidth\": 0, \"ticks\": \"\"}}, \"type\": \"parcoords\"}], \"pie\": [{\"automargin\": true, \"type\": \"pie\"}], \"scatter\": [{\"marker\": {\"colorbar\": {\"outlinewidth\": 0, \"ticks\": \"\"}}, \"type\": \"scatter\"}], \"scatter3d\": [{\"line\": {\"colorbar\": {\"outlinewidth\": 0, \"ticks\": \"\"}}, \"marker\": {\"colorbar\": {\"outlinewidth\": 0, \"ticks\": \"\"}}, \"type\": \"scatter3d\"}], \"scattercarpet\": [{\"marker\": {\"colorbar\": {\"outlinewidth\": 0, \"ticks\": \"\"}}, \"type\": \"scattercarpet\"}], \"scattergeo\": [{\"marker\": {\"colorbar\": {\"outlinewidth\": 0, \"ticks\": \"\"}}, \"type\": \"scattergeo\"}], \"scattergl\": [{\"marker\": {\"colorbar\": {\"outlinewidth\": 0, \"ticks\": \"\"}}, \"type\": \"scattergl\"}], \"scattermapbox\": [{\"marker\": {\"colorbar\": {\"outlinewidth\": 0, \"ticks\": \"\"}}, \"type\": \"scattermapbox\"}], \"scatterpolar\": [{\"marker\": {\"colorbar\": {\"outlinewidth\": 0, \"ticks\": \"\"}}, \"type\": \"scatterpolar\"}], \"scatterpolargl\": [{\"marker\": {\"colorbar\": {\"outlinewidth\": 0, \"ticks\": \"\"}}, \"type\": \"scatterpolargl\"}], \"scatterternary\": [{\"marker\": {\"colorbar\": {\"outlinewidth\": 0, \"ticks\": \"\"}}, \"type\": \"scatterternary\"}], \"surface\": [{\"colorbar\": {\"outlinewidth\": 0, \"ticks\": \"\"}, \"colorscale\": [[0.0, \"#0d0887\"], [0.1111111111111111, \"#46039f\"], [0.2222222222222222, \"#7201a8\"], [0.3333333333333333, \"#9c179e\"], [0.4444444444444444, \"#bd3786\"], [0.5555555555555556, \"#d8576b\"], [0.6666666666666666, \"#ed7953\"], [0.7777777777777778, \"#fb9f3a\"], [0.8888888888888888, \"#fdca26\"], [1.0, \"#f0f921\"]], \"type\": \"surface\"}], \"table\": [{\"cells\": {\"fill\": {\"color\": \"#EBF0F8\"}, \"line\": {\"color\": \"white\"}}, \"header\": {\"fill\": {\"color\": \"#C8D4E3\"}, \"line\": {\"color\": \"white\"}}, \"type\": \"table\"}]}, \"layout\": {\"annotationdefaults\": {\"arrowcolor\": \"#2a3f5f\", \"arrowhead\": 0, \"arrowwidth\": 1}, \"coloraxis\": {\"colorbar\": {\"outlinewidth\": 0, \"ticks\": \"\"}}, \"colorscale\": {\"diverging\": [[0, \"#8e0152\"], [0.1, \"#c51b7d\"], [0.2, \"#de77ae\"], [0.3, \"#f1b6da\"], [0.4, \"#fde0ef\"], [0.5, \"#f7f7f7\"], [0.6, \"#e6f5d0\"], [0.7, \"#b8e186\"], [0.8, \"#7fbc41\"], [0.9, \"#4d9221\"], [1, \"#276419\"]], \"sequential\": [[0.0, \"#0d0887\"], [0.1111111111111111, \"#46039f\"], [0.2222222222222222, \"#7201a8\"], [0.3333333333333333, \"#9c179e\"], [0.4444444444444444, \"#bd3786\"], [0.5555555555555556, \"#d8576b\"], [0.6666666666666666, \"#ed7953\"], [0.7777777777777778, \"#fb9f3a\"], [0.8888888888888888, \"#fdca26\"], [1.0, \"#f0f921\"]], \"sequentialminus\": [[0.0, \"#0d0887\"], [0.1111111111111111, \"#46039f\"], [0.2222222222222222, \"#7201a8\"], [0.3333333333333333, \"#9c179e\"], [0.4444444444444444, \"#bd3786\"], [0.5555555555555556, \"#d8576b\"], [0.6666666666666666, \"#ed7953\"], [0.7777777777777778, \"#fb9f3a\"], [0.8888888888888888, \"#fdca26\"], [1.0, \"#f0f921\"]]}, \"colorway\": [\"#636efa\", \"#EF553B\", \"#00cc96\", \"#ab63fa\", \"#FFA15A\", \"#19d3f3\", \"#FF6692\", \"#B6E880\", \"#FF97FF\", \"#FECB52\"], \"font\": {\"color\": \"#2a3f5f\"}, \"geo\": {\"bgcolor\": \"white\", \"lakecolor\": \"white\", \"landcolor\": \"#E5ECF6\", \"showlakes\": true, \"showland\": true, \"subunitcolor\": \"white\"}, \"hoverlabel\": {\"align\": \"left\"}, \"hovermode\": \"closest\", \"mapbox\": {\"style\": \"light\"}, \"paper_bgcolor\": \"white\", \"plot_bgcolor\": \"#E5ECF6\", \"polar\": {\"angularaxis\": {\"gridcolor\": \"white\", \"linecolor\": \"white\", \"ticks\": \"\"}, \"bgcolor\": \"#E5ECF6\", \"radialaxis\": {\"gridcolor\": \"white\", \"linecolor\": \"white\", \"ticks\": \"\"}}, \"scene\": {\"xaxis\": {\"backgroundcolor\": \"#E5ECF6\", \"gridcolor\": \"white\", \"gridwidth\": 2, \"linecolor\": \"white\", \"showbackground\": true, \"ticks\": \"\", \"zerolinecolor\": \"white\"}, \"yaxis\": {\"backgroundcolor\": \"#E5ECF6\", \"gridcolor\": \"white\", \"gridwidth\": 2, \"linecolor\": \"white\", \"showbackground\": true, \"ticks\": \"\", \"zerolinecolor\": \"white\"}, \"zaxis\": {\"backgroundcolor\": \"#E5ECF6\", \"gridcolor\": \"white\", \"gridwidth\": 2, \"linecolor\": \"white\", \"showbackground\": true, \"ticks\": \"\", \"zerolinecolor\": \"white\"}}, \"shapedefaults\": {\"line\": {\"color\": \"#2a3f5f\"}}, \"ternary\": {\"aaxis\": {\"gridcolor\": \"white\", \"linecolor\": \"white\", \"ticks\": \"\"}, \"baxis\": {\"gridcolor\": \"white\", \"linecolor\": \"white\", \"ticks\": \"\"}, \"bgcolor\": \"#E5ECF6\", \"caxis\": {\"gridcolor\": \"white\", \"linecolor\": \"white\", \"ticks\": \"\"}}, \"title\": {\"x\": 0.05}, \"xaxis\": {\"automargin\": true, \"gridcolor\": \"white\", \"linecolor\": \"white\", \"ticks\": \"\", \"title\": {\"standoff\": 15}, \"zerolinecolor\": \"white\", \"zerolinewidth\": 2}, \"yaxis\": {\"automargin\": true, \"gridcolor\": \"white\", \"linecolor\": \"white\", \"ticks\": \"\", \"title\": {\"standoff\": 15}, \"zerolinecolor\": \"white\", \"zerolinewidth\": 2}}}, \"title\": {\"text\": \"Sentiment Analysis of @BarackObama twitter interactions\"}},\n",
       "                        {\"responsive\": true}\n",
       "                    ).then(function(){\n",
       "                            \n",
       "var gd = document.getElementById('5abcc289-7af8-4e8a-8ce9-0578102cf4eb');\n",
       "var x = new MutationObserver(function (mutations, observer) {{\n",
       "        var display = window.getComputedStyle(gd).display;\n",
       "        if (!display || display === 'none') {{\n",
       "            console.log([gd, 'removed!']);\n",
       "            Plotly.purge(gd);\n",
       "            observer.disconnect();\n",
       "        }}\n",
       "}});\n",
       "\n",
       "// Listen for the removal of the full notebook cells\n",
       "var notebookContainer = gd.closest('#notebook-container');\n",
       "if (notebookContainer) {{\n",
       "    x.observe(notebookContainer, {childList: true});\n",
       "}}\n",
       "\n",
       "// Listen for the clearing of the current output cell\n",
       "var outputEl = gd.closest('.output');\n",
       "if (outputEl) {{\n",
       "    x.observe(outputEl, {childList: true});\n",
       "}}\n",
       "\n",
       "                        })\n",
       "                };\n",
       "                });\n",
       "            </script>\n",
       "        </div>"
      ]
     },
     "metadata": {},
     "output_type": "display_data"
    }
   ],
   "source": [
    "import plotly.graph_objects as go\n",
    "\n",
    "fig = go.Figure()\n",
    "fig.add_trace(go.Scatter(y=data['sentiments'],\n",
    "                                mode='lines+markers',\n",
    "                                name='ground truth',\n",
    "                                text=(data['time'])))\n",
    "\n",
    "fig.update_layout(title=f\"Sentiment Analysis of @{user} twitter interactions\")\n",
    "fig.show()"
   ]
  },
  {
   "cell_type": "code",
   "execution_count": 275,
   "metadata": {},
   "outputs": [
    {
     "data": {
      "application/vnd.plotly.v1+json": {
       "config": {
        "plotlyServerURL": "https://plot.ly"
       },
       "data": [
        {
         "mode": "lines+markers",
         "text": [
          "Tue Jul 28 16:28:15 2020",
          "Tue Jul 28 16:26:27 2020",
          "Sun Jul 26 16:00:15 2020",
          "Sun Jul 26 13:00:05 2020",
          "Fri Jul 24 18:26:39 2020",
          "Thu Jul 23 14:00:56 2020",
          "Wed Jul 22 14:00:04 2020",
          "Tue Jul 21 15:17:03 2020",
          "Sat Jul 18 05:25:25 2020",
          "Fri Jul 17 14:58:27 2020",
          "Wed Jul 15 14:38:15 2020",
          "Wed Jul 15 14:38:14 2020",
          "Mon Jul 13 18:33:53 2020",
          "Mon Jul 13 18:33:53 2020",
          "Thu Jul 09 18:15:51 2020",
          "Thu Jul 09 18:15:50 2020",
          "Thu Jul 09 18:15:50 2020",
          "Thu Jul 09 18:15:50 2020",
          "Thu Jul 09 18:15:49 2020",
          "Wed Jul 08 16:58:33 2020",
          "Sat Jul 04 14:35:02 2020",
          "Fri Jul 03 16:00:04 2020",
          "Mon Jun 29 14:00:17 2020",
          "Fri Jun 26 23:11:31 2020",
          "Fri Jun 26 17:30:03 2020",
          "Fri Jun 26 14:56:57 2020",
          "Thu Jun 25 19:47:05 2020",
          "Wed Jun 24 22:05:14 2020",
          "Mon Jun 22 16:30:58 2020",
          "Fri Jun 19 16:51:15 2020",
          "Thu Jun 18 15:24:24 2020",
          "Thu Jun 18 15:23:59 2020",
          "Tue Jun 16 15:30:53 2020",
          "Tue Jun 16 15:30:52 2020",
          "Tue Jun 16 01:06:17 2020",
          "Thu Jun 11 18:30:59 2020",
          "Thu Jun 11 18:30:58 2020",
          "Thu Jun 11 18:30:58 2020",
          "Thu Jun 11 18:30:57 2020",
          "Wed Jun 10 15:10:15 2020",
          "Tue Jun 09 23:30:04 2020",
          "Tue Jun 09 21:56:52 2020",
          "Sun Jun 07 23:25:01 2020",
          "Sat Jun 06 00:37:08 2020",
          "Fri Jun 05 16:21:00 2020",
          "Thu Jun 04 23:15:58 2020",
          "Thu Jun 04 23:15:58 2020",
          "Thu Jun 04 23:15:57 2020",
          "Thu Jun 04 23:15:57 2020",
          "Thu Jun 04 13:04:56 2020",
          "Wed Jun 03 15:04:20 2020",
          "Wed Jun 03 15:04:20 2020",
          "Wed Jun 03 15:04:19 2020",
          "Mon Jun 01 23:59:01 2020",
          "Mon Jun 01 19:11:51 2020",
          "Mon Jun 01 19:11:51 2020",
          "Mon Jun 01 19:11:51 2020",
          "Mon Jun 01 19:11:50 2020",
          "Mon Jun 01 19:11:50 2020",
          "Mon Jun 01 19:11:50 2020",
          "Mon Jun 01 19:11:50 2020",
          "Mon Jun 01 19:11:49 2020",
          "Mon Jun 01 19:11:49 2020",
          "Mon Jun 01 19:11:49 2020",
          "Mon Jun 01 14:15:57 2020",
          "Fri May 29 16:06:54 2020",
          "Wed May 27 15:00:15 2020",
          "Mon May 25 14:31:05 2020",
          "Sat May 23 21:55:57 2020",
          "Sat May 23 21:55:56 2020",
          "Sat May 23 21:55:56 2020",
          "Sat May 23 18:03:41 2020",
          "Wed May 20 21:34:17 2020",
          "Sun May 17 01:00:04 2020",
          "Sat May 16 23:54:47 2020",
          "Sat May 16 21:47:43 2020",
          "Sat May 16 16:00:01 2020",
          "Thu May 14 18:44:56 2020",
          "Thu May 14 15:30:44 2020",
          "Wed May 13 23:05:11 2020",
          "Mon May 11 21:06:14 2020",
          "Sun May 10 15:03:15 2020",
          "Wed May 06 14:10:45 2020",
          "Tue May 05 15:05:41 2020",
          "Fri May 01 18:25:11 2020",
          "Mon Apr 27 17:22:11 2020",
          "Sat Apr 25 20:49:19 2020",
          "Sat Apr 25 00:00:58 2020",
          "Fri Apr 24 20:53:55 2020",
          "Wed Apr 22 19:40:36 2020",
          "Wed Apr 22 15:32:30 2020",
          "Mon Apr 20 17:01:39 2020",
          "Fri Apr 17 19:52:14 2020",
          "Fri Apr 17 14:45:45 2020",
          "Wed Apr 15 16:43:48 2020",
          "Tue Apr 14 16:02:07 2020",
          "Tue Apr 14 15:47:23 2020",
          "Mon Apr 13 18:01:58 2020",
          "Mon Apr 13 15:33:36 2020",
          "Sun Apr 12 14:41:33 2020"
         ],
         "type": "scatter",
         "y": [
          50417,
          7713,
          55936,
          9367,
          16773,
          28699,
          43912,
          14540,
          99125,
          10903,
          6420,
          17759,
          7445,
          25139,
          4019,
          4511,
          1161,
          1531,
          9627,
          10488,
          42464,
          50290,
          32260,
          14505,
          5370,
          11224,
          11211,
          1398,
          23818,
          76944,
          25115,
          86625,
          5408,
          12081,
          104222,
          5974,
          5974,
          2112,
          26218,
          25823,
          14959,
          3852,
          30728,
          20246,
          41662,
          5129,
          6565,
          5326,
          40823,
          16615,
          12095,
          10274,
          33991,
          158612,
          36952,
          38746,
          47355,
          17121,
          28422,
          18406,
          18988,
          23531,
          16051,
          161491,
          265323,
          480082,
          28226,
          27527,
          4231,
          5679,
          16734,
          12768,
          7804,
          114620,
          6312,
          28512,
          27133,
          328131,
          29783,
          45600,
          16799,
          56854,
          11190,
          44471,
          11499,
          17748,
          44864,
          16641,
          51551,
          39227,
          17901,
          44044,
          6187,
          5127,
          34605,
          19783,
          160907,
          22675,
          37385,
          55093
         ]
        }
       ],
       "layout": {
        "template": {
         "data": {
          "bar": [
           {
            "error_x": {
             "color": "#2a3f5f"
            },
            "error_y": {
             "color": "#2a3f5f"
            },
            "marker": {
             "line": {
              "color": "#E5ECF6",
              "width": 0.5
             }
            },
            "type": "bar"
           }
          ],
          "barpolar": [
           {
            "marker": {
             "line": {
              "color": "#E5ECF6",
              "width": 0.5
             }
            },
            "type": "barpolar"
           }
          ],
          "carpet": [
           {
            "aaxis": {
             "endlinecolor": "#2a3f5f",
             "gridcolor": "white",
             "linecolor": "white",
             "minorgridcolor": "white",
             "startlinecolor": "#2a3f5f"
            },
            "baxis": {
             "endlinecolor": "#2a3f5f",
             "gridcolor": "white",
             "linecolor": "white",
             "minorgridcolor": "white",
             "startlinecolor": "#2a3f5f"
            },
            "type": "carpet"
           }
          ],
          "choropleth": [
           {
            "colorbar": {
             "outlinewidth": 0,
             "ticks": ""
            },
            "type": "choropleth"
           }
          ],
          "contour": [
           {
            "colorbar": {
             "outlinewidth": 0,
             "ticks": ""
            },
            "colorscale": [
             [
              0,
              "#0d0887"
             ],
             [
              0.1111111111111111,
              "#46039f"
             ],
             [
              0.2222222222222222,
              "#7201a8"
             ],
             [
              0.3333333333333333,
              "#9c179e"
             ],
             [
              0.4444444444444444,
              "#bd3786"
             ],
             [
              0.5555555555555556,
              "#d8576b"
             ],
             [
              0.6666666666666666,
              "#ed7953"
             ],
             [
              0.7777777777777778,
              "#fb9f3a"
             ],
             [
              0.8888888888888888,
              "#fdca26"
             ],
             [
              1,
              "#f0f921"
             ]
            ],
            "type": "contour"
           }
          ],
          "contourcarpet": [
           {
            "colorbar": {
             "outlinewidth": 0,
             "ticks": ""
            },
            "type": "contourcarpet"
           }
          ],
          "heatmap": [
           {
            "colorbar": {
             "outlinewidth": 0,
             "ticks": ""
            },
            "colorscale": [
             [
              0,
              "#0d0887"
             ],
             [
              0.1111111111111111,
              "#46039f"
             ],
             [
              0.2222222222222222,
              "#7201a8"
             ],
             [
              0.3333333333333333,
              "#9c179e"
             ],
             [
              0.4444444444444444,
              "#bd3786"
             ],
             [
              0.5555555555555556,
              "#d8576b"
             ],
             [
              0.6666666666666666,
              "#ed7953"
             ],
             [
              0.7777777777777778,
              "#fb9f3a"
             ],
             [
              0.8888888888888888,
              "#fdca26"
             ],
             [
              1,
              "#f0f921"
             ]
            ],
            "type": "heatmap"
           }
          ],
          "heatmapgl": [
           {
            "colorbar": {
             "outlinewidth": 0,
             "ticks": ""
            },
            "colorscale": [
             [
              0,
              "#0d0887"
             ],
             [
              0.1111111111111111,
              "#46039f"
             ],
             [
              0.2222222222222222,
              "#7201a8"
             ],
             [
              0.3333333333333333,
              "#9c179e"
             ],
             [
              0.4444444444444444,
              "#bd3786"
             ],
             [
              0.5555555555555556,
              "#d8576b"
             ],
             [
              0.6666666666666666,
              "#ed7953"
             ],
             [
              0.7777777777777778,
              "#fb9f3a"
             ],
             [
              0.8888888888888888,
              "#fdca26"
             ],
             [
              1,
              "#f0f921"
             ]
            ],
            "type": "heatmapgl"
           }
          ],
          "histogram": [
           {
            "marker": {
             "colorbar": {
              "outlinewidth": 0,
              "ticks": ""
             }
            },
            "type": "histogram"
           }
          ],
          "histogram2d": [
           {
            "colorbar": {
             "outlinewidth": 0,
             "ticks": ""
            },
            "colorscale": [
             [
              0,
              "#0d0887"
             ],
             [
              0.1111111111111111,
              "#46039f"
             ],
             [
              0.2222222222222222,
              "#7201a8"
             ],
             [
              0.3333333333333333,
              "#9c179e"
             ],
             [
              0.4444444444444444,
              "#bd3786"
             ],
             [
              0.5555555555555556,
              "#d8576b"
             ],
             [
              0.6666666666666666,
              "#ed7953"
             ],
             [
              0.7777777777777778,
              "#fb9f3a"
             ],
             [
              0.8888888888888888,
              "#fdca26"
             ],
             [
              1,
              "#f0f921"
             ]
            ],
            "type": "histogram2d"
           }
          ],
          "histogram2dcontour": [
           {
            "colorbar": {
             "outlinewidth": 0,
             "ticks": ""
            },
            "colorscale": [
             [
              0,
              "#0d0887"
             ],
             [
              0.1111111111111111,
              "#46039f"
             ],
             [
              0.2222222222222222,
              "#7201a8"
             ],
             [
              0.3333333333333333,
              "#9c179e"
             ],
             [
              0.4444444444444444,
              "#bd3786"
             ],
             [
              0.5555555555555556,
              "#d8576b"
             ],
             [
              0.6666666666666666,
              "#ed7953"
             ],
             [
              0.7777777777777778,
              "#fb9f3a"
             ],
             [
              0.8888888888888888,
              "#fdca26"
             ],
             [
              1,
              "#f0f921"
             ]
            ],
            "type": "histogram2dcontour"
           }
          ],
          "mesh3d": [
           {
            "colorbar": {
             "outlinewidth": 0,
             "ticks": ""
            },
            "type": "mesh3d"
           }
          ],
          "parcoords": [
           {
            "line": {
             "colorbar": {
              "outlinewidth": 0,
              "ticks": ""
             }
            },
            "type": "parcoords"
           }
          ],
          "pie": [
           {
            "automargin": true,
            "type": "pie"
           }
          ],
          "scatter": [
           {
            "marker": {
             "colorbar": {
              "outlinewidth": 0,
              "ticks": ""
             }
            },
            "type": "scatter"
           }
          ],
          "scatter3d": [
           {
            "line": {
             "colorbar": {
              "outlinewidth": 0,
              "ticks": ""
             }
            },
            "marker": {
             "colorbar": {
              "outlinewidth": 0,
              "ticks": ""
             }
            },
            "type": "scatter3d"
           }
          ],
          "scattercarpet": [
           {
            "marker": {
             "colorbar": {
              "outlinewidth": 0,
              "ticks": ""
             }
            },
            "type": "scattercarpet"
           }
          ],
          "scattergeo": [
           {
            "marker": {
             "colorbar": {
              "outlinewidth": 0,
              "ticks": ""
             }
            },
            "type": "scattergeo"
           }
          ],
          "scattergl": [
           {
            "marker": {
             "colorbar": {
              "outlinewidth": 0,
              "ticks": ""
             }
            },
            "type": "scattergl"
           }
          ],
          "scattermapbox": [
           {
            "marker": {
             "colorbar": {
              "outlinewidth": 0,
              "ticks": ""
             }
            },
            "type": "scattermapbox"
           }
          ],
          "scatterpolar": [
           {
            "marker": {
             "colorbar": {
              "outlinewidth": 0,
              "ticks": ""
             }
            },
            "type": "scatterpolar"
           }
          ],
          "scatterpolargl": [
           {
            "marker": {
             "colorbar": {
              "outlinewidth": 0,
              "ticks": ""
             }
            },
            "type": "scatterpolargl"
           }
          ],
          "scatterternary": [
           {
            "marker": {
             "colorbar": {
              "outlinewidth": 0,
              "ticks": ""
             }
            },
            "type": "scatterternary"
           }
          ],
          "surface": [
           {
            "colorbar": {
             "outlinewidth": 0,
             "ticks": ""
            },
            "colorscale": [
             [
              0,
              "#0d0887"
             ],
             [
              0.1111111111111111,
              "#46039f"
             ],
             [
              0.2222222222222222,
              "#7201a8"
             ],
             [
              0.3333333333333333,
              "#9c179e"
             ],
             [
              0.4444444444444444,
              "#bd3786"
             ],
             [
              0.5555555555555556,
              "#d8576b"
             ],
             [
              0.6666666666666666,
              "#ed7953"
             ],
             [
              0.7777777777777778,
              "#fb9f3a"
             ],
             [
              0.8888888888888888,
              "#fdca26"
             ],
             [
              1,
              "#f0f921"
             ]
            ],
            "type": "surface"
           }
          ],
          "table": [
           {
            "cells": {
             "fill": {
              "color": "#EBF0F8"
             },
             "line": {
              "color": "white"
             }
            },
            "header": {
             "fill": {
              "color": "#C8D4E3"
             },
             "line": {
              "color": "white"
             }
            },
            "type": "table"
           }
          ]
         },
         "layout": {
          "annotationdefaults": {
           "arrowcolor": "#2a3f5f",
           "arrowhead": 0,
           "arrowwidth": 1
          },
          "coloraxis": {
           "colorbar": {
            "outlinewidth": 0,
            "ticks": ""
           }
          },
          "colorscale": {
           "diverging": [
            [
             0,
             "#8e0152"
            ],
            [
             0.1,
             "#c51b7d"
            ],
            [
             0.2,
             "#de77ae"
            ],
            [
             0.3,
             "#f1b6da"
            ],
            [
             0.4,
             "#fde0ef"
            ],
            [
             0.5,
             "#f7f7f7"
            ],
            [
             0.6,
             "#e6f5d0"
            ],
            [
             0.7,
             "#b8e186"
            ],
            [
             0.8,
             "#7fbc41"
            ],
            [
             0.9,
             "#4d9221"
            ],
            [
             1,
             "#276419"
            ]
           ],
           "sequential": [
            [
             0,
             "#0d0887"
            ],
            [
             0.1111111111111111,
             "#46039f"
            ],
            [
             0.2222222222222222,
             "#7201a8"
            ],
            [
             0.3333333333333333,
             "#9c179e"
            ],
            [
             0.4444444444444444,
             "#bd3786"
            ],
            [
             0.5555555555555556,
             "#d8576b"
            ],
            [
             0.6666666666666666,
             "#ed7953"
            ],
            [
             0.7777777777777778,
             "#fb9f3a"
            ],
            [
             0.8888888888888888,
             "#fdca26"
            ],
            [
             1,
             "#f0f921"
            ]
           ],
           "sequentialminus": [
            [
             0,
             "#0d0887"
            ],
            [
             0.1111111111111111,
             "#46039f"
            ],
            [
             0.2222222222222222,
             "#7201a8"
            ],
            [
             0.3333333333333333,
             "#9c179e"
            ],
            [
             0.4444444444444444,
             "#bd3786"
            ],
            [
             0.5555555555555556,
             "#d8576b"
            ],
            [
             0.6666666666666666,
             "#ed7953"
            ],
            [
             0.7777777777777778,
             "#fb9f3a"
            ],
            [
             0.8888888888888888,
             "#fdca26"
            ],
            [
             1,
             "#f0f921"
            ]
           ]
          },
          "colorway": [
           "#636efa",
           "#EF553B",
           "#00cc96",
           "#ab63fa",
           "#FFA15A",
           "#19d3f3",
           "#FF6692",
           "#B6E880",
           "#FF97FF",
           "#FECB52"
          ],
          "font": {
           "color": "#2a3f5f"
          },
          "geo": {
           "bgcolor": "white",
           "lakecolor": "white",
           "landcolor": "#E5ECF6",
           "showlakes": true,
           "showland": true,
           "subunitcolor": "white"
          },
          "hoverlabel": {
           "align": "left"
          },
          "hovermode": "closest",
          "mapbox": {
           "style": "light"
          },
          "paper_bgcolor": "white",
          "plot_bgcolor": "#E5ECF6",
          "polar": {
           "angularaxis": {
            "gridcolor": "white",
            "linecolor": "white",
            "ticks": ""
           },
           "bgcolor": "#E5ECF6",
           "radialaxis": {
            "gridcolor": "white",
            "linecolor": "white",
            "ticks": ""
           }
          },
          "scene": {
           "xaxis": {
            "backgroundcolor": "#E5ECF6",
            "gridcolor": "white",
            "gridwidth": 2,
            "linecolor": "white",
            "showbackground": true,
            "ticks": "",
            "zerolinecolor": "white"
           },
           "yaxis": {
            "backgroundcolor": "#E5ECF6",
            "gridcolor": "white",
            "gridwidth": 2,
            "linecolor": "white",
            "showbackground": true,
            "ticks": "",
            "zerolinecolor": "white"
           },
           "zaxis": {
            "backgroundcolor": "#E5ECF6",
            "gridcolor": "white",
            "gridwidth": 2,
            "linecolor": "white",
            "showbackground": true,
            "ticks": "",
            "zerolinecolor": "white"
           }
          },
          "shapedefaults": {
           "line": {
            "color": "#2a3f5f"
           }
          },
          "ternary": {
           "aaxis": {
            "gridcolor": "white",
            "linecolor": "white",
            "ticks": ""
           },
           "baxis": {
            "gridcolor": "white",
            "linecolor": "white",
            "ticks": ""
           },
           "bgcolor": "#E5ECF6",
           "caxis": {
            "gridcolor": "white",
            "linecolor": "white",
            "ticks": ""
           }
          },
          "title": {
           "x": 0.05
          },
          "xaxis": {
           "automargin": true,
           "gridcolor": "white",
           "linecolor": "white",
           "ticks": "",
           "title": {
            "standoff": 15
           },
           "zerolinecolor": "white",
           "zerolinewidth": 2
          },
          "yaxis": {
           "automargin": true,
           "gridcolor": "white",
           "linecolor": "white",
           "ticks": "",
           "title": {
            "standoff": 15
           },
           "zerolinecolor": "white",
           "zerolinewidth": 2
          }
         }
        },
        "title": {
         "text": "Sentiment Analysis of @BarackObama twitter interactions"
        }
       }
      },
      "text/html": [
       "<div>\n",
       "        \n",
       "        \n",
       "            <div id=\"3078e3c0-30d1-4d9d-9ec3-dec12918de20\" class=\"plotly-graph-div\" style=\"height:525px; width:100%;\"></div>\n",
       "            <script type=\"text/javascript\">\n",
       "                require([\"plotly\"], function(Plotly) {\n",
       "                    window.PLOTLYENV=window.PLOTLYENV || {};\n",
       "                    \n",
       "                if (document.getElementById(\"3078e3c0-30d1-4d9d-9ec3-dec12918de20\")) {\n",
       "                    Plotly.newPlot(\n",
       "                        '3078e3c0-30d1-4d9d-9ec3-dec12918de20',\n",
       "                        [{\"mode\": \"lines+markers\", \"text\": [\"Tue Jul 28 16:28:15 2020\", \"Tue Jul 28 16:26:27 2020\", \"Sun Jul 26 16:00:15 2020\", \"Sun Jul 26 13:00:05 2020\", \"Fri Jul 24 18:26:39 2020\", \"Thu Jul 23 14:00:56 2020\", \"Wed Jul 22 14:00:04 2020\", \"Tue Jul 21 15:17:03 2020\", \"Sat Jul 18 05:25:25 2020\", \"Fri Jul 17 14:58:27 2020\", \"Wed Jul 15 14:38:15 2020\", \"Wed Jul 15 14:38:14 2020\", \"Mon Jul 13 18:33:53 2020\", \"Mon Jul 13 18:33:53 2020\", \"Thu Jul 09 18:15:51 2020\", \"Thu Jul 09 18:15:50 2020\", \"Thu Jul 09 18:15:50 2020\", \"Thu Jul 09 18:15:50 2020\", \"Thu Jul 09 18:15:49 2020\", \"Wed Jul 08 16:58:33 2020\", \"Sat Jul 04 14:35:02 2020\", \"Fri Jul 03 16:00:04 2020\", \"Mon Jun 29 14:00:17 2020\", \"Fri Jun 26 23:11:31 2020\", \"Fri Jun 26 17:30:03 2020\", \"Fri Jun 26 14:56:57 2020\", \"Thu Jun 25 19:47:05 2020\", \"Wed Jun 24 22:05:14 2020\", \"Mon Jun 22 16:30:58 2020\", \"Fri Jun 19 16:51:15 2020\", \"Thu Jun 18 15:24:24 2020\", \"Thu Jun 18 15:23:59 2020\", \"Tue Jun 16 15:30:53 2020\", \"Tue Jun 16 15:30:52 2020\", \"Tue Jun 16 01:06:17 2020\", \"Thu Jun 11 18:30:59 2020\", \"Thu Jun 11 18:30:58 2020\", \"Thu Jun 11 18:30:58 2020\", \"Thu Jun 11 18:30:57 2020\", \"Wed Jun 10 15:10:15 2020\", \"Tue Jun 09 23:30:04 2020\", \"Tue Jun 09 21:56:52 2020\", \"Sun Jun 07 23:25:01 2020\", \"Sat Jun 06 00:37:08 2020\", \"Fri Jun 05 16:21:00 2020\", \"Thu Jun 04 23:15:58 2020\", \"Thu Jun 04 23:15:58 2020\", \"Thu Jun 04 23:15:57 2020\", \"Thu Jun 04 23:15:57 2020\", \"Thu Jun 04 13:04:56 2020\", \"Wed Jun 03 15:04:20 2020\", \"Wed Jun 03 15:04:20 2020\", \"Wed Jun 03 15:04:19 2020\", \"Mon Jun 01 23:59:01 2020\", \"Mon Jun 01 19:11:51 2020\", \"Mon Jun 01 19:11:51 2020\", \"Mon Jun 01 19:11:51 2020\", \"Mon Jun 01 19:11:50 2020\", \"Mon Jun 01 19:11:50 2020\", \"Mon Jun 01 19:11:50 2020\", \"Mon Jun 01 19:11:50 2020\", \"Mon Jun 01 19:11:49 2020\", \"Mon Jun 01 19:11:49 2020\", \"Mon Jun 01 19:11:49 2020\", \"Mon Jun 01 14:15:57 2020\", \"Fri May 29 16:06:54 2020\", \"Wed May 27 15:00:15 2020\", \"Mon May 25 14:31:05 2020\", \"Sat May 23 21:55:57 2020\", \"Sat May 23 21:55:56 2020\", \"Sat May 23 21:55:56 2020\", \"Sat May 23 18:03:41 2020\", \"Wed May 20 21:34:17 2020\", \"Sun May 17 01:00:04 2020\", \"Sat May 16 23:54:47 2020\", \"Sat May 16 21:47:43 2020\", \"Sat May 16 16:00:01 2020\", \"Thu May 14 18:44:56 2020\", \"Thu May 14 15:30:44 2020\", \"Wed May 13 23:05:11 2020\", \"Mon May 11 21:06:14 2020\", \"Sun May 10 15:03:15 2020\", \"Wed May 06 14:10:45 2020\", \"Tue May 05 15:05:41 2020\", \"Fri May 01 18:25:11 2020\", \"Mon Apr 27 17:22:11 2020\", \"Sat Apr 25 20:49:19 2020\", \"Sat Apr 25 00:00:58 2020\", \"Fri Apr 24 20:53:55 2020\", \"Wed Apr 22 19:40:36 2020\", \"Wed Apr 22 15:32:30 2020\", \"Mon Apr 20 17:01:39 2020\", \"Fri Apr 17 19:52:14 2020\", \"Fri Apr 17 14:45:45 2020\", \"Wed Apr 15 16:43:48 2020\", \"Tue Apr 14 16:02:07 2020\", \"Tue Apr 14 15:47:23 2020\", \"Mon Apr 13 18:01:58 2020\", \"Mon Apr 13 15:33:36 2020\", \"Sun Apr 12 14:41:33 2020\"], \"type\": \"scatter\", \"y\": [50417, 7713, 55936, 9367, 16773, 28699, 43912, 14540, 99125, 10903, 6420, 17759, 7445, 25139, 4019, 4511, 1161, 1531, 9627, 10488, 42464, 50290, 32260, 14505, 5370, 11224, 11211, 1398, 23818, 76944, 25115, 86625, 5408, 12081, 104222, 5974, 5974, 2112, 26218, 25823, 14959, 3852, 30728, 20246, 41662, 5129, 6565, 5326, 40823, 16615, 12095, 10274, 33991, 158612, 36952, 38746, 47355, 17121, 28422, 18406, 18988, 23531, 16051, 161491, 265323, 480082, 28226, 27527, 4231, 5679, 16734, 12768, 7804, 114620, 6312, 28512, 27133, 328131, 29783, 45600, 16799, 56854, 11190, 44471, 11499, 17748, 44864, 16641, 51551, 39227, 17901, 44044, 6187, 5127, 34605, 19783, 160907, 22675, 37385, 55093]}],\n",
       "                        {\"template\": {\"data\": {\"bar\": [{\"error_x\": {\"color\": \"#2a3f5f\"}, \"error_y\": {\"color\": \"#2a3f5f\"}, \"marker\": {\"line\": {\"color\": \"#E5ECF6\", \"width\": 0.5}}, \"type\": \"bar\"}], \"barpolar\": [{\"marker\": {\"line\": {\"color\": \"#E5ECF6\", \"width\": 0.5}}, \"type\": \"barpolar\"}], \"carpet\": [{\"aaxis\": {\"endlinecolor\": \"#2a3f5f\", \"gridcolor\": \"white\", \"linecolor\": \"white\", \"minorgridcolor\": \"white\", \"startlinecolor\": \"#2a3f5f\"}, \"baxis\": {\"endlinecolor\": \"#2a3f5f\", \"gridcolor\": \"white\", \"linecolor\": \"white\", \"minorgridcolor\": \"white\", \"startlinecolor\": \"#2a3f5f\"}, \"type\": \"carpet\"}], \"choropleth\": [{\"colorbar\": {\"outlinewidth\": 0, \"ticks\": \"\"}, \"type\": \"choropleth\"}], \"contour\": [{\"colorbar\": {\"outlinewidth\": 0, \"ticks\": \"\"}, \"colorscale\": [[0.0, \"#0d0887\"], [0.1111111111111111, \"#46039f\"], [0.2222222222222222, \"#7201a8\"], [0.3333333333333333, \"#9c179e\"], [0.4444444444444444, \"#bd3786\"], [0.5555555555555556, \"#d8576b\"], [0.6666666666666666, \"#ed7953\"], [0.7777777777777778, \"#fb9f3a\"], [0.8888888888888888, \"#fdca26\"], [1.0, \"#f0f921\"]], \"type\": \"contour\"}], \"contourcarpet\": [{\"colorbar\": {\"outlinewidth\": 0, \"ticks\": \"\"}, \"type\": \"contourcarpet\"}], \"heatmap\": [{\"colorbar\": {\"outlinewidth\": 0, \"ticks\": \"\"}, \"colorscale\": [[0.0, \"#0d0887\"], [0.1111111111111111, \"#46039f\"], [0.2222222222222222, \"#7201a8\"], [0.3333333333333333, \"#9c179e\"], [0.4444444444444444, \"#bd3786\"], [0.5555555555555556, \"#d8576b\"], [0.6666666666666666, \"#ed7953\"], [0.7777777777777778, \"#fb9f3a\"], [0.8888888888888888, \"#fdca26\"], [1.0, \"#f0f921\"]], \"type\": \"heatmap\"}], \"heatmapgl\": [{\"colorbar\": {\"outlinewidth\": 0, \"ticks\": \"\"}, \"colorscale\": [[0.0, \"#0d0887\"], [0.1111111111111111, \"#46039f\"], [0.2222222222222222, \"#7201a8\"], [0.3333333333333333, \"#9c179e\"], [0.4444444444444444, \"#bd3786\"], [0.5555555555555556, \"#d8576b\"], [0.6666666666666666, \"#ed7953\"], [0.7777777777777778, \"#fb9f3a\"], [0.8888888888888888, \"#fdca26\"], [1.0, \"#f0f921\"]], \"type\": \"heatmapgl\"}], \"histogram\": [{\"marker\": {\"colorbar\": {\"outlinewidth\": 0, \"ticks\": \"\"}}, \"type\": \"histogram\"}], \"histogram2d\": [{\"colorbar\": {\"outlinewidth\": 0, \"ticks\": \"\"}, \"colorscale\": [[0.0, \"#0d0887\"], [0.1111111111111111, \"#46039f\"], [0.2222222222222222, \"#7201a8\"], [0.3333333333333333, \"#9c179e\"], [0.4444444444444444, \"#bd3786\"], [0.5555555555555556, \"#d8576b\"], [0.6666666666666666, \"#ed7953\"], [0.7777777777777778, \"#fb9f3a\"], [0.8888888888888888, \"#fdca26\"], [1.0, \"#f0f921\"]], \"type\": \"histogram2d\"}], \"histogram2dcontour\": [{\"colorbar\": {\"outlinewidth\": 0, \"ticks\": \"\"}, \"colorscale\": [[0.0, \"#0d0887\"], [0.1111111111111111, \"#46039f\"], [0.2222222222222222, \"#7201a8\"], [0.3333333333333333, \"#9c179e\"], [0.4444444444444444, \"#bd3786\"], [0.5555555555555556, \"#d8576b\"], [0.6666666666666666, \"#ed7953\"], [0.7777777777777778, \"#fb9f3a\"], [0.8888888888888888, \"#fdca26\"], [1.0, \"#f0f921\"]], \"type\": \"histogram2dcontour\"}], \"mesh3d\": [{\"colorbar\": {\"outlinewidth\": 0, \"ticks\": \"\"}, \"type\": \"mesh3d\"}], \"parcoords\": [{\"line\": {\"colorbar\": {\"outlinewidth\": 0, \"ticks\": \"\"}}, \"type\": \"parcoords\"}], \"pie\": [{\"automargin\": true, \"type\": \"pie\"}], \"scatter\": [{\"marker\": {\"colorbar\": {\"outlinewidth\": 0, \"ticks\": \"\"}}, \"type\": \"scatter\"}], \"scatter3d\": [{\"line\": {\"colorbar\": {\"outlinewidth\": 0, \"ticks\": \"\"}}, \"marker\": {\"colorbar\": {\"outlinewidth\": 0, \"ticks\": \"\"}}, \"type\": \"scatter3d\"}], \"scattercarpet\": [{\"marker\": {\"colorbar\": {\"outlinewidth\": 0, \"ticks\": \"\"}}, \"type\": \"scattercarpet\"}], \"scattergeo\": [{\"marker\": {\"colorbar\": {\"outlinewidth\": 0, \"ticks\": \"\"}}, \"type\": \"scattergeo\"}], \"scattergl\": [{\"marker\": {\"colorbar\": {\"outlinewidth\": 0, \"ticks\": \"\"}}, \"type\": \"scattergl\"}], \"scattermapbox\": [{\"marker\": {\"colorbar\": {\"outlinewidth\": 0, \"ticks\": \"\"}}, \"type\": \"scattermapbox\"}], \"scatterpolar\": [{\"marker\": {\"colorbar\": {\"outlinewidth\": 0, \"ticks\": \"\"}}, \"type\": \"scatterpolar\"}], \"scatterpolargl\": [{\"marker\": {\"colorbar\": {\"outlinewidth\": 0, \"ticks\": \"\"}}, \"type\": \"scatterpolargl\"}], \"scatterternary\": [{\"marker\": {\"colorbar\": {\"outlinewidth\": 0, \"ticks\": \"\"}}, \"type\": \"scatterternary\"}], \"surface\": [{\"colorbar\": {\"outlinewidth\": 0, \"ticks\": \"\"}, \"colorscale\": [[0.0, \"#0d0887\"], [0.1111111111111111, \"#46039f\"], [0.2222222222222222, \"#7201a8\"], [0.3333333333333333, \"#9c179e\"], [0.4444444444444444, \"#bd3786\"], [0.5555555555555556, \"#d8576b\"], [0.6666666666666666, \"#ed7953\"], [0.7777777777777778, \"#fb9f3a\"], [0.8888888888888888, \"#fdca26\"], [1.0, \"#f0f921\"]], \"type\": \"surface\"}], \"table\": [{\"cells\": {\"fill\": {\"color\": \"#EBF0F8\"}, \"line\": {\"color\": \"white\"}}, \"header\": {\"fill\": {\"color\": \"#C8D4E3\"}, \"line\": {\"color\": \"white\"}}, \"type\": \"table\"}]}, \"layout\": {\"annotationdefaults\": {\"arrowcolor\": \"#2a3f5f\", \"arrowhead\": 0, \"arrowwidth\": 1}, \"coloraxis\": {\"colorbar\": {\"outlinewidth\": 0, \"ticks\": \"\"}}, \"colorscale\": {\"diverging\": [[0, \"#8e0152\"], [0.1, \"#c51b7d\"], [0.2, \"#de77ae\"], [0.3, \"#f1b6da\"], [0.4, \"#fde0ef\"], [0.5, \"#f7f7f7\"], [0.6, \"#e6f5d0\"], [0.7, \"#b8e186\"], [0.8, \"#7fbc41\"], [0.9, \"#4d9221\"], [1, \"#276419\"]], \"sequential\": [[0.0, \"#0d0887\"], [0.1111111111111111, \"#46039f\"], [0.2222222222222222, \"#7201a8\"], [0.3333333333333333, \"#9c179e\"], [0.4444444444444444, \"#bd3786\"], [0.5555555555555556, \"#d8576b\"], [0.6666666666666666, \"#ed7953\"], [0.7777777777777778, \"#fb9f3a\"], [0.8888888888888888, \"#fdca26\"], [1.0, \"#f0f921\"]], \"sequentialminus\": [[0.0, \"#0d0887\"], [0.1111111111111111, \"#46039f\"], [0.2222222222222222, \"#7201a8\"], [0.3333333333333333, \"#9c179e\"], [0.4444444444444444, \"#bd3786\"], [0.5555555555555556, \"#d8576b\"], [0.6666666666666666, \"#ed7953\"], [0.7777777777777778, \"#fb9f3a\"], [0.8888888888888888, \"#fdca26\"], [1.0, \"#f0f921\"]]}, \"colorway\": [\"#636efa\", \"#EF553B\", \"#00cc96\", \"#ab63fa\", \"#FFA15A\", \"#19d3f3\", \"#FF6692\", \"#B6E880\", \"#FF97FF\", \"#FECB52\"], \"font\": {\"color\": \"#2a3f5f\"}, \"geo\": {\"bgcolor\": \"white\", \"lakecolor\": \"white\", \"landcolor\": \"#E5ECF6\", \"showlakes\": true, \"showland\": true, \"subunitcolor\": \"white\"}, \"hoverlabel\": {\"align\": \"left\"}, \"hovermode\": \"closest\", \"mapbox\": {\"style\": \"light\"}, \"paper_bgcolor\": \"white\", \"plot_bgcolor\": \"#E5ECF6\", \"polar\": {\"angularaxis\": {\"gridcolor\": \"white\", \"linecolor\": \"white\", \"ticks\": \"\"}, \"bgcolor\": \"#E5ECF6\", \"radialaxis\": {\"gridcolor\": \"white\", \"linecolor\": \"white\", \"ticks\": \"\"}}, \"scene\": {\"xaxis\": {\"backgroundcolor\": \"#E5ECF6\", \"gridcolor\": \"white\", \"gridwidth\": 2, \"linecolor\": \"white\", \"showbackground\": true, \"ticks\": \"\", \"zerolinecolor\": \"white\"}, \"yaxis\": {\"backgroundcolor\": \"#E5ECF6\", \"gridcolor\": \"white\", \"gridwidth\": 2, \"linecolor\": \"white\", \"showbackground\": true, \"ticks\": \"\", \"zerolinecolor\": \"white\"}, \"zaxis\": {\"backgroundcolor\": \"#E5ECF6\", \"gridcolor\": \"white\", \"gridwidth\": 2, \"linecolor\": \"white\", \"showbackground\": true, \"ticks\": \"\", \"zerolinecolor\": \"white\"}}, \"shapedefaults\": {\"line\": {\"color\": \"#2a3f5f\"}}, \"ternary\": {\"aaxis\": {\"gridcolor\": \"white\", \"linecolor\": \"white\", \"ticks\": \"\"}, \"baxis\": {\"gridcolor\": \"white\", \"linecolor\": \"white\", \"ticks\": \"\"}, \"bgcolor\": \"#E5ECF6\", \"caxis\": {\"gridcolor\": \"white\", \"linecolor\": \"white\", \"ticks\": \"\"}}, \"title\": {\"x\": 0.05}, \"xaxis\": {\"automargin\": true, \"gridcolor\": \"white\", \"linecolor\": \"white\", \"ticks\": \"\", \"title\": {\"standoff\": 15}, \"zerolinecolor\": \"white\", \"zerolinewidth\": 2}, \"yaxis\": {\"automargin\": true, \"gridcolor\": \"white\", \"linecolor\": \"white\", \"ticks\": \"\", \"title\": {\"standoff\": 15}, \"zerolinecolor\": \"white\", \"zerolinewidth\": 2}}}, \"title\": {\"text\": \"Sentiment Analysis of @BarackObama twitter interactions\"}},\n",
       "                        {\"responsive\": true}\n",
       "                    ).then(function(){\n",
       "                            \n",
       "var gd = document.getElementById('3078e3c0-30d1-4d9d-9ec3-dec12918de20');\n",
       "var x = new MutationObserver(function (mutations, observer) {{\n",
       "        var display = window.getComputedStyle(gd).display;\n",
       "        if (!display || display === 'none') {{\n",
       "            console.log([gd, 'removed!']);\n",
       "            Plotly.purge(gd);\n",
       "            observer.disconnect();\n",
       "        }}\n",
       "}});\n",
       "\n",
       "// Listen for the removal of the full notebook cells\n",
       "var notebookContainer = gd.closest('#notebook-container');\n",
       "if (notebookContainer) {{\n",
       "    x.observe(notebookContainer, {childList: true});\n",
       "}}\n",
       "\n",
       "// Listen for the clearing of the current output cell\n",
       "var outputEl = gd.closest('.output');\n",
       "if (outputEl) {{\n",
       "    x.observe(outputEl, {childList: true});\n",
       "}}\n",
       "\n",
       "                        })\n",
       "                };\n",
       "                });\n",
       "            </script>\n",
       "        </div>"
      ]
     },
     "metadata": {},
     "output_type": "display_data"
    }
   ],
   "source": [
    "fig = go.Figure(data=go.Scatter(y=data['retweets'],\n",
    "                                mode='lines+markers',\n",
    "                                #marker_color=df['sentiment'],\n",
    "                                text=data['time'])) # hover text goes here\n",
    "\n",
    "\n",
    "fig.update_layout(title=f\"Retweet Analysis of @{user} twitter interactions\")\n",
    "fig.show()"
   ]
  },
  {
   "cell_type": "markdown",
   "metadata": {},
   "source": [
    "## Sentiment Change Prediction"
   ]
  },
  {
   "cell_type": "markdown",
   "metadata": {},
   "source": [
    "### AR"
   ]
  },
  {
   "cell_type": "code",
   "execution_count": 47,
   "metadata": {},
   "outputs": [
    {
     "name": "stderr",
     "output_type": "stream",
     "text": [
      "/usr/local/lib/python3.7/site-packages/patsy/constraint.py:13: DeprecationWarning:\n",
      "\n",
      "Using or importing the ABCs from 'collections' instead of from 'collections.abc' is deprecated since Python 3.3,and in 3.9 it will stop working\n",
      "\n"
     ]
    }
   ],
   "source": [
    "from statsmodels.tsa.stattools import ARMA\n",
    "from statsmodels.tsa.ar_model import AR\n",
    "from sklearn.metrics import mean_squared_error"
   ]
  },
  {
   "cell_type": "code",
   "execution_count": 285,
   "metadata": {},
   "outputs": [],
   "source": [
    "y_train = data[\"sentiments\"][0:95]\n",
    "y_test = data[\"sentiments\"][95:]"
   ]
  },
  {
   "cell_type": "code",
   "execution_count": 286,
   "metadata": {
    "scrolled": true
   },
   "outputs": [
    {
     "name": "stderr",
     "output_type": "stream",
     "text": [
      "/usr/local/lib/python3.7/site-packages/statsmodels/tsa/ar_model.py:691: FutureWarning:\n",
      "\n",
      "\n",
      "statsmodels.tsa.AR has been deprecated in favor of statsmodels.tsa.AutoReg and\n",
      "statsmodels.tsa.SARIMAX.\n",
      "\n",
      "AutoReg adds the ability to specify exogenous variables, include time trends,\n",
      "and add seasonal dummies. The AutoReg API differs from AR since the model is\n",
      "treated as immutable, and so the entire specification including the lag\n",
      "length must be specified when creating the model. This change is too\n",
      "substantial to incorporate into the existing AR api. The function\n",
      "ar_select_order performs lag length selection for AutoReg models.\n",
      "\n",
      "AutoReg only estimates parameters using conditional MLE (OLS). Use SARIMAX to\n",
      "estimate ARX and related models using full MLE via the Kalman Filter.\n",
      "\n",
      "To silence this warning and continue using AR until it is removed, use:\n",
      "\n",
      "import warnings\n",
      "warnings.filterwarnings('ignore', 'statsmodels.tsa.ar_model.AR', FutureWarning)\n",
      "\n",
      "\n"
     ]
    }
   ],
   "source": [
    "model = AR(y_train)"
   ]
  },
  {
   "cell_type": "code",
   "execution_count": 313,
   "metadata": {},
   "outputs": [],
   "source": [
    "model_fit = model.fit(maxlag=10)\n",
    "y_pred = model_fit.predict(start=len(y_train),\n",
    "                                    end=len(y_train)+len(y_test)-1, dynamic=False)"
   ]
  },
  {
   "cell_type": "code",
   "execution_count": 288,
   "metadata": {},
   "outputs": [
    {
     "data": {
      "text/plain": [
       "0.00030134093938875736"
      ]
     },
     "execution_count": 288,
     "metadata": {},
     "output_type": "execute_result"
    }
   ],
   "source": [
    "mean_squared_error(y_test, y_pred, squared=False)"
   ]
  },
  {
   "cell_type": "code",
   "execution_count": 347,
   "metadata": {},
   "outputs": [
    {
     "data": {
      "text/plain": [
       "[99, 100, 101, 102, 103, 104]"
      ]
     },
     "execution_count": 347,
     "metadata": {},
     "output_type": "execute_result"
    }
   ],
   "source": []
  },
  {
   "cell_type": "code",
   "execution_count": 349,
   "metadata": {},
   "outputs": [
    {
     "data": {
      "application/vnd.plotly.v1+json": {
       "config": {
        "plotlyServerURL": "https://plot.ly"
       },
       "data": [
        {
         "mode": "lines+markers",
         "name": "ground truth",
         "text": [
          "Tue Jul 28 16:28:15 2020",
          "Tue Jul 28 16:26:27 2020",
          "Sun Jul 26 16:00:15 2020",
          "Sun Jul 26 13:00:05 2020",
          "Fri Jul 24 18:26:39 2020",
          "Thu Jul 23 14:00:56 2020",
          "Wed Jul 22 14:00:04 2020",
          "Tue Jul 21 15:17:03 2020",
          "Sat Jul 18 05:25:25 2020",
          "Fri Jul 17 14:58:27 2020",
          "Wed Jul 15 14:38:15 2020",
          "Wed Jul 15 14:38:14 2020",
          "Mon Jul 13 18:33:53 2020",
          "Mon Jul 13 18:33:53 2020",
          "Thu Jul 09 18:15:51 2020",
          "Thu Jul 09 18:15:50 2020",
          "Thu Jul 09 18:15:50 2020",
          "Thu Jul 09 18:15:50 2020",
          "Thu Jul 09 18:15:49 2020",
          "Wed Jul 08 16:58:33 2020",
          "Sat Jul 04 14:35:02 2020",
          "Fri Jul 03 16:00:04 2020",
          "Mon Jun 29 14:00:17 2020",
          "Fri Jun 26 23:11:31 2020",
          "Fri Jun 26 17:30:03 2020",
          "Fri Jun 26 14:56:57 2020",
          "Thu Jun 25 19:47:05 2020",
          "Wed Jun 24 22:05:14 2020",
          "Mon Jun 22 16:30:58 2020",
          "Fri Jun 19 16:51:15 2020",
          "Thu Jun 18 15:24:24 2020",
          "Thu Jun 18 15:23:59 2020",
          "Tue Jun 16 15:30:53 2020",
          "Tue Jun 16 15:30:52 2020",
          "Tue Jun 16 01:06:17 2020",
          "Thu Jun 11 18:30:59 2020",
          "Thu Jun 11 18:30:58 2020",
          "Thu Jun 11 18:30:58 2020",
          "Thu Jun 11 18:30:57 2020",
          "Wed Jun 10 15:10:15 2020",
          "Tue Jun 09 23:30:04 2020",
          "Tue Jun 09 21:56:52 2020",
          "Sun Jun 07 23:25:01 2020",
          "Sat Jun 06 00:37:08 2020",
          "Fri Jun 05 16:21:00 2020",
          "Thu Jun 04 23:15:58 2020",
          "Thu Jun 04 23:15:58 2020",
          "Thu Jun 04 23:15:57 2020",
          "Thu Jun 04 23:15:57 2020",
          "Thu Jun 04 13:04:56 2020",
          "Wed Jun 03 15:04:20 2020",
          "Wed Jun 03 15:04:20 2020",
          "Wed Jun 03 15:04:19 2020",
          "Mon Jun 01 23:59:01 2020",
          "Mon Jun 01 19:11:51 2020",
          "Mon Jun 01 19:11:51 2020",
          "Mon Jun 01 19:11:51 2020",
          "Mon Jun 01 19:11:50 2020",
          "Mon Jun 01 19:11:50 2020",
          "Mon Jun 01 19:11:50 2020",
          "Mon Jun 01 19:11:50 2020",
          "Mon Jun 01 19:11:49 2020",
          "Mon Jun 01 19:11:49 2020",
          "Mon Jun 01 19:11:49 2020",
          "Mon Jun 01 14:15:57 2020",
          "Fri May 29 16:06:54 2020",
          "Wed May 27 15:00:15 2020",
          "Mon May 25 14:31:05 2020",
          "Sat May 23 21:55:57 2020",
          "Sat May 23 21:55:56 2020",
          "Sat May 23 21:55:56 2020",
          "Sat May 23 18:03:41 2020",
          "Wed May 20 21:34:17 2020",
          "Sun May 17 01:00:04 2020",
          "Sat May 16 23:54:47 2020",
          "Sat May 16 21:47:43 2020",
          "Sat May 16 16:00:01 2020",
          "Thu May 14 18:44:56 2020",
          "Thu May 14 15:30:44 2020",
          "Wed May 13 23:05:11 2020",
          "Mon May 11 21:06:14 2020",
          "Sun May 10 15:03:15 2020",
          "Wed May 06 14:10:45 2020",
          "Tue May 05 15:05:41 2020",
          "Fri May 01 18:25:11 2020",
          "Mon Apr 27 17:22:11 2020",
          "Sat Apr 25 20:49:19 2020",
          "Sat Apr 25 00:00:58 2020",
          "Fri Apr 24 20:53:55 2020",
          "Wed Apr 22 19:40:36 2020",
          "Wed Apr 22 15:32:30 2020",
          "Mon Apr 20 17:01:39 2020",
          "Fri Apr 17 19:52:14 2020",
          "Fri Apr 17 14:45:45 2020",
          "Wed Apr 15 16:43:48 2020",
          "Tue Apr 14 16:02:07 2020",
          "Tue Apr 14 15:47:23 2020",
          "Mon Apr 13 18:01:58 2020",
          "Mon Apr 13 15:33:36 2020",
          "Sun Apr 12 14:41:33 2020"
         ],
         "type": "scatter",
         "y": [
          0.4345359999999996,
          0.4345359999999996,
          0.4345359999999996,
          0.4345359999999996,
          0.4345359999999996,
          0.4345359999999996,
          0.4345359999999996,
          0.4345359999999996,
          0.43453599999999964,
          0.43453599999999964,
          0.43453599999999964,
          0.43453599999999964,
          0.43453599999999976,
          0.43453599999999976,
          0.43453599999999976,
          0.4430909999999998,
          0.4430909999999998,
          0.4467199999999997,
          0.4467199999999997,
          0.45399299999999976,
          0.45399299999999976,
          0.45399299999999976,
          0.4541329999999998,
          0.4541329999999998,
          0.4541329999999998,
          0.4541329999999998,
          0.4541329999999998,
          0.4541329999999998,
          0.45413299999999973,
          0.45413299999999973,
          0.45413299999999973,
          0.45413299999999973,
          0.45413299999999973,
          0.45413299999999973,
          0.45413299999999973,
          0.45413299999999973,
          0.4455779999999997,
          0.4455779999999997,
          0.4455779999999997,
          0.4455779999999997,
          0.4455779999999997,
          0.45216599999999973,
          0.4521659999999996,
          0.4521659999999996,
          0.4486209999999997,
          0.4486209999999997,
          0.4486209999999997,
          0.4486209999999997,
          0.4486209999999997,
          0.4486209999999997,
          0.4486209999999997,
          0.4486209999999997,
          0.4486209999999997,
          0.4486209999999997,
          0.4486209999999997,
          0.4637729999999996,
          0.4637729999999996,
          0.4637729999999996,
          0.4637729999999996,
          0.4637729999999996,
          0.4637729999999996,
          0.4637729999999996,
          0.4637729999999996,
          0.4637729999999996,
          0.4637729999999996,
          0.4637729999999996,
          0.4637729999999996,
          0.4637729999999996,
          0.4637729999999996,
          0.4723279999999997,
          0.4723279999999997,
          0.4723279999999997,
          0.4723279999999997,
          0.4723279999999997,
          0.4723279999999997,
          0.4723279999999997,
          0.4723279999999997,
          0.4723279999999997,
          0.4723279999999997,
          0.4723279999999997,
          0.4723279999999997,
          0.4723279999999997,
          0.4723279999999997,
          0.4723279999999997,
          0.4723279999999997,
          0.4723279999999997,
          0.4723279999999997,
          0.4723279999999997,
          0.4723279999999997,
          0.4723279999999997,
          0.4723279999999997,
          0.4723279999999997,
          0.4723279999999997,
          0.4723279999999997,
          0.4723279999999997,
          0.4723279999999997,
          0.4723279999999997,
          0.4723279999999997,
          0.4723279999999997,
          0.4723279999999997
         ]
        },
        {
         "mode": "lines+markers",
         "name": "predictions",
         "text": [
          "Tue Jul 28 16:28:15 2020",
          "Tue Jul 28 16:26:27 2020",
          "Sun Jul 26 16:00:15 2020",
          "Sun Jul 26 13:00:05 2020",
          "Fri Jul 24 18:26:39 2020",
          "Thu Jul 23 14:00:56 2020",
          "Wed Jul 22 14:00:04 2020",
          "Tue Jul 21 15:17:03 2020",
          "Sat Jul 18 05:25:25 2020",
          "Fri Jul 17 14:58:27 2020",
          "Wed Jul 15 14:38:15 2020",
          "Wed Jul 15 14:38:14 2020",
          "Mon Jul 13 18:33:53 2020",
          "Mon Jul 13 18:33:53 2020",
          "Thu Jul 09 18:15:51 2020",
          "Thu Jul 09 18:15:50 2020",
          "Thu Jul 09 18:15:50 2020",
          "Thu Jul 09 18:15:50 2020",
          "Thu Jul 09 18:15:49 2020",
          "Wed Jul 08 16:58:33 2020",
          "Sat Jul 04 14:35:02 2020",
          "Fri Jul 03 16:00:04 2020",
          "Mon Jun 29 14:00:17 2020",
          "Fri Jun 26 23:11:31 2020",
          "Fri Jun 26 17:30:03 2020",
          "Fri Jun 26 14:56:57 2020",
          "Thu Jun 25 19:47:05 2020",
          "Wed Jun 24 22:05:14 2020",
          "Mon Jun 22 16:30:58 2020",
          "Fri Jun 19 16:51:15 2020",
          "Thu Jun 18 15:24:24 2020",
          "Thu Jun 18 15:23:59 2020",
          "Tue Jun 16 15:30:53 2020",
          "Tue Jun 16 15:30:52 2020",
          "Tue Jun 16 01:06:17 2020",
          "Thu Jun 11 18:30:59 2020",
          "Thu Jun 11 18:30:58 2020",
          "Thu Jun 11 18:30:58 2020",
          "Thu Jun 11 18:30:57 2020",
          "Wed Jun 10 15:10:15 2020",
          "Tue Jun 09 23:30:04 2020",
          "Tue Jun 09 21:56:52 2020",
          "Sun Jun 07 23:25:01 2020",
          "Sat Jun 06 00:37:08 2020",
          "Fri Jun 05 16:21:00 2020",
          "Thu Jun 04 23:15:58 2020",
          "Thu Jun 04 23:15:58 2020",
          "Thu Jun 04 23:15:57 2020",
          "Thu Jun 04 23:15:57 2020",
          "Thu Jun 04 13:04:56 2020",
          "Wed Jun 03 15:04:20 2020",
          "Wed Jun 03 15:04:20 2020",
          "Wed Jun 03 15:04:19 2020",
          "Mon Jun 01 23:59:01 2020",
          "Mon Jun 01 19:11:51 2020",
          "Mon Jun 01 19:11:51 2020",
          "Mon Jun 01 19:11:51 2020",
          "Mon Jun 01 19:11:50 2020",
          "Mon Jun 01 19:11:50 2020",
          "Mon Jun 01 19:11:50 2020",
          "Mon Jun 01 19:11:50 2020",
          "Mon Jun 01 19:11:49 2020",
          "Mon Jun 01 19:11:49 2020",
          "Mon Jun 01 19:11:49 2020",
          "Mon Jun 01 14:15:57 2020",
          "Fri May 29 16:06:54 2020",
          "Wed May 27 15:00:15 2020",
          "Mon May 25 14:31:05 2020",
          "Sat May 23 21:55:57 2020",
          "Sat May 23 21:55:56 2020",
          "Sat May 23 21:55:56 2020",
          "Sat May 23 18:03:41 2020",
          "Wed May 20 21:34:17 2020",
          "Sun May 17 01:00:04 2020",
          "Sat May 16 23:54:47 2020",
          "Sat May 16 21:47:43 2020",
          "Sat May 16 16:00:01 2020",
          "Thu May 14 18:44:56 2020",
          "Thu May 14 15:30:44 2020",
          "Wed May 13 23:05:11 2020",
          "Mon May 11 21:06:14 2020",
          "Sun May 10 15:03:15 2020",
          "Wed May 06 14:10:45 2020",
          "Tue May 05 15:05:41 2020",
          "Fri May 01 18:25:11 2020",
          "Mon Apr 27 17:22:11 2020",
          "Sat Apr 25 20:49:19 2020",
          "Sat Apr 25 00:00:58 2020",
          "Fri Apr 24 20:53:55 2020",
          "Wed Apr 22 19:40:36 2020",
          "Wed Apr 22 15:32:30 2020",
          "Mon Apr 20 17:01:39 2020",
          "Fri Apr 17 19:52:14 2020",
          "Fri Apr 17 14:45:45 2020",
          "Wed Apr 15 16:43:48 2020",
          "Tue Apr 14 16:02:07 2020",
          "Tue Apr 14 15:47:23 2020",
          "Mon Apr 13 18:01:58 2020",
          "Mon Apr 13 15:33:36 2020",
          "Sun Apr 12 14:41:33 2020"
         ],
         "type": "scatter",
         "x": [
          99,
          100,
          101,
          102,
          103,
          104
         ],
         "y": [
          0.4722461046181766,
          0.47216787253772663,
          0.47208677698425555,
          0.4720128764546506,
          0.4719344964838322,
          0.47186870704493267,
          0.4718073396835111
         ]
        }
       ],
       "layout": {
        "template": {
         "data": {
          "bar": [
           {
            "error_x": {
             "color": "#2a3f5f"
            },
            "error_y": {
             "color": "#2a3f5f"
            },
            "marker": {
             "line": {
              "color": "#E5ECF6",
              "width": 0.5
             }
            },
            "type": "bar"
           }
          ],
          "barpolar": [
           {
            "marker": {
             "line": {
              "color": "#E5ECF6",
              "width": 0.5
             }
            },
            "type": "barpolar"
           }
          ],
          "carpet": [
           {
            "aaxis": {
             "endlinecolor": "#2a3f5f",
             "gridcolor": "white",
             "linecolor": "white",
             "minorgridcolor": "white",
             "startlinecolor": "#2a3f5f"
            },
            "baxis": {
             "endlinecolor": "#2a3f5f",
             "gridcolor": "white",
             "linecolor": "white",
             "minorgridcolor": "white",
             "startlinecolor": "#2a3f5f"
            },
            "type": "carpet"
           }
          ],
          "choropleth": [
           {
            "colorbar": {
             "outlinewidth": 0,
             "ticks": ""
            },
            "type": "choropleth"
           }
          ],
          "contour": [
           {
            "colorbar": {
             "outlinewidth": 0,
             "ticks": ""
            },
            "colorscale": [
             [
              0,
              "#0d0887"
             ],
             [
              0.1111111111111111,
              "#46039f"
             ],
             [
              0.2222222222222222,
              "#7201a8"
             ],
             [
              0.3333333333333333,
              "#9c179e"
             ],
             [
              0.4444444444444444,
              "#bd3786"
             ],
             [
              0.5555555555555556,
              "#d8576b"
             ],
             [
              0.6666666666666666,
              "#ed7953"
             ],
             [
              0.7777777777777778,
              "#fb9f3a"
             ],
             [
              0.8888888888888888,
              "#fdca26"
             ],
             [
              1,
              "#f0f921"
             ]
            ],
            "type": "contour"
           }
          ],
          "contourcarpet": [
           {
            "colorbar": {
             "outlinewidth": 0,
             "ticks": ""
            },
            "type": "contourcarpet"
           }
          ],
          "heatmap": [
           {
            "colorbar": {
             "outlinewidth": 0,
             "ticks": ""
            },
            "colorscale": [
             [
              0,
              "#0d0887"
             ],
             [
              0.1111111111111111,
              "#46039f"
             ],
             [
              0.2222222222222222,
              "#7201a8"
             ],
             [
              0.3333333333333333,
              "#9c179e"
             ],
             [
              0.4444444444444444,
              "#bd3786"
             ],
             [
              0.5555555555555556,
              "#d8576b"
             ],
             [
              0.6666666666666666,
              "#ed7953"
             ],
             [
              0.7777777777777778,
              "#fb9f3a"
             ],
             [
              0.8888888888888888,
              "#fdca26"
             ],
             [
              1,
              "#f0f921"
             ]
            ],
            "type": "heatmap"
           }
          ],
          "heatmapgl": [
           {
            "colorbar": {
             "outlinewidth": 0,
             "ticks": ""
            },
            "colorscale": [
             [
              0,
              "#0d0887"
             ],
             [
              0.1111111111111111,
              "#46039f"
             ],
             [
              0.2222222222222222,
              "#7201a8"
             ],
             [
              0.3333333333333333,
              "#9c179e"
             ],
             [
              0.4444444444444444,
              "#bd3786"
             ],
             [
              0.5555555555555556,
              "#d8576b"
             ],
             [
              0.6666666666666666,
              "#ed7953"
             ],
             [
              0.7777777777777778,
              "#fb9f3a"
             ],
             [
              0.8888888888888888,
              "#fdca26"
             ],
             [
              1,
              "#f0f921"
             ]
            ],
            "type": "heatmapgl"
           }
          ],
          "histogram": [
           {
            "marker": {
             "colorbar": {
              "outlinewidth": 0,
              "ticks": ""
             }
            },
            "type": "histogram"
           }
          ],
          "histogram2d": [
           {
            "colorbar": {
             "outlinewidth": 0,
             "ticks": ""
            },
            "colorscale": [
             [
              0,
              "#0d0887"
             ],
             [
              0.1111111111111111,
              "#46039f"
             ],
             [
              0.2222222222222222,
              "#7201a8"
             ],
             [
              0.3333333333333333,
              "#9c179e"
             ],
             [
              0.4444444444444444,
              "#bd3786"
             ],
             [
              0.5555555555555556,
              "#d8576b"
             ],
             [
              0.6666666666666666,
              "#ed7953"
             ],
             [
              0.7777777777777778,
              "#fb9f3a"
             ],
             [
              0.8888888888888888,
              "#fdca26"
             ],
             [
              1,
              "#f0f921"
             ]
            ],
            "type": "histogram2d"
           }
          ],
          "histogram2dcontour": [
           {
            "colorbar": {
             "outlinewidth": 0,
             "ticks": ""
            },
            "colorscale": [
             [
              0,
              "#0d0887"
             ],
             [
              0.1111111111111111,
              "#46039f"
             ],
             [
              0.2222222222222222,
              "#7201a8"
             ],
             [
              0.3333333333333333,
              "#9c179e"
             ],
             [
              0.4444444444444444,
              "#bd3786"
             ],
             [
              0.5555555555555556,
              "#d8576b"
             ],
             [
              0.6666666666666666,
              "#ed7953"
             ],
             [
              0.7777777777777778,
              "#fb9f3a"
             ],
             [
              0.8888888888888888,
              "#fdca26"
             ],
             [
              1,
              "#f0f921"
             ]
            ],
            "type": "histogram2dcontour"
           }
          ],
          "mesh3d": [
           {
            "colorbar": {
             "outlinewidth": 0,
             "ticks": ""
            },
            "type": "mesh3d"
           }
          ],
          "parcoords": [
           {
            "line": {
             "colorbar": {
              "outlinewidth": 0,
              "ticks": ""
             }
            },
            "type": "parcoords"
           }
          ],
          "pie": [
           {
            "automargin": true,
            "type": "pie"
           }
          ],
          "scatter": [
           {
            "marker": {
             "colorbar": {
              "outlinewidth": 0,
              "ticks": ""
             }
            },
            "type": "scatter"
           }
          ],
          "scatter3d": [
           {
            "line": {
             "colorbar": {
              "outlinewidth": 0,
              "ticks": ""
             }
            },
            "marker": {
             "colorbar": {
              "outlinewidth": 0,
              "ticks": ""
             }
            },
            "type": "scatter3d"
           }
          ],
          "scattercarpet": [
           {
            "marker": {
             "colorbar": {
              "outlinewidth": 0,
              "ticks": ""
             }
            },
            "type": "scattercarpet"
           }
          ],
          "scattergeo": [
           {
            "marker": {
             "colorbar": {
              "outlinewidth": 0,
              "ticks": ""
             }
            },
            "type": "scattergeo"
           }
          ],
          "scattergl": [
           {
            "marker": {
             "colorbar": {
              "outlinewidth": 0,
              "ticks": ""
             }
            },
            "type": "scattergl"
           }
          ],
          "scattermapbox": [
           {
            "marker": {
             "colorbar": {
              "outlinewidth": 0,
              "ticks": ""
             }
            },
            "type": "scattermapbox"
           }
          ],
          "scatterpolar": [
           {
            "marker": {
             "colorbar": {
              "outlinewidth": 0,
              "ticks": ""
             }
            },
            "type": "scatterpolar"
           }
          ],
          "scatterpolargl": [
           {
            "marker": {
             "colorbar": {
              "outlinewidth": 0,
              "ticks": ""
             }
            },
            "type": "scatterpolargl"
           }
          ],
          "scatterternary": [
           {
            "marker": {
             "colorbar": {
              "outlinewidth": 0,
              "ticks": ""
             }
            },
            "type": "scatterternary"
           }
          ],
          "surface": [
           {
            "colorbar": {
             "outlinewidth": 0,
             "ticks": ""
            },
            "colorscale": [
             [
              0,
              "#0d0887"
             ],
             [
              0.1111111111111111,
              "#46039f"
             ],
             [
              0.2222222222222222,
              "#7201a8"
             ],
             [
              0.3333333333333333,
              "#9c179e"
             ],
             [
              0.4444444444444444,
              "#bd3786"
             ],
             [
              0.5555555555555556,
              "#d8576b"
             ],
             [
              0.6666666666666666,
              "#ed7953"
             ],
             [
              0.7777777777777778,
              "#fb9f3a"
             ],
             [
              0.8888888888888888,
              "#fdca26"
             ],
             [
              1,
              "#f0f921"
             ]
            ],
            "type": "surface"
           }
          ],
          "table": [
           {
            "cells": {
             "fill": {
              "color": "#EBF0F8"
             },
             "line": {
              "color": "white"
             }
            },
            "header": {
             "fill": {
              "color": "#C8D4E3"
             },
             "line": {
              "color": "white"
             }
            },
            "type": "table"
           }
          ]
         },
         "layout": {
          "annotationdefaults": {
           "arrowcolor": "#2a3f5f",
           "arrowhead": 0,
           "arrowwidth": 1
          },
          "coloraxis": {
           "colorbar": {
            "outlinewidth": 0,
            "ticks": ""
           }
          },
          "colorscale": {
           "diverging": [
            [
             0,
             "#8e0152"
            ],
            [
             0.1,
             "#c51b7d"
            ],
            [
             0.2,
             "#de77ae"
            ],
            [
             0.3,
             "#f1b6da"
            ],
            [
             0.4,
             "#fde0ef"
            ],
            [
             0.5,
             "#f7f7f7"
            ],
            [
             0.6,
             "#e6f5d0"
            ],
            [
             0.7,
             "#b8e186"
            ],
            [
             0.8,
             "#7fbc41"
            ],
            [
             0.9,
             "#4d9221"
            ],
            [
             1,
             "#276419"
            ]
           ],
           "sequential": [
            [
             0,
             "#0d0887"
            ],
            [
             0.1111111111111111,
             "#46039f"
            ],
            [
             0.2222222222222222,
             "#7201a8"
            ],
            [
             0.3333333333333333,
             "#9c179e"
            ],
            [
             0.4444444444444444,
             "#bd3786"
            ],
            [
             0.5555555555555556,
             "#d8576b"
            ],
            [
             0.6666666666666666,
             "#ed7953"
            ],
            [
             0.7777777777777778,
             "#fb9f3a"
            ],
            [
             0.8888888888888888,
             "#fdca26"
            ],
            [
             1,
             "#f0f921"
            ]
           ],
           "sequentialminus": [
            [
             0,
             "#0d0887"
            ],
            [
             0.1111111111111111,
             "#46039f"
            ],
            [
             0.2222222222222222,
             "#7201a8"
            ],
            [
             0.3333333333333333,
             "#9c179e"
            ],
            [
             0.4444444444444444,
             "#bd3786"
            ],
            [
             0.5555555555555556,
             "#d8576b"
            ],
            [
             0.6666666666666666,
             "#ed7953"
            ],
            [
             0.7777777777777778,
             "#fb9f3a"
            ],
            [
             0.8888888888888888,
             "#fdca26"
            ],
            [
             1,
             "#f0f921"
            ]
           ]
          },
          "colorway": [
           "#636efa",
           "#EF553B",
           "#00cc96",
           "#ab63fa",
           "#FFA15A",
           "#19d3f3",
           "#FF6692",
           "#B6E880",
           "#FF97FF",
           "#FECB52"
          ],
          "font": {
           "color": "#2a3f5f"
          },
          "geo": {
           "bgcolor": "white",
           "lakecolor": "white",
           "landcolor": "#E5ECF6",
           "showlakes": true,
           "showland": true,
           "subunitcolor": "white"
          },
          "hoverlabel": {
           "align": "left"
          },
          "hovermode": "closest",
          "mapbox": {
           "style": "light"
          },
          "paper_bgcolor": "white",
          "plot_bgcolor": "#E5ECF6",
          "polar": {
           "angularaxis": {
            "gridcolor": "white",
            "linecolor": "white",
            "ticks": ""
           },
           "bgcolor": "#E5ECF6",
           "radialaxis": {
            "gridcolor": "white",
            "linecolor": "white",
            "ticks": ""
           }
          },
          "scene": {
           "xaxis": {
            "backgroundcolor": "#E5ECF6",
            "gridcolor": "white",
            "gridwidth": 2,
            "linecolor": "white",
            "showbackground": true,
            "ticks": "",
            "zerolinecolor": "white"
           },
           "yaxis": {
            "backgroundcolor": "#E5ECF6",
            "gridcolor": "white",
            "gridwidth": 2,
            "linecolor": "white",
            "showbackground": true,
            "ticks": "",
            "zerolinecolor": "white"
           },
           "zaxis": {
            "backgroundcolor": "#E5ECF6",
            "gridcolor": "white",
            "gridwidth": 2,
            "linecolor": "white",
            "showbackground": true,
            "ticks": "",
            "zerolinecolor": "white"
           }
          },
          "shapedefaults": {
           "line": {
            "color": "#2a3f5f"
           }
          },
          "ternary": {
           "aaxis": {
            "gridcolor": "white",
            "linecolor": "white",
            "ticks": ""
           },
           "baxis": {
            "gridcolor": "white",
            "linecolor": "white",
            "ticks": ""
           },
           "bgcolor": "#E5ECF6",
           "caxis": {
            "gridcolor": "white",
            "linecolor": "white",
            "ticks": ""
           }
          },
          "title": {
           "x": 0.05
          },
          "xaxis": {
           "automargin": true,
           "gridcolor": "white",
           "linecolor": "white",
           "ticks": "",
           "title": {
            "standoff": 15
           },
           "zerolinecolor": "white",
           "zerolinewidth": 2
          },
          "yaxis": {
           "automargin": true,
           "gridcolor": "white",
           "linecolor": "white",
           "ticks": "",
           "title": {
            "standoff": 15
           },
           "zerolinecolor": "white",
           "zerolinewidth": 2
          }
         }
        },
        "title": {
         "text": "Sentiment Analysis of @BarackObama twitter interactions"
        }
       }
      },
      "text/html": [
       "<div>\n",
       "        \n",
       "        \n",
       "            <div id=\"e2ed69f9-9715-4c17-8dad-e47d2c08080f\" class=\"plotly-graph-div\" style=\"height:525px; width:100%;\"></div>\n",
       "            <script type=\"text/javascript\">\n",
       "                require([\"plotly\"], function(Plotly) {\n",
       "                    window.PLOTLYENV=window.PLOTLYENV || {};\n",
       "                    \n",
       "                if (document.getElementById(\"e2ed69f9-9715-4c17-8dad-e47d2c08080f\")) {\n",
       "                    Plotly.newPlot(\n",
       "                        'e2ed69f9-9715-4c17-8dad-e47d2c08080f',\n",
       "                        [{\"mode\": \"lines+markers\", \"name\": \"ground truth\", \"text\": [\"Tue Jul 28 16:28:15 2020\", \"Tue Jul 28 16:26:27 2020\", \"Sun Jul 26 16:00:15 2020\", \"Sun Jul 26 13:00:05 2020\", \"Fri Jul 24 18:26:39 2020\", \"Thu Jul 23 14:00:56 2020\", \"Wed Jul 22 14:00:04 2020\", \"Tue Jul 21 15:17:03 2020\", \"Sat Jul 18 05:25:25 2020\", \"Fri Jul 17 14:58:27 2020\", \"Wed Jul 15 14:38:15 2020\", \"Wed Jul 15 14:38:14 2020\", \"Mon Jul 13 18:33:53 2020\", \"Mon Jul 13 18:33:53 2020\", \"Thu Jul 09 18:15:51 2020\", \"Thu Jul 09 18:15:50 2020\", \"Thu Jul 09 18:15:50 2020\", \"Thu Jul 09 18:15:50 2020\", \"Thu Jul 09 18:15:49 2020\", \"Wed Jul 08 16:58:33 2020\", \"Sat Jul 04 14:35:02 2020\", \"Fri Jul 03 16:00:04 2020\", \"Mon Jun 29 14:00:17 2020\", \"Fri Jun 26 23:11:31 2020\", \"Fri Jun 26 17:30:03 2020\", \"Fri Jun 26 14:56:57 2020\", \"Thu Jun 25 19:47:05 2020\", \"Wed Jun 24 22:05:14 2020\", \"Mon Jun 22 16:30:58 2020\", \"Fri Jun 19 16:51:15 2020\", \"Thu Jun 18 15:24:24 2020\", \"Thu Jun 18 15:23:59 2020\", \"Tue Jun 16 15:30:53 2020\", \"Tue Jun 16 15:30:52 2020\", \"Tue Jun 16 01:06:17 2020\", \"Thu Jun 11 18:30:59 2020\", \"Thu Jun 11 18:30:58 2020\", \"Thu Jun 11 18:30:58 2020\", \"Thu Jun 11 18:30:57 2020\", \"Wed Jun 10 15:10:15 2020\", \"Tue Jun 09 23:30:04 2020\", \"Tue Jun 09 21:56:52 2020\", \"Sun Jun 07 23:25:01 2020\", \"Sat Jun 06 00:37:08 2020\", \"Fri Jun 05 16:21:00 2020\", \"Thu Jun 04 23:15:58 2020\", \"Thu Jun 04 23:15:58 2020\", \"Thu Jun 04 23:15:57 2020\", \"Thu Jun 04 23:15:57 2020\", \"Thu Jun 04 13:04:56 2020\", \"Wed Jun 03 15:04:20 2020\", \"Wed Jun 03 15:04:20 2020\", \"Wed Jun 03 15:04:19 2020\", \"Mon Jun 01 23:59:01 2020\", \"Mon Jun 01 19:11:51 2020\", \"Mon Jun 01 19:11:51 2020\", \"Mon Jun 01 19:11:51 2020\", \"Mon Jun 01 19:11:50 2020\", \"Mon Jun 01 19:11:50 2020\", \"Mon Jun 01 19:11:50 2020\", \"Mon Jun 01 19:11:50 2020\", \"Mon Jun 01 19:11:49 2020\", \"Mon Jun 01 19:11:49 2020\", \"Mon Jun 01 19:11:49 2020\", \"Mon Jun 01 14:15:57 2020\", \"Fri May 29 16:06:54 2020\", \"Wed May 27 15:00:15 2020\", \"Mon May 25 14:31:05 2020\", \"Sat May 23 21:55:57 2020\", \"Sat May 23 21:55:56 2020\", \"Sat May 23 21:55:56 2020\", \"Sat May 23 18:03:41 2020\", \"Wed May 20 21:34:17 2020\", \"Sun May 17 01:00:04 2020\", \"Sat May 16 23:54:47 2020\", \"Sat May 16 21:47:43 2020\", \"Sat May 16 16:00:01 2020\", \"Thu May 14 18:44:56 2020\", \"Thu May 14 15:30:44 2020\", \"Wed May 13 23:05:11 2020\", \"Mon May 11 21:06:14 2020\", \"Sun May 10 15:03:15 2020\", \"Wed May 06 14:10:45 2020\", \"Tue May 05 15:05:41 2020\", \"Fri May 01 18:25:11 2020\", \"Mon Apr 27 17:22:11 2020\", \"Sat Apr 25 20:49:19 2020\", \"Sat Apr 25 00:00:58 2020\", \"Fri Apr 24 20:53:55 2020\", \"Wed Apr 22 19:40:36 2020\", \"Wed Apr 22 15:32:30 2020\", \"Mon Apr 20 17:01:39 2020\", \"Fri Apr 17 19:52:14 2020\", \"Fri Apr 17 14:45:45 2020\", \"Wed Apr 15 16:43:48 2020\", \"Tue Apr 14 16:02:07 2020\", \"Tue Apr 14 15:47:23 2020\", \"Mon Apr 13 18:01:58 2020\", \"Mon Apr 13 15:33:36 2020\", \"Sun Apr 12 14:41:33 2020\"], \"type\": \"scatter\", \"y\": [0.4345359999999996, 0.4345359999999996, 0.4345359999999996, 0.4345359999999996, 0.4345359999999996, 0.4345359999999996, 0.4345359999999996, 0.4345359999999996, 0.43453599999999964, 0.43453599999999964, 0.43453599999999964, 0.43453599999999964, 0.43453599999999976, 0.43453599999999976, 0.43453599999999976, 0.4430909999999998, 0.4430909999999998, 0.4467199999999997, 0.4467199999999997, 0.45399299999999976, 0.45399299999999976, 0.45399299999999976, 0.4541329999999998, 0.4541329999999998, 0.4541329999999998, 0.4541329999999998, 0.4541329999999998, 0.4541329999999998, 0.45413299999999973, 0.45413299999999973, 0.45413299999999973, 0.45413299999999973, 0.45413299999999973, 0.45413299999999973, 0.45413299999999973, 0.45413299999999973, 0.4455779999999997, 0.4455779999999997, 0.4455779999999997, 0.4455779999999997, 0.4455779999999997, 0.45216599999999973, 0.4521659999999996, 0.4521659999999996, 0.4486209999999997, 0.4486209999999997, 0.4486209999999997, 0.4486209999999997, 0.4486209999999997, 0.4486209999999997, 0.4486209999999997, 0.4486209999999997, 0.4486209999999997, 0.4486209999999997, 0.4486209999999997, 0.4637729999999996, 0.4637729999999996, 0.4637729999999996, 0.4637729999999996, 0.4637729999999996, 0.4637729999999996, 0.4637729999999996, 0.4637729999999996, 0.4637729999999996, 0.4637729999999996, 0.4637729999999996, 0.4637729999999996, 0.4637729999999996, 0.4637729999999996, 0.4723279999999997, 0.4723279999999997, 0.4723279999999997, 0.4723279999999997, 0.4723279999999997, 0.4723279999999997, 0.4723279999999997, 0.4723279999999997, 0.4723279999999997, 0.4723279999999997, 0.4723279999999997, 0.4723279999999997, 0.4723279999999997, 0.4723279999999997, 0.4723279999999997, 0.4723279999999997, 0.4723279999999997, 0.4723279999999997, 0.4723279999999997, 0.4723279999999997, 0.4723279999999997, 0.4723279999999997, 0.4723279999999997, 0.4723279999999997, 0.4723279999999997, 0.4723279999999997, 0.4723279999999997, 0.4723279999999997, 0.4723279999999997, 0.4723279999999997, 0.4723279999999997]}, {\"mode\": \"lines+markers\", \"name\": \"predictions\", \"text\": [\"Tue Jul 28 16:28:15 2020\", \"Tue Jul 28 16:26:27 2020\", \"Sun Jul 26 16:00:15 2020\", \"Sun Jul 26 13:00:05 2020\", \"Fri Jul 24 18:26:39 2020\", \"Thu Jul 23 14:00:56 2020\", \"Wed Jul 22 14:00:04 2020\", \"Tue Jul 21 15:17:03 2020\", \"Sat Jul 18 05:25:25 2020\", \"Fri Jul 17 14:58:27 2020\", \"Wed Jul 15 14:38:15 2020\", \"Wed Jul 15 14:38:14 2020\", \"Mon Jul 13 18:33:53 2020\", \"Mon Jul 13 18:33:53 2020\", \"Thu Jul 09 18:15:51 2020\", \"Thu Jul 09 18:15:50 2020\", \"Thu Jul 09 18:15:50 2020\", \"Thu Jul 09 18:15:50 2020\", \"Thu Jul 09 18:15:49 2020\", \"Wed Jul 08 16:58:33 2020\", \"Sat Jul 04 14:35:02 2020\", \"Fri Jul 03 16:00:04 2020\", \"Mon Jun 29 14:00:17 2020\", \"Fri Jun 26 23:11:31 2020\", \"Fri Jun 26 17:30:03 2020\", \"Fri Jun 26 14:56:57 2020\", \"Thu Jun 25 19:47:05 2020\", \"Wed Jun 24 22:05:14 2020\", \"Mon Jun 22 16:30:58 2020\", \"Fri Jun 19 16:51:15 2020\", \"Thu Jun 18 15:24:24 2020\", \"Thu Jun 18 15:23:59 2020\", \"Tue Jun 16 15:30:53 2020\", \"Tue Jun 16 15:30:52 2020\", \"Tue Jun 16 01:06:17 2020\", \"Thu Jun 11 18:30:59 2020\", \"Thu Jun 11 18:30:58 2020\", \"Thu Jun 11 18:30:58 2020\", \"Thu Jun 11 18:30:57 2020\", \"Wed Jun 10 15:10:15 2020\", \"Tue Jun 09 23:30:04 2020\", \"Tue Jun 09 21:56:52 2020\", \"Sun Jun 07 23:25:01 2020\", \"Sat Jun 06 00:37:08 2020\", \"Fri Jun 05 16:21:00 2020\", \"Thu Jun 04 23:15:58 2020\", \"Thu Jun 04 23:15:58 2020\", \"Thu Jun 04 23:15:57 2020\", \"Thu Jun 04 23:15:57 2020\", \"Thu Jun 04 13:04:56 2020\", \"Wed Jun 03 15:04:20 2020\", \"Wed Jun 03 15:04:20 2020\", \"Wed Jun 03 15:04:19 2020\", \"Mon Jun 01 23:59:01 2020\", \"Mon Jun 01 19:11:51 2020\", \"Mon Jun 01 19:11:51 2020\", \"Mon Jun 01 19:11:51 2020\", \"Mon Jun 01 19:11:50 2020\", \"Mon Jun 01 19:11:50 2020\", \"Mon Jun 01 19:11:50 2020\", \"Mon Jun 01 19:11:50 2020\", \"Mon Jun 01 19:11:49 2020\", \"Mon Jun 01 19:11:49 2020\", \"Mon Jun 01 19:11:49 2020\", \"Mon Jun 01 14:15:57 2020\", \"Fri May 29 16:06:54 2020\", \"Wed May 27 15:00:15 2020\", \"Mon May 25 14:31:05 2020\", \"Sat May 23 21:55:57 2020\", \"Sat May 23 21:55:56 2020\", \"Sat May 23 21:55:56 2020\", \"Sat May 23 18:03:41 2020\", \"Wed May 20 21:34:17 2020\", \"Sun May 17 01:00:04 2020\", \"Sat May 16 23:54:47 2020\", \"Sat May 16 21:47:43 2020\", \"Sat May 16 16:00:01 2020\", \"Thu May 14 18:44:56 2020\", \"Thu May 14 15:30:44 2020\", \"Wed May 13 23:05:11 2020\", \"Mon May 11 21:06:14 2020\", \"Sun May 10 15:03:15 2020\", \"Wed May 06 14:10:45 2020\", \"Tue May 05 15:05:41 2020\", \"Fri May 01 18:25:11 2020\", \"Mon Apr 27 17:22:11 2020\", \"Sat Apr 25 20:49:19 2020\", \"Sat Apr 25 00:00:58 2020\", \"Fri Apr 24 20:53:55 2020\", \"Wed Apr 22 19:40:36 2020\", \"Wed Apr 22 15:32:30 2020\", \"Mon Apr 20 17:01:39 2020\", \"Fri Apr 17 19:52:14 2020\", \"Fri Apr 17 14:45:45 2020\", \"Wed Apr 15 16:43:48 2020\", \"Tue Apr 14 16:02:07 2020\", \"Tue Apr 14 15:47:23 2020\", \"Mon Apr 13 18:01:58 2020\", \"Mon Apr 13 15:33:36 2020\", \"Sun Apr 12 14:41:33 2020\"], \"type\": \"scatter\", \"x\": [99, 100, 101, 102, 103, 104], \"y\": [0.4722461046181766, 0.47216787253772663, 0.47208677698425555, 0.4720128764546506, 0.4719344964838322, 0.47186870704493267, 0.4718073396835111]}],\n",
       "                        {\"template\": {\"data\": {\"bar\": [{\"error_x\": {\"color\": \"#2a3f5f\"}, \"error_y\": {\"color\": \"#2a3f5f\"}, \"marker\": {\"line\": {\"color\": \"#E5ECF6\", \"width\": 0.5}}, \"type\": \"bar\"}], \"barpolar\": [{\"marker\": {\"line\": {\"color\": \"#E5ECF6\", \"width\": 0.5}}, \"type\": \"barpolar\"}], \"carpet\": [{\"aaxis\": {\"endlinecolor\": \"#2a3f5f\", \"gridcolor\": \"white\", \"linecolor\": \"white\", \"minorgridcolor\": \"white\", \"startlinecolor\": \"#2a3f5f\"}, \"baxis\": {\"endlinecolor\": \"#2a3f5f\", \"gridcolor\": \"white\", \"linecolor\": \"white\", \"minorgridcolor\": \"white\", \"startlinecolor\": \"#2a3f5f\"}, \"type\": \"carpet\"}], \"choropleth\": [{\"colorbar\": {\"outlinewidth\": 0, \"ticks\": \"\"}, \"type\": \"choropleth\"}], \"contour\": [{\"colorbar\": {\"outlinewidth\": 0, \"ticks\": \"\"}, \"colorscale\": [[0.0, \"#0d0887\"], [0.1111111111111111, \"#46039f\"], [0.2222222222222222, \"#7201a8\"], [0.3333333333333333, \"#9c179e\"], [0.4444444444444444, \"#bd3786\"], [0.5555555555555556, \"#d8576b\"], [0.6666666666666666, \"#ed7953\"], [0.7777777777777778, \"#fb9f3a\"], [0.8888888888888888, \"#fdca26\"], [1.0, \"#f0f921\"]], \"type\": \"contour\"}], \"contourcarpet\": [{\"colorbar\": {\"outlinewidth\": 0, \"ticks\": \"\"}, \"type\": \"contourcarpet\"}], \"heatmap\": [{\"colorbar\": {\"outlinewidth\": 0, \"ticks\": \"\"}, \"colorscale\": [[0.0, \"#0d0887\"], [0.1111111111111111, \"#46039f\"], [0.2222222222222222, \"#7201a8\"], [0.3333333333333333, \"#9c179e\"], [0.4444444444444444, \"#bd3786\"], [0.5555555555555556, \"#d8576b\"], [0.6666666666666666, \"#ed7953\"], [0.7777777777777778, \"#fb9f3a\"], [0.8888888888888888, \"#fdca26\"], [1.0, \"#f0f921\"]], \"type\": \"heatmap\"}], \"heatmapgl\": [{\"colorbar\": {\"outlinewidth\": 0, \"ticks\": \"\"}, \"colorscale\": [[0.0, \"#0d0887\"], [0.1111111111111111, \"#46039f\"], [0.2222222222222222, \"#7201a8\"], [0.3333333333333333, \"#9c179e\"], [0.4444444444444444, \"#bd3786\"], [0.5555555555555556, \"#d8576b\"], [0.6666666666666666, \"#ed7953\"], [0.7777777777777778, \"#fb9f3a\"], [0.8888888888888888, \"#fdca26\"], [1.0, \"#f0f921\"]], \"type\": \"heatmapgl\"}], \"histogram\": [{\"marker\": {\"colorbar\": {\"outlinewidth\": 0, \"ticks\": \"\"}}, \"type\": \"histogram\"}], \"histogram2d\": [{\"colorbar\": {\"outlinewidth\": 0, \"ticks\": \"\"}, \"colorscale\": [[0.0, \"#0d0887\"], [0.1111111111111111, \"#46039f\"], [0.2222222222222222, \"#7201a8\"], [0.3333333333333333, \"#9c179e\"], [0.4444444444444444, \"#bd3786\"], [0.5555555555555556, \"#d8576b\"], [0.6666666666666666, \"#ed7953\"], [0.7777777777777778, \"#fb9f3a\"], [0.8888888888888888, \"#fdca26\"], [1.0, \"#f0f921\"]], \"type\": \"histogram2d\"}], \"histogram2dcontour\": [{\"colorbar\": {\"outlinewidth\": 0, \"ticks\": \"\"}, \"colorscale\": [[0.0, \"#0d0887\"], [0.1111111111111111, \"#46039f\"], [0.2222222222222222, \"#7201a8\"], [0.3333333333333333, \"#9c179e\"], [0.4444444444444444, \"#bd3786\"], [0.5555555555555556, \"#d8576b\"], [0.6666666666666666, \"#ed7953\"], [0.7777777777777778, \"#fb9f3a\"], [0.8888888888888888, \"#fdca26\"], [1.0, \"#f0f921\"]], \"type\": \"histogram2dcontour\"}], \"mesh3d\": [{\"colorbar\": {\"outlinewidth\": 0, \"ticks\": \"\"}, \"type\": \"mesh3d\"}], \"parcoords\": [{\"line\": {\"colorbar\": {\"outlinewidth\": 0, \"ticks\": \"\"}}, \"type\": \"parcoords\"}], \"pie\": [{\"automargin\": true, \"type\": \"pie\"}], \"scatter\": [{\"marker\": {\"colorbar\": {\"outlinewidth\": 0, \"ticks\": \"\"}}, \"type\": \"scatter\"}], \"scatter3d\": [{\"line\": {\"colorbar\": {\"outlinewidth\": 0, \"ticks\": \"\"}}, \"marker\": {\"colorbar\": {\"outlinewidth\": 0, \"ticks\": \"\"}}, \"type\": \"scatter3d\"}], \"scattercarpet\": [{\"marker\": {\"colorbar\": {\"outlinewidth\": 0, \"ticks\": \"\"}}, \"type\": \"scattercarpet\"}], \"scattergeo\": [{\"marker\": {\"colorbar\": {\"outlinewidth\": 0, \"ticks\": \"\"}}, \"type\": \"scattergeo\"}], \"scattergl\": [{\"marker\": {\"colorbar\": {\"outlinewidth\": 0, \"ticks\": \"\"}}, \"type\": \"scattergl\"}], \"scattermapbox\": [{\"marker\": {\"colorbar\": {\"outlinewidth\": 0, \"ticks\": \"\"}}, \"type\": \"scattermapbox\"}], \"scatterpolar\": [{\"marker\": {\"colorbar\": {\"outlinewidth\": 0, \"ticks\": \"\"}}, \"type\": \"scatterpolar\"}], \"scatterpolargl\": [{\"marker\": {\"colorbar\": {\"outlinewidth\": 0, \"ticks\": \"\"}}, \"type\": \"scatterpolargl\"}], \"scatterternary\": [{\"marker\": {\"colorbar\": {\"outlinewidth\": 0, \"ticks\": \"\"}}, \"type\": \"scatterternary\"}], \"surface\": [{\"colorbar\": {\"outlinewidth\": 0, \"ticks\": \"\"}, \"colorscale\": [[0.0, \"#0d0887\"], [0.1111111111111111, \"#46039f\"], [0.2222222222222222, \"#7201a8\"], [0.3333333333333333, \"#9c179e\"], [0.4444444444444444, \"#bd3786\"], [0.5555555555555556, \"#d8576b\"], [0.6666666666666666, \"#ed7953\"], [0.7777777777777778, \"#fb9f3a\"], [0.8888888888888888, \"#fdca26\"], [1.0, \"#f0f921\"]], \"type\": \"surface\"}], \"table\": [{\"cells\": {\"fill\": {\"color\": \"#EBF0F8\"}, \"line\": {\"color\": \"white\"}}, \"header\": {\"fill\": {\"color\": \"#C8D4E3\"}, \"line\": {\"color\": \"white\"}}, \"type\": \"table\"}]}, \"layout\": {\"annotationdefaults\": {\"arrowcolor\": \"#2a3f5f\", \"arrowhead\": 0, \"arrowwidth\": 1}, \"coloraxis\": {\"colorbar\": {\"outlinewidth\": 0, \"ticks\": \"\"}}, \"colorscale\": {\"diverging\": [[0, \"#8e0152\"], [0.1, \"#c51b7d\"], [0.2, \"#de77ae\"], [0.3, \"#f1b6da\"], [0.4, \"#fde0ef\"], [0.5, \"#f7f7f7\"], [0.6, \"#e6f5d0\"], [0.7, \"#b8e186\"], [0.8, \"#7fbc41\"], [0.9, \"#4d9221\"], [1, \"#276419\"]], \"sequential\": [[0.0, \"#0d0887\"], [0.1111111111111111, \"#46039f\"], [0.2222222222222222, \"#7201a8\"], [0.3333333333333333, \"#9c179e\"], [0.4444444444444444, \"#bd3786\"], [0.5555555555555556, \"#d8576b\"], [0.6666666666666666, \"#ed7953\"], [0.7777777777777778, \"#fb9f3a\"], [0.8888888888888888, \"#fdca26\"], [1.0, \"#f0f921\"]], \"sequentialminus\": [[0.0, \"#0d0887\"], [0.1111111111111111, \"#46039f\"], [0.2222222222222222, \"#7201a8\"], [0.3333333333333333, \"#9c179e\"], [0.4444444444444444, \"#bd3786\"], [0.5555555555555556, \"#d8576b\"], [0.6666666666666666, \"#ed7953\"], [0.7777777777777778, \"#fb9f3a\"], [0.8888888888888888, \"#fdca26\"], [1.0, \"#f0f921\"]]}, \"colorway\": [\"#636efa\", \"#EF553B\", \"#00cc96\", \"#ab63fa\", \"#FFA15A\", \"#19d3f3\", \"#FF6692\", \"#B6E880\", \"#FF97FF\", \"#FECB52\"], \"font\": {\"color\": \"#2a3f5f\"}, \"geo\": {\"bgcolor\": \"white\", \"lakecolor\": \"white\", \"landcolor\": \"#E5ECF6\", \"showlakes\": true, \"showland\": true, \"subunitcolor\": \"white\"}, \"hoverlabel\": {\"align\": \"left\"}, \"hovermode\": \"closest\", \"mapbox\": {\"style\": \"light\"}, \"paper_bgcolor\": \"white\", \"plot_bgcolor\": \"#E5ECF6\", \"polar\": {\"angularaxis\": {\"gridcolor\": \"white\", \"linecolor\": \"white\", \"ticks\": \"\"}, \"bgcolor\": \"#E5ECF6\", \"radialaxis\": {\"gridcolor\": \"white\", \"linecolor\": \"white\", \"ticks\": \"\"}}, \"scene\": {\"xaxis\": {\"backgroundcolor\": \"#E5ECF6\", \"gridcolor\": \"white\", \"gridwidth\": 2, \"linecolor\": \"white\", \"showbackground\": true, \"ticks\": \"\", \"zerolinecolor\": \"white\"}, \"yaxis\": {\"backgroundcolor\": \"#E5ECF6\", \"gridcolor\": \"white\", \"gridwidth\": 2, \"linecolor\": \"white\", \"showbackground\": true, \"ticks\": \"\", \"zerolinecolor\": \"white\"}, \"zaxis\": {\"backgroundcolor\": \"#E5ECF6\", \"gridcolor\": \"white\", \"gridwidth\": 2, \"linecolor\": \"white\", \"showbackground\": true, \"ticks\": \"\", \"zerolinecolor\": \"white\"}}, \"shapedefaults\": {\"line\": {\"color\": \"#2a3f5f\"}}, \"ternary\": {\"aaxis\": {\"gridcolor\": \"white\", \"linecolor\": \"white\", \"ticks\": \"\"}, \"baxis\": {\"gridcolor\": \"white\", \"linecolor\": \"white\", \"ticks\": \"\"}, \"bgcolor\": \"#E5ECF6\", \"caxis\": {\"gridcolor\": \"white\", \"linecolor\": \"white\", \"ticks\": \"\"}}, \"title\": {\"x\": 0.05}, \"xaxis\": {\"automargin\": true, \"gridcolor\": \"white\", \"linecolor\": \"white\", \"ticks\": \"\", \"title\": {\"standoff\": 15}, \"zerolinecolor\": \"white\", \"zerolinewidth\": 2}, \"yaxis\": {\"automargin\": true, \"gridcolor\": \"white\", \"linecolor\": \"white\", \"ticks\": \"\", \"title\": {\"standoff\": 15}, \"zerolinecolor\": \"white\", \"zerolinewidth\": 2}}}, \"title\": {\"text\": \"Sentiment Analysis of @BarackObama twitter interactions\"}},\n",
       "                        {\"responsive\": true}\n",
       "                    ).then(function(){\n",
       "                            \n",
       "var gd = document.getElementById('e2ed69f9-9715-4c17-8dad-e47d2c08080f');\n",
       "var x = new MutationObserver(function (mutations, observer) {{\n",
       "        var display = window.getComputedStyle(gd).display;\n",
       "        if (!display || display === 'none') {{\n",
       "            console.log([gd, 'removed!']);\n",
       "            Plotly.purge(gd);\n",
       "            observer.disconnect();\n",
       "        }}\n",
       "}});\n",
       "\n",
       "// Listen for the removal of the full notebook cells\n",
       "var notebookContainer = gd.closest('#notebook-container');\n",
       "if (notebookContainer) {{\n",
       "    x.observe(notebookContainer, {childList: true});\n",
       "}}\n",
       "\n",
       "// Listen for the clearing of the current output cell\n",
       "var outputEl = gd.closest('.output');\n",
       "if (outputEl) {{\n",
       "    x.observe(outputEl, {childList: true});\n",
       "}}\n",
       "\n",
       "                        })\n",
       "                };\n",
       "                });\n",
       "            </script>\n",
       "        </div>"
      ]
     },
     "metadata": {},
     "output_type": "display_data"
    }
   ],
   "source": [
    "fig = go.Figure()\n",
    "fig.add_trace(go.Scatter(y=data['sentiments'],\n",
    "                                mode='lines+markers',\n",
    "                                name='ground truth',\n",
    "                                text=(data['time'])))\n",
    "\n",
    "\"\"\"fig.add_trace(go.Scatter(y=y_pred, x=getindex(y_pred),\n",
    "                                mode='lines+markers',\n",
    "                                 name='predictions',\n",
    "                                text=(data['time'])))\"\"\"\n",
    "\n",
    "\n",
    "fig.add_trace(go.Scatter(y=future_pred, x=list(range(99,105)),\n",
    "                                mode='lines+markers',\n",
    "                                 name='predictions',\n",
    "                                text=(data['time'])))\n",
    "\n",
    "fig.update_layout(title=f\"Sentiment Analysis of @{user} twitter interactions\")\n",
    "fig.show()"
   ]
  },
  {
   "cell_type": "code",
   "execution_count": 318,
   "metadata": {},
   "outputs": [
    {
     "name": "stderr",
     "output_type": "stream",
     "text": [
      "/usr/local/lib/python3.7/site-packages/statsmodels/tsa/ar_model.py:691: FutureWarning:\n",
      "\n",
      "\n",
      "statsmodels.tsa.AR has been deprecated in favor of statsmodels.tsa.AutoReg and\n",
      "statsmodels.tsa.SARIMAX.\n",
      "\n",
      "AutoReg adds the ability to specify exogenous variables, include time trends,\n",
      "and add seasonal dummies. The AutoReg API differs from AR since the model is\n",
      "treated as immutable, and so the entire specification including the lag\n",
      "length must be specified when creating the model. This change is too\n",
      "substantial to incorporate into the existing AR api. The function\n",
      "ar_select_order performs lag length selection for AutoReg models.\n",
      "\n",
      "AutoReg only estimates parameters using conditional MLE (OLS). Use SARIMAX to\n",
      "estimate ARX and related models using full MLE via the Kalman Filter.\n",
      "\n",
      "To silence this warning and continue using AR until it is removed, use:\n",
      "\n",
      "import warnings\n",
      "warnings.filterwarnings('ignore', 'statsmodels.tsa.ar_model.AR', FutureWarning)\n",
      "\n",
      "\n"
     ]
    }
   ],
   "source": [
    "y_train = data[\"sentiments\"][0:99]\n",
    "model = AR(y_train)\n",
    "model_fit = model.fit(maxlag=10)\n",
    "future_pred = model_fit.predict(start=99, end=105, dynamic=False)"
   ]
  },
  {
   "cell_type": "code",
   "execution_count": 319,
   "metadata": {},
   "outputs": [
    {
     "data": {
      "text/plain": [
       "99     0.472246\n",
       "100    0.472168\n",
       "101    0.472087\n",
       "102    0.472013\n",
       "103    0.471934\n",
       "104    0.471869\n",
       "105    0.471807\n",
       "dtype: float64"
      ]
     },
     "execution_count": 319,
     "metadata": {},
     "output_type": "execute_result"
    }
   ],
   "source": [
    "future_pred"
   ]
  },
  {
   "cell_type": "markdown",
   "metadata": {},
   "source": [
    "## Autoreg"
   ]
  },
  {
   "cell_type": "code",
   "execution_count": 55,
   "metadata": {},
   "outputs": [],
   "source": [
    "from statsmodels.tsa.ar_model import AutoReg"
   ]
  },
  {
   "cell_type": "code",
   "execution_count": 56,
   "metadata": {},
   "outputs": [],
   "source": [
    "y_train = data[\"sentiments\"][0:90]\n",
    "y_test = data[\"sentiments\"][90:-1]"
   ]
  },
  {
   "cell_type": "code",
   "execution_count": 57,
   "metadata": {},
   "outputs": [],
   "source": [
    "model = AutoReg(y_train, lags=29)\n",
    "model_fit = model.fit()"
   ]
  },
  {
   "cell_type": "code",
   "execution_count": 58,
   "metadata": {},
   "outputs": [],
   "source": [
    "y_pred = model_fit.predict(start=len(y_train), end=len(y_train)+len(y_test)-1, dynamic=False)"
   ]
  },
  {
   "cell_type": "code",
   "execution_count": 59,
   "metadata": {},
   "outputs": [
    {
     "data": {
      "application/vnd.plotly.v1+json": {
       "config": {
        "plotlyServerURL": "https://plot.ly"
       },
       "data": [
        {
         "mode": "lines+markers",
         "name": "ground truth",
         "text": [
          "Tue Jul 28 16:28:15 2020",
          "Tue Jul 28 16:26:27 2020",
          "Sun Jul 26 16:00:15 2020",
          "Sun Jul 26 13:00:05 2020",
          "Fri Jul 24 18:26:39 2020",
          "Thu Jul 23 14:00:56 2020",
          "Wed Jul 22 14:00:04 2020",
          "Tue Jul 21 15:17:03 2020",
          "Sat Jul 18 05:25:25 2020",
          "Fri Jul 17 14:58:27 2020",
          "Wed Jul 15 14:38:15 2020",
          "Wed Jul 15 14:38:14 2020",
          "Mon Jul 13 18:33:53 2020",
          "Mon Jul 13 18:33:53 2020",
          "Thu Jul 09 18:15:51 2020",
          "Thu Jul 09 18:15:50 2020",
          "Thu Jul 09 18:15:50 2020",
          "Thu Jul 09 18:15:50 2020",
          "Thu Jul 09 18:15:49 2020",
          "Wed Jul 08 16:58:33 2020",
          "Sat Jul 04 14:35:02 2020",
          "Fri Jul 03 16:00:04 2020",
          "Mon Jun 29 14:00:17 2020",
          "Fri Jun 26 23:11:31 2020",
          "Fri Jun 26 17:30:03 2020",
          "Fri Jun 26 14:56:57 2020",
          "Thu Jun 25 19:47:05 2020",
          "Wed Jun 24 22:05:14 2020",
          "Mon Jun 22 16:30:58 2020",
          "Fri Jun 19 16:51:15 2020",
          "Thu Jun 18 15:24:24 2020",
          "Thu Jun 18 15:23:59 2020",
          "Tue Jun 16 15:30:53 2020",
          "Tue Jun 16 15:30:52 2020",
          "Tue Jun 16 01:06:17 2020",
          "Thu Jun 11 18:30:59 2020",
          "Thu Jun 11 18:30:58 2020",
          "Thu Jun 11 18:30:58 2020",
          "Thu Jun 11 18:30:57 2020",
          "Wed Jun 10 15:10:15 2020",
          "Tue Jun 09 23:30:04 2020",
          "Tue Jun 09 21:56:52 2020",
          "Sun Jun 07 23:25:01 2020",
          "Sat Jun 06 00:37:08 2020",
          "Fri Jun 05 16:21:00 2020",
          "Thu Jun 04 23:15:58 2020",
          "Thu Jun 04 23:15:58 2020",
          "Thu Jun 04 23:15:57 2020",
          "Thu Jun 04 23:15:57 2020",
          "Thu Jun 04 13:04:56 2020",
          "Wed Jun 03 15:04:20 2020",
          "Wed Jun 03 15:04:20 2020",
          "Wed Jun 03 15:04:19 2020",
          "Mon Jun 01 23:59:01 2020",
          "Mon Jun 01 19:11:51 2020",
          "Mon Jun 01 19:11:51 2020",
          "Mon Jun 01 19:11:51 2020",
          "Mon Jun 01 19:11:50 2020",
          "Mon Jun 01 19:11:50 2020",
          "Mon Jun 01 19:11:50 2020",
          "Mon Jun 01 19:11:50 2020",
          "Mon Jun 01 19:11:49 2020",
          "Mon Jun 01 19:11:49 2020",
          "Mon Jun 01 19:11:49 2020",
          "Mon Jun 01 14:15:57 2020",
          "Fri May 29 16:06:54 2020",
          "Wed May 27 15:00:15 2020",
          "Mon May 25 14:31:05 2020",
          "Sat May 23 21:55:57 2020",
          "Sat May 23 21:55:56 2020",
          "Sat May 23 21:55:56 2020",
          "Sat May 23 18:03:41 2020",
          "Wed May 20 21:34:17 2020",
          "Sun May 17 01:00:04 2020",
          "Sat May 16 23:54:47 2020",
          "Sat May 16 21:47:43 2020",
          "Sat May 16 16:00:01 2020",
          "Thu May 14 18:44:56 2020",
          "Thu May 14 15:30:44 2020",
          "Wed May 13 23:05:11 2020",
          "Mon May 11 21:06:14 2020",
          "Sun May 10 15:03:15 2020",
          "Wed May 06 14:10:45 2020",
          "Tue May 05 15:05:41 2020",
          "Fri May 01 18:25:11 2020",
          "Mon Apr 27 17:22:11 2020",
          "Sat Apr 25 20:49:19 2020",
          "Sat Apr 25 00:00:58 2020",
          "Fri Apr 24 20:53:55 2020",
          "Wed Apr 22 19:40:36 2020",
          "Wed Apr 22 15:32:30 2020",
          "Mon Apr 20 17:01:39 2020",
          "Fri Apr 17 19:52:14 2020",
          "Fri Apr 17 14:45:45 2020",
          "Wed Apr 15 16:43:48 2020",
          "Tue Apr 14 16:02:07 2020",
          "Tue Apr 14 15:47:23 2020",
          "Mon Apr 13 18:01:58 2020",
          "Mon Apr 13 15:33:36 2020",
          "Sun Apr 12 14:41:33 2020"
         ],
         "type": "scatter",
         "y": [
          0.4345359999999996,
          0.4345359999999996,
          0.4345359999999996,
          0.4345359999999996,
          0.4345359999999996,
          0.4345359999999996,
          0.4345359999999996,
          0.4345359999999996,
          0.43453599999999964,
          0.43453599999999964,
          0.43453599999999964,
          0.43453599999999964,
          0.43453599999999976,
          0.43453599999999976,
          0.43453599999999976,
          0.4430909999999998,
          0.4430909999999998,
          0.4467199999999997,
          0.4467199999999997,
          0.45399299999999976,
          0.45399299999999976,
          0.45399299999999976,
          0.4541329999999998,
          0.4541329999999998,
          0.4541329999999998,
          0.4541329999999998,
          0.4541329999999998,
          0.4541329999999998,
          0.45413299999999973,
          0.45413299999999973,
          0.45413299999999973,
          0.45413299999999973,
          0.45413299999999973,
          0.45413299999999973,
          0.45413299999999973,
          0.45413299999999973,
          0.4455779999999997,
          0.4455779999999997,
          0.4455779999999997,
          0.4455779999999997,
          0.4455779999999997,
          0.45216599999999973,
          0.4521659999999996,
          0.4521659999999996,
          0.4486209999999997,
          0.4486209999999997,
          0.4486209999999997,
          0.4486209999999997,
          0.4486209999999997,
          0.4486209999999997,
          0.4486209999999997,
          0.4486209999999997,
          0.4486209999999997,
          0.4486209999999997,
          0.4486209999999997,
          0.4637729999999996,
          0.4637729999999996,
          0.4637729999999996,
          0.4637729999999996,
          0.4637729999999996,
          0.4637729999999996,
          0.4637729999999996,
          0.4637729999999996,
          0.4637729999999996,
          0.4637729999999996,
          0.4637729999999996,
          0.4637729999999996,
          0.4637729999999996,
          0.4637729999999996,
          0.4723279999999997,
          0.4723279999999997,
          0.4723279999999997,
          0.4723279999999997,
          0.4723279999999997,
          0.4723279999999997,
          0.4723279999999997,
          0.4723279999999997,
          0.4723279999999997,
          0.4723279999999997,
          0.4723279999999997,
          0.4723279999999997,
          0.4723279999999997,
          0.4723279999999997,
          0.4723279999999997,
          0.4723279999999997,
          0.4723279999999997,
          0.4723279999999997,
          0.4723279999999997,
          0.4723279999999997,
          0.4723279999999997,
          0.4723279999999997,
          0.4723279999999997,
          0.4723279999999997,
          0.4723279999999997,
          0.4723279999999997,
          0.4723279999999997,
          0.4723279999999997,
          0.4723279999999997,
          0.4723279999999997,
          0.4723279999999997
         ]
        },
        {
         "mode": "lines+markers",
         "name": "predictions",
         "text": [
          "Tue Jul 28 16:28:15 2020",
          "Tue Jul 28 16:26:27 2020",
          "Sun Jul 26 16:00:15 2020",
          "Sun Jul 26 13:00:05 2020",
          "Fri Jul 24 18:26:39 2020",
          "Thu Jul 23 14:00:56 2020",
          "Wed Jul 22 14:00:04 2020",
          "Tue Jul 21 15:17:03 2020",
          "Sat Jul 18 05:25:25 2020",
          "Fri Jul 17 14:58:27 2020",
          "Wed Jul 15 14:38:15 2020",
          "Wed Jul 15 14:38:14 2020",
          "Mon Jul 13 18:33:53 2020",
          "Mon Jul 13 18:33:53 2020",
          "Thu Jul 09 18:15:51 2020",
          "Thu Jul 09 18:15:50 2020",
          "Thu Jul 09 18:15:50 2020",
          "Thu Jul 09 18:15:50 2020",
          "Thu Jul 09 18:15:49 2020",
          "Wed Jul 08 16:58:33 2020",
          "Sat Jul 04 14:35:02 2020",
          "Fri Jul 03 16:00:04 2020",
          "Mon Jun 29 14:00:17 2020",
          "Fri Jun 26 23:11:31 2020",
          "Fri Jun 26 17:30:03 2020",
          "Fri Jun 26 14:56:57 2020",
          "Thu Jun 25 19:47:05 2020",
          "Wed Jun 24 22:05:14 2020",
          "Mon Jun 22 16:30:58 2020",
          "Fri Jun 19 16:51:15 2020",
          "Thu Jun 18 15:24:24 2020",
          "Thu Jun 18 15:23:59 2020",
          "Tue Jun 16 15:30:53 2020",
          "Tue Jun 16 15:30:52 2020",
          "Tue Jun 16 01:06:17 2020",
          "Thu Jun 11 18:30:59 2020",
          "Thu Jun 11 18:30:58 2020",
          "Thu Jun 11 18:30:58 2020",
          "Thu Jun 11 18:30:57 2020",
          "Wed Jun 10 15:10:15 2020",
          "Tue Jun 09 23:30:04 2020",
          "Tue Jun 09 21:56:52 2020",
          "Sun Jun 07 23:25:01 2020",
          "Sat Jun 06 00:37:08 2020",
          "Fri Jun 05 16:21:00 2020",
          "Thu Jun 04 23:15:58 2020",
          "Thu Jun 04 23:15:58 2020",
          "Thu Jun 04 23:15:57 2020",
          "Thu Jun 04 23:15:57 2020",
          "Thu Jun 04 13:04:56 2020",
          "Wed Jun 03 15:04:20 2020",
          "Wed Jun 03 15:04:20 2020",
          "Wed Jun 03 15:04:19 2020",
          "Mon Jun 01 23:59:01 2020",
          "Mon Jun 01 19:11:51 2020",
          "Mon Jun 01 19:11:51 2020",
          "Mon Jun 01 19:11:51 2020",
          "Mon Jun 01 19:11:50 2020",
          "Mon Jun 01 19:11:50 2020",
          "Mon Jun 01 19:11:50 2020",
          "Mon Jun 01 19:11:50 2020",
          "Mon Jun 01 19:11:49 2020",
          "Mon Jun 01 19:11:49 2020",
          "Mon Jun 01 19:11:49 2020",
          "Mon Jun 01 14:15:57 2020",
          "Fri May 29 16:06:54 2020",
          "Wed May 27 15:00:15 2020",
          "Mon May 25 14:31:05 2020",
          "Sat May 23 21:55:57 2020",
          "Sat May 23 21:55:56 2020",
          "Sat May 23 21:55:56 2020",
          "Sat May 23 18:03:41 2020",
          "Wed May 20 21:34:17 2020",
          "Sun May 17 01:00:04 2020",
          "Sat May 16 23:54:47 2020",
          "Sat May 16 21:47:43 2020",
          "Sat May 16 16:00:01 2020",
          "Thu May 14 18:44:56 2020",
          "Thu May 14 15:30:44 2020",
          "Wed May 13 23:05:11 2020",
          "Mon May 11 21:06:14 2020",
          "Sun May 10 15:03:15 2020",
          "Wed May 06 14:10:45 2020",
          "Tue May 05 15:05:41 2020",
          "Fri May 01 18:25:11 2020",
          "Mon Apr 27 17:22:11 2020",
          "Sat Apr 25 20:49:19 2020",
          "Sat Apr 25 00:00:58 2020",
          "Fri Apr 24 20:53:55 2020",
          "Wed Apr 22 19:40:36 2020",
          "Wed Apr 22 15:32:30 2020",
          "Mon Apr 20 17:01:39 2020",
          "Fri Apr 17 19:52:14 2020",
          "Fri Apr 17 14:45:45 2020",
          "Wed Apr 15 16:43:48 2020",
          "Tue Apr 14 16:02:07 2020",
          "Tue Apr 14 15:47:23 2020",
          "Mon Apr 13 18:01:58 2020",
          "Mon Apr 13 15:33:36 2020",
          "Sun Apr 12 14:41:33 2020"
         ],
         "type": "scatter",
         "x": [
          90,
          91,
          92,
          93,
          94,
          95,
          96,
          97,
          98
         ],
         "y": [
          0.47196873000953615,
          0.47286079676885834,
          0.4736608153233434,
          0.4752228293213842,
          0.4759151889896887,
          0.47835841996507505,
          0.478411703606613,
          0.4777042414621431,
          0.47909144062993353
         ]
        }
       ],
       "layout": {
        "template": {
         "data": {
          "bar": [
           {
            "error_x": {
             "color": "#2a3f5f"
            },
            "error_y": {
             "color": "#2a3f5f"
            },
            "marker": {
             "line": {
              "color": "#E5ECF6",
              "width": 0.5
             }
            },
            "type": "bar"
           }
          ],
          "barpolar": [
           {
            "marker": {
             "line": {
              "color": "#E5ECF6",
              "width": 0.5
             }
            },
            "type": "barpolar"
           }
          ],
          "carpet": [
           {
            "aaxis": {
             "endlinecolor": "#2a3f5f",
             "gridcolor": "white",
             "linecolor": "white",
             "minorgridcolor": "white",
             "startlinecolor": "#2a3f5f"
            },
            "baxis": {
             "endlinecolor": "#2a3f5f",
             "gridcolor": "white",
             "linecolor": "white",
             "minorgridcolor": "white",
             "startlinecolor": "#2a3f5f"
            },
            "type": "carpet"
           }
          ],
          "choropleth": [
           {
            "colorbar": {
             "outlinewidth": 0,
             "ticks": ""
            },
            "type": "choropleth"
           }
          ],
          "contour": [
           {
            "colorbar": {
             "outlinewidth": 0,
             "ticks": ""
            },
            "colorscale": [
             [
              0,
              "#0d0887"
             ],
             [
              0.1111111111111111,
              "#46039f"
             ],
             [
              0.2222222222222222,
              "#7201a8"
             ],
             [
              0.3333333333333333,
              "#9c179e"
             ],
             [
              0.4444444444444444,
              "#bd3786"
             ],
             [
              0.5555555555555556,
              "#d8576b"
             ],
             [
              0.6666666666666666,
              "#ed7953"
             ],
             [
              0.7777777777777778,
              "#fb9f3a"
             ],
             [
              0.8888888888888888,
              "#fdca26"
             ],
             [
              1,
              "#f0f921"
             ]
            ],
            "type": "contour"
           }
          ],
          "contourcarpet": [
           {
            "colorbar": {
             "outlinewidth": 0,
             "ticks": ""
            },
            "type": "contourcarpet"
           }
          ],
          "heatmap": [
           {
            "colorbar": {
             "outlinewidth": 0,
             "ticks": ""
            },
            "colorscale": [
             [
              0,
              "#0d0887"
             ],
             [
              0.1111111111111111,
              "#46039f"
             ],
             [
              0.2222222222222222,
              "#7201a8"
             ],
             [
              0.3333333333333333,
              "#9c179e"
             ],
             [
              0.4444444444444444,
              "#bd3786"
             ],
             [
              0.5555555555555556,
              "#d8576b"
             ],
             [
              0.6666666666666666,
              "#ed7953"
             ],
             [
              0.7777777777777778,
              "#fb9f3a"
             ],
             [
              0.8888888888888888,
              "#fdca26"
             ],
             [
              1,
              "#f0f921"
             ]
            ],
            "type": "heatmap"
           }
          ],
          "heatmapgl": [
           {
            "colorbar": {
             "outlinewidth": 0,
             "ticks": ""
            },
            "colorscale": [
             [
              0,
              "#0d0887"
             ],
             [
              0.1111111111111111,
              "#46039f"
             ],
             [
              0.2222222222222222,
              "#7201a8"
             ],
             [
              0.3333333333333333,
              "#9c179e"
             ],
             [
              0.4444444444444444,
              "#bd3786"
             ],
             [
              0.5555555555555556,
              "#d8576b"
             ],
             [
              0.6666666666666666,
              "#ed7953"
             ],
             [
              0.7777777777777778,
              "#fb9f3a"
             ],
             [
              0.8888888888888888,
              "#fdca26"
             ],
             [
              1,
              "#f0f921"
             ]
            ],
            "type": "heatmapgl"
           }
          ],
          "histogram": [
           {
            "marker": {
             "colorbar": {
              "outlinewidth": 0,
              "ticks": ""
             }
            },
            "type": "histogram"
           }
          ],
          "histogram2d": [
           {
            "colorbar": {
             "outlinewidth": 0,
             "ticks": ""
            },
            "colorscale": [
             [
              0,
              "#0d0887"
             ],
             [
              0.1111111111111111,
              "#46039f"
             ],
             [
              0.2222222222222222,
              "#7201a8"
             ],
             [
              0.3333333333333333,
              "#9c179e"
             ],
             [
              0.4444444444444444,
              "#bd3786"
             ],
             [
              0.5555555555555556,
              "#d8576b"
             ],
             [
              0.6666666666666666,
              "#ed7953"
             ],
             [
              0.7777777777777778,
              "#fb9f3a"
             ],
             [
              0.8888888888888888,
              "#fdca26"
             ],
             [
              1,
              "#f0f921"
             ]
            ],
            "type": "histogram2d"
           }
          ],
          "histogram2dcontour": [
           {
            "colorbar": {
             "outlinewidth": 0,
             "ticks": ""
            },
            "colorscale": [
             [
              0,
              "#0d0887"
             ],
             [
              0.1111111111111111,
              "#46039f"
             ],
             [
              0.2222222222222222,
              "#7201a8"
             ],
             [
              0.3333333333333333,
              "#9c179e"
             ],
             [
              0.4444444444444444,
              "#bd3786"
             ],
             [
              0.5555555555555556,
              "#d8576b"
             ],
             [
              0.6666666666666666,
              "#ed7953"
             ],
             [
              0.7777777777777778,
              "#fb9f3a"
             ],
             [
              0.8888888888888888,
              "#fdca26"
             ],
             [
              1,
              "#f0f921"
             ]
            ],
            "type": "histogram2dcontour"
           }
          ],
          "mesh3d": [
           {
            "colorbar": {
             "outlinewidth": 0,
             "ticks": ""
            },
            "type": "mesh3d"
           }
          ],
          "parcoords": [
           {
            "line": {
             "colorbar": {
              "outlinewidth": 0,
              "ticks": ""
             }
            },
            "type": "parcoords"
           }
          ],
          "pie": [
           {
            "automargin": true,
            "type": "pie"
           }
          ],
          "scatter": [
           {
            "marker": {
             "colorbar": {
              "outlinewidth": 0,
              "ticks": ""
             }
            },
            "type": "scatter"
           }
          ],
          "scatter3d": [
           {
            "line": {
             "colorbar": {
              "outlinewidth": 0,
              "ticks": ""
             }
            },
            "marker": {
             "colorbar": {
              "outlinewidth": 0,
              "ticks": ""
             }
            },
            "type": "scatter3d"
           }
          ],
          "scattercarpet": [
           {
            "marker": {
             "colorbar": {
              "outlinewidth": 0,
              "ticks": ""
             }
            },
            "type": "scattercarpet"
           }
          ],
          "scattergeo": [
           {
            "marker": {
             "colorbar": {
              "outlinewidth": 0,
              "ticks": ""
             }
            },
            "type": "scattergeo"
           }
          ],
          "scattergl": [
           {
            "marker": {
             "colorbar": {
              "outlinewidth": 0,
              "ticks": ""
             }
            },
            "type": "scattergl"
           }
          ],
          "scattermapbox": [
           {
            "marker": {
             "colorbar": {
              "outlinewidth": 0,
              "ticks": ""
             }
            },
            "type": "scattermapbox"
           }
          ],
          "scatterpolar": [
           {
            "marker": {
             "colorbar": {
              "outlinewidth": 0,
              "ticks": ""
             }
            },
            "type": "scatterpolar"
           }
          ],
          "scatterpolargl": [
           {
            "marker": {
             "colorbar": {
              "outlinewidth": 0,
              "ticks": ""
             }
            },
            "type": "scatterpolargl"
           }
          ],
          "scatterternary": [
           {
            "marker": {
             "colorbar": {
              "outlinewidth": 0,
              "ticks": ""
             }
            },
            "type": "scatterternary"
           }
          ],
          "surface": [
           {
            "colorbar": {
             "outlinewidth": 0,
             "ticks": ""
            },
            "colorscale": [
             [
              0,
              "#0d0887"
             ],
             [
              0.1111111111111111,
              "#46039f"
             ],
             [
              0.2222222222222222,
              "#7201a8"
             ],
             [
              0.3333333333333333,
              "#9c179e"
             ],
             [
              0.4444444444444444,
              "#bd3786"
             ],
             [
              0.5555555555555556,
              "#d8576b"
             ],
             [
              0.6666666666666666,
              "#ed7953"
             ],
             [
              0.7777777777777778,
              "#fb9f3a"
             ],
             [
              0.8888888888888888,
              "#fdca26"
             ],
             [
              1,
              "#f0f921"
             ]
            ],
            "type": "surface"
           }
          ],
          "table": [
           {
            "cells": {
             "fill": {
              "color": "#EBF0F8"
             },
             "line": {
              "color": "white"
             }
            },
            "header": {
             "fill": {
              "color": "#C8D4E3"
             },
             "line": {
              "color": "white"
             }
            },
            "type": "table"
           }
          ]
         },
         "layout": {
          "annotationdefaults": {
           "arrowcolor": "#2a3f5f",
           "arrowhead": 0,
           "arrowwidth": 1
          },
          "coloraxis": {
           "colorbar": {
            "outlinewidth": 0,
            "ticks": ""
           }
          },
          "colorscale": {
           "diverging": [
            [
             0,
             "#8e0152"
            ],
            [
             0.1,
             "#c51b7d"
            ],
            [
             0.2,
             "#de77ae"
            ],
            [
             0.3,
             "#f1b6da"
            ],
            [
             0.4,
             "#fde0ef"
            ],
            [
             0.5,
             "#f7f7f7"
            ],
            [
             0.6,
             "#e6f5d0"
            ],
            [
             0.7,
             "#b8e186"
            ],
            [
             0.8,
             "#7fbc41"
            ],
            [
             0.9,
             "#4d9221"
            ],
            [
             1,
             "#276419"
            ]
           ],
           "sequential": [
            [
             0,
             "#0d0887"
            ],
            [
             0.1111111111111111,
             "#46039f"
            ],
            [
             0.2222222222222222,
             "#7201a8"
            ],
            [
             0.3333333333333333,
             "#9c179e"
            ],
            [
             0.4444444444444444,
             "#bd3786"
            ],
            [
             0.5555555555555556,
             "#d8576b"
            ],
            [
             0.6666666666666666,
             "#ed7953"
            ],
            [
             0.7777777777777778,
             "#fb9f3a"
            ],
            [
             0.8888888888888888,
             "#fdca26"
            ],
            [
             1,
             "#f0f921"
            ]
           ],
           "sequentialminus": [
            [
             0,
             "#0d0887"
            ],
            [
             0.1111111111111111,
             "#46039f"
            ],
            [
             0.2222222222222222,
             "#7201a8"
            ],
            [
             0.3333333333333333,
             "#9c179e"
            ],
            [
             0.4444444444444444,
             "#bd3786"
            ],
            [
             0.5555555555555556,
             "#d8576b"
            ],
            [
             0.6666666666666666,
             "#ed7953"
            ],
            [
             0.7777777777777778,
             "#fb9f3a"
            ],
            [
             0.8888888888888888,
             "#fdca26"
            ],
            [
             1,
             "#f0f921"
            ]
           ]
          },
          "colorway": [
           "#636efa",
           "#EF553B",
           "#00cc96",
           "#ab63fa",
           "#FFA15A",
           "#19d3f3",
           "#FF6692",
           "#B6E880",
           "#FF97FF",
           "#FECB52"
          ],
          "font": {
           "color": "#2a3f5f"
          },
          "geo": {
           "bgcolor": "white",
           "lakecolor": "white",
           "landcolor": "#E5ECF6",
           "showlakes": true,
           "showland": true,
           "subunitcolor": "white"
          },
          "hoverlabel": {
           "align": "left"
          },
          "hovermode": "closest",
          "mapbox": {
           "style": "light"
          },
          "paper_bgcolor": "white",
          "plot_bgcolor": "#E5ECF6",
          "polar": {
           "angularaxis": {
            "gridcolor": "white",
            "linecolor": "white",
            "ticks": ""
           },
           "bgcolor": "#E5ECF6",
           "radialaxis": {
            "gridcolor": "white",
            "linecolor": "white",
            "ticks": ""
           }
          },
          "scene": {
           "xaxis": {
            "backgroundcolor": "#E5ECF6",
            "gridcolor": "white",
            "gridwidth": 2,
            "linecolor": "white",
            "showbackground": true,
            "ticks": "",
            "zerolinecolor": "white"
           },
           "yaxis": {
            "backgroundcolor": "#E5ECF6",
            "gridcolor": "white",
            "gridwidth": 2,
            "linecolor": "white",
            "showbackground": true,
            "ticks": "",
            "zerolinecolor": "white"
           },
           "zaxis": {
            "backgroundcolor": "#E5ECF6",
            "gridcolor": "white",
            "gridwidth": 2,
            "linecolor": "white",
            "showbackground": true,
            "ticks": "",
            "zerolinecolor": "white"
           }
          },
          "shapedefaults": {
           "line": {
            "color": "#2a3f5f"
           }
          },
          "ternary": {
           "aaxis": {
            "gridcolor": "white",
            "linecolor": "white",
            "ticks": ""
           },
           "baxis": {
            "gridcolor": "white",
            "linecolor": "white",
            "ticks": ""
           },
           "bgcolor": "#E5ECF6",
           "caxis": {
            "gridcolor": "white",
            "linecolor": "white",
            "ticks": ""
           }
          },
          "title": {
           "x": 0.05
          },
          "xaxis": {
           "automargin": true,
           "gridcolor": "white",
           "linecolor": "white",
           "ticks": "",
           "title": {
            "standoff": 15
           },
           "zerolinecolor": "white",
           "zerolinewidth": 2
          },
          "yaxis": {
           "automargin": true,
           "gridcolor": "white",
           "linecolor": "white",
           "ticks": "",
           "title": {
            "standoff": 15
           },
           "zerolinecolor": "white",
           "zerolinewidth": 2
          }
         }
        },
        "title": {
         "text": "Sentiment Analysis of @BarackObama twitter interactions"
        }
       }
      },
      "text/html": [
       "<div>\n",
       "        \n",
       "        \n",
       "            <div id=\"878be04c-0593-48d6-85b8-c1978dbda034\" class=\"plotly-graph-div\" style=\"height:525px; width:100%;\"></div>\n",
       "            <script type=\"text/javascript\">\n",
       "                require([\"plotly\"], function(Plotly) {\n",
       "                    window.PLOTLYENV=window.PLOTLYENV || {};\n",
       "                    \n",
       "                if (document.getElementById(\"878be04c-0593-48d6-85b8-c1978dbda034\")) {\n",
       "                    Plotly.newPlot(\n",
       "                        '878be04c-0593-48d6-85b8-c1978dbda034',\n",
       "                        [{\"mode\": \"lines+markers\", \"name\": \"ground truth\", \"text\": [\"Tue Jul 28 16:28:15 2020\", \"Tue Jul 28 16:26:27 2020\", \"Sun Jul 26 16:00:15 2020\", \"Sun Jul 26 13:00:05 2020\", \"Fri Jul 24 18:26:39 2020\", \"Thu Jul 23 14:00:56 2020\", \"Wed Jul 22 14:00:04 2020\", \"Tue Jul 21 15:17:03 2020\", \"Sat Jul 18 05:25:25 2020\", \"Fri Jul 17 14:58:27 2020\", \"Wed Jul 15 14:38:15 2020\", \"Wed Jul 15 14:38:14 2020\", \"Mon Jul 13 18:33:53 2020\", \"Mon Jul 13 18:33:53 2020\", \"Thu Jul 09 18:15:51 2020\", \"Thu Jul 09 18:15:50 2020\", \"Thu Jul 09 18:15:50 2020\", \"Thu Jul 09 18:15:50 2020\", \"Thu Jul 09 18:15:49 2020\", \"Wed Jul 08 16:58:33 2020\", \"Sat Jul 04 14:35:02 2020\", \"Fri Jul 03 16:00:04 2020\", \"Mon Jun 29 14:00:17 2020\", \"Fri Jun 26 23:11:31 2020\", \"Fri Jun 26 17:30:03 2020\", \"Fri Jun 26 14:56:57 2020\", \"Thu Jun 25 19:47:05 2020\", \"Wed Jun 24 22:05:14 2020\", \"Mon Jun 22 16:30:58 2020\", \"Fri Jun 19 16:51:15 2020\", \"Thu Jun 18 15:24:24 2020\", \"Thu Jun 18 15:23:59 2020\", \"Tue Jun 16 15:30:53 2020\", \"Tue Jun 16 15:30:52 2020\", \"Tue Jun 16 01:06:17 2020\", \"Thu Jun 11 18:30:59 2020\", \"Thu Jun 11 18:30:58 2020\", \"Thu Jun 11 18:30:58 2020\", \"Thu Jun 11 18:30:57 2020\", \"Wed Jun 10 15:10:15 2020\", \"Tue Jun 09 23:30:04 2020\", \"Tue Jun 09 21:56:52 2020\", \"Sun Jun 07 23:25:01 2020\", \"Sat Jun 06 00:37:08 2020\", \"Fri Jun 05 16:21:00 2020\", \"Thu Jun 04 23:15:58 2020\", \"Thu Jun 04 23:15:58 2020\", \"Thu Jun 04 23:15:57 2020\", \"Thu Jun 04 23:15:57 2020\", \"Thu Jun 04 13:04:56 2020\", \"Wed Jun 03 15:04:20 2020\", \"Wed Jun 03 15:04:20 2020\", \"Wed Jun 03 15:04:19 2020\", \"Mon Jun 01 23:59:01 2020\", \"Mon Jun 01 19:11:51 2020\", \"Mon Jun 01 19:11:51 2020\", \"Mon Jun 01 19:11:51 2020\", \"Mon Jun 01 19:11:50 2020\", \"Mon Jun 01 19:11:50 2020\", \"Mon Jun 01 19:11:50 2020\", \"Mon Jun 01 19:11:50 2020\", \"Mon Jun 01 19:11:49 2020\", \"Mon Jun 01 19:11:49 2020\", \"Mon Jun 01 19:11:49 2020\", \"Mon Jun 01 14:15:57 2020\", \"Fri May 29 16:06:54 2020\", \"Wed May 27 15:00:15 2020\", \"Mon May 25 14:31:05 2020\", \"Sat May 23 21:55:57 2020\", \"Sat May 23 21:55:56 2020\", \"Sat May 23 21:55:56 2020\", \"Sat May 23 18:03:41 2020\", \"Wed May 20 21:34:17 2020\", \"Sun May 17 01:00:04 2020\", \"Sat May 16 23:54:47 2020\", \"Sat May 16 21:47:43 2020\", \"Sat May 16 16:00:01 2020\", \"Thu May 14 18:44:56 2020\", \"Thu May 14 15:30:44 2020\", \"Wed May 13 23:05:11 2020\", \"Mon May 11 21:06:14 2020\", \"Sun May 10 15:03:15 2020\", \"Wed May 06 14:10:45 2020\", \"Tue May 05 15:05:41 2020\", \"Fri May 01 18:25:11 2020\", \"Mon Apr 27 17:22:11 2020\", \"Sat Apr 25 20:49:19 2020\", \"Sat Apr 25 00:00:58 2020\", \"Fri Apr 24 20:53:55 2020\", \"Wed Apr 22 19:40:36 2020\", \"Wed Apr 22 15:32:30 2020\", \"Mon Apr 20 17:01:39 2020\", \"Fri Apr 17 19:52:14 2020\", \"Fri Apr 17 14:45:45 2020\", \"Wed Apr 15 16:43:48 2020\", \"Tue Apr 14 16:02:07 2020\", \"Tue Apr 14 15:47:23 2020\", \"Mon Apr 13 18:01:58 2020\", \"Mon Apr 13 15:33:36 2020\", \"Sun Apr 12 14:41:33 2020\"], \"type\": \"scatter\", \"y\": [0.4345359999999996, 0.4345359999999996, 0.4345359999999996, 0.4345359999999996, 0.4345359999999996, 0.4345359999999996, 0.4345359999999996, 0.4345359999999996, 0.43453599999999964, 0.43453599999999964, 0.43453599999999964, 0.43453599999999964, 0.43453599999999976, 0.43453599999999976, 0.43453599999999976, 0.4430909999999998, 0.4430909999999998, 0.4467199999999997, 0.4467199999999997, 0.45399299999999976, 0.45399299999999976, 0.45399299999999976, 0.4541329999999998, 0.4541329999999998, 0.4541329999999998, 0.4541329999999998, 0.4541329999999998, 0.4541329999999998, 0.45413299999999973, 0.45413299999999973, 0.45413299999999973, 0.45413299999999973, 0.45413299999999973, 0.45413299999999973, 0.45413299999999973, 0.45413299999999973, 0.4455779999999997, 0.4455779999999997, 0.4455779999999997, 0.4455779999999997, 0.4455779999999997, 0.45216599999999973, 0.4521659999999996, 0.4521659999999996, 0.4486209999999997, 0.4486209999999997, 0.4486209999999997, 0.4486209999999997, 0.4486209999999997, 0.4486209999999997, 0.4486209999999997, 0.4486209999999997, 0.4486209999999997, 0.4486209999999997, 0.4486209999999997, 0.4637729999999996, 0.4637729999999996, 0.4637729999999996, 0.4637729999999996, 0.4637729999999996, 0.4637729999999996, 0.4637729999999996, 0.4637729999999996, 0.4637729999999996, 0.4637729999999996, 0.4637729999999996, 0.4637729999999996, 0.4637729999999996, 0.4637729999999996, 0.4723279999999997, 0.4723279999999997, 0.4723279999999997, 0.4723279999999997, 0.4723279999999997, 0.4723279999999997, 0.4723279999999997, 0.4723279999999997, 0.4723279999999997, 0.4723279999999997, 0.4723279999999997, 0.4723279999999997, 0.4723279999999997, 0.4723279999999997, 0.4723279999999997, 0.4723279999999997, 0.4723279999999997, 0.4723279999999997, 0.4723279999999997, 0.4723279999999997, 0.4723279999999997, 0.4723279999999997, 0.4723279999999997, 0.4723279999999997, 0.4723279999999997, 0.4723279999999997, 0.4723279999999997, 0.4723279999999997, 0.4723279999999997, 0.4723279999999997, 0.4723279999999997]}, {\"mode\": \"lines+markers\", \"name\": \"predictions\", \"text\": [\"Tue Jul 28 16:28:15 2020\", \"Tue Jul 28 16:26:27 2020\", \"Sun Jul 26 16:00:15 2020\", \"Sun Jul 26 13:00:05 2020\", \"Fri Jul 24 18:26:39 2020\", \"Thu Jul 23 14:00:56 2020\", \"Wed Jul 22 14:00:04 2020\", \"Tue Jul 21 15:17:03 2020\", \"Sat Jul 18 05:25:25 2020\", \"Fri Jul 17 14:58:27 2020\", \"Wed Jul 15 14:38:15 2020\", \"Wed Jul 15 14:38:14 2020\", \"Mon Jul 13 18:33:53 2020\", \"Mon Jul 13 18:33:53 2020\", \"Thu Jul 09 18:15:51 2020\", \"Thu Jul 09 18:15:50 2020\", \"Thu Jul 09 18:15:50 2020\", \"Thu Jul 09 18:15:50 2020\", \"Thu Jul 09 18:15:49 2020\", \"Wed Jul 08 16:58:33 2020\", \"Sat Jul 04 14:35:02 2020\", \"Fri Jul 03 16:00:04 2020\", \"Mon Jun 29 14:00:17 2020\", \"Fri Jun 26 23:11:31 2020\", \"Fri Jun 26 17:30:03 2020\", \"Fri Jun 26 14:56:57 2020\", \"Thu Jun 25 19:47:05 2020\", \"Wed Jun 24 22:05:14 2020\", \"Mon Jun 22 16:30:58 2020\", \"Fri Jun 19 16:51:15 2020\", \"Thu Jun 18 15:24:24 2020\", \"Thu Jun 18 15:23:59 2020\", \"Tue Jun 16 15:30:53 2020\", \"Tue Jun 16 15:30:52 2020\", \"Tue Jun 16 01:06:17 2020\", \"Thu Jun 11 18:30:59 2020\", \"Thu Jun 11 18:30:58 2020\", \"Thu Jun 11 18:30:58 2020\", \"Thu Jun 11 18:30:57 2020\", \"Wed Jun 10 15:10:15 2020\", \"Tue Jun 09 23:30:04 2020\", \"Tue Jun 09 21:56:52 2020\", \"Sun Jun 07 23:25:01 2020\", \"Sat Jun 06 00:37:08 2020\", \"Fri Jun 05 16:21:00 2020\", \"Thu Jun 04 23:15:58 2020\", \"Thu Jun 04 23:15:58 2020\", \"Thu Jun 04 23:15:57 2020\", \"Thu Jun 04 23:15:57 2020\", \"Thu Jun 04 13:04:56 2020\", \"Wed Jun 03 15:04:20 2020\", \"Wed Jun 03 15:04:20 2020\", \"Wed Jun 03 15:04:19 2020\", \"Mon Jun 01 23:59:01 2020\", \"Mon Jun 01 19:11:51 2020\", \"Mon Jun 01 19:11:51 2020\", \"Mon Jun 01 19:11:51 2020\", \"Mon Jun 01 19:11:50 2020\", \"Mon Jun 01 19:11:50 2020\", \"Mon Jun 01 19:11:50 2020\", \"Mon Jun 01 19:11:50 2020\", \"Mon Jun 01 19:11:49 2020\", \"Mon Jun 01 19:11:49 2020\", \"Mon Jun 01 19:11:49 2020\", \"Mon Jun 01 14:15:57 2020\", \"Fri May 29 16:06:54 2020\", \"Wed May 27 15:00:15 2020\", \"Mon May 25 14:31:05 2020\", \"Sat May 23 21:55:57 2020\", \"Sat May 23 21:55:56 2020\", \"Sat May 23 21:55:56 2020\", \"Sat May 23 18:03:41 2020\", \"Wed May 20 21:34:17 2020\", \"Sun May 17 01:00:04 2020\", \"Sat May 16 23:54:47 2020\", \"Sat May 16 21:47:43 2020\", \"Sat May 16 16:00:01 2020\", \"Thu May 14 18:44:56 2020\", \"Thu May 14 15:30:44 2020\", \"Wed May 13 23:05:11 2020\", \"Mon May 11 21:06:14 2020\", \"Sun May 10 15:03:15 2020\", \"Wed May 06 14:10:45 2020\", \"Tue May 05 15:05:41 2020\", \"Fri May 01 18:25:11 2020\", \"Mon Apr 27 17:22:11 2020\", \"Sat Apr 25 20:49:19 2020\", \"Sat Apr 25 00:00:58 2020\", \"Fri Apr 24 20:53:55 2020\", \"Wed Apr 22 19:40:36 2020\", \"Wed Apr 22 15:32:30 2020\", \"Mon Apr 20 17:01:39 2020\", \"Fri Apr 17 19:52:14 2020\", \"Fri Apr 17 14:45:45 2020\", \"Wed Apr 15 16:43:48 2020\", \"Tue Apr 14 16:02:07 2020\", \"Tue Apr 14 15:47:23 2020\", \"Mon Apr 13 18:01:58 2020\", \"Mon Apr 13 15:33:36 2020\", \"Sun Apr 12 14:41:33 2020\"], \"type\": \"scatter\", \"x\": [90, 91, 92, 93, 94, 95, 96, 97, 98], \"y\": [0.47196873000953615, 0.47286079676885834, 0.4736608153233434, 0.4752228293213842, 0.4759151889896887, 0.47835841996507505, 0.478411703606613, 0.4777042414621431, 0.47909144062993353]}],\n",
       "                        {\"template\": {\"data\": {\"bar\": [{\"error_x\": {\"color\": \"#2a3f5f\"}, \"error_y\": {\"color\": \"#2a3f5f\"}, \"marker\": {\"line\": {\"color\": \"#E5ECF6\", \"width\": 0.5}}, \"type\": \"bar\"}], \"barpolar\": [{\"marker\": {\"line\": {\"color\": \"#E5ECF6\", \"width\": 0.5}}, \"type\": \"barpolar\"}], \"carpet\": [{\"aaxis\": {\"endlinecolor\": \"#2a3f5f\", \"gridcolor\": \"white\", \"linecolor\": \"white\", \"minorgridcolor\": \"white\", \"startlinecolor\": \"#2a3f5f\"}, \"baxis\": {\"endlinecolor\": \"#2a3f5f\", \"gridcolor\": \"white\", \"linecolor\": \"white\", \"minorgridcolor\": \"white\", \"startlinecolor\": \"#2a3f5f\"}, \"type\": \"carpet\"}], \"choropleth\": [{\"colorbar\": {\"outlinewidth\": 0, \"ticks\": \"\"}, \"type\": \"choropleth\"}], \"contour\": [{\"colorbar\": {\"outlinewidth\": 0, \"ticks\": \"\"}, \"colorscale\": [[0.0, \"#0d0887\"], [0.1111111111111111, \"#46039f\"], [0.2222222222222222, \"#7201a8\"], [0.3333333333333333, \"#9c179e\"], [0.4444444444444444, \"#bd3786\"], [0.5555555555555556, \"#d8576b\"], [0.6666666666666666, \"#ed7953\"], [0.7777777777777778, \"#fb9f3a\"], [0.8888888888888888, \"#fdca26\"], [1.0, \"#f0f921\"]], \"type\": \"contour\"}], \"contourcarpet\": [{\"colorbar\": {\"outlinewidth\": 0, \"ticks\": \"\"}, \"type\": \"contourcarpet\"}], \"heatmap\": [{\"colorbar\": {\"outlinewidth\": 0, \"ticks\": \"\"}, \"colorscale\": [[0.0, \"#0d0887\"], [0.1111111111111111, \"#46039f\"], [0.2222222222222222, \"#7201a8\"], [0.3333333333333333, \"#9c179e\"], [0.4444444444444444, \"#bd3786\"], [0.5555555555555556, \"#d8576b\"], [0.6666666666666666, \"#ed7953\"], [0.7777777777777778, \"#fb9f3a\"], [0.8888888888888888, \"#fdca26\"], [1.0, \"#f0f921\"]], \"type\": \"heatmap\"}], \"heatmapgl\": [{\"colorbar\": {\"outlinewidth\": 0, \"ticks\": \"\"}, \"colorscale\": [[0.0, \"#0d0887\"], [0.1111111111111111, \"#46039f\"], [0.2222222222222222, \"#7201a8\"], [0.3333333333333333, \"#9c179e\"], [0.4444444444444444, \"#bd3786\"], [0.5555555555555556, \"#d8576b\"], [0.6666666666666666, \"#ed7953\"], [0.7777777777777778, \"#fb9f3a\"], [0.8888888888888888, \"#fdca26\"], [1.0, \"#f0f921\"]], \"type\": \"heatmapgl\"}], \"histogram\": [{\"marker\": {\"colorbar\": {\"outlinewidth\": 0, \"ticks\": \"\"}}, \"type\": \"histogram\"}], \"histogram2d\": [{\"colorbar\": {\"outlinewidth\": 0, \"ticks\": \"\"}, \"colorscale\": [[0.0, \"#0d0887\"], [0.1111111111111111, \"#46039f\"], [0.2222222222222222, \"#7201a8\"], [0.3333333333333333, \"#9c179e\"], [0.4444444444444444, \"#bd3786\"], [0.5555555555555556, \"#d8576b\"], [0.6666666666666666, \"#ed7953\"], [0.7777777777777778, \"#fb9f3a\"], [0.8888888888888888, \"#fdca26\"], [1.0, \"#f0f921\"]], \"type\": \"histogram2d\"}], \"histogram2dcontour\": [{\"colorbar\": {\"outlinewidth\": 0, \"ticks\": \"\"}, \"colorscale\": [[0.0, \"#0d0887\"], [0.1111111111111111, \"#46039f\"], [0.2222222222222222, \"#7201a8\"], [0.3333333333333333, \"#9c179e\"], [0.4444444444444444, \"#bd3786\"], [0.5555555555555556, \"#d8576b\"], [0.6666666666666666, \"#ed7953\"], [0.7777777777777778, \"#fb9f3a\"], [0.8888888888888888, \"#fdca26\"], [1.0, \"#f0f921\"]], \"type\": \"histogram2dcontour\"}], \"mesh3d\": [{\"colorbar\": {\"outlinewidth\": 0, \"ticks\": \"\"}, \"type\": \"mesh3d\"}], \"parcoords\": [{\"line\": {\"colorbar\": {\"outlinewidth\": 0, \"ticks\": \"\"}}, \"type\": \"parcoords\"}], \"pie\": [{\"automargin\": true, \"type\": \"pie\"}], \"scatter\": [{\"marker\": {\"colorbar\": {\"outlinewidth\": 0, \"ticks\": \"\"}}, \"type\": \"scatter\"}], \"scatter3d\": [{\"line\": {\"colorbar\": {\"outlinewidth\": 0, \"ticks\": \"\"}}, \"marker\": {\"colorbar\": {\"outlinewidth\": 0, \"ticks\": \"\"}}, \"type\": \"scatter3d\"}], \"scattercarpet\": [{\"marker\": {\"colorbar\": {\"outlinewidth\": 0, \"ticks\": \"\"}}, \"type\": \"scattercarpet\"}], \"scattergeo\": [{\"marker\": {\"colorbar\": {\"outlinewidth\": 0, \"ticks\": \"\"}}, \"type\": \"scattergeo\"}], \"scattergl\": [{\"marker\": {\"colorbar\": {\"outlinewidth\": 0, \"ticks\": \"\"}}, \"type\": \"scattergl\"}], \"scattermapbox\": [{\"marker\": {\"colorbar\": {\"outlinewidth\": 0, \"ticks\": \"\"}}, \"type\": \"scattermapbox\"}], \"scatterpolar\": [{\"marker\": {\"colorbar\": {\"outlinewidth\": 0, \"ticks\": \"\"}}, \"type\": \"scatterpolar\"}], \"scatterpolargl\": [{\"marker\": {\"colorbar\": {\"outlinewidth\": 0, \"ticks\": \"\"}}, \"type\": \"scatterpolargl\"}], \"scatterternary\": [{\"marker\": {\"colorbar\": {\"outlinewidth\": 0, \"ticks\": \"\"}}, \"type\": \"scatterternary\"}], \"surface\": [{\"colorbar\": {\"outlinewidth\": 0, \"ticks\": \"\"}, \"colorscale\": [[0.0, \"#0d0887\"], [0.1111111111111111, \"#46039f\"], [0.2222222222222222, \"#7201a8\"], [0.3333333333333333, \"#9c179e\"], [0.4444444444444444, \"#bd3786\"], [0.5555555555555556, \"#d8576b\"], [0.6666666666666666, \"#ed7953\"], [0.7777777777777778, \"#fb9f3a\"], [0.8888888888888888, \"#fdca26\"], [1.0, \"#f0f921\"]], \"type\": \"surface\"}], \"table\": [{\"cells\": {\"fill\": {\"color\": \"#EBF0F8\"}, \"line\": {\"color\": \"white\"}}, \"header\": {\"fill\": {\"color\": \"#C8D4E3\"}, \"line\": {\"color\": \"white\"}}, \"type\": \"table\"}]}, \"layout\": {\"annotationdefaults\": {\"arrowcolor\": \"#2a3f5f\", \"arrowhead\": 0, \"arrowwidth\": 1}, \"coloraxis\": {\"colorbar\": {\"outlinewidth\": 0, \"ticks\": \"\"}}, \"colorscale\": {\"diverging\": [[0, \"#8e0152\"], [0.1, \"#c51b7d\"], [0.2, \"#de77ae\"], [0.3, \"#f1b6da\"], [0.4, \"#fde0ef\"], [0.5, \"#f7f7f7\"], [0.6, \"#e6f5d0\"], [0.7, \"#b8e186\"], [0.8, \"#7fbc41\"], [0.9, \"#4d9221\"], [1, \"#276419\"]], \"sequential\": [[0.0, \"#0d0887\"], [0.1111111111111111, \"#46039f\"], [0.2222222222222222, \"#7201a8\"], [0.3333333333333333, \"#9c179e\"], [0.4444444444444444, \"#bd3786\"], [0.5555555555555556, \"#d8576b\"], [0.6666666666666666, \"#ed7953\"], [0.7777777777777778, \"#fb9f3a\"], [0.8888888888888888, \"#fdca26\"], [1.0, \"#f0f921\"]], \"sequentialminus\": [[0.0, \"#0d0887\"], [0.1111111111111111, \"#46039f\"], [0.2222222222222222, \"#7201a8\"], [0.3333333333333333, \"#9c179e\"], [0.4444444444444444, \"#bd3786\"], [0.5555555555555556, \"#d8576b\"], [0.6666666666666666, \"#ed7953\"], [0.7777777777777778, \"#fb9f3a\"], [0.8888888888888888, \"#fdca26\"], [1.0, \"#f0f921\"]]}, \"colorway\": [\"#636efa\", \"#EF553B\", \"#00cc96\", \"#ab63fa\", \"#FFA15A\", \"#19d3f3\", \"#FF6692\", \"#B6E880\", \"#FF97FF\", \"#FECB52\"], \"font\": {\"color\": \"#2a3f5f\"}, \"geo\": {\"bgcolor\": \"white\", \"lakecolor\": \"white\", \"landcolor\": \"#E5ECF6\", \"showlakes\": true, \"showland\": true, \"subunitcolor\": \"white\"}, \"hoverlabel\": {\"align\": \"left\"}, \"hovermode\": \"closest\", \"mapbox\": {\"style\": \"light\"}, \"paper_bgcolor\": \"white\", \"plot_bgcolor\": \"#E5ECF6\", \"polar\": {\"angularaxis\": {\"gridcolor\": \"white\", \"linecolor\": \"white\", \"ticks\": \"\"}, \"bgcolor\": \"#E5ECF6\", \"radialaxis\": {\"gridcolor\": \"white\", \"linecolor\": \"white\", \"ticks\": \"\"}}, \"scene\": {\"xaxis\": {\"backgroundcolor\": \"#E5ECF6\", \"gridcolor\": \"white\", \"gridwidth\": 2, \"linecolor\": \"white\", \"showbackground\": true, \"ticks\": \"\", \"zerolinecolor\": \"white\"}, \"yaxis\": {\"backgroundcolor\": \"#E5ECF6\", \"gridcolor\": \"white\", \"gridwidth\": 2, \"linecolor\": \"white\", \"showbackground\": true, \"ticks\": \"\", \"zerolinecolor\": \"white\"}, \"zaxis\": {\"backgroundcolor\": \"#E5ECF6\", \"gridcolor\": \"white\", \"gridwidth\": 2, \"linecolor\": \"white\", \"showbackground\": true, \"ticks\": \"\", \"zerolinecolor\": \"white\"}}, \"shapedefaults\": {\"line\": {\"color\": \"#2a3f5f\"}}, \"ternary\": {\"aaxis\": {\"gridcolor\": \"white\", \"linecolor\": \"white\", \"ticks\": \"\"}, \"baxis\": {\"gridcolor\": \"white\", \"linecolor\": \"white\", \"ticks\": \"\"}, \"bgcolor\": \"#E5ECF6\", \"caxis\": {\"gridcolor\": \"white\", \"linecolor\": \"white\", \"ticks\": \"\"}}, \"title\": {\"x\": 0.05}, \"xaxis\": {\"automargin\": true, \"gridcolor\": \"white\", \"linecolor\": \"white\", \"ticks\": \"\", \"title\": {\"standoff\": 15}, \"zerolinecolor\": \"white\", \"zerolinewidth\": 2}, \"yaxis\": {\"automargin\": true, \"gridcolor\": \"white\", \"linecolor\": \"white\", \"ticks\": \"\", \"title\": {\"standoff\": 15}, \"zerolinecolor\": \"white\", \"zerolinewidth\": 2}}}, \"title\": {\"text\": \"Sentiment Analysis of @BarackObama twitter interactions\"}},\n",
       "                        {\"responsive\": true}\n",
       "                    ).then(function(){\n",
       "                            \n",
       "var gd = document.getElementById('878be04c-0593-48d6-85b8-c1978dbda034');\n",
       "var x = new MutationObserver(function (mutations, observer) {{\n",
       "        var display = window.getComputedStyle(gd).display;\n",
       "        if (!display || display === 'none') {{\n",
       "            console.log([gd, 'removed!']);\n",
       "            Plotly.purge(gd);\n",
       "            observer.disconnect();\n",
       "        }}\n",
       "}});\n",
       "\n",
       "// Listen for the removal of the full notebook cells\n",
       "var notebookContainer = gd.closest('#notebook-container');\n",
       "if (notebookContainer) {{\n",
       "    x.observe(notebookContainer, {childList: true});\n",
       "}}\n",
       "\n",
       "// Listen for the clearing of the current output cell\n",
       "var outputEl = gd.closest('.output');\n",
       "if (outputEl) {{\n",
       "    x.observe(outputEl, {childList: true});\n",
       "}}\n",
       "\n",
       "                        })\n",
       "                };\n",
       "                });\n",
       "            </script>\n",
       "        </div>"
      ]
     },
     "metadata": {},
     "output_type": "display_data"
    }
   ],
   "source": [
    "fig = go.Figure()\n",
    "fig.add_trace(go.Scatter(y=data['sentiments'],\n",
    "                                mode='lines+markers',\n",
    "                                name='ground truth',\n",
    "                                text=(data['time'])))\n",
    "\n",
    "fig.add_trace(go.Scatter(y=y_pred, x=getindex(y_pred),\n",
    "                                mode='lines+markers',\n",
    "                                 name='predictions',\n",
    "                                text=(data['time'])))\n",
    "\n",
    "fig.update_layout(title=f\"Sentiment Analysis of @{user} twitter interactions\")\n",
    "fig.show()"
   ]
  },
  {
   "cell_type": "markdown",
   "metadata": {},
   "source": [
    "### ARMA"
   ]
  },
  {
   "cell_type": "code",
   "execution_count": 63,
   "metadata": {},
   "outputs": [],
   "source": [
    "y_train = data[\"sentiments\"][0:90]\n",
    "y_test = data[\"sentiments\"][90:-1]"
   ]
  },
  {
   "cell_type": "code",
   "execution_count": 64,
   "metadata": {},
   "outputs": [],
   "source": [
    "model = ARMA(y_train, (1,10))"
   ]
  },
  {
   "cell_type": "code",
   "execution_count": 65,
   "metadata": {},
   "outputs": [],
   "source": [
    "model_fit = model.fit(maxlag=10)\n",
    "y_pred = model_fit.predict(start=len(y_train),\n",
    "                                    end=len(y_train)+len(y_test)-1, dynamic=False)"
   ]
  },
  {
   "cell_type": "code",
   "execution_count": 66,
   "metadata": {},
   "outputs": [
    {
     "data": {
      "text/plain": [
       "0.00935785941318295"
      ]
     },
     "execution_count": 66,
     "metadata": {},
     "output_type": "execute_result"
    }
   ],
   "source": [
    "mean_squared_error(y_test, y_pred, squared=False)"
   ]
  },
  {
   "cell_type": "code",
   "execution_count": 67,
   "metadata": {},
   "outputs": [
    {
     "data": {
      "application/vnd.plotly.v1+json": {
       "config": {
        "plotlyServerURL": "https://plot.ly"
       },
       "data": [
        {
         "mode": "lines+markers",
         "name": "ground truth",
         "text": [
          "Tue Jul 28 16:28:15 2020",
          "Tue Jul 28 16:26:27 2020",
          "Sun Jul 26 16:00:15 2020",
          "Sun Jul 26 13:00:05 2020",
          "Fri Jul 24 18:26:39 2020",
          "Thu Jul 23 14:00:56 2020",
          "Wed Jul 22 14:00:04 2020",
          "Tue Jul 21 15:17:03 2020",
          "Sat Jul 18 05:25:25 2020",
          "Fri Jul 17 14:58:27 2020",
          "Wed Jul 15 14:38:15 2020",
          "Wed Jul 15 14:38:14 2020",
          "Mon Jul 13 18:33:53 2020",
          "Mon Jul 13 18:33:53 2020",
          "Thu Jul 09 18:15:51 2020",
          "Thu Jul 09 18:15:50 2020",
          "Thu Jul 09 18:15:50 2020",
          "Thu Jul 09 18:15:50 2020",
          "Thu Jul 09 18:15:49 2020",
          "Wed Jul 08 16:58:33 2020",
          "Sat Jul 04 14:35:02 2020",
          "Fri Jul 03 16:00:04 2020",
          "Mon Jun 29 14:00:17 2020",
          "Fri Jun 26 23:11:31 2020",
          "Fri Jun 26 17:30:03 2020",
          "Fri Jun 26 14:56:57 2020",
          "Thu Jun 25 19:47:05 2020",
          "Wed Jun 24 22:05:14 2020",
          "Mon Jun 22 16:30:58 2020",
          "Fri Jun 19 16:51:15 2020",
          "Thu Jun 18 15:24:24 2020",
          "Thu Jun 18 15:23:59 2020",
          "Tue Jun 16 15:30:53 2020",
          "Tue Jun 16 15:30:52 2020",
          "Tue Jun 16 01:06:17 2020",
          "Thu Jun 11 18:30:59 2020",
          "Thu Jun 11 18:30:58 2020",
          "Thu Jun 11 18:30:58 2020",
          "Thu Jun 11 18:30:57 2020",
          "Wed Jun 10 15:10:15 2020",
          "Tue Jun 09 23:30:04 2020",
          "Tue Jun 09 21:56:52 2020",
          "Sun Jun 07 23:25:01 2020",
          "Sat Jun 06 00:37:08 2020",
          "Fri Jun 05 16:21:00 2020",
          "Thu Jun 04 23:15:58 2020",
          "Thu Jun 04 23:15:58 2020",
          "Thu Jun 04 23:15:57 2020",
          "Thu Jun 04 23:15:57 2020",
          "Thu Jun 04 13:04:56 2020",
          "Wed Jun 03 15:04:20 2020",
          "Wed Jun 03 15:04:20 2020",
          "Wed Jun 03 15:04:19 2020",
          "Mon Jun 01 23:59:01 2020",
          "Mon Jun 01 19:11:51 2020",
          "Mon Jun 01 19:11:51 2020",
          "Mon Jun 01 19:11:51 2020",
          "Mon Jun 01 19:11:50 2020",
          "Mon Jun 01 19:11:50 2020",
          "Mon Jun 01 19:11:50 2020",
          "Mon Jun 01 19:11:50 2020",
          "Mon Jun 01 19:11:49 2020",
          "Mon Jun 01 19:11:49 2020",
          "Mon Jun 01 19:11:49 2020",
          "Mon Jun 01 14:15:57 2020",
          "Fri May 29 16:06:54 2020",
          "Wed May 27 15:00:15 2020",
          "Mon May 25 14:31:05 2020",
          "Sat May 23 21:55:57 2020",
          "Sat May 23 21:55:56 2020",
          "Sat May 23 21:55:56 2020",
          "Sat May 23 18:03:41 2020",
          "Wed May 20 21:34:17 2020",
          "Sun May 17 01:00:04 2020",
          "Sat May 16 23:54:47 2020",
          "Sat May 16 21:47:43 2020",
          "Sat May 16 16:00:01 2020",
          "Thu May 14 18:44:56 2020",
          "Thu May 14 15:30:44 2020",
          "Wed May 13 23:05:11 2020",
          "Mon May 11 21:06:14 2020",
          "Sun May 10 15:03:15 2020",
          "Wed May 06 14:10:45 2020",
          "Tue May 05 15:05:41 2020",
          "Fri May 01 18:25:11 2020",
          "Mon Apr 27 17:22:11 2020",
          "Sat Apr 25 20:49:19 2020",
          "Sat Apr 25 00:00:58 2020",
          "Fri Apr 24 20:53:55 2020",
          "Wed Apr 22 19:40:36 2020",
          "Wed Apr 22 15:32:30 2020",
          "Mon Apr 20 17:01:39 2020",
          "Fri Apr 17 19:52:14 2020",
          "Fri Apr 17 14:45:45 2020",
          "Wed Apr 15 16:43:48 2020",
          "Tue Apr 14 16:02:07 2020",
          "Tue Apr 14 15:47:23 2020",
          "Mon Apr 13 18:01:58 2020",
          "Mon Apr 13 15:33:36 2020",
          "Sun Apr 12 14:41:33 2020"
         ],
         "type": "scatter",
         "y": [
          0.4345359999999996,
          0.4345359999999996,
          0.4345359999999996,
          0.4345359999999996,
          0.4345359999999996,
          0.4345359999999996,
          0.4345359999999996,
          0.4345359999999996,
          0.43453599999999964,
          0.43453599999999964,
          0.43453599999999964,
          0.43453599999999964,
          0.43453599999999976,
          0.43453599999999976,
          0.43453599999999976,
          0.4430909999999998,
          0.4430909999999998,
          0.4467199999999997,
          0.4467199999999997,
          0.45399299999999976,
          0.45399299999999976,
          0.45399299999999976,
          0.4541329999999998,
          0.4541329999999998,
          0.4541329999999998,
          0.4541329999999998,
          0.4541329999999998,
          0.4541329999999998,
          0.45413299999999973,
          0.45413299999999973,
          0.45413299999999973,
          0.45413299999999973,
          0.45413299999999973,
          0.45413299999999973,
          0.45413299999999973,
          0.45413299999999973,
          0.4455779999999997,
          0.4455779999999997,
          0.4455779999999997,
          0.4455779999999997,
          0.4455779999999997,
          0.45216599999999973,
          0.4521659999999996,
          0.4521659999999996,
          0.4486209999999997,
          0.4486209999999997,
          0.4486209999999997,
          0.4486209999999997,
          0.4486209999999997,
          0.4486209999999997,
          0.4486209999999997,
          0.4486209999999997,
          0.4486209999999997,
          0.4486209999999997,
          0.4486209999999997,
          0.4637729999999996,
          0.4637729999999996,
          0.4637729999999996,
          0.4637729999999996,
          0.4637729999999996,
          0.4637729999999996,
          0.4637729999999996,
          0.4637729999999996,
          0.4637729999999996,
          0.4637729999999996,
          0.4637729999999996,
          0.4637729999999996,
          0.4637729999999996,
          0.4637729999999996,
          0.4723279999999997,
          0.4723279999999997,
          0.4723279999999997,
          0.4723279999999997,
          0.4723279999999997,
          0.4723279999999997,
          0.4723279999999997,
          0.4723279999999997,
          0.4723279999999997,
          0.4723279999999997,
          0.4723279999999997,
          0.4723279999999997,
          0.4723279999999997,
          0.4723279999999997,
          0.4723279999999997,
          0.4723279999999997,
          0.4723279999999997,
          0.4723279999999997,
          0.4723279999999997,
          0.4723279999999997,
          0.4723279999999997,
          0.4723279999999997,
          0.4723279999999997,
          0.4723279999999997,
          0.4723279999999997,
          0.4723279999999997,
          0.4723279999999997,
          0.4723279999999997,
          0.4723279999999997,
          0.4723279999999997,
          0.4723279999999997
         ]
        },
        {
         "mode": "lines+markers",
         "name": "predictions",
         "text": [
          "Tue Jul 28 16:28:15 2020",
          "Tue Jul 28 16:26:27 2020",
          "Sun Jul 26 16:00:15 2020",
          "Sun Jul 26 13:00:05 2020",
          "Fri Jul 24 18:26:39 2020",
          "Thu Jul 23 14:00:56 2020",
          "Wed Jul 22 14:00:04 2020",
          "Tue Jul 21 15:17:03 2020",
          "Sat Jul 18 05:25:25 2020",
          "Fri Jul 17 14:58:27 2020",
          "Wed Jul 15 14:38:15 2020",
          "Wed Jul 15 14:38:14 2020",
          "Mon Jul 13 18:33:53 2020",
          "Mon Jul 13 18:33:53 2020",
          "Thu Jul 09 18:15:51 2020",
          "Thu Jul 09 18:15:50 2020",
          "Thu Jul 09 18:15:50 2020",
          "Thu Jul 09 18:15:50 2020",
          "Thu Jul 09 18:15:49 2020",
          "Wed Jul 08 16:58:33 2020",
          "Sat Jul 04 14:35:02 2020",
          "Fri Jul 03 16:00:04 2020",
          "Mon Jun 29 14:00:17 2020",
          "Fri Jun 26 23:11:31 2020",
          "Fri Jun 26 17:30:03 2020",
          "Fri Jun 26 14:56:57 2020",
          "Thu Jun 25 19:47:05 2020",
          "Wed Jun 24 22:05:14 2020",
          "Mon Jun 22 16:30:58 2020",
          "Fri Jun 19 16:51:15 2020",
          "Thu Jun 18 15:24:24 2020",
          "Thu Jun 18 15:23:59 2020",
          "Tue Jun 16 15:30:53 2020",
          "Tue Jun 16 15:30:52 2020",
          "Tue Jun 16 01:06:17 2020",
          "Thu Jun 11 18:30:59 2020",
          "Thu Jun 11 18:30:58 2020",
          "Thu Jun 11 18:30:58 2020",
          "Thu Jun 11 18:30:57 2020",
          "Wed Jun 10 15:10:15 2020",
          "Tue Jun 09 23:30:04 2020",
          "Tue Jun 09 21:56:52 2020",
          "Sun Jun 07 23:25:01 2020",
          "Sat Jun 06 00:37:08 2020",
          "Fri Jun 05 16:21:00 2020",
          "Thu Jun 04 23:15:58 2020",
          "Thu Jun 04 23:15:58 2020",
          "Thu Jun 04 23:15:57 2020",
          "Thu Jun 04 23:15:57 2020",
          "Thu Jun 04 13:04:56 2020",
          "Wed Jun 03 15:04:20 2020",
          "Wed Jun 03 15:04:20 2020",
          "Wed Jun 03 15:04:19 2020",
          "Mon Jun 01 23:59:01 2020",
          "Mon Jun 01 19:11:51 2020",
          "Mon Jun 01 19:11:51 2020",
          "Mon Jun 01 19:11:51 2020",
          "Mon Jun 01 19:11:50 2020",
          "Mon Jun 01 19:11:50 2020",
          "Mon Jun 01 19:11:50 2020",
          "Mon Jun 01 19:11:50 2020",
          "Mon Jun 01 19:11:49 2020",
          "Mon Jun 01 19:11:49 2020",
          "Mon Jun 01 19:11:49 2020",
          "Mon Jun 01 14:15:57 2020",
          "Fri May 29 16:06:54 2020",
          "Wed May 27 15:00:15 2020",
          "Mon May 25 14:31:05 2020",
          "Sat May 23 21:55:57 2020",
          "Sat May 23 21:55:56 2020",
          "Sat May 23 21:55:56 2020",
          "Sat May 23 18:03:41 2020",
          "Wed May 20 21:34:17 2020",
          "Sun May 17 01:00:04 2020",
          "Sat May 16 23:54:47 2020",
          "Sat May 16 21:47:43 2020",
          "Sat May 16 16:00:01 2020",
          "Thu May 14 18:44:56 2020",
          "Thu May 14 15:30:44 2020",
          "Wed May 13 23:05:11 2020",
          "Mon May 11 21:06:14 2020",
          "Sun May 10 15:03:15 2020",
          "Wed May 06 14:10:45 2020",
          "Tue May 05 15:05:41 2020",
          "Fri May 01 18:25:11 2020",
          "Mon Apr 27 17:22:11 2020",
          "Sat Apr 25 20:49:19 2020",
          "Sat Apr 25 00:00:58 2020",
          "Fri Apr 24 20:53:55 2020",
          "Wed Apr 22 19:40:36 2020",
          "Wed Apr 22 15:32:30 2020",
          "Mon Apr 20 17:01:39 2020",
          "Fri Apr 17 19:52:14 2020",
          "Fri Apr 17 14:45:45 2020",
          "Wed Apr 15 16:43:48 2020",
          "Tue Apr 14 16:02:07 2020",
          "Tue Apr 14 15:47:23 2020",
          "Mon Apr 13 18:01:58 2020",
          "Mon Apr 13 15:33:36 2020",
          "Sun Apr 12 14:41:33 2020"
         ],
         "type": "scatter",
         "x": [
          90,
          91,
          92,
          93,
          94,
          95,
          96,
          97,
          98
         ],
         "y": [
          0.4719042525130609,
          0.4707943395005072,
          0.4695636162203644,
          0.46754727116800565,
          0.46453117701473984,
          0.46260075899092135,
          0.4603848219690302,
          0.4572122162850225,
          0.4572097710112611
         ]
        }
       ],
       "layout": {
        "template": {
         "data": {
          "bar": [
           {
            "error_x": {
             "color": "#2a3f5f"
            },
            "error_y": {
             "color": "#2a3f5f"
            },
            "marker": {
             "line": {
              "color": "#E5ECF6",
              "width": 0.5
             }
            },
            "type": "bar"
           }
          ],
          "barpolar": [
           {
            "marker": {
             "line": {
              "color": "#E5ECF6",
              "width": 0.5
             }
            },
            "type": "barpolar"
           }
          ],
          "carpet": [
           {
            "aaxis": {
             "endlinecolor": "#2a3f5f",
             "gridcolor": "white",
             "linecolor": "white",
             "minorgridcolor": "white",
             "startlinecolor": "#2a3f5f"
            },
            "baxis": {
             "endlinecolor": "#2a3f5f",
             "gridcolor": "white",
             "linecolor": "white",
             "minorgridcolor": "white",
             "startlinecolor": "#2a3f5f"
            },
            "type": "carpet"
           }
          ],
          "choropleth": [
           {
            "colorbar": {
             "outlinewidth": 0,
             "ticks": ""
            },
            "type": "choropleth"
           }
          ],
          "contour": [
           {
            "colorbar": {
             "outlinewidth": 0,
             "ticks": ""
            },
            "colorscale": [
             [
              0,
              "#0d0887"
             ],
             [
              0.1111111111111111,
              "#46039f"
             ],
             [
              0.2222222222222222,
              "#7201a8"
             ],
             [
              0.3333333333333333,
              "#9c179e"
             ],
             [
              0.4444444444444444,
              "#bd3786"
             ],
             [
              0.5555555555555556,
              "#d8576b"
             ],
             [
              0.6666666666666666,
              "#ed7953"
             ],
             [
              0.7777777777777778,
              "#fb9f3a"
             ],
             [
              0.8888888888888888,
              "#fdca26"
             ],
             [
              1,
              "#f0f921"
             ]
            ],
            "type": "contour"
           }
          ],
          "contourcarpet": [
           {
            "colorbar": {
             "outlinewidth": 0,
             "ticks": ""
            },
            "type": "contourcarpet"
           }
          ],
          "heatmap": [
           {
            "colorbar": {
             "outlinewidth": 0,
             "ticks": ""
            },
            "colorscale": [
             [
              0,
              "#0d0887"
             ],
             [
              0.1111111111111111,
              "#46039f"
             ],
             [
              0.2222222222222222,
              "#7201a8"
             ],
             [
              0.3333333333333333,
              "#9c179e"
             ],
             [
              0.4444444444444444,
              "#bd3786"
             ],
             [
              0.5555555555555556,
              "#d8576b"
             ],
             [
              0.6666666666666666,
              "#ed7953"
             ],
             [
              0.7777777777777778,
              "#fb9f3a"
             ],
             [
              0.8888888888888888,
              "#fdca26"
             ],
             [
              1,
              "#f0f921"
             ]
            ],
            "type": "heatmap"
           }
          ],
          "heatmapgl": [
           {
            "colorbar": {
             "outlinewidth": 0,
             "ticks": ""
            },
            "colorscale": [
             [
              0,
              "#0d0887"
             ],
             [
              0.1111111111111111,
              "#46039f"
             ],
             [
              0.2222222222222222,
              "#7201a8"
             ],
             [
              0.3333333333333333,
              "#9c179e"
             ],
             [
              0.4444444444444444,
              "#bd3786"
             ],
             [
              0.5555555555555556,
              "#d8576b"
             ],
             [
              0.6666666666666666,
              "#ed7953"
             ],
             [
              0.7777777777777778,
              "#fb9f3a"
             ],
             [
              0.8888888888888888,
              "#fdca26"
             ],
             [
              1,
              "#f0f921"
             ]
            ],
            "type": "heatmapgl"
           }
          ],
          "histogram": [
           {
            "marker": {
             "colorbar": {
              "outlinewidth": 0,
              "ticks": ""
             }
            },
            "type": "histogram"
           }
          ],
          "histogram2d": [
           {
            "colorbar": {
             "outlinewidth": 0,
             "ticks": ""
            },
            "colorscale": [
             [
              0,
              "#0d0887"
             ],
             [
              0.1111111111111111,
              "#46039f"
             ],
             [
              0.2222222222222222,
              "#7201a8"
             ],
             [
              0.3333333333333333,
              "#9c179e"
             ],
             [
              0.4444444444444444,
              "#bd3786"
             ],
             [
              0.5555555555555556,
              "#d8576b"
             ],
             [
              0.6666666666666666,
              "#ed7953"
             ],
             [
              0.7777777777777778,
              "#fb9f3a"
             ],
             [
              0.8888888888888888,
              "#fdca26"
             ],
             [
              1,
              "#f0f921"
             ]
            ],
            "type": "histogram2d"
           }
          ],
          "histogram2dcontour": [
           {
            "colorbar": {
             "outlinewidth": 0,
             "ticks": ""
            },
            "colorscale": [
             [
              0,
              "#0d0887"
             ],
             [
              0.1111111111111111,
              "#46039f"
             ],
             [
              0.2222222222222222,
              "#7201a8"
             ],
             [
              0.3333333333333333,
              "#9c179e"
             ],
             [
              0.4444444444444444,
              "#bd3786"
             ],
             [
              0.5555555555555556,
              "#d8576b"
             ],
             [
              0.6666666666666666,
              "#ed7953"
             ],
             [
              0.7777777777777778,
              "#fb9f3a"
             ],
             [
              0.8888888888888888,
              "#fdca26"
             ],
             [
              1,
              "#f0f921"
             ]
            ],
            "type": "histogram2dcontour"
           }
          ],
          "mesh3d": [
           {
            "colorbar": {
             "outlinewidth": 0,
             "ticks": ""
            },
            "type": "mesh3d"
           }
          ],
          "parcoords": [
           {
            "line": {
             "colorbar": {
              "outlinewidth": 0,
              "ticks": ""
             }
            },
            "type": "parcoords"
           }
          ],
          "pie": [
           {
            "automargin": true,
            "type": "pie"
           }
          ],
          "scatter": [
           {
            "marker": {
             "colorbar": {
              "outlinewidth": 0,
              "ticks": ""
             }
            },
            "type": "scatter"
           }
          ],
          "scatter3d": [
           {
            "line": {
             "colorbar": {
              "outlinewidth": 0,
              "ticks": ""
             }
            },
            "marker": {
             "colorbar": {
              "outlinewidth": 0,
              "ticks": ""
             }
            },
            "type": "scatter3d"
           }
          ],
          "scattercarpet": [
           {
            "marker": {
             "colorbar": {
              "outlinewidth": 0,
              "ticks": ""
             }
            },
            "type": "scattercarpet"
           }
          ],
          "scattergeo": [
           {
            "marker": {
             "colorbar": {
              "outlinewidth": 0,
              "ticks": ""
             }
            },
            "type": "scattergeo"
           }
          ],
          "scattergl": [
           {
            "marker": {
             "colorbar": {
              "outlinewidth": 0,
              "ticks": ""
             }
            },
            "type": "scattergl"
           }
          ],
          "scattermapbox": [
           {
            "marker": {
             "colorbar": {
              "outlinewidth": 0,
              "ticks": ""
             }
            },
            "type": "scattermapbox"
           }
          ],
          "scatterpolar": [
           {
            "marker": {
             "colorbar": {
              "outlinewidth": 0,
              "ticks": ""
             }
            },
            "type": "scatterpolar"
           }
          ],
          "scatterpolargl": [
           {
            "marker": {
             "colorbar": {
              "outlinewidth": 0,
              "ticks": ""
             }
            },
            "type": "scatterpolargl"
           }
          ],
          "scatterternary": [
           {
            "marker": {
             "colorbar": {
              "outlinewidth": 0,
              "ticks": ""
             }
            },
            "type": "scatterternary"
           }
          ],
          "surface": [
           {
            "colorbar": {
             "outlinewidth": 0,
             "ticks": ""
            },
            "colorscale": [
             [
              0,
              "#0d0887"
             ],
             [
              0.1111111111111111,
              "#46039f"
             ],
             [
              0.2222222222222222,
              "#7201a8"
             ],
             [
              0.3333333333333333,
              "#9c179e"
             ],
             [
              0.4444444444444444,
              "#bd3786"
             ],
             [
              0.5555555555555556,
              "#d8576b"
             ],
             [
              0.6666666666666666,
              "#ed7953"
             ],
             [
              0.7777777777777778,
              "#fb9f3a"
             ],
             [
              0.8888888888888888,
              "#fdca26"
             ],
             [
              1,
              "#f0f921"
             ]
            ],
            "type": "surface"
           }
          ],
          "table": [
           {
            "cells": {
             "fill": {
              "color": "#EBF0F8"
             },
             "line": {
              "color": "white"
             }
            },
            "header": {
             "fill": {
              "color": "#C8D4E3"
             },
             "line": {
              "color": "white"
             }
            },
            "type": "table"
           }
          ]
         },
         "layout": {
          "annotationdefaults": {
           "arrowcolor": "#2a3f5f",
           "arrowhead": 0,
           "arrowwidth": 1
          },
          "coloraxis": {
           "colorbar": {
            "outlinewidth": 0,
            "ticks": ""
           }
          },
          "colorscale": {
           "diverging": [
            [
             0,
             "#8e0152"
            ],
            [
             0.1,
             "#c51b7d"
            ],
            [
             0.2,
             "#de77ae"
            ],
            [
             0.3,
             "#f1b6da"
            ],
            [
             0.4,
             "#fde0ef"
            ],
            [
             0.5,
             "#f7f7f7"
            ],
            [
             0.6,
             "#e6f5d0"
            ],
            [
             0.7,
             "#b8e186"
            ],
            [
             0.8,
             "#7fbc41"
            ],
            [
             0.9,
             "#4d9221"
            ],
            [
             1,
             "#276419"
            ]
           ],
           "sequential": [
            [
             0,
             "#0d0887"
            ],
            [
             0.1111111111111111,
             "#46039f"
            ],
            [
             0.2222222222222222,
             "#7201a8"
            ],
            [
             0.3333333333333333,
             "#9c179e"
            ],
            [
             0.4444444444444444,
             "#bd3786"
            ],
            [
             0.5555555555555556,
             "#d8576b"
            ],
            [
             0.6666666666666666,
             "#ed7953"
            ],
            [
             0.7777777777777778,
             "#fb9f3a"
            ],
            [
             0.8888888888888888,
             "#fdca26"
            ],
            [
             1,
             "#f0f921"
            ]
           ],
           "sequentialminus": [
            [
             0,
             "#0d0887"
            ],
            [
             0.1111111111111111,
             "#46039f"
            ],
            [
             0.2222222222222222,
             "#7201a8"
            ],
            [
             0.3333333333333333,
             "#9c179e"
            ],
            [
             0.4444444444444444,
             "#bd3786"
            ],
            [
             0.5555555555555556,
             "#d8576b"
            ],
            [
             0.6666666666666666,
             "#ed7953"
            ],
            [
             0.7777777777777778,
             "#fb9f3a"
            ],
            [
             0.8888888888888888,
             "#fdca26"
            ],
            [
             1,
             "#f0f921"
            ]
           ]
          },
          "colorway": [
           "#636efa",
           "#EF553B",
           "#00cc96",
           "#ab63fa",
           "#FFA15A",
           "#19d3f3",
           "#FF6692",
           "#B6E880",
           "#FF97FF",
           "#FECB52"
          ],
          "font": {
           "color": "#2a3f5f"
          },
          "geo": {
           "bgcolor": "white",
           "lakecolor": "white",
           "landcolor": "#E5ECF6",
           "showlakes": true,
           "showland": true,
           "subunitcolor": "white"
          },
          "hoverlabel": {
           "align": "left"
          },
          "hovermode": "closest",
          "mapbox": {
           "style": "light"
          },
          "paper_bgcolor": "white",
          "plot_bgcolor": "#E5ECF6",
          "polar": {
           "angularaxis": {
            "gridcolor": "white",
            "linecolor": "white",
            "ticks": ""
           },
           "bgcolor": "#E5ECF6",
           "radialaxis": {
            "gridcolor": "white",
            "linecolor": "white",
            "ticks": ""
           }
          },
          "scene": {
           "xaxis": {
            "backgroundcolor": "#E5ECF6",
            "gridcolor": "white",
            "gridwidth": 2,
            "linecolor": "white",
            "showbackground": true,
            "ticks": "",
            "zerolinecolor": "white"
           },
           "yaxis": {
            "backgroundcolor": "#E5ECF6",
            "gridcolor": "white",
            "gridwidth": 2,
            "linecolor": "white",
            "showbackground": true,
            "ticks": "",
            "zerolinecolor": "white"
           },
           "zaxis": {
            "backgroundcolor": "#E5ECF6",
            "gridcolor": "white",
            "gridwidth": 2,
            "linecolor": "white",
            "showbackground": true,
            "ticks": "",
            "zerolinecolor": "white"
           }
          },
          "shapedefaults": {
           "line": {
            "color": "#2a3f5f"
           }
          },
          "ternary": {
           "aaxis": {
            "gridcolor": "white",
            "linecolor": "white",
            "ticks": ""
           },
           "baxis": {
            "gridcolor": "white",
            "linecolor": "white",
            "ticks": ""
           },
           "bgcolor": "#E5ECF6",
           "caxis": {
            "gridcolor": "white",
            "linecolor": "white",
            "ticks": ""
           }
          },
          "title": {
           "x": 0.05
          },
          "xaxis": {
           "automargin": true,
           "gridcolor": "white",
           "linecolor": "white",
           "ticks": "",
           "title": {
            "standoff": 15
           },
           "zerolinecolor": "white",
           "zerolinewidth": 2
          },
          "yaxis": {
           "automargin": true,
           "gridcolor": "white",
           "linecolor": "white",
           "ticks": "",
           "title": {
            "standoff": 15
           },
           "zerolinecolor": "white",
           "zerolinewidth": 2
          }
         }
        },
        "title": {
         "text": "Sentiment Analysis of @BarackObama twitter interactions"
        }
       }
      },
      "text/html": [
       "<div>\n",
       "        \n",
       "        \n",
       "            <div id=\"ecd75985-af57-4f08-8084-28ef6ca20055\" class=\"plotly-graph-div\" style=\"height:525px; width:100%;\"></div>\n",
       "            <script type=\"text/javascript\">\n",
       "                require([\"plotly\"], function(Plotly) {\n",
       "                    window.PLOTLYENV=window.PLOTLYENV || {};\n",
       "                    \n",
       "                if (document.getElementById(\"ecd75985-af57-4f08-8084-28ef6ca20055\")) {\n",
       "                    Plotly.newPlot(\n",
       "                        'ecd75985-af57-4f08-8084-28ef6ca20055',\n",
       "                        [{\"mode\": \"lines+markers\", \"name\": \"ground truth\", \"text\": [\"Tue Jul 28 16:28:15 2020\", \"Tue Jul 28 16:26:27 2020\", \"Sun Jul 26 16:00:15 2020\", \"Sun Jul 26 13:00:05 2020\", \"Fri Jul 24 18:26:39 2020\", \"Thu Jul 23 14:00:56 2020\", \"Wed Jul 22 14:00:04 2020\", \"Tue Jul 21 15:17:03 2020\", \"Sat Jul 18 05:25:25 2020\", \"Fri Jul 17 14:58:27 2020\", \"Wed Jul 15 14:38:15 2020\", \"Wed Jul 15 14:38:14 2020\", \"Mon Jul 13 18:33:53 2020\", \"Mon Jul 13 18:33:53 2020\", \"Thu Jul 09 18:15:51 2020\", \"Thu Jul 09 18:15:50 2020\", \"Thu Jul 09 18:15:50 2020\", \"Thu Jul 09 18:15:50 2020\", \"Thu Jul 09 18:15:49 2020\", \"Wed Jul 08 16:58:33 2020\", \"Sat Jul 04 14:35:02 2020\", \"Fri Jul 03 16:00:04 2020\", \"Mon Jun 29 14:00:17 2020\", \"Fri Jun 26 23:11:31 2020\", \"Fri Jun 26 17:30:03 2020\", \"Fri Jun 26 14:56:57 2020\", \"Thu Jun 25 19:47:05 2020\", \"Wed Jun 24 22:05:14 2020\", \"Mon Jun 22 16:30:58 2020\", \"Fri Jun 19 16:51:15 2020\", \"Thu Jun 18 15:24:24 2020\", \"Thu Jun 18 15:23:59 2020\", \"Tue Jun 16 15:30:53 2020\", \"Tue Jun 16 15:30:52 2020\", \"Tue Jun 16 01:06:17 2020\", \"Thu Jun 11 18:30:59 2020\", \"Thu Jun 11 18:30:58 2020\", \"Thu Jun 11 18:30:58 2020\", \"Thu Jun 11 18:30:57 2020\", \"Wed Jun 10 15:10:15 2020\", \"Tue Jun 09 23:30:04 2020\", \"Tue Jun 09 21:56:52 2020\", \"Sun Jun 07 23:25:01 2020\", \"Sat Jun 06 00:37:08 2020\", \"Fri Jun 05 16:21:00 2020\", \"Thu Jun 04 23:15:58 2020\", \"Thu Jun 04 23:15:58 2020\", \"Thu Jun 04 23:15:57 2020\", \"Thu Jun 04 23:15:57 2020\", \"Thu Jun 04 13:04:56 2020\", \"Wed Jun 03 15:04:20 2020\", \"Wed Jun 03 15:04:20 2020\", \"Wed Jun 03 15:04:19 2020\", \"Mon Jun 01 23:59:01 2020\", \"Mon Jun 01 19:11:51 2020\", \"Mon Jun 01 19:11:51 2020\", \"Mon Jun 01 19:11:51 2020\", \"Mon Jun 01 19:11:50 2020\", \"Mon Jun 01 19:11:50 2020\", \"Mon Jun 01 19:11:50 2020\", \"Mon Jun 01 19:11:50 2020\", \"Mon Jun 01 19:11:49 2020\", \"Mon Jun 01 19:11:49 2020\", \"Mon Jun 01 19:11:49 2020\", \"Mon Jun 01 14:15:57 2020\", \"Fri May 29 16:06:54 2020\", \"Wed May 27 15:00:15 2020\", \"Mon May 25 14:31:05 2020\", \"Sat May 23 21:55:57 2020\", \"Sat May 23 21:55:56 2020\", \"Sat May 23 21:55:56 2020\", \"Sat May 23 18:03:41 2020\", \"Wed May 20 21:34:17 2020\", \"Sun May 17 01:00:04 2020\", \"Sat May 16 23:54:47 2020\", \"Sat May 16 21:47:43 2020\", \"Sat May 16 16:00:01 2020\", \"Thu May 14 18:44:56 2020\", \"Thu May 14 15:30:44 2020\", \"Wed May 13 23:05:11 2020\", \"Mon May 11 21:06:14 2020\", \"Sun May 10 15:03:15 2020\", \"Wed May 06 14:10:45 2020\", \"Tue May 05 15:05:41 2020\", \"Fri May 01 18:25:11 2020\", \"Mon Apr 27 17:22:11 2020\", \"Sat Apr 25 20:49:19 2020\", \"Sat Apr 25 00:00:58 2020\", \"Fri Apr 24 20:53:55 2020\", \"Wed Apr 22 19:40:36 2020\", \"Wed Apr 22 15:32:30 2020\", \"Mon Apr 20 17:01:39 2020\", \"Fri Apr 17 19:52:14 2020\", \"Fri Apr 17 14:45:45 2020\", \"Wed Apr 15 16:43:48 2020\", \"Tue Apr 14 16:02:07 2020\", \"Tue Apr 14 15:47:23 2020\", \"Mon Apr 13 18:01:58 2020\", \"Mon Apr 13 15:33:36 2020\", \"Sun Apr 12 14:41:33 2020\"], \"type\": \"scatter\", \"y\": [0.4345359999999996, 0.4345359999999996, 0.4345359999999996, 0.4345359999999996, 0.4345359999999996, 0.4345359999999996, 0.4345359999999996, 0.4345359999999996, 0.43453599999999964, 0.43453599999999964, 0.43453599999999964, 0.43453599999999964, 0.43453599999999976, 0.43453599999999976, 0.43453599999999976, 0.4430909999999998, 0.4430909999999998, 0.4467199999999997, 0.4467199999999997, 0.45399299999999976, 0.45399299999999976, 0.45399299999999976, 0.4541329999999998, 0.4541329999999998, 0.4541329999999998, 0.4541329999999998, 0.4541329999999998, 0.4541329999999998, 0.45413299999999973, 0.45413299999999973, 0.45413299999999973, 0.45413299999999973, 0.45413299999999973, 0.45413299999999973, 0.45413299999999973, 0.45413299999999973, 0.4455779999999997, 0.4455779999999997, 0.4455779999999997, 0.4455779999999997, 0.4455779999999997, 0.45216599999999973, 0.4521659999999996, 0.4521659999999996, 0.4486209999999997, 0.4486209999999997, 0.4486209999999997, 0.4486209999999997, 0.4486209999999997, 0.4486209999999997, 0.4486209999999997, 0.4486209999999997, 0.4486209999999997, 0.4486209999999997, 0.4486209999999997, 0.4637729999999996, 0.4637729999999996, 0.4637729999999996, 0.4637729999999996, 0.4637729999999996, 0.4637729999999996, 0.4637729999999996, 0.4637729999999996, 0.4637729999999996, 0.4637729999999996, 0.4637729999999996, 0.4637729999999996, 0.4637729999999996, 0.4637729999999996, 0.4723279999999997, 0.4723279999999997, 0.4723279999999997, 0.4723279999999997, 0.4723279999999997, 0.4723279999999997, 0.4723279999999997, 0.4723279999999997, 0.4723279999999997, 0.4723279999999997, 0.4723279999999997, 0.4723279999999997, 0.4723279999999997, 0.4723279999999997, 0.4723279999999997, 0.4723279999999997, 0.4723279999999997, 0.4723279999999997, 0.4723279999999997, 0.4723279999999997, 0.4723279999999997, 0.4723279999999997, 0.4723279999999997, 0.4723279999999997, 0.4723279999999997, 0.4723279999999997, 0.4723279999999997, 0.4723279999999997, 0.4723279999999997, 0.4723279999999997, 0.4723279999999997]}, {\"mode\": \"lines+markers\", \"name\": \"predictions\", \"text\": [\"Tue Jul 28 16:28:15 2020\", \"Tue Jul 28 16:26:27 2020\", \"Sun Jul 26 16:00:15 2020\", \"Sun Jul 26 13:00:05 2020\", \"Fri Jul 24 18:26:39 2020\", \"Thu Jul 23 14:00:56 2020\", \"Wed Jul 22 14:00:04 2020\", \"Tue Jul 21 15:17:03 2020\", \"Sat Jul 18 05:25:25 2020\", \"Fri Jul 17 14:58:27 2020\", \"Wed Jul 15 14:38:15 2020\", \"Wed Jul 15 14:38:14 2020\", \"Mon Jul 13 18:33:53 2020\", \"Mon Jul 13 18:33:53 2020\", \"Thu Jul 09 18:15:51 2020\", \"Thu Jul 09 18:15:50 2020\", \"Thu Jul 09 18:15:50 2020\", \"Thu Jul 09 18:15:50 2020\", \"Thu Jul 09 18:15:49 2020\", \"Wed Jul 08 16:58:33 2020\", \"Sat Jul 04 14:35:02 2020\", \"Fri Jul 03 16:00:04 2020\", \"Mon Jun 29 14:00:17 2020\", \"Fri Jun 26 23:11:31 2020\", \"Fri Jun 26 17:30:03 2020\", \"Fri Jun 26 14:56:57 2020\", \"Thu Jun 25 19:47:05 2020\", \"Wed Jun 24 22:05:14 2020\", \"Mon Jun 22 16:30:58 2020\", \"Fri Jun 19 16:51:15 2020\", \"Thu Jun 18 15:24:24 2020\", \"Thu Jun 18 15:23:59 2020\", \"Tue Jun 16 15:30:53 2020\", \"Tue Jun 16 15:30:52 2020\", \"Tue Jun 16 01:06:17 2020\", \"Thu Jun 11 18:30:59 2020\", \"Thu Jun 11 18:30:58 2020\", \"Thu Jun 11 18:30:58 2020\", \"Thu Jun 11 18:30:57 2020\", \"Wed Jun 10 15:10:15 2020\", \"Tue Jun 09 23:30:04 2020\", \"Tue Jun 09 21:56:52 2020\", \"Sun Jun 07 23:25:01 2020\", \"Sat Jun 06 00:37:08 2020\", \"Fri Jun 05 16:21:00 2020\", \"Thu Jun 04 23:15:58 2020\", \"Thu Jun 04 23:15:58 2020\", \"Thu Jun 04 23:15:57 2020\", \"Thu Jun 04 23:15:57 2020\", \"Thu Jun 04 13:04:56 2020\", \"Wed Jun 03 15:04:20 2020\", \"Wed Jun 03 15:04:20 2020\", \"Wed Jun 03 15:04:19 2020\", \"Mon Jun 01 23:59:01 2020\", \"Mon Jun 01 19:11:51 2020\", \"Mon Jun 01 19:11:51 2020\", \"Mon Jun 01 19:11:51 2020\", \"Mon Jun 01 19:11:50 2020\", \"Mon Jun 01 19:11:50 2020\", \"Mon Jun 01 19:11:50 2020\", \"Mon Jun 01 19:11:50 2020\", \"Mon Jun 01 19:11:49 2020\", \"Mon Jun 01 19:11:49 2020\", \"Mon Jun 01 19:11:49 2020\", \"Mon Jun 01 14:15:57 2020\", \"Fri May 29 16:06:54 2020\", \"Wed May 27 15:00:15 2020\", \"Mon May 25 14:31:05 2020\", \"Sat May 23 21:55:57 2020\", \"Sat May 23 21:55:56 2020\", \"Sat May 23 21:55:56 2020\", \"Sat May 23 18:03:41 2020\", \"Wed May 20 21:34:17 2020\", \"Sun May 17 01:00:04 2020\", \"Sat May 16 23:54:47 2020\", \"Sat May 16 21:47:43 2020\", \"Sat May 16 16:00:01 2020\", \"Thu May 14 18:44:56 2020\", \"Thu May 14 15:30:44 2020\", \"Wed May 13 23:05:11 2020\", \"Mon May 11 21:06:14 2020\", \"Sun May 10 15:03:15 2020\", \"Wed May 06 14:10:45 2020\", \"Tue May 05 15:05:41 2020\", \"Fri May 01 18:25:11 2020\", \"Mon Apr 27 17:22:11 2020\", \"Sat Apr 25 20:49:19 2020\", \"Sat Apr 25 00:00:58 2020\", \"Fri Apr 24 20:53:55 2020\", \"Wed Apr 22 19:40:36 2020\", \"Wed Apr 22 15:32:30 2020\", \"Mon Apr 20 17:01:39 2020\", \"Fri Apr 17 19:52:14 2020\", \"Fri Apr 17 14:45:45 2020\", \"Wed Apr 15 16:43:48 2020\", \"Tue Apr 14 16:02:07 2020\", \"Tue Apr 14 15:47:23 2020\", \"Mon Apr 13 18:01:58 2020\", \"Mon Apr 13 15:33:36 2020\", \"Sun Apr 12 14:41:33 2020\"], \"type\": \"scatter\", \"x\": [90, 91, 92, 93, 94, 95, 96, 97, 98], \"y\": [0.4719042525130609, 0.4707943395005072, 0.4695636162203644, 0.46754727116800565, 0.46453117701473984, 0.46260075899092135, 0.4603848219690302, 0.4572122162850225, 0.4572097710112611]}],\n",
       "                        {\"template\": {\"data\": {\"bar\": [{\"error_x\": {\"color\": \"#2a3f5f\"}, \"error_y\": {\"color\": \"#2a3f5f\"}, \"marker\": {\"line\": {\"color\": \"#E5ECF6\", \"width\": 0.5}}, \"type\": \"bar\"}], \"barpolar\": [{\"marker\": {\"line\": {\"color\": \"#E5ECF6\", \"width\": 0.5}}, \"type\": \"barpolar\"}], \"carpet\": [{\"aaxis\": {\"endlinecolor\": \"#2a3f5f\", \"gridcolor\": \"white\", \"linecolor\": \"white\", \"minorgridcolor\": \"white\", \"startlinecolor\": \"#2a3f5f\"}, \"baxis\": {\"endlinecolor\": \"#2a3f5f\", \"gridcolor\": \"white\", \"linecolor\": \"white\", \"minorgridcolor\": \"white\", \"startlinecolor\": \"#2a3f5f\"}, \"type\": \"carpet\"}], \"choropleth\": [{\"colorbar\": {\"outlinewidth\": 0, \"ticks\": \"\"}, \"type\": \"choropleth\"}], \"contour\": [{\"colorbar\": {\"outlinewidth\": 0, \"ticks\": \"\"}, \"colorscale\": [[0.0, \"#0d0887\"], [0.1111111111111111, \"#46039f\"], [0.2222222222222222, \"#7201a8\"], [0.3333333333333333, \"#9c179e\"], [0.4444444444444444, \"#bd3786\"], [0.5555555555555556, \"#d8576b\"], [0.6666666666666666, \"#ed7953\"], [0.7777777777777778, \"#fb9f3a\"], [0.8888888888888888, \"#fdca26\"], [1.0, \"#f0f921\"]], \"type\": \"contour\"}], \"contourcarpet\": [{\"colorbar\": {\"outlinewidth\": 0, \"ticks\": \"\"}, \"type\": \"contourcarpet\"}], \"heatmap\": [{\"colorbar\": {\"outlinewidth\": 0, \"ticks\": \"\"}, \"colorscale\": [[0.0, \"#0d0887\"], [0.1111111111111111, \"#46039f\"], [0.2222222222222222, \"#7201a8\"], [0.3333333333333333, \"#9c179e\"], [0.4444444444444444, \"#bd3786\"], [0.5555555555555556, \"#d8576b\"], [0.6666666666666666, \"#ed7953\"], [0.7777777777777778, \"#fb9f3a\"], [0.8888888888888888, \"#fdca26\"], [1.0, \"#f0f921\"]], \"type\": \"heatmap\"}], \"heatmapgl\": [{\"colorbar\": {\"outlinewidth\": 0, \"ticks\": \"\"}, \"colorscale\": [[0.0, \"#0d0887\"], [0.1111111111111111, \"#46039f\"], [0.2222222222222222, \"#7201a8\"], [0.3333333333333333, \"#9c179e\"], [0.4444444444444444, \"#bd3786\"], [0.5555555555555556, \"#d8576b\"], [0.6666666666666666, \"#ed7953\"], [0.7777777777777778, \"#fb9f3a\"], [0.8888888888888888, \"#fdca26\"], [1.0, \"#f0f921\"]], \"type\": \"heatmapgl\"}], \"histogram\": [{\"marker\": {\"colorbar\": {\"outlinewidth\": 0, \"ticks\": \"\"}}, \"type\": \"histogram\"}], \"histogram2d\": [{\"colorbar\": {\"outlinewidth\": 0, \"ticks\": \"\"}, \"colorscale\": [[0.0, \"#0d0887\"], [0.1111111111111111, \"#46039f\"], [0.2222222222222222, \"#7201a8\"], [0.3333333333333333, \"#9c179e\"], [0.4444444444444444, \"#bd3786\"], [0.5555555555555556, \"#d8576b\"], [0.6666666666666666, \"#ed7953\"], [0.7777777777777778, \"#fb9f3a\"], [0.8888888888888888, \"#fdca26\"], [1.0, \"#f0f921\"]], \"type\": \"histogram2d\"}], \"histogram2dcontour\": [{\"colorbar\": {\"outlinewidth\": 0, \"ticks\": \"\"}, \"colorscale\": [[0.0, \"#0d0887\"], [0.1111111111111111, \"#46039f\"], [0.2222222222222222, \"#7201a8\"], [0.3333333333333333, \"#9c179e\"], [0.4444444444444444, \"#bd3786\"], [0.5555555555555556, \"#d8576b\"], [0.6666666666666666, \"#ed7953\"], [0.7777777777777778, \"#fb9f3a\"], [0.8888888888888888, \"#fdca26\"], [1.0, \"#f0f921\"]], \"type\": \"histogram2dcontour\"}], \"mesh3d\": [{\"colorbar\": {\"outlinewidth\": 0, \"ticks\": \"\"}, \"type\": \"mesh3d\"}], \"parcoords\": [{\"line\": {\"colorbar\": {\"outlinewidth\": 0, \"ticks\": \"\"}}, \"type\": \"parcoords\"}], \"pie\": [{\"automargin\": true, \"type\": \"pie\"}], \"scatter\": [{\"marker\": {\"colorbar\": {\"outlinewidth\": 0, \"ticks\": \"\"}}, \"type\": \"scatter\"}], \"scatter3d\": [{\"line\": {\"colorbar\": {\"outlinewidth\": 0, \"ticks\": \"\"}}, \"marker\": {\"colorbar\": {\"outlinewidth\": 0, \"ticks\": \"\"}}, \"type\": \"scatter3d\"}], \"scattercarpet\": [{\"marker\": {\"colorbar\": {\"outlinewidth\": 0, \"ticks\": \"\"}}, \"type\": \"scattercarpet\"}], \"scattergeo\": [{\"marker\": {\"colorbar\": {\"outlinewidth\": 0, \"ticks\": \"\"}}, \"type\": \"scattergeo\"}], \"scattergl\": [{\"marker\": {\"colorbar\": {\"outlinewidth\": 0, \"ticks\": \"\"}}, \"type\": \"scattergl\"}], \"scattermapbox\": [{\"marker\": {\"colorbar\": {\"outlinewidth\": 0, \"ticks\": \"\"}}, \"type\": \"scattermapbox\"}], \"scatterpolar\": [{\"marker\": {\"colorbar\": {\"outlinewidth\": 0, \"ticks\": \"\"}}, \"type\": \"scatterpolar\"}], \"scatterpolargl\": [{\"marker\": {\"colorbar\": {\"outlinewidth\": 0, \"ticks\": \"\"}}, \"type\": \"scatterpolargl\"}], \"scatterternary\": [{\"marker\": {\"colorbar\": {\"outlinewidth\": 0, \"ticks\": \"\"}}, \"type\": \"scatterternary\"}], \"surface\": [{\"colorbar\": {\"outlinewidth\": 0, \"ticks\": \"\"}, \"colorscale\": [[0.0, \"#0d0887\"], [0.1111111111111111, \"#46039f\"], [0.2222222222222222, \"#7201a8\"], [0.3333333333333333, \"#9c179e\"], [0.4444444444444444, \"#bd3786\"], [0.5555555555555556, \"#d8576b\"], [0.6666666666666666, \"#ed7953\"], [0.7777777777777778, \"#fb9f3a\"], [0.8888888888888888, \"#fdca26\"], [1.0, \"#f0f921\"]], \"type\": \"surface\"}], \"table\": [{\"cells\": {\"fill\": {\"color\": \"#EBF0F8\"}, \"line\": {\"color\": \"white\"}}, \"header\": {\"fill\": {\"color\": \"#C8D4E3\"}, \"line\": {\"color\": \"white\"}}, \"type\": \"table\"}]}, \"layout\": {\"annotationdefaults\": {\"arrowcolor\": \"#2a3f5f\", \"arrowhead\": 0, \"arrowwidth\": 1}, \"coloraxis\": {\"colorbar\": {\"outlinewidth\": 0, \"ticks\": \"\"}}, \"colorscale\": {\"diverging\": [[0, \"#8e0152\"], [0.1, \"#c51b7d\"], [0.2, \"#de77ae\"], [0.3, \"#f1b6da\"], [0.4, \"#fde0ef\"], [0.5, \"#f7f7f7\"], [0.6, \"#e6f5d0\"], [0.7, \"#b8e186\"], [0.8, \"#7fbc41\"], [0.9, \"#4d9221\"], [1, \"#276419\"]], \"sequential\": [[0.0, \"#0d0887\"], [0.1111111111111111, \"#46039f\"], [0.2222222222222222, \"#7201a8\"], [0.3333333333333333, \"#9c179e\"], [0.4444444444444444, \"#bd3786\"], [0.5555555555555556, \"#d8576b\"], [0.6666666666666666, \"#ed7953\"], [0.7777777777777778, \"#fb9f3a\"], [0.8888888888888888, \"#fdca26\"], [1.0, \"#f0f921\"]], \"sequentialminus\": [[0.0, \"#0d0887\"], [0.1111111111111111, \"#46039f\"], [0.2222222222222222, \"#7201a8\"], [0.3333333333333333, \"#9c179e\"], [0.4444444444444444, \"#bd3786\"], [0.5555555555555556, \"#d8576b\"], [0.6666666666666666, \"#ed7953\"], [0.7777777777777778, \"#fb9f3a\"], [0.8888888888888888, \"#fdca26\"], [1.0, \"#f0f921\"]]}, \"colorway\": [\"#636efa\", \"#EF553B\", \"#00cc96\", \"#ab63fa\", \"#FFA15A\", \"#19d3f3\", \"#FF6692\", \"#B6E880\", \"#FF97FF\", \"#FECB52\"], \"font\": {\"color\": \"#2a3f5f\"}, \"geo\": {\"bgcolor\": \"white\", \"lakecolor\": \"white\", \"landcolor\": \"#E5ECF6\", \"showlakes\": true, \"showland\": true, \"subunitcolor\": \"white\"}, \"hoverlabel\": {\"align\": \"left\"}, \"hovermode\": \"closest\", \"mapbox\": {\"style\": \"light\"}, \"paper_bgcolor\": \"white\", \"plot_bgcolor\": \"#E5ECF6\", \"polar\": {\"angularaxis\": {\"gridcolor\": \"white\", \"linecolor\": \"white\", \"ticks\": \"\"}, \"bgcolor\": \"#E5ECF6\", \"radialaxis\": {\"gridcolor\": \"white\", \"linecolor\": \"white\", \"ticks\": \"\"}}, \"scene\": {\"xaxis\": {\"backgroundcolor\": \"#E5ECF6\", \"gridcolor\": \"white\", \"gridwidth\": 2, \"linecolor\": \"white\", \"showbackground\": true, \"ticks\": \"\", \"zerolinecolor\": \"white\"}, \"yaxis\": {\"backgroundcolor\": \"#E5ECF6\", \"gridcolor\": \"white\", \"gridwidth\": 2, \"linecolor\": \"white\", \"showbackground\": true, \"ticks\": \"\", \"zerolinecolor\": \"white\"}, \"zaxis\": {\"backgroundcolor\": \"#E5ECF6\", \"gridcolor\": \"white\", \"gridwidth\": 2, \"linecolor\": \"white\", \"showbackground\": true, \"ticks\": \"\", \"zerolinecolor\": \"white\"}}, \"shapedefaults\": {\"line\": {\"color\": \"#2a3f5f\"}}, \"ternary\": {\"aaxis\": {\"gridcolor\": \"white\", \"linecolor\": \"white\", \"ticks\": \"\"}, \"baxis\": {\"gridcolor\": \"white\", \"linecolor\": \"white\", \"ticks\": \"\"}, \"bgcolor\": \"#E5ECF6\", \"caxis\": {\"gridcolor\": \"white\", \"linecolor\": \"white\", \"ticks\": \"\"}}, \"title\": {\"x\": 0.05}, \"xaxis\": {\"automargin\": true, \"gridcolor\": \"white\", \"linecolor\": \"white\", \"ticks\": \"\", \"title\": {\"standoff\": 15}, \"zerolinecolor\": \"white\", \"zerolinewidth\": 2}, \"yaxis\": {\"automargin\": true, \"gridcolor\": \"white\", \"linecolor\": \"white\", \"ticks\": \"\", \"title\": {\"standoff\": 15}, \"zerolinecolor\": \"white\", \"zerolinewidth\": 2}}}, \"title\": {\"text\": \"Sentiment Analysis of @BarackObama twitter interactions\"}},\n",
       "                        {\"responsive\": true}\n",
       "                    ).then(function(){\n",
       "                            \n",
       "var gd = document.getElementById('ecd75985-af57-4f08-8084-28ef6ca20055');\n",
       "var x = new MutationObserver(function (mutations, observer) {{\n",
       "        var display = window.getComputedStyle(gd).display;\n",
       "        if (!display || display === 'none') {{\n",
       "            console.log([gd, 'removed!']);\n",
       "            Plotly.purge(gd);\n",
       "            observer.disconnect();\n",
       "        }}\n",
       "}});\n",
       "\n",
       "// Listen for the removal of the full notebook cells\n",
       "var notebookContainer = gd.closest('#notebook-container');\n",
       "if (notebookContainer) {{\n",
       "    x.observe(notebookContainer, {childList: true});\n",
       "}}\n",
       "\n",
       "// Listen for the clearing of the current output cell\n",
       "var outputEl = gd.closest('.output');\n",
       "if (outputEl) {{\n",
       "    x.observe(outputEl, {childList: true});\n",
       "}}\n",
       "\n",
       "                        })\n",
       "                };\n",
       "                });\n",
       "            </script>\n",
       "        </div>"
      ]
     },
     "metadata": {},
     "output_type": "display_data"
    }
   ],
   "source": [
    "fig = go.Figure()\n",
    "fig.add_trace(go.Scatter(y=data['sentiments'],\n",
    "                                mode='lines+markers',\n",
    "                                name='ground truth',\n",
    "                                text=(data['time'])))\n",
    "\n",
    "fig.add_trace(go.Scatter(y=y_pred, x=getindex(y_pred),\n",
    "                                mode='lines+markers',\n",
    "                                 name='predictions',\n",
    "                                text=(data['time'])))\n",
    "\n",
    "fig.update_layout(title=f\"Sentiment Analysis of @{user} twitter interactions\")\n",
    "fig.show()"
   ]
  },
  {
   "cell_type": "markdown",
   "metadata": {},
   "source": [
    "## ARIMA"
   ]
  },
  {
   "cell_type": "code",
   "execution_count": 68,
   "metadata": {},
   "outputs": [],
   "source": [
    "from statsmodels.tsa.arima_model import ARIMA"
   ]
  },
  {
   "cell_type": "code",
   "execution_count": 69,
   "metadata": {},
   "outputs": [],
   "source": [
    "model = ARIMA(y_train, (1,1,1))"
   ]
  },
  {
   "cell_type": "code",
   "execution_count": 70,
   "metadata": {},
   "outputs": [
    {
     "ename": "NameError",
     "evalue": "name 'train' is not defined",
     "output_type": "error",
     "traceback": [
      "\u001b[0;31m---------------------------------------------------------------------------\u001b[0m",
      "\u001b[0;31mNameError\u001b[0m                                 Traceback (most recent call last)",
      "\u001b[0;32m<ipython-input-70-fad378e3fc58>\u001b[0m in \u001b[0;36m<module>\u001b[0;34m\u001b[0m\n\u001b[1;32m      1\u001b[0m \u001b[0mmodel_fit\u001b[0m \u001b[0;34m=\u001b[0m \u001b[0mmodel\u001b[0m\u001b[0;34m.\u001b[0m\u001b[0mfit\u001b[0m\u001b[0;34m(\u001b[0m\u001b[0mmaxlag\u001b[0m\u001b[0;34m=\u001b[0m\u001b[0;36m10\u001b[0m\u001b[0;34m)\u001b[0m\u001b[0;34m\u001b[0m\u001b[0;34m\u001b[0m\u001b[0m\n\u001b[0;32m----> 2\u001b[0;31m y_pred = model_fit.predict(start=len(train),\n\u001b[0m\u001b[1;32m      3\u001b[0m                                     end=len(train)+len(test)-1, dynamic=False)\n",
      "\u001b[0;31mNameError\u001b[0m: name 'train' is not defined"
     ]
    }
   ],
   "source": [
    "model_fit = model.fit(maxlag=10)\n",
    "y_pred = model_fit.predict(start=len(train),\n",
    "                                    end=len(train)+len(test)-1, dynamic=False)"
   ]
  },
  {
   "cell_type": "code",
   "execution_count": null,
   "metadata": {},
   "outputs": [],
   "source": [
    "mean_squared_error(y_test, y_pred, squared=False)"
   ]
  },
  {
   "cell_type": "code",
   "execution_count": null,
   "metadata": {},
   "outputs": [],
   "source": [
    "fig = go.Figure()\n",
    "fig.add_trace(go.Scatter(y=data['sentiments'],\n",
    "                                mode='lines+markers',\n",
    "                                name='ground truth',\n",
    "                                text=(data['time'])))\n",
    "\n",
    "fig.add_trace(go.Scatter(y=y_pred, x=getindex(y_pred),\n",
    "                                mode='lines+markers',\n",
    "                                 name='predictions',\n",
    "                                text=(data['time'])))\n",
    "\n",
    "fig.update_layout(title=f\"Sentiment Analysis of @{user} twitter interactions\")\n",
    "fig.show()"
   ]
  },
  {
   "cell_type": "code",
   "execution_count": null,
   "metadata": {},
   "outputs": [],
   "source": []
  },
  {
   "cell_type": "code",
   "execution_count": null,
   "metadata": {},
   "outputs": [],
   "source": []
  }
 ],
 "metadata": {
  "kernelspec": {
   "display_name": "Python 3",
   "language": "python",
   "name": "python3"
  },
  "language_info": {
   "codemirror_mode": {
    "name": "ipython",
    "version": 3
   },
   "file_extension": ".py",
   "mimetype": "text/x-python",
   "name": "python",
   "nbconvert_exporter": "python",
   "pygments_lexer": "ipython3",
   "version": "3.7.7"
  }
 },
 "nbformat": 4,
 "nbformat_minor": 4
}
