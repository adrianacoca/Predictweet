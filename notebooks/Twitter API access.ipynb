{
 "cells": [
  {
   "cell_type": "markdown",
   "metadata": {},
   "source": [
    "## Using twitter documentation\n"
   ]
  },
  {
   "cell_type": "code",
   "execution_count": 67,
   "metadata": {},
   "outputs": [],
   "source": [
    "import os\n",
    "from dotenv import load_dotenv\n",
    "import requests\n",
    "import requests_oauthlib\n",
    "import json\n",
    "import pandas as pd\n",
    "import numpy as np"
   ]
  },
  {
   "cell_type": "code",
   "execution_count": 2,
   "metadata": {},
   "outputs": [],
   "source": [
    "load_dotenv()\n",
    "ACCESS_TOKEN = os.getenv(\"ACCESS_TOKEN\")\n",
    "ACCESS_SECRET = os.getenv(\"ACCESS_SECRET\")\n",
    "CONSUMER_KEY = os.getenv(\"CONSUMER_KEY\")\n",
    "CONSUMER_SECRET = os.getenv(\"CONSUMER_SECRET\")"
   ]
  },
  {
   "cell_type": "code",
   "execution_count": 3,
   "metadata": {},
   "outputs": [],
   "source": [
    "my_auth = requests_oauthlib.OAuth1(CONSUMER_KEY, CONSUMER_SECRET,ACCESS_TOKEN,\n",
    "ACCESS_SECRET)"
   ]
  },
  {
   "cell_type": "markdown",
   "metadata": {},
   "source": [
    "## Choose user"
   ]
  },
  {
   "cell_type": "code",
   "execution_count": 36,
   "metadata": {},
   "outputs": [],
   "source": [
    "user = \"britneyspears\""
   ]
  },
  {
   "cell_type": "markdown",
   "metadata": {},
   "source": [
    "## 1. Get twitter mentions"
   ]
  },
  {
   "cell_type": "code",
   "execution_count": 37,
   "metadata": {},
   "outputs": [],
   "source": [
    "def get_tweet_mentions(user, date):\n",
    "    url = f'https://api.twitter.com/1.1/search/tweets.json?q=%40{user}&count=100&tweet_mode=extended&until={date}'\n",
    "    response = requests.get(url, auth=my_auth, stream=True)\n",
    "    print(url, response)\n",
    "    return response.json()\n",
    "\n",
    "#should add count, result type: recent/popular"
   ]
  },
  {
   "cell_type": "code",
   "execution_count": 38,
   "metadata": {},
   "outputs": [
    {
     "name": "stdout",
     "output_type": "stream",
     "text": [
      "https://api.twitter.com/1.1/search/tweets.json?q=%40britneyspears&count=100&tweet_mode=extended&until=2020-07-24 <Response [200]>\n"
     ]
    }
   ],
   "source": [
    "mentions = get_tweet_mentions(user, \"2020-07-24\")"
   ]
  },
  {
   "cell_type": "code",
   "execution_count": 39,
   "metadata": {},
   "outputs": [],
   "source": [
    "tweet_mentions = []\n",
    "for i in range(len(mentions[\"statuses\"])):\n",
    "    try: \n",
    "        tweet_mentions.append(mentions[\"statuses\"][i]['retweeted_status']['full_text'])\n",
    "    except: \n",
    "        tweet_mentions.append(mentions[\"statuses\"][i][\"full_text\"])"
   ]
  },
  {
   "cell_type": "code",
   "execution_count": 40,
   "metadata": {},
   "outputs": [
    {
     "data": {
      "text/plain": [
       "['¿Por qué no le hicieron caso desde Lucky?, por @JuanaMezcales\\n\\n\"La mayoría de portadas que ha acaparado Britney en los últimos años se debe a su agitada vida sentimental\".\\n\\n#ArteFuturaMX #freebritney #britney #BritneySpears @britneyspears #BritneyArmy\\n\\nhttps://t.co/SIPfDXjq39',\n",
       " 'Queen @britneyspears by Steven Klein  (2001) 👸🏼\\n\\nMQ: https://t.co/YuAr1odA4Z https://t.co/qUbK1Ok4jN',\n",
       " '@ThePopTingz @britneyspears #endtheconservatorship',\n",
       " '@ThePopTingz @britneyspears If they don’t check on her she might not hear from her',\n",
       " 'currently listening to pretty girls by @britneyspears and @IGGYAZALEA &amp; you HAVE to remember who WROTE this tune (MIXERS)',\n",
       " 'AMOOOOO @britneyspears 💕 Tirei: 20 de 20 https://t.co/mw6JawZxNS',\n",
       " '#FreeBritney @britneyspears https://t.co/nNI4DxOi8V',\n",
       " 'Ok the @britneyspears episode on Glee is by far my favvvvv',\n",
       " '“Check out our interview with @britneyspears airing this Monday!” https://t.co/DyxuTpn8k9 https://t.co/2JdM1J5IaT',\n",
       " 'My first crush was @britneyspears. @patrick_brice made my lifelong dream come true. https://t.co/0vNAVYzYfS',\n",
       " 'Luego de no llevarse a cabo la audiencia para ver la situación de la tutela de @britneyspears.  La princesa del pop sube esta foto a su Instagram. https://t.co/aRsftqevYv',\n",
       " '@KimKardashian get into the #FreeBritney case. @britneyspears. Please',\n",
       " '“Check out our interview with @britneyspears airing this Monday!” https://t.co/DyxuTpn8k9 https://t.co/2JdM1J5IaT',\n",
       " 'Queen @britneyspears by Steven Klein  (2001) 👸🏼\\n\\nMQ: https://t.co/YuAr1odA4Z https://t.co/qUbK1Ok4jN',\n",
       " '@agstinyelaphant @PopCrave @britneyspears @rihanna The way Ariana will never be so iconic like Rihanna. I love Ari af but don’t mess with #RIHANNANAVY 😁',\n",
       " 'Praying for you today 🙏🏽 @britneyspears',\n",
       " 'Dear @YourAnonNews, a woman’s human rights have been violated for 12 years now, and we strongly feel that your involvement in the investigation of her case would help to regain her rightful right. Please could you look into #FreeBritney case? She’s @britneyspears!',\n",
       " '@britneyspears #FreeBritney #LetBritneySpeak Tell us how you feel? How someone is controlling your assets? Monotizing you? You like it? Tell us Britney? Speak your mind like Card B!!!! EEEEEEOOOWW!!!',\n",
       " 'Primeiramente #FreeBritney 💜🌷 @BritneyHiatus @VoceSabianey @BSpears_BR @britneyspears @britdescolada @britneyonbr @britneypost  @WeSupportBS https://t.co/WI3IsDc2dk',\n",
       " '@vmas @britneyspears @MTV OMG ! #MTV SOS unos genio !!! @britneyspears  nos representa en la comunidad LGBTIQ 🌈 #lovewins',\n",
       " '@TreySerna @britneyspears #FreeBritney',\n",
       " '@michaelcannn @britneyspears come take them ur used to that',\n",
       " \"Let's start off this week with one of the most iconic performances in HISTORY 👏 @britneyspears\\n\\nCatch the 2020 #VMAs Sunday, August 30th on @MTV 💚 https://t.co/rbSTTOXVPW\",\n",
       " '@BritneyHiatus @britneyspears #FreeBritney',\n",
       " '@britboy18 @britneyspears #FreexBritney',\n",
       " '@ktangkyle @britneyspears I. LOVE. IT!!!!',\n",
       " 'We stand with @britneyspears https://t.co/oGol5ra0Yw',\n",
       " '@britneyspears Let britney speak her mind!!!!!!!!!',\n",
       " 'We stand with @britneyspears https://t.co/oGol5ra0Yw',\n",
       " '@britneyspears #FREEBRITNEY',\n",
       " 'Parece que sou “especialista em @britneyspears” Tirei: 20 de 20 https://t.co/z9cSQOXBhw',\n",
       " '#FreeBritney @britneyspears https://t.co/sIUoKgcny7',\n",
       " '@BritneySpears #FreeBritney',\n",
       " 'Team Britney: #FreeBritney - Sign the Petition! https://t.co/CUYKhSQRz4 via @Change #savebritney @britneyspears #britneyspears',\n",
       " 'Queen @britneyspears by Steven Klein  (2001) 👸🏼\\n\\nMQ: https://t.co/YuAr1odA4Z https://t.co/qUbK1Ok4jN',\n",
       " '#FreeBritney @britneyspears https://t.co/sIUoKgcny7',\n",
       " '#FreeBritney @britneyspears https://t.co/sIUoKgcny7',\n",
       " 'Updated pictures of #britneyspears from 📷 Mark Seliger and The Joy Of Pepsi\\n@britneyspears @BJSpearsWebSite @TheBritneyArmy @britneyarmyUS @BritneySpearsID @FOTPBritney https://t.co/N708zqyrAv',\n",
       " 'Updated pictures of #britneyspears from 📷 Mark Seliger\\n@britneyspears @BJSpearsWebSite @TheBritneyArmy @britneyarmyUS @BritneySpearsID @FOTPBritney https://t.co/P0jARLEaFy',\n",
       " 'Due to connection issues at the courthouse they couldn’t reach Britney. They re-scheduled a new date at august 19th. Keep praying for @britneyspears in the mean time #FreeBritney https://t.co/PpkTz1VSJH',\n",
       " 'Queen @britneyspears for the 1999 VMAs by Mark Seliger 👸🏼\\n\\nHQ: https://t.co/9GwUvRNKkJ https://t.co/Mh0tJDDGV7',\n",
       " 'Queen @britneyspears UHQ untagged cover for #OopsIDidItAgain by Mark Seliger + Full new outtake (2000)\\n\\nUHQ/HQ: https://t.co/8Li2yxvzPZ https://t.co/IS7QKscvFz',\n",
       " 'Queen @britneyspears by Steven Klein  (2001) 👸🏼\\n\\nMQ: https://t.co/YuAr1odA4Z https://t.co/qUbK1Ok4jN',\n",
       " 'Praying for you today 🙏🏽 @britneyspears',\n",
       " '“Check out our interview with @britneyspears airing this Monday!” https://t.co/DyxuTpn8k9 https://t.co/2JdM1J5IaT',\n",
       " \"Britney Spears Suffers 'Technical Difficulties' During Virtual Court Appearance, 'Hacking' Suspected \\n\\nthis wins the award for least surprising surprise\\n\\n(cc @TheBlastNews @britneyspears #FreeBritney #BritneyArmy) https://t.co/QK5GexrvXY\",\n",
       " 'Bc everyone else is doing something else besides Britney I am here to bless ur timeline @britneyspears https://t.co/iH9fEc8bcF',\n",
       " '#FreeBritney @britneyspears https://t.co/sIUoKgcny7',\n",
       " \"Artists with the most US digital song sales #1's:\\n@taylorswift13 19\\n@rihanna 14\\n@justinbieber 12\\n@Eminem 11\\n@katyperry 11\\n@Drake 11\\n@Beyonce 9\\n@BrunoMars 9\\n@ladygaga 8\\n@ArianaGrande 7\\n@jtimberlake 7\\n@britneyspears 7\",\n",
       " 'Upcoming hearings for @britneyspears https://t.co/N81e81bK6s',\n",
       " '@MileyIsInspired @britneyspears thank you!!',\n",
       " \"Happy 4th of July from #BritneyOnlineWeek! While we celebrate, here's Queen @britneyspears shot by Mark Seliger (2000)\\nUHQ: https://t.co/OuLnglhoi9 https://t.co/zygMKFqxJ2\",\n",
       " '⭐️⭐️\\n📷: Mark Seliger https://t.co/nRBkQC133x',\n",
       " 'Buena suerte @britneyspears \\nYa es hora de que esta mujer pueda ser libre y tomar las decisiones tanto creativas como generales en su vida.\\nEs hora de que pueda usar el dinero por el q trabaja y ver a sus hijos. \\n#FREEBRITNEY https://t.co/mJDvUSHpay',\n",
       " '@britneyspears cannot vote, marry who she wants (without permission), have kids, have full control of her finances, and cannot visit anyone without approval. All because of the fake news constantly harassing her more than any celebrity in existence and causing her to act out.',\n",
       " '@LL_Vieira @mtrainorbrasil_ @britneyspears Sim! 🙌🏽',\n",
       " 'Hearing a band or artist get it right on their first try is one of the greatest thrills in music. From @britneyspears to Chuck Berry, here are the 100 greatest debut singles of all time https://t.co/hU2gSTvgPb https://t.co/7qYRMP3wHB',\n",
       " '#freebritney2020 #FreeBritneySpears  #Freebritney @britneyspears https://t.co/KhJH4pyM8D',\n",
       " '¿Por qué no le hicieron caso desde Lucky?, por @JuanaMezcales\\n\\n\"La mayoría de portadas que ha acaparado Britney en los últimos años se debe a su agitada vida sentimental\".\\n\\n#ArteFuturaMX #freebritney #britney #BritneySpears @britneyspears #BritneyArmy\\n\\nhttps://t.co/SIPfDXjq39',\n",
       " '#freebritney2020 #FreeBritneySpears  #Freebritney @britneyspears https://t.co/KhJH4pyM8D',\n",
       " 'Dear @YourAnonNews, a woman’s human rights have been violated for 12 years now, and we strongly feel that your involvement in the investigation of her case would help to regain her rightful right. Please could you look into #FreeBritney case? She’s @britneyspears!',\n",
       " 'ok so now that bangtan has collaborated with only female artists for every era ever since LY: ANSWER in 2018... how bout a collab wit @britneyspears or @Adele for the next album?? 🥺🥺🙏🏽',\n",
       " 'Dear @YourAnonNews, a woman’s human rights have been violated for 12 years now, and we strongly feel that your involvement in the investigation of her case would help to regain her rightful right. Please could you look into #FreeBritney case? She’s @britneyspears!',\n",
       " 'Primeiramente #FreeBritney 💜🌷 @BritneyHiatus @VoceSabianey @BSpears_BR @britneyspears @britdescolada @britneyonbr @britneypost  @WeSupportBS https://t.co/WI3IsDc2dk',\n",
       " 'Queen @britneyspears by Steven Klein  (2001) 👸🏼\\n\\nMQ: https://t.co/YuAr1odA4Z https://t.co/qUbK1Ok4jN',\n",
       " '@tiana66759163 @shanedawson @britneyspears 3rd eye. Eye of Ra',\n",
       " \"Britney Spears Suffers 'Technical Difficulties' During Virtual Court Appearance, 'Hacking' Suspected \\n\\nthis wins the award for least surprising surprise\\n\\n(cc @TheBlastNews @britneyspears #FreeBritney #BritneyArmy) https://t.co/QK5GexrvXY\",\n",
       " '\\u2066@voguemagazine\\u2069 GURL . . . \\u2066@britneyspears\\u2069 has had 11-SOME-ODD-YEARS OR SO to enjoy “space” and to “find herself”; I can’t get ONE GODDAMNED EVENING to scratch my butt if it itches.  Where dem kids at and who be watching them while she instas https://t.co/egBcfJYGNR',\n",
       " \"Britney Spears Suffers 'Technical Difficulties' During Virtual Court Appearance, 'Hacking' Suspected \\n\\nthis wins the award for least surprising surprise\\n\\n(cc @TheBlastNews @britneyspears #FreeBritney #BritneyArmy) https://t.co/QK5GexrvXY\",\n",
       " '“Check out our interview with @britneyspears airing this Monday!” https://t.co/DyxuTpn8k9 https://t.co/2JdM1J5IaT',\n",
       " \"Britney Spears Suffers 'Technical Difficulties' During Virtual Court Appearance, 'Hacking' Suspected \\n\\nthis wins the award for least surprising surprise\\n\\n(cc @TheBlastNews @britneyspears #FreeBritney #BritneyArmy) https://t.co/QK5GexrvXY\",\n",
       " 'Female artists with the most #1 hits on the UK Official Chart history:\\n\\n1. @Madonna - 13\\n2. @rihanna, @spicegirls - 9\\n3. @kylieminogue, @JessGlynne - 7\\n4. @britneyspears, @ladygaga, @ArianaGrande - 6 https://t.co/AD4SxUQ4E7',\n",
       " '#FreeBritney @britneyspears https://t.co/sIUoKgcny7',\n",
       " '@seancellmore @britneyspears love this \\U0001f90d',\n",
       " '#FreeBritney @britneyspears https://t.co/sIUoKgcny7',\n",
       " '“Check out our interview with @britneyspears airing this Monday!” https://t.co/DyxuTpn8k9 https://t.co/2JdM1J5IaT',\n",
       " 'I encourage y\\'all to read @TheBlastNews\\' latest update on @britneyspears botched court appearance yesterday - which includes confirmation of \"illegal access by individuals not authorized to be on the video line\"',\n",
       " 'Yeah but they have access to the interior of residences without warrants or consent which is a violation of 4th and 14th amendments as well as DUE MOTHER FUCK YOU PROCESS #FreeBritney @britneyspears',\n",
       " '@ktangkyle @britneyspears Thanks for bringing this back to my life the way you just #didthat yassss',\n",
       " '“Check out our interview with @britneyspears airing this Monday!” https://t.co/DyxuTpn8k9 https://t.co/2JdM1J5IaT',\n",
       " '@britneyspears ❤️❤️❤️❤️❤️❤️❤️❤️u sooooooooooooooooo much',\n",
       " 'I encourage y\\'all to read @TheBlastNews\\' latest update on @britneyspears botched court appearance yesterday - which includes confirmation of \"illegal access by individuals not authorized to be on the video line\"',\n",
       " 'Didn’t know @britneyspears had a brother!',\n",
       " '@brcobain @mtrainorbrasil_ @britneyspears Tomara que ele consiga ser liberta de seu pai ridículo e possa viver sua vida em paz, tadinha.',\n",
       " '@brcobain @britneyspears Vai dar tudo certo 🙏🏼💙🥺',\n",
       " '@itsangelbitch10 @kbytes_ @freakyygirll @etc_xande @itsaloisiobitch @khareml @_Eveny_ @josernandojr @rihanna @britneyspears sofro na curiosidadeee',\n",
       " \"@britneyspears' Latest Conservatorship Hearing: What We Know https://t.co/5RATO8vp1u\",\n",
       " '@_artsartsarts @britneyspears thank you!!!',\n",
       " '“Check out our interview with @britneyspears airing this Monday!” https://t.co/DyxuTpn8k9 https://t.co/2JdM1J5IaT',\n",
       " '@seancellmore @britneyspears This is incredible',\n",
       " '@CiaoSonoLino @britneyspears Non puoi! 😂😂',\n",
       " '“Check out our interview with @britneyspears airing this Monday!” https://t.co/DyxuTpn8k9 https://t.co/2JdM1J5IaT',\n",
       " '#FreeBritney @britneyspears https://t.co/sIUoKgcny7',\n",
       " '@ktangkyle @britneyspears I can’t believe how close you are to smacking the two on either side of you. 😂😂\\n👏🏼👏🏼👏🏼👏🏼',\n",
       " '“Check out our interview with @britneyspears airing this Monday!” https://t.co/DyxuTpn8k9 https://t.co/2JdM1J5IaT',\n",
       " 'this is one reason why ill always support @britneyspears. #FreeBritney https://t.co/0t1ingfRMw',\n",
       " 'use your heart over your head ~ @britneyspears &lt;3',\n",
       " \"For 12 years, @britneyspears has no control over life and is basically paying people to control it for her?! Insane, unacceptable, horrible! Conservatorship is for extremely incapacitated people who can't function as a person, i.e. those with dementia, etc. #FreeBritney\",\n",
       " '“Check out our interview with @britneyspears airing this Monday!” https://t.co/DyxuTpn8k9 https://t.co/2JdM1J5IaT',\n",
       " 'Dear @YourAnonNews, a woman’s human rights have been violated for 12 years now, and we strongly feel that your involvement in the investigation of her case would help to regain her rightful right. Please could you look into #FreeBritney case? She’s @britneyspears!']"
      ]
     },
     "execution_count": 40,
     "metadata": {},
     "output_type": "execute_result"
    }
   ],
   "source": [
    "tweet_mentions"
   ]
  },
  {
   "cell_type": "code",
   "execution_count": 41,
   "metadata": {},
   "outputs": [
    {
     "data": {
      "text/plain": [
       "'tweet_mentions = []\\nfor i in range(len(j[\"statuses\"])):\\n    #count verified opinions x10\\n    \\n    if j[\"statuses\"][i][\"user\"][\"verified\"]==False: \\n        tweet_mentions.append(j[\"statuses\"][i][\"full_text\"])\\n    elif j[\"statuses\"][i][\"user\"][\"verified\"]==True: \\n        tweet_mentions.extend([j[\"statuses\"][i][\"full_text\"] for l in range(10)])'"
      ]
     },
     "execution_count": 41,
     "metadata": {},
     "output_type": "execute_result"
    }
   ],
   "source": [
    "# Retweets get cut with this code\n",
    "\"\"\"tweet_mentions = []\n",
    "for i in range(len(j[\"statuses\"])):\n",
    "    #count verified opinions x10\n",
    "    \n",
    "    if j[\"statuses\"][i][\"user\"][\"verified\"]==False: \n",
    "        tweet_mentions.append(j[\"statuses\"][i][\"full_text\"])\n",
    "    elif j[\"statuses\"][i][\"user\"][\"verified\"]==True: \n",
    "        tweet_mentions.extend([j[\"statuses\"][i][\"full_text\"] for l in range(10)])\"\"\""
   ]
  },
  {
   "cell_type": "markdown",
   "metadata": {},
   "source": [
    "Parameters:\n",
    "lang ==> en\n",
    "count ==> 100\n",
    "until ==> (Returns tweets created before the given date. Date should be formatted as YYYY-MM-DD. Keep in mind that the search index has a 7-day limit. In other words, no tweets will be found for a date older than one week)"
   ]
  },
  {
   "cell_type": "markdown",
   "metadata": {},
   "source": [
    "## 2. Get tweets from user"
   ]
  },
  {
   "cell_type": "code",
   "execution_count": 42,
   "metadata": {},
   "outputs": [],
   "source": [
    "def get_tweets(user):\n",
    "    url = f'https://api.twitter.com/1.1/statuses/user_timeline.json?screen_name={user}&count=100&tweet_mode=extended'\n",
    "    response = requests.get(url, auth=my_auth, stream=True)\n",
    "    print(url, response)\n",
    "    return response.json()"
   ]
  },
  {
   "cell_type": "code",
   "execution_count": 43,
   "metadata": {},
   "outputs": [
    {
     "name": "stdout",
     "output_type": "stream",
     "text": [
      "https://api.twitter.com/1.1/statuses/user_timeline.json?screen_name=britneyspears&count=100&tweet_mode=extended <Response [200]>\n"
     ]
    }
   ],
   "source": [
    "user_t = get_tweets(user)"
   ]
  },
  {
   "cell_type": "code",
   "execution_count": 45,
   "metadata": {},
   "outputs": [],
   "source": [
    "id_ = []\n",
    "retweet_count = []\n",
    "followers_count = []\n",
    "tweet = []\n",
    "time = []\n",
    "for i in range(len(user_t)):\n",
    "    id_.append(user_t[i][\"id_str\"])\n",
    "    retweet_count.append(user_t[i][\"retweet_count\"])\n",
    "    followers_count.append(user_t[i][\"user\"][\"followers_count\"])\n",
    "    time.append(user_t[i]['created_at'])\n",
    "    try:\n",
    "        tweet.append(user_t[i]['retweeted_status']['full_text'])\n",
    "    except: \n",
    "        tweet.append(user_t[i][\"full_text\"])"
   ]
  },
  {
   "cell_type": "code",
   "execution_count": null,
   "metadata": {},
   "outputs": [],
   "source": []
  },
  {
   "cell_type": "code",
   "execution_count": 46,
   "metadata": {},
   "outputs": [],
   "source": [
    "d = {\"id\":id_, \"time\":time, \"tweet\": tweet, \"retweets\":retweet_count, \"followers\":followers_count}\n",
    "data = pd.DataFrame(data = d)"
   ]
  },
  {
   "cell_type": "code",
   "execution_count": 47,
   "metadata": {},
   "outputs": [
    {
     "data": {
      "text/html": [
       "<div>\n",
       "<style scoped>\n",
       "    .dataframe tbody tr th:only-of-type {\n",
       "        vertical-align: middle;\n",
       "    }\n",
       "\n",
       "    .dataframe tbody tr th {\n",
       "        vertical-align: top;\n",
       "    }\n",
       "\n",
       "    .dataframe thead th {\n",
       "        text-align: right;\n",
       "    }\n",
       "</style>\n",
       "<table border=\"1\" class=\"dataframe\">\n",
       "  <thead>\n",
       "    <tr style=\"text-align: right;\">\n",
       "      <th></th>\n",
       "      <th>id</th>\n",
       "      <th>time</th>\n",
       "      <th>tweet</th>\n",
       "      <th>retweets</th>\n",
       "      <th>followers</th>\n",
       "    </tr>\n",
       "  </thead>\n",
       "  <tbody>\n",
       "    <tr>\n",
       "      <th>0</th>\n",
       "      <td>1276677933848039424</td>\n",
       "      <td>Sat Jun 27 00:45:13 +0000 2020</td>\n",
       "      <td>OMG the #MoodRingRemixes are FLAWLESS! I loved...</td>\n",
       "      <td>278</td>\n",
       "      <td>55943976</td>\n",
       "    </tr>\n",
       "    <tr>\n",
       "      <th>1</th>\n",
       "      <td>1276677864717537286</td>\n",
       "      <td>Sat Jun 27 00:44:57 +0000 2020</td>\n",
       "      <td>Proud to welcome two new girls to the Britney ...</td>\n",
       "      <td>230</td>\n",
       "      <td>55943976</td>\n",
       "    </tr>\n",
       "    <tr>\n",
       "      <th>2</th>\n",
       "      <td>1276677788649611264</td>\n",
       "      <td>Sat Jun 27 00:44:38 +0000 2020</td>\n",
       "      <td>She did that! @britneyspears' \"Mood Ring\" remi...</td>\n",
       "      <td>404</td>\n",
       "      <td>55943976</td>\n",
       "    </tr>\n",
       "    <tr>\n",
       "      <th>3</th>\n",
       "      <td>1276677688569344000</td>\n",
       "      <td>Sat Jun 27 00:44:15 +0000 2020</td>\n",
       "      <td>What a great ending to #PrideMonth! At midnigh...</td>\n",
       "      <td>183</td>\n",
       "      <td>55943976</td>\n",
       "    </tr>\n",
       "    <tr>\n",
       "      <th>4</th>\n",
       "      <td>1276604569229733888</td>\n",
       "      <td>Fri Jun 26 19:53:42 +0000 2020</td>\n",
       "      <td>Happy Pride Month ❤️💛💚💙💜 !!!!! Put on your dan...</td>\n",
       "      <td>2304</td>\n",
       "      <td>55943976</td>\n",
       "    </tr>\n",
       "    <tr>\n",
       "      <th>...</th>\n",
       "      <td>...</td>\n",
       "      <td>...</td>\n",
       "      <td>...</td>\n",
       "      <td>...</td>\n",
       "      <td>...</td>\n",
       "    </tr>\n",
       "    <tr>\n",
       "      <th>95</th>\n",
       "      <td>1054826643808755716</td>\n",
       "      <td>Tue Oct 23 20:07:24 +0000 2018</td>\n",
       "      <td>@VegasneyBitch Thank you so much! 💕</td>\n",
       "      <td>54</td>\n",
       "      <td>55943976</td>\n",
       "    </tr>\n",
       "    <tr>\n",
       "      <th>96</th>\n",
       "      <td>1054826084833869826</td>\n",
       "      <td>Tue Oct 23 20:05:11 +0000 2018</td>\n",
       "      <td>@britneys_diner Thank you! ❤️</td>\n",
       "      <td>19</td>\n",
       "      <td>55943976</td>\n",
       "    </tr>\n",
       "    <tr>\n",
       "      <th>97</th>\n",
       "      <td>1054825540723589120</td>\n",
       "      <td>Tue Oct 23 20:03:01 +0000 2018</td>\n",
       "      <td>@FaelFreitas ❤️❤️</td>\n",
       "      <td>32</td>\n",
       "      <td>55943976</td>\n",
       "    </tr>\n",
       "    <tr>\n",
       "      <th>98</th>\n",
       "      <td>1054824940732588033</td>\n",
       "      <td>Tue Oct 23 20:00:38 +0000 2018</td>\n",
       "      <td>@GlitterNStuds ❤️</td>\n",
       "      <td>16</td>\n",
       "      <td>55943976</td>\n",
       "    </tr>\n",
       "    <tr>\n",
       "      <th>99</th>\n",
       "      <td>1054824764198543360</td>\n",
       "      <td>Tue Oct 23 19:59:56 +0000 2018</td>\n",
       "      <td>@claire_wrightxx Thank you so much!! ❤️</td>\n",
       "      <td>31</td>\n",
       "      <td>55943976</td>\n",
       "    </tr>\n",
       "  </tbody>\n",
       "</table>\n",
       "<p>100 rows × 5 columns</p>\n",
       "</div>"
      ],
      "text/plain": [
       "                     id                            time  \\\n",
       "0   1276677933848039424  Sat Jun 27 00:45:13 +0000 2020   \n",
       "1   1276677864717537286  Sat Jun 27 00:44:57 +0000 2020   \n",
       "2   1276677788649611264  Sat Jun 27 00:44:38 +0000 2020   \n",
       "3   1276677688569344000  Sat Jun 27 00:44:15 +0000 2020   \n",
       "4   1276604569229733888  Fri Jun 26 19:53:42 +0000 2020   \n",
       "..                  ...                             ...   \n",
       "95  1054826643808755716  Tue Oct 23 20:07:24 +0000 2018   \n",
       "96  1054826084833869826  Tue Oct 23 20:05:11 +0000 2018   \n",
       "97  1054825540723589120  Tue Oct 23 20:03:01 +0000 2018   \n",
       "98  1054824940732588033  Tue Oct 23 20:00:38 +0000 2018   \n",
       "99  1054824764198543360  Tue Oct 23 19:59:56 +0000 2018   \n",
       "\n",
       "                                                tweet  retweets  followers  \n",
       "0   OMG the #MoodRingRemixes are FLAWLESS! I loved...       278   55943976  \n",
       "1   Proud to welcome two new girls to the Britney ...       230   55943976  \n",
       "2   She did that! @britneyspears' \"Mood Ring\" remi...       404   55943976  \n",
       "3   What a great ending to #PrideMonth! At midnigh...       183   55943976  \n",
       "4   Happy Pride Month ❤️💛💚💙💜 !!!!! Put on your dan...      2304   55943976  \n",
       "..                                                ...       ...        ...  \n",
       "95                @VegasneyBitch Thank you so much! 💕        54   55943976  \n",
       "96                      @britneys_diner Thank you! ❤️        19   55943976  \n",
       "97                                  @FaelFreitas ❤️❤️        32   55943976  \n",
       "98                                  @GlitterNStuds ❤️        16   55943976  \n",
       "99            @claire_wrightxx Thank you so much!! ❤️        31   55943976  \n",
       "\n",
       "[100 rows x 5 columns]"
      ]
     },
     "execution_count": 47,
     "metadata": {},
     "output_type": "execute_result"
    }
   ],
   "source": [
    "data"
   ]
  },
  {
   "cell_type": "code",
   "execution_count": 48,
   "metadata": {},
   "outputs": [
    {
     "data": {
      "text/plain": [
       "'\\nfor i in range(len(user_t)):\\n    user_t[i][\"user\"][\"followers_count\"]\\n    user_t[i][\"retweet_count\"]\\n    \\n\\nfor i in range(len(user_t)):\\n    try:\\n        tweets[user_t[i][\"id_str\"]]= (user_t[i][\\'retweeted_status\\'][\\'full_text\\'], user_t[i][\\'created_at\\'])\\n    except: \\n        tweets[user_t[i][\"id_str\"]]= (user_t[i][\"full_text\"], user_t[0][\\'created_at\\'])\\n'"
      ]
     },
     "execution_count": 48,
     "metadata": {},
     "output_type": "execute_result"
    }
   ],
   "source": [
    "\"\"\"\n",
    "for i in range(len(user_t)):\n",
    "    user_t[i][\"user\"][\"followers_count\"]\n",
    "    user_t[i][\"retweet_count\"]\n",
    "    \n",
    "\n",
    "for i in range(len(user_t)):\n",
    "    try:\n",
    "        tweets[user_t[i][\"id_str\"]]= (user_t[i]['retweeted_status']['full_text'], user_t[i]['created_at'])\n",
    "    except: \n",
    "        tweets[user_t[i][\"id_str\"]]= (user_t[i][\"full_text\"], user_t[0]['created_at'])\n",
    "\"\"\""
   ]
  },
  {
   "cell_type": "markdown",
   "metadata": {},
   "source": [
    "## 3. Get replies for a tweet"
   ]
  },
  {
   "cell_type": "code",
   "execution_count": 89,
   "metadata": {},
   "outputs": [],
   "source": [
    "def get_replies(user, tweet_id):\n",
    "    url = f'https://api.twitter.com/1.1/search/tweets.json?q=%40{user}&count=100&tweet_mode=extended&in_reply_to_status_id_str={tweet_id}'\n",
    "    response = requests.get(url, auth=my_auth, stream=True)\n",
    "    responses =  response.json()\n",
    "    tweet_responses = []\n",
    "    for i in range(len(responses[\"statuses\"])):\n",
    "        try: \n",
    "            tweet_responses.append(responses[\"statuses\"][i]['retweeted_status']['full_text'])\n",
    "        except: \n",
    "            tweet_responses.append(responses[\"statuses\"][i][\"full_text\"])\n",
    "    return tweet_responses"
   ]
  },
  {
   "cell_type": "code",
   "execution_count": 50,
   "metadata": {},
   "outputs": [
    {
     "data": {
      "text/plain": [
       "\"url = f'https://api.twitter.com/1.1/search/tweets.json?q=%40{user}&count=100&tweet_mode=extended&in_reply_to_status_id_str=1286993270816378881'\\nresponse = requests.get(url, auth=my_auth, stream=True)\\nprint(response.json())\""
      ]
     },
     "execution_count": 50,
     "metadata": {},
     "output_type": "execute_result"
    }
   ],
   "source": [
    "\"\"\"url = f'https://api.twitter.com/1.1/search/tweets.json?q=%40{user}&count=100&tweet_mode=extended&in_reply_to_status_id_str=1286993270816378881'\n",
    "response = requests.get(url, auth=my_auth, stream=True)\n",
    "print(response.json())\"\"\"\n"
   ]
  },
  {
   "cell_type": "code",
   "execution_count": null,
   "metadata": {},
   "outputs": [],
   "source": []
  },
  {
   "cell_type": "markdown",
   "metadata": {},
   "source": [
    "## 4. Create data list"
   ]
  },
  {
   "cell_type": "code",
   "execution_count": 90,
   "metadata": {},
   "outputs": [
    {
     "name": "stdout",
     "output_type": "stream",
     "text": [
      "{'errors': [{'message': 'Rate limit exceeded', 'code': 88}]}\n"
     ]
    },
    {
     "ename": "KeyError",
     "evalue": "'statuses'",
     "output_type": "error",
     "traceback": [
      "\u001b[0;31m---------------------------------------------------------------------------\u001b[0m",
      "\u001b[0;31mKeyError\u001b[0m                                  Traceback (most recent call last)",
      "\u001b[0;32m<ipython-input-90-7187864f2b3b>\u001b[0m in \u001b[0;36m<module>\u001b[0;34m\u001b[0m\n\u001b[1;32m      1\u001b[0m \u001b[0mresponses\u001b[0m \u001b[0;34m=\u001b[0m \u001b[0;34m[\u001b[0m\u001b[0;34m]\u001b[0m\u001b[0;34m\u001b[0m\u001b[0;34m\u001b[0m\u001b[0m\n\u001b[1;32m      2\u001b[0m \u001b[0;32mfor\u001b[0m \u001b[0mid_\u001b[0m \u001b[0;32min\u001b[0m \u001b[0mlist\u001b[0m\u001b[0;34m(\u001b[0m\u001b[0mdata\u001b[0m\u001b[0;34m[\u001b[0m\u001b[0;34m\"id\"\u001b[0m\u001b[0;34m]\u001b[0m\u001b[0;34m)\u001b[0m\u001b[0;34m:\u001b[0m\u001b[0;34m\u001b[0m\u001b[0;34m\u001b[0m\u001b[0m\n\u001b[0;32m----> 3\u001b[0;31m     \u001b[0mr\u001b[0m \u001b[0;34m=\u001b[0m \u001b[0mget_replies\u001b[0m\u001b[0;34m(\u001b[0m\u001b[0muser\u001b[0m\u001b[0;34m,\u001b[0m \u001b[0mid_\u001b[0m\u001b[0;34m)\u001b[0m\u001b[0;34m\u001b[0m\u001b[0;34m\u001b[0m\u001b[0m\n\u001b[0m\u001b[1;32m      4\u001b[0m     \u001b[0mresponses\u001b[0m\u001b[0;34m.\u001b[0m\u001b[0mappend\u001b[0m\u001b[0;34m(\u001b[0m\u001b[0mr\u001b[0m\u001b[0;34m)\u001b[0m\u001b[0;34m\u001b[0m\u001b[0;34m\u001b[0m\u001b[0m\n",
      "\u001b[0;32m<ipython-input-89-c2740953efde>\u001b[0m in \u001b[0;36mget_replies\u001b[0;34m(user, tweet_id)\u001b[0m\n\u001b[1;32m      5\u001b[0m     \u001b[0mprint\u001b[0m\u001b[0;34m(\u001b[0m\u001b[0mresponses\u001b[0m\u001b[0;34m)\u001b[0m\u001b[0;34m\u001b[0m\u001b[0;34m\u001b[0m\u001b[0m\n\u001b[1;32m      6\u001b[0m     \u001b[0mtweet_responses\u001b[0m \u001b[0;34m=\u001b[0m \u001b[0;34m[\u001b[0m\u001b[0;34m]\u001b[0m\u001b[0;34m\u001b[0m\u001b[0;34m\u001b[0m\u001b[0m\n\u001b[0;32m----> 7\u001b[0;31m     \u001b[0;32mfor\u001b[0m \u001b[0mi\u001b[0m \u001b[0;32min\u001b[0m \u001b[0mrange\u001b[0m\u001b[0;34m(\u001b[0m\u001b[0mlen\u001b[0m\u001b[0;34m(\u001b[0m\u001b[0mresponses\u001b[0m\u001b[0;34m[\u001b[0m\u001b[0;34m\"statuses\"\u001b[0m\u001b[0;34m]\u001b[0m\u001b[0;34m)\u001b[0m\u001b[0;34m)\u001b[0m\u001b[0;34m:\u001b[0m\u001b[0;34m\u001b[0m\u001b[0;34m\u001b[0m\u001b[0m\n\u001b[0m\u001b[1;32m      8\u001b[0m         \u001b[0;32mtry\u001b[0m\u001b[0;34m:\u001b[0m\u001b[0;34m\u001b[0m\u001b[0;34m\u001b[0m\u001b[0m\n\u001b[1;32m      9\u001b[0m             \u001b[0mtweet_responses\u001b[0m\u001b[0;34m.\u001b[0m\u001b[0mappend\u001b[0m\u001b[0;34m(\u001b[0m\u001b[0mresponses\u001b[0m\u001b[0;34m[\u001b[0m\u001b[0;34m\"statuses\"\u001b[0m\u001b[0;34m]\u001b[0m\u001b[0;34m[\u001b[0m\u001b[0mi\u001b[0m\u001b[0;34m]\u001b[0m\u001b[0;34m[\u001b[0m\u001b[0;34m'retweeted_status'\u001b[0m\u001b[0;34m]\u001b[0m\u001b[0;34m[\u001b[0m\u001b[0;34m'full_text'\u001b[0m\u001b[0;34m]\u001b[0m\u001b[0;34m)\u001b[0m\u001b[0;34m\u001b[0m\u001b[0;34m\u001b[0m\u001b[0m\n",
      "\u001b[0;31mKeyError\u001b[0m: 'statuses'"
     ]
    }
   ],
   "source": [
    "responses = []\n",
    "for id_ in list(data[\"id\"]):\n",
    "    r = get_replies(user, id_)\n",
    "    responses.append(r)"
   ]
  },
  {
   "cell_type": "code",
   "execution_count": null,
   "metadata": {},
   "outputs": [],
   "source": [
    "responses[0]"
   ]
  },
  {
   "cell_type": "code",
   "execution_count": 52,
   "metadata": {},
   "outputs": [
    {
     "data": {
      "text/html": [
       "<div>\n",
       "<style scoped>\n",
       "    .dataframe tbody tr th:only-of-type {\n",
       "        vertical-align: middle;\n",
       "    }\n",
       "\n",
       "    .dataframe tbody tr th {\n",
       "        vertical-align: top;\n",
       "    }\n",
       "\n",
       "    .dataframe thead th {\n",
       "        text-align: right;\n",
       "    }\n",
       "</style>\n",
       "<table border=\"1\" class=\"dataframe\">\n",
       "  <thead>\n",
       "    <tr style=\"text-align: right;\">\n",
       "      <th></th>\n",
       "      <th>id</th>\n",
       "      <th>time</th>\n",
       "      <th>tweet</th>\n",
       "      <th>retweets</th>\n",
       "      <th>followers</th>\n",
       "      <th>responses</th>\n",
       "    </tr>\n",
       "  </thead>\n",
       "  <tbody>\n",
       "    <tr>\n",
       "      <th>0</th>\n",
       "      <td>1276677933848039424</td>\n",
       "      <td>Sat Jun 27 00:45:13 +0000 2020</td>\n",
       "      <td>OMG the #MoodRingRemixes are FLAWLESS! I loved...</td>\n",
       "      <td>278</td>\n",
       "      <td>55943976</td>\n",
       "      <td>[This opening to #OIDIA is pure 🔥 @britneyspea...</td>\n",
       "    </tr>\n",
       "    <tr>\n",
       "      <th>1</th>\n",
       "      <td>1276677864717537286</td>\n",
       "      <td>Sat Jun 27 00:44:57 +0000 2020</td>\n",
       "      <td>Proud to welcome two new girls to the Britney ...</td>\n",
       "      <td>230</td>\n",
       "      <td>55943976</td>\n",
       "      <td>[This opening to #OIDIA is pure 🔥 @britneyspea...</td>\n",
       "    </tr>\n",
       "    <tr>\n",
       "      <th>2</th>\n",
       "      <td>1276677788649611264</td>\n",
       "      <td>Sat Jun 27 00:44:38 +0000 2020</td>\n",
       "      <td>She did that! @britneyspears' \"Mood Ring\" remi...</td>\n",
       "      <td>404</td>\n",
       "      <td>55943976</td>\n",
       "      <td>[This opening to #OIDIA is pure 🔥 @britneyspea...</td>\n",
       "    </tr>\n",
       "    <tr>\n",
       "      <th>3</th>\n",
       "      <td>1276677688569344000</td>\n",
       "      <td>Sat Jun 27 00:44:15 +0000 2020</td>\n",
       "      <td>What a great ending to #PrideMonth! At midnigh...</td>\n",
       "      <td>183</td>\n",
       "      <td>55943976</td>\n",
       "      <td>[This opening to #OIDIA is pure 🔥 @britneyspea...</td>\n",
       "    </tr>\n",
       "    <tr>\n",
       "      <th>4</th>\n",
       "      <td>1276604569229733888</td>\n",
       "      <td>Fri Jun 26 19:53:42 +0000 2020</td>\n",
       "      <td>Happy Pride Month ❤️💛💚💙💜 !!!!! Put on your dan...</td>\n",
       "      <td>2304</td>\n",
       "      <td>55943976</td>\n",
       "      <td>[This opening to #OIDIA is pure 🔥 @britneyspea...</td>\n",
       "    </tr>\n",
       "    <tr>\n",
       "      <th>...</th>\n",
       "      <td>...</td>\n",
       "      <td>...</td>\n",
       "      <td>...</td>\n",
       "      <td>...</td>\n",
       "      <td>...</td>\n",
       "      <td>...</td>\n",
       "    </tr>\n",
       "    <tr>\n",
       "      <th>95</th>\n",
       "      <td>1054826643808755716</td>\n",
       "      <td>Tue Oct 23 20:07:24 +0000 2018</td>\n",
       "      <td>@VegasneyBitch Thank you so much! 💕</td>\n",
       "      <td>54</td>\n",
       "      <td>55943976</td>\n",
       "      <td>[This opening to #OIDIA is pure 🔥 @britneyspea...</td>\n",
       "    </tr>\n",
       "    <tr>\n",
       "      <th>96</th>\n",
       "      <td>1054826084833869826</td>\n",
       "      <td>Tue Oct 23 20:05:11 +0000 2018</td>\n",
       "      <td>@britneys_diner Thank you! ❤️</td>\n",
       "      <td>19</td>\n",
       "      <td>55943976</td>\n",
       "      <td>[This opening to #OIDIA is pure 🔥 @britneyspea...</td>\n",
       "    </tr>\n",
       "    <tr>\n",
       "      <th>97</th>\n",
       "      <td>1054825540723589120</td>\n",
       "      <td>Tue Oct 23 20:03:01 +0000 2018</td>\n",
       "      <td>@FaelFreitas ❤️❤️</td>\n",
       "      <td>32</td>\n",
       "      <td>55943976</td>\n",
       "      <td>[This opening to #OIDIA is pure 🔥 @britneyspea...</td>\n",
       "    </tr>\n",
       "    <tr>\n",
       "      <th>98</th>\n",
       "      <td>1054824940732588033</td>\n",
       "      <td>Tue Oct 23 20:00:38 +0000 2018</td>\n",
       "      <td>@GlitterNStuds ❤️</td>\n",
       "      <td>16</td>\n",
       "      <td>55943976</td>\n",
       "      <td>[This opening to #OIDIA is pure 🔥 @britneyspea...</td>\n",
       "    </tr>\n",
       "    <tr>\n",
       "      <th>99</th>\n",
       "      <td>1054824764198543360</td>\n",
       "      <td>Tue Oct 23 19:59:56 +0000 2018</td>\n",
       "      <td>@claire_wrightxx Thank you so much!! ❤️</td>\n",
       "      <td>31</td>\n",
       "      <td>55943976</td>\n",
       "      <td>[This opening to #OIDIA is pure 🔥 @britneyspea...</td>\n",
       "    </tr>\n",
       "  </tbody>\n",
       "</table>\n",
       "<p>100 rows × 6 columns</p>\n",
       "</div>"
      ],
      "text/plain": [
       "                     id                            time  \\\n",
       "0   1276677933848039424  Sat Jun 27 00:45:13 +0000 2020   \n",
       "1   1276677864717537286  Sat Jun 27 00:44:57 +0000 2020   \n",
       "2   1276677788649611264  Sat Jun 27 00:44:38 +0000 2020   \n",
       "3   1276677688569344000  Sat Jun 27 00:44:15 +0000 2020   \n",
       "4   1276604569229733888  Fri Jun 26 19:53:42 +0000 2020   \n",
       "..                  ...                             ...   \n",
       "95  1054826643808755716  Tue Oct 23 20:07:24 +0000 2018   \n",
       "96  1054826084833869826  Tue Oct 23 20:05:11 +0000 2018   \n",
       "97  1054825540723589120  Tue Oct 23 20:03:01 +0000 2018   \n",
       "98  1054824940732588033  Tue Oct 23 20:00:38 +0000 2018   \n",
       "99  1054824764198543360  Tue Oct 23 19:59:56 +0000 2018   \n",
       "\n",
       "                                                tweet  retweets  followers  \\\n",
       "0   OMG the #MoodRingRemixes are FLAWLESS! I loved...       278   55943976   \n",
       "1   Proud to welcome two new girls to the Britney ...       230   55943976   \n",
       "2   She did that! @britneyspears' \"Mood Ring\" remi...       404   55943976   \n",
       "3   What a great ending to #PrideMonth! At midnigh...       183   55943976   \n",
       "4   Happy Pride Month ❤️💛💚💙💜 !!!!! Put on your dan...      2304   55943976   \n",
       "..                                                ...       ...        ...   \n",
       "95                @VegasneyBitch Thank you so much! 💕        54   55943976   \n",
       "96                      @britneys_diner Thank you! ❤️        19   55943976   \n",
       "97                                  @FaelFreitas ❤️❤️        32   55943976   \n",
       "98                                  @GlitterNStuds ❤️        16   55943976   \n",
       "99            @claire_wrightxx Thank you so much!! ❤️        31   55943976   \n",
       "\n",
       "                                            responses  \n",
       "0   [This opening to #OIDIA is pure 🔥 @britneyspea...  \n",
       "1   [This opening to #OIDIA is pure 🔥 @britneyspea...  \n",
       "2   [This opening to #OIDIA is pure 🔥 @britneyspea...  \n",
       "3   [This opening to #OIDIA is pure 🔥 @britneyspea...  \n",
       "4   [This opening to #OIDIA is pure 🔥 @britneyspea...  \n",
       "..                                                ...  \n",
       "95  [This opening to #OIDIA is pure 🔥 @britneyspea...  \n",
       "96  [This opening to #OIDIA is pure 🔥 @britneyspea...  \n",
       "97  [This opening to #OIDIA is pure 🔥 @britneyspea...  \n",
       "98  [This opening to #OIDIA is pure 🔥 @britneyspea...  \n",
       "99  [This opening to #OIDIA is pure 🔥 @britneyspea...  \n",
       "\n",
       "[100 rows x 6 columns]"
      ]
     },
     "execution_count": 52,
     "metadata": {},
     "output_type": "execute_result"
    }
   ],
   "source": [
    "data"
   ]
  },
  {
   "cell_type": "markdown",
   "metadata": {},
   "source": [
    "## 5. Extracting Vader Sentiment Analysis"
   ]
  },
  {
   "cell_type": "code",
   "execution_count": 53,
   "metadata": {},
   "outputs": [],
   "source": [
    "from vaderSentiment.vaderSentiment import SentimentIntensityAnalyzer\n",
    "\n",
    "def sentiment_scores(sentence): \n",
    "    sid_obj = SentimentIntensityAnalyzer()\n",
    "    sentiment_dict = sid_obj.polarity_scores(sentence)\n",
    "    return sentiment_dict['compound']\n",
    "\n",
    "def sentiment_averages_vader(lst):\n",
    "    l = []\n",
    "    for e in lst: \n",
    "        l.append(sentiment_scores(e))\n",
    "    return sum(l)/len(l)"
   ]
  },
  {
   "cell_type": "code",
   "execution_count": 76,
   "metadata": {},
   "outputs": [
    {
     "name": "stdout",
     "output_type": "stream",
     "text": [
      "0\n",
      "1\n",
      "2\n",
      "3\n",
      "4\n",
      "5\n",
      "6\n",
      "7\n",
      "8\n",
      "9\n",
      "10\n",
      "11\n",
      "12\n",
      "13\n",
      "14\n",
      "15\n",
      "16\n",
      "17\n",
      "18\n",
      "19\n",
      "20\n",
      "21\n",
      "22\n",
      "23\n",
      "24\n",
      "25\n",
      "26\n",
      "27\n",
      "28\n",
      "29\n",
      "30\n",
      "31\n",
      "32\n",
      "33\n",
      "34\n",
      "35\n",
      "36\n",
      "37\n",
      "38\n",
      "39\n",
      "40\n",
      "41\n",
      "42\n",
      "43\n",
      "44\n",
      "45\n",
      "46\n",
      "47\n",
      "48\n",
      "49\n",
      "50\n",
      "51\n",
      "52\n",
      "53\n",
      "54\n",
      "55\n",
      "56\n",
      "57\n",
      "58\n",
      "59\n",
      "60\n",
      "61\n",
      "62\n",
      "63\n",
      "64\n",
      "65\n",
      "66\n",
      "67\n",
      "68\n",
      "69\n",
      "70\n",
      "71\n",
      "72\n",
      "73\n",
      "74\n",
      "75\n",
      "76\n",
      "77\n",
      "78\n",
      "79\n",
      "80\n",
      "81\n",
      "82\n",
      "83\n",
      "84\n",
      "85\n",
      "86\n",
      "87\n",
      "88\n",
      "89\n",
      "90\n",
      "91\n",
      "92\n",
      "93\n",
      "94\n",
      "95\n",
      "96\n",
      "97\n",
      "98\n",
      "99\n"
     ]
    }
   ],
   "source": [
    "sentiments = []\n",
    "for i in range(len(data)):\n",
    "    print(i)\n",
    "    sentiments.append(sentiment_averages_vader(data[\"responses\"][i]))\n",
    "data[\"sentiments\"]=sentiments"
   ]
  },
  {
   "cell_type": "markdown",
   "metadata": {},
   "source": [
    "## Extracting Topics From Hashtags"
   ]
  },
  {
   "cell_type": "code",
   "execution_count": 77,
   "metadata": {},
   "outputs": [],
   "source": [
    "hashtags = []\n",
    "for i in range(len(user_t)):\n",
    "    h = []\n",
    "    for t in range(len(user_t[i][\"entities\"][\"hashtags\"])):\n",
    "        h.append(user_t[i][\"entities\"][\"hashtags\"][t][\"text\"])\n",
    "    hashtags.append(h)"
   ]
  },
  {
   "cell_type": "code",
   "execution_count": 78,
   "metadata": {},
   "outputs": [],
   "source": [
    "data[\"hashtags\"] = hashtags"
   ]
  },
  {
   "cell_type": "code",
   "execution_count": 79,
   "metadata": {},
   "outputs": [],
   "source": [
    "data.hashtags = data.hashtags.apply(lambda y: np.nan if len(y)==0 else y)"
   ]
  },
  {
   "cell_type": "code",
   "execution_count": 80,
   "metadata": {},
   "outputs": [
    {
     "data": {
      "text/plain": [
       "0     [MoodRingRemixes, PRIDE2020]\n",
       "1                [MoodRingRemixes]\n",
       "2                              NaN\n",
       "3           [PrideMonth, MoodRing]\n",
       "4                              NaN\n",
       "                  ...             \n",
       "95                             NaN\n",
       "96                             NaN\n",
       "97                             NaN\n",
       "98                             NaN\n",
       "99                             NaN\n",
       "Name: hashtags, Length: 100, dtype: object"
      ]
     },
     "execution_count": 80,
     "metadata": {},
     "output_type": "execute_result"
    }
   ],
   "source": [
    "data.hashtags"
   ]
  },
  {
   "cell_type": "code",
   "execution_count": 23,
   "metadata": {},
   "outputs": [],
   "source": [
    "\"\"\"from sklearn.feature_extraction.text import CountVectorizer\n",
    "import nltk\n",
    "from nltk.corpus import stopwords\"\"\""
   ]
  },
  {
   "cell_type": "code",
   "execution_count": 24,
   "metadata": {},
   "outputs": [],
   "source": [
    "\"\"\"def word_exctraction(lst):\n",
    "    count_vectorizer = CountVectorizer()\n",
    "    sparse_matrix = count_vectorizer.fit_transform(lst) \n",
    "    doc_term_matrix = sparse_matrix.todense()\n",
    "    df = pd.DataFrame(doc_term_matrix, columns=count_vectorizer.get_feature_names())\n",
    "    all_words = df.sum().sort_values(ascending=[False]).to_dict()   \n",
    "    stop_words = set(stopwords.words('english'))\n",
    "    tokens_clean = {key: value for (key, value) in all_words.items() if key not in stop_words}\n",
    "    return (tokens_clean)\"\"\""
   ]
  },
  {
   "cell_type": "code",
   "execution_count": 25,
   "metadata": {},
   "outputs": [
    {
     "name": "stdout",
     "output_type": "stream",
     "text": [
      "0\n"
     ]
    },
    {
     "ename": "KeyError",
     "evalue": "0",
     "output_type": "error",
     "traceback": [
      "\u001b[0;31m---------------------------------------------------------------------------\u001b[0m",
      "\u001b[0;31mKeyError\u001b[0m                                  Traceback (most recent call last)",
      "\u001b[0;32m/usr/local/lib/python3.7/site-packages/pandas/core/indexes/base.py\u001b[0m in \u001b[0;36mget_loc\u001b[0;34m(self, key, method, tolerance)\u001b[0m\n\u001b[1;32m   2645\u001b[0m             \u001b[0;32mtry\u001b[0m\u001b[0;34m:\u001b[0m\u001b[0;34m\u001b[0m\u001b[0;34m\u001b[0m\u001b[0m\n\u001b[0;32m-> 2646\u001b[0;31m                 \u001b[0;32mreturn\u001b[0m \u001b[0mself\u001b[0m\u001b[0;34m.\u001b[0m\u001b[0m_engine\u001b[0m\u001b[0;34m.\u001b[0m\u001b[0mget_loc\u001b[0m\u001b[0;34m(\u001b[0m\u001b[0mkey\u001b[0m\u001b[0;34m)\u001b[0m\u001b[0;34m\u001b[0m\u001b[0;34m\u001b[0m\u001b[0m\n\u001b[0m\u001b[1;32m   2647\u001b[0m             \u001b[0;32mexcept\u001b[0m \u001b[0mKeyError\u001b[0m\u001b[0;34m:\u001b[0m\u001b[0;34m\u001b[0m\u001b[0;34m\u001b[0m\u001b[0m\n",
      "\u001b[0;32mpandas/_libs/index.pyx\u001b[0m in \u001b[0;36mpandas._libs.index.IndexEngine.get_loc\u001b[0;34m()\u001b[0m\n",
      "\u001b[0;32mpandas/_libs/index.pyx\u001b[0m in \u001b[0;36mpandas._libs.index.IndexEngine.get_loc\u001b[0;34m()\u001b[0m\n",
      "\u001b[0;32mpandas/_libs/hashtable_class_helper.pxi\u001b[0m in \u001b[0;36mpandas._libs.hashtable.PyObjectHashTable.get_item\u001b[0;34m()\u001b[0m\n",
      "\u001b[0;32mpandas/_libs/hashtable_class_helper.pxi\u001b[0m in \u001b[0;36mpandas._libs.hashtable.PyObjectHashTable.get_item\u001b[0;34m()\u001b[0m\n",
      "\u001b[0;31mKeyError\u001b[0m: 0",
      "\nDuring handling of the above exception, another exception occurred:\n",
      "\u001b[0;31mKeyError\u001b[0m                                  Traceback (most recent call last)",
      "\u001b[0;32m<ipython-input-25-4688f452a0dc>\u001b[0m in \u001b[0;36m<module>\u001b[0;34m\u001b[0m\n\u001b[1;32m      2\u001b[0m \u001b[0;32mfor\u001b[0m \u001b[0mi\u001b[0m \u001b[0;32min\u001b[0m \u001b[0mrange\u001b[0m\u001b[0;34m(\u001b[0m\u001b[0mlen\u001b[0m\u001b[0;34m(\u001b[0m\u001b[0mdata\u001b[0m\u001b[0;34m)\u001b[0m\u001b[0;34m)\u001b[0m\u001b[0;34m:\u001b[0m\u001b[0;34m\u001b[0m\u001b[0;34m\u001b[0m\u001b[0m\n\u001b[1;32m      3\u001b[0m     \u001b[0mprint\u001b[0m\u001b[0;34m(\u001b[0m\u001b[0mi\u001b[0m\u001b[0;34m)\u001b[0m\u001b[0;34m\u001b[0m\u001b[0;34m\u001b[0m\u001b[0m\n\u001b[0;32m----> 4\u001b[0;31m     \u001b[0mtopics\u001b[0m\u001b[0;34m.\u001b[0m\u001b[0mappend\u001b[0m\u001b[0;34m(\u001b[0m\u001b[0mword_exctraction\u001b[0m\u001b[0;34m(\u001b[0m\u001b[0mdata\u001b[0m\u001b[0;34m[\u001b[0m\u001b[0mi\u001b[0m\u001b[0;34m]\u001b[0m\u001b[0;34m[\u001b[0m\u001b[0;34m\"tweet\"\u001b[0m\u001b[0;34m]\u001b[0m\u001b[0;34m)\u001b[0m\u001b[0;34m)\u001b[0m\u001b[0;34m\u001b[0m\u001b[0;34m\u001b[0m\u001b[0m\n\u001b[0m",
      "\u001b[0;32m/usr/local/lib/python3.7/site-packages/pandas/core/frame.py\u001b[0m in \u001b[0;36m__getitem__\u001b[0;34m(self, key)\u001b[0m\n\u001b[1;32m   2798\u001b[0m             \u001b[0;32mif\u001b[0m \u001b[0mself\u001b[0m\u001b[0;34m.\u001b[0m\u001b[0mcolumns\u001b[0m\u001b[0;34m.\u001b[0m\u001b[0mnlevels\u001b[0m \u001b[0;34m>\u001b[0m \u001b[0;36m1\u001b[0m\u001b[0;34m:\u001b[0m\u001b[0;34m\u001b[0m\u001b[0;34m\u001b[0m\u001b[0m\n\u001b[1;32m   2799\u001b[0m                 \u001b[0;32mreturn\u001b[0m \u001b[0mself\u001b[0m\u001b[0;34m.\u001b[0m\u001b[0m_getitem_multilevel\u001b[0m\u001b[0;34m(\u001b[0m\u001b[0mkey\u001b[0m\u001b[0;34m)\u001b[0m\u001b[0;34m\u001b[0m\u001b[0;34m\u001b[0m\u001b[0m\n\u001b[0;32m-> 2800\u001b[0;31m             \u001b[0mindexer\u001b[0m \u001b[0;34m=\u001b[0m \u001b[0mself\u001b[0m\u001b[0;34m.\u001b[0m\u001b[0mcolumns\u001b[0m\u001b[0;34m.\u001b[0m\u001b[0mget_loc\u001b[0m\u001b[0;34m(\u001b[0m\u001b[0mkey\u001b[0m\u001b[0;34m)\u001b[0m\u001b[0;34m\u001b[0m\u001b[0;34m\u001b[0m\u001b[0m\n\u001b[0m\u001b[1;32m   2801\u001b[0m             \u001b[0;32mif\u001b[0m \u001b[0mis_integer\u001b[0m\u001b[0;34m(\u001b[0m\u001b[0mindexer\u001b[0m\u001b[0;34m)\u001b[0m\u001b[0;34m:\u001b[0m\u001b[0;34m\u001b[0m\u001b[0;34m\u001b[0m\u001b[0m\n\u001b[1;32m   2802\u001b[0m                 \u001b[0mindexer\u001b[0m \u001b[0;34m=\u001b[0m \u001b[0;34m[\u001b[0m\u001b[0mindexer\u001b[0m\u001b[0;34m]\u001b[0m\u001b[0;34m\u001b[0m\u001b[0;34m\u001b[0m\u001b[0m\n",
      "\u001b[0;32m/usr/local/lib/python3.7/site-packages/pandas/core/indexes/base.py\u001b[0m in \u001b[0;36mget_loc\u001b[0;34m(self, key, method, tolerance)\u001b[0m\n\u001b[1;32m   2646\u001b[0m                 \u001b[0;32mreturn\u001b[0m \u001b[0mself\u001b[0m\u001b[0;34m.\u001b[0m\u001b[0m_engine\u001b[0m\u001b[0;34m.\u001b[0m\u001b[0mget_loc\u001b[0m\u001b[0;34m(\u001b[0m\u001b[0mkey\u001b[0m\u001b[0;34m)\u001b[0m\u001b[0;34m\u001b[0m\u001b[0;34m\u001b[0m\u001b[0m\n\u001b[1;32m   2647\u001b[0m             \u001b[0;32mexcept\u001b[0m \u001b[0mKeyError\u001b[0m\u001b[0;34m:\u001b[0m\u001b[0;34m\u001b[0m\u001b[0;34m\u001b[0m\u001b[0m\n\u001b[0;32m-> 2648\u001b[0;31m                 \u001b[0;32mreturn\u001b[0m \u001b[0mself\u001b[0m\u001b[0;34m.\u001b[0m\u001b[0m_engine\u001b[0m\u001b[0;34m.\u001b[0m\u001b[0mget_loc\u001b[0m\u001b[0;34m(\u001b[0m\u001b[0mself\u001b[0m\u001b[0;34m.\u001b[0m\u001b[0m_maybe_cast_indexer\u001b[0m\u001b[0;34m(\u001b[0m\u001b[0mkey\u001b[0m\u001b[0;34m)\u001b[0m\u001b[0;34m)\u001b[0m\u001b[0;34m\u001b[0m\u001b[0;34m\u001b[0m\u001b[0m\n\u001b[0m\u001b[1;32m   2649\u001b[0m         \u001b[0mindexer\u001b[0m \u001b[0;34m=\u001b[0m \u001b[0mself\u001b[0m\u001b[0;34m.\u001b[0m\u001b[0mget_indexer\u001b[0m\u001b[0;34m(\u001b[0m\u001b[0;34m[\u001b[0m\u001b[0mkey\u001b[0m\u001b[0;34m]\u001b[0m\u001b[0;34m,\u001b[0m \u001b[0mmethod\u001b[0m\u001b[0;34m=\u001b[0m\u001b[0mmethod\u001b[0m\u001b[0;34m,\u001b[0m \u001b[0mtolerance\u001b[0m\u001b[0;34m=\u001b[0m\u001b[0mtolerance\u001b[0m\u001b[0;34m)\u001b[0m\u001b[0;34m\u001b[0m\u001b[0;34m\u001b[0m\u001b[0m\n\u001b[1;32m   2650\u001b[0m         \u001b[0;32mif\u001b[0m \u001b[0mindexer\u001b[0m\u001b[0;34m.\u001b[0m\u001b[0mndim\u001b[0m \u001b[0;34m>\u001b[0m \u001b[0;36m1\u001b[0m \u001b[0;32mor\u001b[0m \u001b[0mindexer\u001b[0m\u001b[0;34m.\u001b[0m\u001b[0msize\u001b[0m \u001b[0;34m>\u001b[0m \u001b[0;36m1\u001b[0m\u001b[0;34m:\u001b[0m\u001b[0;34m\u001b[0m\u001b[0;34m\u001b[0m\u001b[0m\n",
      "\u001b[0;32mpandas/_libs/index.pyx\u001b[0m in \u001b[0;36mpandas._libs.index.IndexEngine.get_loc\u001b[0;34m()\u001b[0m\n",
      "\u001b[0;32mpandas/_libs/index.pyx\u001b[0m in \u001b[0;36mpandas._libs.index.IndexEngine.get_loc\u001b[0;34m()\u001b[0m\n",
      "\u001b[0;32mpandas/_libs/hashtable_class_helper.pxi\u001b[0m in \u001b[0;36mpandas._libs.hashtable.PyObjectHashTable.get_item\u001b[0;34m()\u001b[0m\n",
      "\u001b[0;32mpandas/_libs/hashtable_class_helper.pxi\u001b[0m in \u001b[0;36mpandas._libs.hashtable.PyObjectHashTable.get_item\u001b[0;34m()\u001b[0m\n",
      "\u001b[0;31mKeyError\u001b[0m: 0"
     ]
    }
   ],
   "source": [
    "\"\"\"topics = []\n",
    "for i in range(len(data)):\n",
    "    print(i)\n",
    "    topics.append(word_exctraction(data[i][\"tweet\"]))\"\"\""
   ]
  },
  {
   "cell_type": "code",
   "execution_count": null,
   "metadata": {},
   "outputs": [],
   "source": [
    "# Creating dict with sentiments and time\n",
    "\"\"\"times = []\n",
    "for i in range(len(data)): \n",
    "    times.append(data[i][\"time\"])\n",
    "zip_iterator = zip(sentiments, times)\n",
    "sentiment_changes = dict(zip_iterator)\"\"\""
   ]
  },
  {
   "cell_type": "markdown",
   "metadata": {},
   "source": [
    "## Graphs"
   ]
  },
  {
   "cell_type": "code",
   "execution_count": 81,
   "metadata": {},
   "outputs": [
    {
     "data": {
      "text/plain": [
       "[<matplotlib.lines.Line2D at 0x12eddcdd0>]"
      ]
     },
     "execution_count": 81,
     "metadata": {},
     "output_type": "execute_result"
    },
    {
     "data": {
      "image/png": "[encoded data removed]",
      "text/plain": [
       "<Figure size 432x288 with 1 Axes>"
      ]
     },
     "metadata": {
      "needs_background": "light"
     },
     "output_type": "display_data"
    }
   ],
   "source": [
    "import matplotlib.pyplot as plt\n",
    "plt.plot(data[\"sentiments\"])"
   ]
  },
  {
   "cell_type": "code",
   "execution_count": 27,
   "metadata": {},
   "outputs": [],
   "source": [
    "def clean_time(time):\n",
    "    t = time.replace(\"+0000 \",\"\")\n",
    "    return t\n",
    "data['time'] = data['time'].apply(clean_time)"
   ]
  },
  {
   "cell_type": "code",
   "execution_count": 28,
   "metadata": {},
   "outputs": [
    {
     "data": {
      "text/plain": [
       "'import plotly.express as px\\nfig = px.line(df, y=\"sentiment\", labels={\\'x\\':\\'sentiment\\', \\'y\\':\\'time\\'}, text=df[\\'time\\'])\\n# add hover_name=\"topic\"\\n\\n\\nfig.show()'"
      ]
     },
     "execution_count": 28,
     "metadata": {},
     "output_type": "execute_result"
    }
   ],
   "source": [
    "\"\"\"import plotly.express as px\n",
    "fig = px.line(df, y=\"sentiment\", labels={'x':'sentiment', 'y':'time'}, text=df['time'])\n",
    "# add hover_name=\"topic\"\n",
    "\n",
    "\n",
    "fig.show()\"\"\""
   ]
  },
  {
   "cell_type": "code",
   "execution_count": 73,
   "metadata": {},
   "outputs": [
    {
     "data": {
      "application/vnd.plotly.v1+json": {
       "config": {
        "plotlyServerURL": "https://plot.ly"
       },
       "data": [
        {
         "mode": "lines+markers",
         "text": [
          "0     Sat Jun 27 00:45:13 +0000 2020\n1     Sat Jun 27 00:44:57 +0000 2020\n2     Sat Jun 27 00:44:38 +0000 2020\n3     Sat Jun 27 00:44:15 +0000 2020\n4     Fri Jun 26 19:53:42 +0000 2020\n                   ...              \n95    Tue Oct 23 20:07:24 +0000 2018\n96    Tue Oct 23 20:05:11 +0000 2018\n97    Tue Oct 23 20:03:01 +0000 2018\n98    Tue Oct 23 20:00:38 +0000 2018\n99    Tue Oct 23 19:59:56 +0000 2018\nName: time, Length: 100, dtype: object",
          "0     [MoodRingRemixes, PRIDE2020]\n1                [MoodRingRemixes]\n2                              NaN\n3           [PrideMonth, MoodRing]\n4                              NaN\n                  ...             \n95                             NaN\n96                             NaN\n97                             NaN\n98                             NaN\n99                             NaN\nName: hashtags, Length: 100, dtype: object"
         ],
         "type": "scatter",
         "y": [
          0.09614600000000002,
          0.09614600000000002,
          0.09614600000000002,
          0.09614600000000002,
          0.09614600000000002,
          0.09614600000000002,
          0.09614600000000002,
          0.09614600000000002,
          0.09614600000000002,
          0.09614600000000002,
          0.09614600000000002,
          0.09614600000000002,
          0.09614600000000002,
          0.09614600000000002,
          0.09614600000000002,
          0.09614600000000002,
          0.09614600000000002,
          0.09614600000000002,
          0.09614600000000002,
          0.09614600000000002,
          0.09614600000000002,
          0.09614600000000002,
          0.09614600000000002,
          0.09614600000000002,
          0.09614600000000002,
          0.09614600000000002,
          0.09614600000000002,
          0.09614600000000002,
          0.09614600000000002,
          0.09614600000000002,
          0.09614600000000002,
          0.09614600000000002,
          0.09614600000000002,
          0.09614600000000002,
          0.09614600000000002,
          0.09614600000000002,
          0.09614600000000002,
          0.09614600000000002,
          0.09614600000000002,
          0.09614600000000002,
          0.09614600000000002,
          0.09614600000000002,
          0.09614600000000002,
          0.09614600000000002,
          0.09614600000000002,
          0.09614600000000002,
          0.09614600000000002,
          0.09614600000000002,
          0.09614600000000002,
          0.09614600000000002,
          0.09614600000000002,
          0.09614600000000002,
          0.09614600000000002,
          0.09614600000000002,
          0.09614600000000002,
          0.09614600000000002,
          0.09614600000000002,
          0.09614600000000002,
          0.09614600000000002,
          0.09614600000000002,
          0.09614600000000002,
          0.09614600000000002,
          0.09614600000000002,
          0.09614600000000002,
          0.09614600000000002,
          0.09614600000000002,
          0.09614600000000002,
          0.09614600000000002,
          0.09614600000000002,
          0.09614600000000002,
          0.09614600000000002,
          0.09614600000000002,
          0.09614600000000002,
          0.09614600000000002,
          0.09614600000000002,
          0.09614600000000002,
          0.09614600000000002,
          0.09614600000000002,
          0.09614600000000002,
          0.09614600000000002,
          0.09614600000000002,
          0.09614600000000002,
          0.09614600000000002,
          0.09614600000000002,
          0.09614600000000002,
          0.09614600000000002,
          0.09614600000000002,
          0.09614600000000002,
          0.09614600000000002,
          0.09614600000000002,
          0.09614600000000002,
          0.09614600000000002,
          0.09614600000000002,
          0.09614600000000002,
          0.09614600000000002,
          0.09614600000000002,
          0.09614600000000002,
          0.09614600000000002,
          0.09614600000000002,
          0.09614600000000002
         ]
        }
       ],
       "layout": {
        "template": {
         "data": {
          "bar": [
           {
            "error_x": {
             "color": "#2a3f5f"
            },
            "error_y": {
             "color": "#2a3f5f"
            },
            "marker": {
             "line": {
              "color": "#E5ECF6",
              "width": 0.5
             }
            },
            "type": "bar"
           }
          ],
          "barpolar": [
           {
            "marker": {
             "line": {
              "color": "#E5ECF6",
              "width": 0.5
             }
            },
            "type": "barpolar"
           }
          ],
          "carpet": [
           {
            "aaxis": {
             "endlinecolor": "#2a3f5f",
             "gridcolor": "white",
             "linecolor": "white",
             "minorgridcolor": "white",
             "startlinecolor": "#2a3f5f"
            },
            "baxis": {
             "endlinecolor": "#2a3f5f",
             "gridcolor": "white",
             "linecolor": "white",
             "minorgridcolor": "white",
             "startlinecolor": "#2a3f5f"
            },
            "type": "carpet"
           }
          ],
          "choropleth": [
           {
            "colorbar": {
             "outlinewidth": 0,
             "ticks": ""
            },
            "type": "choropleth"
           }
          ],
          "contour": [
           {
            "colorbar": {
             "outlinewidth": 0,
             "ticks": ""
            },
            "colorscale": [
             [
              0,
              "#0d0887"
             ],
             [
              0.1111111111111111,
              "#46039f"
             ],
             [
              0.2222222222222222,
              "#7201a8"
             ],
             [
              0.3333333333333333,
              "#9c179e"
             ],
             [
              0.4444444444444444,
              "#bd3786"
             ],
             [
              0.5555555555555556,
              "#d8576b"
             ],
             [
              0.6666666666666666,
              "#ed7953"
             ],
             [
              0.7777777777777778,
              "#fb9f3a"
             ],
             [
              0.8888888888888888,
              "#fdca26"
             ],
             [
              1,
              "#f0f921"
             ]
            ],
            "type": "contour"
           }
          ],
          "contourcarpet": [
           {
            "colorbar": {
             "outlinewidth": 0,
             "ticks": ""
            },
            "type": "contourcarpet"
           }
          ],
          "heatmap": [
           {
            "colorbar": {
             "outlinewidth": 0,
             "ticks": ""
            },
            "colorscale": [
             [
              0,
              "#0d0887"
             ],
             [
              0.1111111111111111,
              "#46039f"
             ],
             [
              0.2222222222222222,
              "#7201a8"
             ],
             [
              0.3333333333333333,
              "#9c179e"
             ],
             [
              0.4444444444444444,
              "#bd3786"
             ],
             [
              0.5555555555555556,
              "#d8576b"
             ],
             [
              0.6666666666666666,
              "#ed7953"
             ],
             [
              0.7777777777777778,
              "#fb9f3a"
             ],
             [
              0.8888888888888888,
              "#fdca26"
             ],
             [
              1,
              "#f0f921"
             ]
            ],
            "type": "heatmap"
           }
          ],
          "heatmapgl": [
           {
            "colorbar": {
             "outlinewidth": 0,
             "ticks": ""
            },
            "colorscale": [
             [
              0,
              "#0d0887"
             ],
             [
              0.1111111111111111,
              "#46039f"
             ],
             [
              0.2222222222222222,
              "#7201a8"
             ],
             [
              0.3333333333333333,
              "#9c179e"
             ],
             [
              0.4444444444444444,
              "#bd3786"
             ],
             [
              0.5555555555555556,
              "#d8576b"
             ],
             [
              0.6666666666666666,
              "#ed7953"
             ],
             [
              0.7777777777777778,
              "#fb9f3a"
             ],
             [
              0.8888888888888888,
              "#fdca26"
             ],
             [
              1,
              "#f0f921"
             ]
            ],
            "type": "heatmapgl"
           }
          ],
          "histogram": [
           {
            "marker": {
             "colorbar": {
              "outlinewidth": 0,
              "ticks": ""
             }
            },
            "type": "histogram"
           }
          ],
          "histogram2d": [
           {
            "colorbar": {
             "outlinewidth": 0,
             "ticks": ""
            },
            "colorscale": [
             [
              0,
              "#0d0887"
             ],
             [
              0.1111111111111111,
              "#46039f"
             ],
             [
              0.2222222222222222,
              "#7201a8"
             ],
             [
              0.3333333333333333,
              "#9c179e"
             ],
             [
              0.4444444444444444,
              "#bd3786"
             ],
             [
              0.5555555555555556,
              "#d8576b"
             ],
             [
              0.6666666666666666,
              "#ed7953"
             ],
             [
              0.7777777777777778,
              "#fb9f3a"
             ],
             [
              0.8888888888888888,
              "#fdca26"
             ],
             [
              1,
              "#f0f921"
             ]
            ],
            "type": "histogram2d"
           }
          ],
          "histogram2dcontour": [
           {
            "colorbar": {
             "outlinewidth": 0,
             "ticks": ""
            },
            "colorscale": [
             [
              0,
              "#0d0887"
             ],
             [
              0.1111111111111111,
              "#46039f"
             ],
             [
              0.2222222222222222,
              "#7201a8"
             ],
             [
              0.3333333333333333,
              "#9c179e"
             ],
             [
              0.4444444444444444,
              "#bd3786"
             ],
             [
              0.5555555555555556,
              "#d8576b"
             ],
             [
              0.6666666666666666,
              "#ed7953"
             ],
             [
              0.7777777777777778,
              "#fb9f3a"
             ],
             [
              0.8888888888888888,
              "#fdca26"
             ],
             [
              1,
              "#f0f921"
             ]
            ],
            "type": "histogram2dcontour"
           }
          ],
          "mesh3d": [
           {
            "colorbar": {
             "outlinewidth": 0,
             "ticks": ""
            },
            "type": "mesh3d"
           }
          ],
          "parcoords": [
           {
            "line": {
             "colorbar": {
              "outlinewidth": 0,
              "ticks": ""
             }
            },
            "type": "parcoords"
           }
          ],
          "pie": [
           {
            "automargin": true,
            "type": "pie"
           }
          ],
          "scatter": [
           {
            "marker": {
             "colorbar": {
              "outlinewidth": 0,
              "ticks": ""
             }
            },
            "type": "scatter"
           }
          ],
          "scatter3d": [
           {
            "line": {
             "colorbar": {
              "outlinewidth": 0,
              "ticks": ""
             }
            },
            "marker": {
             "colorbar": {
              "outlinewidth": 0,
              "ticks": ""
             }
            },
            "type": "scatter3d"
           }
          ],
          "scattercarpet": [
           {
            "marker": {
             "colorbar": {
              "outlinewidth": 0,
              "ticks": ""
             }
            },
            "type": "scattercarpet"
           }
          ],
          "scattergeo": [
           {
            "marker": {
             "colorbar": {
              "outlinewidth": 0,
              "ticks": ""
             }
            },
            "type": "scattergeo"
           }
          ],
          "scattergl": [
           {
            "marker": {
             "colorbar": {
              "outlinewidth": 0,
              "ticks": ""
             }
            },
            "type": "scattergl"
           }
          ],
          "scattermapbox": [
           {
            "marker": {
             "colorbar": {
              "outlinewidth": 0,
              "ticks": ""
             }
            },
            "type": "scattermapbox"
           }
          ],
          "scatterpolar": [
           {
            "marker": {
             "colorbar": {
              "outlinewidth": 0,
              "ticks": ""
             }
            },
            "type": "scatterpolar"
           }
          ],
          "scatterpolargl": [
           {
            "marker": {
             "colorbar": {
              "outlinewidth": 0,
              "ticks": ""
             }
            },
            "type": "scatterpolargl"
           }
          ],
          "scatterternary": [
           {
            "marker": {
             "colorbar": {
              "outlinewidth": 0,
              "ticks": ""
             }
            },
            "type": "scatterternary"
           }
          ],
          "surface": [
           {
            "colorbar": {
             "outlinewidth": 0,
             "ticks": ""
            },
            "colorscale": [
             [
              0,
              "#0d0887"
             ],
             [
              0.1111111111111111,
              "#46039f"
             ],
             [
              0.2222222222222222,
              "#7201a8"
             ],
             [
              0.3333333333333333,
              "#9c179e"
             ],
             [
              0.4444444444444444,
              "#bd3786"
             ],
             [
              0.5555555555555556,
              "#d8576b"
             ],
             [
              0.6666666666666666,
              "#ed7953"
             ],
             [
              0.7777777777777778,
              "#fb9f3a"
             ],
             [
              0.8888888888888888,
              "#fdca26"
             ],
             [
              1,
              "#f0f921"
             ]
            ],
            "type": "surface"
           }
          ],
          "table": [
           {
            "cells": {
             "fill": {
              "color": "#EBF0F8"
             },
             "line": {
              "color": "white"
             }
            },
            "header": {
             "fill": {
              "color": "#C8D4E3"
             },
             "line": {
              "color": "white"
             }
            },
            "type": "table"
           }
          ]
         },
         "layout": {
          "annotationdefaults": {
           "arrowcolor": "#2a3f5f",
           "arrowhead": 0,
           "arrowwidth": 1
          },
          "coloraxis": {
           "colorbar": {
            "outlinewidth": 0,
            "ticks": ""
           }
          },
          "colorscale": {
           "diverging": [
            [
             0,
             "#8e0152"
            ],
            [
             0.1,
             "#c51b7d"
            ],
            [
             0.2,
             "#de77ae"
            ],
            [
             0.3,
             "#f1b6da"
            ],
            [
             0.4,
             "#fde0ef"
            ],
            [
             0.5,
             "#f7f7f7"
            ],
            [
             0.6,
             "#e6f5d0"
            ],
            [
             0.7,
             "#b8e186"
            ],
            [
             0.8,
             "#7fbc41"
            ],
            [
             0.9,
             "#4d9221"
            ],
            [
             1,
             "#276419"
            ]
           ],
           "sequential": [
            [
             0,
             "#0d0887"
            ],
            [
             0.1111111111111111,
             "#46039f"
            ],
            [
             0.2222222222222222,
             "#7201a8"
            ],
            [
             0.3333333333333333,
             "#9c179e"
            ],
            [
             0.4444444444444444,
             "#bd3786"
            ],
            [
             0.5555555555555556,
             "#d8576b"
            ],
            [
             0.6666666666666666,
             "#ed7953"
            ],
            [
             0.7777777777777778,
             "#fb9f3a"
            ],
            [
             0.8888888888888888,
             "#fdca26"
            ],
            [
             1,
             "#f0f921"
            ]
           ],
           "sequentialminus": [
            [
             0,
             "#0d0887"
            ],
            [
             0.1111111111111111,
             "#46039f"
            ],
            [
             0.2222222222222222,
             "#7201a8"
            ],
            [
             0.3333333333333333,
             "#9c179e"
            ],
            [
             0.4444444444444444,
             "#bd3786"
            ],
            [
             0.5555555555555556,
             "#d8576b"
            ],
            [
             0.6666666666666666,
             "#ed7953"
            ],
            [
             0.7777777777777778,
             "#fb9f3a"
            ],
            [
             0.8888888888888888,
             "#fdca26"
            ],
            [
             1,
             "#f0f921"
            ]
           ]
          },
          "colorway": [
           "#636efa",
           "#EF553B",
           "#00cc96",
           "#ab63fa",
           "#FFA15A",
           "#19d3f3",
           "#FF6692",
           "#B6E880",
           "#FF97FF",
           "#FECB52"
          ],
          "font": {
           "color": "#2a3f5f"
          },
          "geo": {
           "bgcolor": "white",
           "lakecolor": "white",
           "landcolor": "#E5ECF6",
           "showlakes": true,
           "showland": true,
           "subunitcolor": "white"
          },
          "hoverlabel": {
           "align": "left"
          },
          "hovermode": "closest",
          "mapbox": {
           "style": "light"
          },
          "paper_bgcolor": "white",
          "plot_bgcolor": "#E5ECF6",
          "polar": {
           "angularaxis": {
            "gridcolor": "white",
            "linecolor": "white",
            "ticks": ""
           },
           "bgcolor": "#E5ECF6",
           "radialaxis": {
            "gridcolor": "white",
            "linecolor": "white",
            "ticks": ""
           }
          },
          "scene": {
           "xaxis": {
            "backgroundcolor": "#E5ECF6",
            "gridcolor": "white",
            "gridwidth": 2,
            "linecolor": "white",
            "showbackground": true,
            "ticks": "",
            "zerolinecolor": "white"
           },
           "yaxis": {
            "backgroundcolor": "#E5ECF6",
            "gridcolor": "white",
            "gridwidth": 2,
            "linecolor": "white",
            "showbackground": true,
            "ticks": "",
            "zerolinecolor": "white"
           },
           "zaxis": {
            "backgroundcolor": "#E5ECF6",
            "gridcolor": "white",
            "gridwidth": 2,
            "linecolor": "white",
            "showbackground": true,
            "ticks": "",
            "zerolinecolor": "white"
           }
          },
          "shapedefaults": {
           "line": {
            "color": "#2a3f5f"
           }
          },
          "ternary": {
           "aaxis": {
            "gridcolor": "white",
            "linecolor": "white",
            "ticks": ""
           },
           "baxis": {
            "gridcolor": "white",
            "linecolor": "white",
            "ticks": ""
           },
           "bgcolor": "#E5ECF6",
           "caxis": {
            "gridcolor": "white",
            "linecolor": "white",
            "ticks": ""
           }
          },
          "title": {
           "x": 0.05
          },
          "xaxis": {
           "automargin": true,
           "gridcolor": "white",
           "linecolor": "white",
           "ticks": "",
           "title": {
            "standoff": 15
           },
           "zerolinecolor": "white",
           "zerolinewidth": 2
          },
          "yaxis": {
           "automargin": true,
           "gridcolor": "white",
           "linecolor": "white",
           "ticks": "",
           "title": {
            "standoff": 15
           },
           "zerolinecolor": "white",
           "zerolinewidth": 2
          }
         }
        },
        "title": {
         "text": "Sentiment Analysis of britneyspears's twitter interactions"
        }
       }
      },
      "text/html": [
       "<div>\n",
       "        \n",
       "        \n",
       "            <div id=\"14a7cedc-059c-4aa0-96a4-a297e99271ae\" class=\"plotly-graph-div\" style=\"height:525px; width:100%;\"></div>\n",
       "            <script type=\"text/javascript\">\n",
       "                require([\"plotly\"], function(Plotly) {\n",
       "                    window.PLOTLYENV=window.PLOTLYENV || {};\n",
       "                    \n",
       "                if (document.getElementById(\"14a7cedc-059c-4aa0-96a4-a297e99271ae\")) {\n",
       "                    Plotly.newPlot(\n",
       "                        '14a7cedc-059c-4aa0-96a4-a297e99271ae',\n",
       "                        [{\"mode\": \"lines+markers\", \"text\": [\"0     Sat Jun 27 00:45:13 +0000 2020\\n1     Sat Jun 27 00:44:57 +0000 2020\\n2     Sat Jun 27 00:44:38 +0000 2020\\n3     Sat Jun 27 00:44:15 +0000 2020\\n4     Fri Jun 26 19:53:42 +0000 2020\\n                   ...              \\n95    Tue Oct 23 20:07:24 +0000 2018\\n96    Tue Oct 23 20:05:11 +0000 2018\\n97    Tue Oct 23 20:03:01 +0000 2018\\n98    Tue Oct 23 20:00:38 +0000 2018\\n99    Tue Oct 23 19:59:56 +0000 2018\\nName: time, Length: 100, dtype: object\", \"0     [MoodRingRemixes, PRIDE2020]\\n1                [MoodRingRemixes]\\n2                              NaN\\n3           [PrideMonth, MoodRing]\\n4                              NaN\\n                  ...             \\n95                             NaN\\n96                             NaN\\n97                             NaN\\n98                             NaN\\n99                             NaN\\nName: hashtags, Length: 100, dtype: object\"], \"type\": \"scatter\", \"y\": [0.09614600000000002, 0.09614600000000002, 0.09614600000000002, 0.09614600000000002, 0.09614600000000002, 0.09614600000000002, 0.09614600000000002, 0.09614600000000002, 0.09614600000000002, 0.09614600000000002, 0.09614600000000002, 0.09614600000000002, 0.09614600000000002, 0.09614600000000002, 0.09614600000000002, 0.09614600000000002, 0.09614600000000002, 0.09614600000000002, 0.09614600000000002, 0.09614600000000002, 0.09614600000000002, 0.09614600000000002, 0.09614600000000002, 0.09614600000000002, 0.09614600000000002, 0.09614600000000002, 0.09614600000000002, 0.09614600000000002, 0.09614600000000002, 0.09614600000000002, 0.09614600000000002, 0.09614600000000002, 0.09614600000000002, 0.09614600000000002, 0.09614600000000002, 0.09614600000000002, 0.09614600000000002, 0.09614600000000002, 0.09614600000000002, 0.09614600000000002, 0.09614600000000002, 0.09614600000000002, 0.09614600000000002, 0.09614600000000002, 0.09614600000000002, 0.09614600000000002, 0.09614600000000002, 0.09614600000000002, 0.09614600000000002, 0.09614600000000002, 0.09614600000000002, 0.09614600000000002, 0.09614600000000002, 0.09614600000000002, 0.09614600000000002, 0.09614600000000002, 0.09614600000000002, 0.09614600000000002, 0.09614600000000002, 0.09614600000000002, 0.09614600000000002, 0.09614600000000002, 0.09614600000000002, 0.09614600000000002, 0.09614600000000002, 0.09614600000000002, 0.09614600000000002, 0.09614600000000002, 0.09614600000000002, 0.09614600000000002, 0.09614600000000002, 0.09614600000000002, 0.09614600000000002, 0.09614600000000002, 0.09614600000000002, 0.09614600000000002, 0.09614600000000002, 0.09614600000000002, 0.09614600000000002, 0.09614600000000002, 0.09614600000000002, 0.09614600000000002, 0.09614600000000002, 0.09614600000000002, 0.09614600000000002, 0.09614600000000002, 0.09614600000000002, 0.09614600000000002, 0.09614600000000002, 0.09614600000000002, 0.09614600000000002, 0.09614600000000002, 0.09614600000000002, 0.09614600000000002, 0.09614600000000002, 0.09614600000000002, 0.09614600000000002, 0.09614600000000002, 0.09614600000000002, 0.09614600000000002]}],\n",
       "                        {\"template\": {\"data\": {\"bar\": [{\"error_x\": {\"color\": \"#2a3f5f\"}, \"error_y\": {\"color\": \"#2a3f5f\"}, \"marker\": {\"line\": {\"color\": \"#E5ECF6\", \"width\": 0.5}}, \"type\": \"bar\"}], \"barpolar\": [{\"marker\": {\"line\": {\"color\": \"#E5ECF6\", \"width\": 0.5}}, \"type\": \"barpolar\"}], \"carpet\": [{\"aaxis\": {\"endlinecolor\": \"#2a3f5f\", \"gridcolor\": \"white\", \"linecolor\": \"white\", \"minorgridcolor\": \"white\", \"startlinecolor\": \"#2a3f5f\"}, \"baxis\": {\"endlinecolor\": \"#2a3f5f\", \"gridcolor\": \"white\", \"linecolor\": \"white\", \"minorgridcolor\": \"white\", \"startlinecolor\": \"#2a3f5f\"}, \"type\": \"carpet\"}], \"choropleth\": [{\"colorbar\": {\"outlinewidth\": 0, \"ticks\": \"\"}, \"type\": \"choropleth\"}], \"contour\": [{\"colorbar\": {\"outlinewidth\": 0, \"ticks\": \"\"}, \"colorscale\": [[0.0, \"#0d0887\"], [0.1111111111111111, \"#46039f\"], [0.2222222222222222, \"#7201a8\"], [0.3333333333333333, \"#9c179e\"], [0.4444444444444444, \"#bd3786\"], [0.5555555555555556, \"#d8576b\"], [0.6666666666666666, \"#ed7953\"], [0.7777777777777778, \"#fb9f3a\"], [0.8888888888888888, \"#fdca26\"], [1.0, \"#f0f921\"]], \"type\": \"contour\"}], \"contourcarpet\": [{\"colorbar\": {\"outlinewidth\": 0, \"ticks\": \"\"}, \"type\": \"contourcarpet\"}], \"heatmap\": [{\"colorbar\": {\"outlinewidth\": 0, \"ticks\": \"\"}, \"colorscale\": [[0.0, \"#0d0887\"], [0.1111111111111111, \"#46039f\"], [0.2222222222222222, \"#7201a8\"], [0.3333333333333333, \"#9c179e\"], [0.4444444444444444, \"#bd3786\"], [0.5555555555555556, \"#d8576b\"], [0.6666666666666666, \"#ed7953\"], [0.7777777777777778, \"#fb9f3a\"], [0.8888888888888888, \"#fdca26\"], [1.0, \"#f0f921\"]], \"type\": \"heatmap\"}], \"heatmapgl\": [{\"colorbar\": {\"outlinewidth\": 0, \"ticks\": \"\"}, \"colorscale\": [[0.0, \"#0d0887\"], [0.1111111111111111, \"#46039f\"], [0.2222222222222222, \"#7201a8\"], [0.3333333333333333, \"#9c179e\"], [0.4444444444444444, \"#bd3786\"], [0.5555555555555556, \"#d8576b\"], [0.6666666666666666, \"#ed7953\"], [0.7777777777777778, \"#fb9f3a\"], [0.8888888888888888, \"#fdca26\"], [1.0, \"#f0f921\"]], \"type\": \"heatmapgl\"}], \"histogram\": [{\"marker\": {\"colorbar\": {\"outlinewidth\": 0, \"ticks\": \"\"}}, \"type\": \"histogram\"}], \"histogram2d\": [{\"colorbar\": {\"outlinewidth\": 0, \"ticks\": \"\"}, \"colorscale\": [[0.0, \"#0d0887\"], [0.1111111111111111, \"#46039f\"], [0.2222222222222222, \"#7201a8\"], [0.3333333333333333, \"#9c179e\"], [0.4444444444444444, \"#bd3786\"], [0.5555555555555556, \"#d8576b\"], [0.6666666666666666, \"#ed7953\"], [0.7777777777777778, \"#fb9f3a\"], [0.8888888888888888, \"#fdca26\"], [1.0, \"#f0f921\"]], \"type\": \"histogram2d\"}], \"histogram2dcontour\": [{\"colorbar\": {\"outlinewidth\": 0, \"ticks\": \"\"}, \"colorscale\": [[0.0, \"#0d0887\"], [0.1111111111111111, \"#46039f\"], [0.2222222222222222, \"#7201a8\"], [0.3333333333333333, \"#9c179e\"], [0.4444444444444444, \"#bd3786\"], [0.5555555555555556, \"#d8576b\"], [0.6666666666666666, \"#ed7953\"], [0.7777777777777778, \"#fb9f3a\"], [0.8888888888888888, \"#fdca26\"], [1.0, \"#f0f921\"]], \"type\": \"histogram2dcontour\"}], \"mesh3d\": [{\"colorbar\": {\"outlinewidth\": 0, \"ticks\": \"\"}, \"type\": \"mesh3d\"}], \"parcoords\": [{\"line\": {\"colorbar\": {\"outlinewidth\": 0, \"ticks\": \"\"}}, \"type\": \"parcoords\"}], \"pie\": [{\"automargin\": true, \"type\": \"pie\"}], \"scatter\": [{\"marker\": {\"colorbar\": {\"outlinewidth\": 0, \"ticks\": \"\"}}, \"type\": \"scatter\"}], \"scatter3d\": [{\"line\": {\"colorbar\": {\"outlinewidth\": 0, \"ticks\": \"\"}}, \"marker\": {\"colorbar\": {\"outlinewidth\": 0, \"ticks\": \"\"}}, \"type\": \"scatter3d\"}], \"scattercarpet\": [{\"marker\": {\"colorbar\": {\"outlinewidth\": 0, \"ticks\": \"\"}}, \"type\": \"scattercarpet\"}], \"scattergeo\": [{\"marker\": {\"colorbar\": {\"outlinewidth\": 0, \"ticks\": \"\"}}, \"type\": \"scattergeo\"}], \"scattergl\": [{\"marker\": {\"colorbar\": {\"outlinewidth\": 0, \"ticks\": \"\"}}, \"type\": \"scattergl\"}], \"scattermapbox\": [{\"marker\": {\"colorbar\": {\"outlinewidth\": 0, \"ticks\": \"\"}}, \"type\": \"scattermapbox\"}], \"scatterpolar\": [{\"marker\": {\"colorbar\": {\"outlinewidth\": 0, \"ticks\": \"\"}}, \"type\": \"scatterpolar\"}], \"scatterpolargl\": [{\"marker\": {\"colorbar\": {\"outlinewidth\": 0, \"ticks\": \"\"}}, \"type\": \"scatterpolargl\"}], \"scatterternary\": [{\"marker\": {\"colorbar\": {\"outlinewidth\": 0, \"ticks\": \"\"}}, \"type\": \"scatterternary\"}], \"surface\": [{\"colorbar\": {\"outlinewidth\": 0, \"ticks\": \"\"}, \"colorscale\": [[0.0, \"#0d0887\"], [0.1111111111111111, \"#46039f\"], [0.2222222222222222, \"#7201a8\"], [0.3333333333333333, \"#9c179e\"], [0.4444444444444444, \"#bd3786\"], [0.5555555555555556, \"#d8576b\"], [0.6666666666666666, \"#ed7953\"], [0.7777777777777778, \"#fb9f3a\"], [0.8888888888888888, \"#fdca26\"], [1.0, \"#f0f921\"]], \"type\": \"surface\"}], \"table\": [{\"cells\": {\"fill\": {\"color\": \"#EBF0F8\"}, \"line\": {\"color\": \"white\"}}, \"header\": {\"fill\": {\"color\": \"#C8D4E3\"}, \"line\": {\"color\": \"white\"}}, \"type\": \"table\"}]}, \"layout\": {\"annotationdefaults\": {\"arrowcolor\": \"#2a3f5f\", \"arrowhead\": 0, \"arrowwidth\": 1}, \"coloraxis\": {\"colorbar\": {\"outlinewidth\": 0, \"ticks\": \"\"}}, \"colorscale\": {\"diverging\": [[0, \"#8e0152\"], [0.1, \"#c51b7d\"], [0.2, \"#de77ae\"], [0.3, \"#f1b6da\"], [0.4, \"#fde0ef\"], [0.5, \"#f7f7f7\"], [0.6, \"#e6f5d0\"], [0.7, \"#b8e186\"], [0.8, \"#7fbc41\"], [0.9, \"#4d9221\"], [1, \"#276419\"]], \"sequential\": [[0.0, \"#0d0887\"], [0.1111111111111111, \"#46039f\"], [0.2222222222222222, \"#7201a8\"], [0.3333333333333333, \"#9c179e\"], [0.4444444444444444, \"#bd3786\"], [0.5555555555555556, \"#d8576b\"], [0.6666666666666666, \"#ed7953\"], [0.7777777777777778, \"#fb9f3a\"], [0.8888888888888888, \"#fdca26\"], [1.0, \"#f0f921\"]], \"sequentialminus\": [[0.0, \"#0d0887\"], [0.1111111111111111, \"#46039f\"], [0.2222222222222222, \"#7201a8\"], [0.3333333333333333, \"#9c179e\"], [0.4444444444444444, \"#bd3786\"], [0.5555555555555556, \"#d8576b\"], [0.6666666666666666, \"#ed7953\"], [0.7777777777777778, \"#fb9f3a\"], [0.8888888888888888, \"#fdca26\"], [1.0, \"#f0f921\"]]}, \"colorway\": [\"#636efa\", \"#EF553B\", \"#00cc96\", \"#ab63fa\", \"#FFA15A\", \"#19d3f3\", \"#FF6692\", \"#B6E880\", \"#FF97FF\", \"#FECB52\"], \"font\": {\"color\": \"#2a3f5f\"}, \"geo\": {\"bgcolor\": \"white\", \"lakecolor\": \"white\", \"landcolor\": \"#E5ECF6\", \"showlakes\": true, \"showland\": true, \"subunitcolor\": \"white\"}, \"hoverlabel\": {\"align\": \"left\"}, \"hovermode\": \"closest\", \"mapbox\": {\"style\": \"light\"}, \"paper_bgcolor\": \"white\", \"plot_bgcolor\": \"#E5ECF6\", \"polar\": {\"angularaxis\": {\"gridcolor\": \"white\", \"linecolor\": \"white\", \"ticks\": \"\"}, \"bgcolor\": \"#E5ECF6\", \"radialaxis\": {\"gridcolor\": \"white\", \"linecolor\": \"white\", \"ticks\": \"\"}}, \"scene\": {\"xaxis\": {\"backgroundcolor\": \"#E5ECF6\", \"gridcolor\": \"white\", \"gridwidth\": 2, \"linecolor\": \"white\", \"showbackground\": true, \"ticks\": \"\", \"zerolinecolor\": \"white\"}, \"yaxis\": {\"backgroundcolor\": \"#E5ECF6\", \"gridcolor\": \"white\", \"gridwidth\": 2, \"linecolor\": \"white\", \"showbackground\": true, \"ticks\": \"\", \"zerolinecolor\": \"white\"}, \"zaxis\": {\"backgroundcolor\": \"#E5ECF6\", \"gridcolor\": \"white\", \"gridwidth\": 2, \"linecolor\": \"white\", \"showbackground\": true, \"ticks\": \"\", \"zerolinecolor\": \"white\"}}, \"shapedefaults\": {\"line\": {\"color\": \"#2a3f5f\"}}, \"ternary\": {\"aaxis\": {\"gridcolor\": \"white\", \"linecolor\": \"white\", \"ticks\": \"\"}, \"baxis\": {\"gridcolor\": \"white\", \"linecolor\": \"white\", \"ticks\": \"\"}, \"bgcolor\": \"#E5ECF6\", \"caxis\": {\"gridcolor\": \"white\", \"linecolor\": \"white\", \"ticks\": \"\"}}, \"title\": {\"x\": 0.05}, \"xaxis\": {\"automargin\": true, \"gridcolor\": \"white\", \"linecolor\": \"white\", \"ticks\": \"\", \"title\": {\"standoff\": 15}, \"zerolinecolor\": \"white\", \"zerolinewidth\": 2}, \"yaxis\": {\"automargin\": true, \"gridcolor\": \"white\", \"linecolor\": \"white\", \"ticks\": \"\", \"title\": {\"standoff\": 15}, \"zerolinecolor\": \"white\", \"zerolinewidth\": 2}}}, \"title\": {\"text\": \"Sentiment Analysis of britneyspears's twitter interactions\"}},\n",
       "                        {\"responsive\": true}\n",
       "                    ).then(function(){\n",
       "                            \n",
       "var gd = document.getElementById('14a7cedc-059c-4aa0-96a4-a297e99271ae');\n",
       "var x = new MutationObserver(function (mutations, observer) {{\n",
       "        var display = window.getComputedStyle(gd).display;\n",
       "        if (!display || display === 'none') {{\n",
       "            console.log([gd, 'removed!']);\n",
       "            Plotly.purge(gd);\n",
       "            observer.disconnect();\n",
       "        }}\n",
       "}});\n",
       "\n",
       "// Listen for the removal of the full notebook cells\n",
       "var notebookContainer = gd.closest('#notebook-container');\n",
       "if (notebookContainer) {{\n",
       "    x.observe(notebookContainer, {childList: true});\n",
       "}}\n",
       "\n",
       "// Listen for the clearing of the current output cell\n",
       "var outputEl = gd.closest('.output');\n",
       "if (outputEl) {{\n",
       "    x.observe(outputEl, {childList: true});\n",
       "}}\n",
       "\n",
       "                        })\n",
       "                };\n",
       "                });\n",
       "            </script>\n",
       "        </div>"
      ]
     },
     "metadata": {},
     "output_type": "display_data"
    }
   ],
   "source": [
    "import plotly.graph_objects as go\n",
    "\n",
    "fig = go.Figure(data=go.Scatter(y=data['sentiments'],\n",
    "                                mode='lines+markers',\n",
    "                                #marker_color=df['sentiment'],\n",
    "                                text=(data['time'], data['hashtags']))) # hover text goes here\n",
    "\n",
    "\n",
    "fig.update_layout(title=f\"Sentiment Analysis of {user}'s twitter interactions\")\n",
    "fig.show()"
   ]
  },
  {
   "cell_type": "code",
   "execution_count": 33,
   "metadata": {},
   "outputs": [
    {
     "data": {
      "application/vnd.plotly.v1+json": {
       "config": {
        "plotlyServerURL": "https://plot.ly"
       },
       "data": [
        {
         "mode": "lines+markers",
         "text": [
          "Tue Jul 21 23:07:40 2020",
          "Fri Jul 17 04:15:43 2020",
          "Fri Jul 17 04:14:52 2020",
          "Tue Jul 14 23:18:17 2020",
          "Fri Jun 26 20:05:20 2020",
          "Fri Jun 26 14:00:25 2020",
          "Fri Jun 26 14:00:24 2020",
          "Thu Jun 25 20:38:19 2020",
          "Thu Jun 25 04:30:11 2020",
          "Thu Jun 25 03:46:55 2020",
          "Wed Jun 24 17:03:52 2020",
          "Mon Jun 22 19:15:29 2020",
          "Fri Jun 19 23:12:48 2020",
          "Tue Jun 16 19:21:45 2020",
          "Tue Jun 16 19:21:23 2020",
          "Sun Jun 14 03:25:57 2020",
          "Sat Jun 13 20:23:51 2020",
          "Mon Jun 08 17:14:39 2020",
          "Sun Jun 07 17:28:50 2020",
          "Fri Jun 05 00:04:24 2020",
          "Fri Jun 05 00:04:23 2020",
          "Thu Jun 04 05:31:07 2020",
          "Thu Jun 04 05:31:06 2020",
          "Thu Jun 04 05:31:06 2020",
          "Thu Jun 04 05:31:06 2020",
          "Thu Jun 04 05:31:06 2020",
          "Thu Jun 04 05:31:06 2020",
          "Thu Jun 04 05:31:05 2020",
          "Thu Jun 04 05:31:05 2020",
          "Thu Jun 04 05:31:05 2020",
          "Thu Jun 04 05:31:05 2020",
          "Thu Jun 04 05:31:04 2020",
          "Tue Jun 02 04:08:06 2020",
          "Sun May 31 05:14:21 2020",
          "Fri May 29 17:57:06 2020",
          "Fri May 29 17:57:05 2020",
          "Fri May 29 16:45:51 2020",
          "Fri May 29 16:20:24 2020",
          "Fri May 29 05:00:15 2020",
          "Fri May 29 04:10:38 2020",
          "Fri May 29 04:04:53 2020",
          "Fri May 29 04:00:31 2020",
          "Fri May 29 04:00:15 2020",
          "Fri May 29 03:56:06 2020",
          "Fri May 29 01:11:12 2020",
          "Fri May 29 01:10:11 2020",
          "Fri May 29 00:21:46 2020",
          "Fri May 29 00:15:41 2020",
          "Fri May 29 00:12:03 2020",
          "Fri May 29 00:10:02 2020",
          "Fri May 29 00:08:58 2020",
          "Fri May 29 00:04:08 2020",
          "Thu May 28 23:44:37 2020",
          "Thu May 28 23:44:16 2020",
          "Thu May 28 23:31:19 2020",
          "Thu May 28 21:20:51 2020",
          "Thu May 28 21:20:51 2020",
          "Thu May 28 19:41:53 2020",
          "Thu May 28 18:54:40 2020",
          "Thu May 28 17:04:54 2020",
          "Thu May 28 15:49:32 2020",
          "Thu May 28 11:03:39 2020",
          "Wed May 27 22:52:43 2020",
          "Wed May 27 19:21:47 2020",
          "Wed May 27 17:52:30 2020",
          "Wed May 27 16:45:15 2020",
          "Wed May 27 04:40:33 2020",
          "Tue May 26 22:43:50 2020",
          "Tue May 26 21:13:55 2020",
          "Tue May 26 17:44:07 2020",
          "Tue May 26 17:30:58 2020",
          "Tue May 26 03:29:44 2020",
          "Tue May 26 01:29:59 2020",
          "Mon May 25 22:08:10 2020",
          "Mon May 25 18:49:38 2020",
          "Mon May 25 18:10:30 2020",
          "Sun May 24 19:33:47 2020",
          "Sat May 23 23:16:38 2020",
          "Sat May 23 19:45:08 2020",
          "Sat May 23 19:01:46 2020",
          "Fri May 22 22:04:51 2020",
          "Fri May 22 18:40:43 2020",
          "Fri May 22 18:36:18 2020",
          "Fri May 22 18:29:42 2020",
          "Fri May 22 18:24:26 2020",
          "Fri May 22 18:18:07 2020",
          "Fri May 22 17:07:05 2020",
          "Fri May 22 17:00:43 2020",
          "Fri May 22 16:58:11 2020",
          "Fri May 22 16:54:09 2020",
          "Fri May 22 16:01:44 2020",
          "Fri May 22 04:25:11 2020",
          "Fri May 22 04:25:07 2020",
          "Fri May 22 04:25:02 2020",
          "Fri May 22 04:21:24 2020",
          "Fri May 22 04:08:12 2020",
          "Fri May 22 04:07:37 2020",
          "Fri May 22 04:05:49 2020",
          "Fri May 22 04:02:20 2020"
         ],
         "type": "scatter",
         "y": [
          614,
          3896,
          5195,
          964,
          2117,
          2295,
          9191,
          5554,
          4458,
          9124,
          2834,
          6275,
          7932,
          4597,
          13872,
          16971,
          1003,
          17994,
          10461,
          4828,
          17052,
          1746,
          1697,
          1315,
          1295,
          1267,
          1267,
          1244,
          1174,
          1299,
          1377,
          23873,
          10718,
          48659,
          7703,
          27013,
          1069,
          13025,
          43763,
          36699,
          37628,
          63036,
          9574,
          21451,
          11083,
          3917,
          685,
          3163,
          6803,
          14371,
          464,
          18186,
          5611,
          1421,
          1543,
          6602,
          26045,
          14387,
          15674,
          26044,
          27434,
          104632,
          6299,
          21151,
          14312,
          24985,
          6373,
          10750,
          30842,
          14304,
          5155,
          11266,
          11471,
          17191,
          41187,
          20310,
          26680,
          6784,
          11141,
          2544,
          5650,
          2955,
          6317,
          5686,
          11477,
          7950,
          57137,
          20054,
          6254,
          13826,
          16379,
          14728,
          14735,
          37946,
          29581,
          12933,
          29196,
          23858,
          28861
         ]
        }
       ],
       "layout": {
        "template": {
         "data": {
          "bar": [
           {
            "error_x": {
             "color": "#2a3f5f"
            },
            "error_y": {
             "color": "#2a3f5f"
            },
            "marker": {
             "line": {
              "color": "#E5ECF6",
              "width": 0.5
             }
            },
            "type": "bar"
           }
          ],
          "barpolar": [
           {
            "marker": {
             "line": {
              "color": "#E5ECF6",
              "width": 0.5
             }
            },
            "type": "barpolar"
           }
          ],
          "carpet": [
           {
            "aaxis": {
             "endlinecolor": "#2a3f5f",
             "gridcolor": "white",
             "linecolor": "white",
             "minorgridcolor": "white",
             "startlinecolor": "#2a3f5f"
            },
            "baxis": {
             "endlinecolor": "#2a3f5f",
             "gridcolor": "white",
             "linecolor": "white",
             "minorgridcolor": "white",
             "startlinecolor": "#2a3f5f"
            },
            "type": "carpet"
           }
          ],
          "choropleth": [
           {
            "colorbar": {
             "outlinewidth": 0,
             "ticks": ""
            },
            "type": "choropleth"
           }
          ],
          "contour": [
           {
            "colorbar": {
             "outlinewidth": 0,
             "ticks": ""
            },
            "colorscale": [
             [
              0,
              "#0d0887"
             ],
             [
              0.1111111111111111,
              "#46039f"
             ],
             [
              0.2222222222222222,
              "#7201a8"
             ],
             [
              0.3333333333333333,
              "#9c179e"
             ],
             [
              0.4444444444444444,
              "#bd3786"
             ],
             [
              0.5555555555555556,
              "#d8576b"
             ],
             [
              0.6666666666666666,
              "#ed7953"
             ],
             [
              0.7777777777777778,
              "#fb9f3a"
             ],
             [
              0.8888888888888888,
              "#fdca26"
             ],
             [
              1,
              "#f0f921"
             ]
            ],
            "type": "contour"
           }
          ],
          "contourcarpet": [
           {
            "colorbar": {
             "outlinewidth": 0,
             "ticks": ""
            },
            "type": "contourcarpet"
           }
          ],
          "heatmap": [
           {
            "colorbar": {
             "outlinewidth": 0,
             "ticks": ""
            },
            "colorscale": [
             [
              0,
              "#0d0887"
             ],
             [
              0.1111111111111111,
              "#46039f"
             ],
             [
              0.2222222222222222,
              "#7201a8"
             ],
             [
              0.3333333333333333,
              "#9c179e"
             ],
             [
              0.4444444444444444,
              "#bd3786"
             ],
             [
              0.5555555555555556,
              "#d8576b"
             ],
             [
              0.6666666666666666,
              "#ed7953"
             ],
             [
              0.7777777777777778,
              "#fb9f3a"
             ],
             [
              0.8888888888888888,
              "#fdca26"
             ],
             [
              1,
              "#f0f921"
             ]
            ],
            "type": "heatmap"
           }
          ],
          "heatmapgl": [
           {
            "colorbar": {
             "outlinewidth": 0,
             "ticks": ""
            },
            "colorscale": [
             [
              0,
              "#0d0887"
             ],
             [
              0.1111111111111111,
              "#46039f"
             ],
             [
              0.2222222222222222,
              "#7201a8"
             ],
             [
              0.3333333333333333,
              "#9c179e"
             ],
             [
              0.4444444444444444,
              "#bd3786"
             ],
             [
              0.5555555555555556,
              "#d8576b"
             ],
             [
              0.6666666666666666,
              "#ed7953"
             ],
             [
              0.7777777777777778,
              "#fb9f3a"
             ],
             [
              0.8888888888888888,
              "#fdca26"
             ],
             [
              1,
              "#f0f921"
             ]
            ],
            "type": "heatmapgl"
           }
          ],
          "histogram": [
           {
            "marker": {
             "colorbar": {
              "outlinewidth": 0,
              "ticks": ""
             }
            },
            "type": "histogram"
           }
          ],
          "histogram2d": [
           {
            "colorbar": {
             "outlinewidth": 0,
             "ticks": ""
            },
            "colorscale": [
             [
              0,
              "#0d0887"
             ],
             [
              0.1111111111111111,
              "#46039f"
             ],
             [
              0.2222222222222222,
              "#7201a8"
             ],
             [
              0.3333333333333333,
              "#9c179e"
             ],
             [
              0.4444444444444444,
              "#bd3786"
             ],
             [
              0.5555555555555556,
              "#d8576b"
             ],
             [
              0.6666666666666666,
              "#ed7953"
             ],
             [
              0.7777777777777778,
              "#fb9f3a"
             ],
             [
              0.8888888888888888,
              "#fdca26"
             ],
             [
              1,
              "#f0f921"
             ]
            ],
            "type": "histogram2d"
           }
          ],
          "histogram2dcontour": [
           {
            "colorbar": {
             "outlinewidth": 0,
             "ticks": ""
            },
            "colorscale": [
             [
              0,
              "#0d0887"
             ],
             [
              0.1111111111111111,
              "#46039f"
             ],
             [
              0.2222222222222222,
              "#7201a8"
             ],
             [
              0.3333333333333333,
              "#9c179e"
             ],
             [
              0.4444444444444444,
              "#bd3786"
             ],
             [
              0.5555555555555556,
              "#d8576b"
             ],
             [
              0.6666666666666666,
              "#ed7953"
             ],
             [
              0.7777777777777778,
              "#fb9f3a"
             ],
             [
              0.8888888888888888,
              "#fdca26"
             ],
             [
              1,
              "#f0f921"
             ]
            ],
            "type": "histogram2dcontour"
           }
          ],
          "mesh3d": [
           {
            "colorbar": {
             "outlinewidth": 0,
             "ticks": ""
            },
            "type": "mesh3d"
           }
          ],
          "parcoords": [
           {
            "line": {
             "colorbar": {
              "outlinewidth": 0,
              "ticks": ""
             }
            },
            "type": "parcoords"
           }
          ],
          "pie": [
           {
            "automargin": true,
            "type": "pie"
           }
          ],
          "scatter": [
           {
            "marker": {
             "colorbar": {
              "outlinewidth": 0,
              "ticks": ""
             }
            },
            "type": "scatter"
           }
          ],
          "scatter3d": [
           {
            "line": {
             "colorbar": {
              "outlinewidth": 0,
              "ticks": ""
             }
            },
            "marker": {
             "colorbar": {
              "outlinewidth": 0,
              "ticks": ""
             }
            },
            "type": "scatter3d"
           }
          ],
          "scattercarpet": [
           {
            "marker": {
             "colorbar": {
              "outlinewidth": 0,
              "ticks": ""
             }
            },
            "type": "scattercarpet"
           }
          ],
          "scattergeo": [
           {
            "marker": {
             "colorbar": {
              "outlinewidth": 0,
              "ticks": ""
             }
            },
            "type": "scattergeo"
           }
          ],
          "scattergl": [
           {
            "marker": {
             "colorbar": {
              "outlinewidth": 0,
              "ticks": ""
             }
            },
            "type": "scattergl"
           }
          ],
          "scattermapbox": [
           {
            "marker": {
             "colorbar": {
              "outlinewidth": 0,
              "ticks": ""
             }
            },
            "type": "scattermapbox"
           }
          ],
          "scatterpolar": [
           {
            "marker": {
             "colorbar": {
              "outlinewidth": 0,
              "ticks": ""
             }
            },
            "type": "scatterpolar"
           }
          ],
          "scatterpolargl": [
           {
            "marker": {
             "colorbar": {
              "outlinewidth": 0,
              "ticks": ""
             }
            },
            "type": "scatterpolargl"
           }
          ],
          "scatterternary": [
           {
            "marker": {
             "colorbar": {
              "outlinewidth": 0,
              "ticks": ""
             }
            },
            "type": "scatterternary"
           }
          ],
          "surface": [
           {
            "colorbar": {
             "outlinewidth": 0,
             "ticks": ""
            },
            "colorscale": [
             [
              0,
              "#0d0887"
             ],
             [
              0.1111111111111111,
              "#46039f"
             ],
             [
              0.2222222222222222,
              "#7201a8"
             ],
             [
              0.3333333333333333,
              "#9c179e"
             ],
             [
              0.4444444444444444,
              "#bd3786"
             ],
             [
              0.5555555555555556,
              "#d8576b"
             ],
             [
              0.6666666666666666,
              "#ed7953"
             ],
             [
              0.7777777777777778,
              "#fb9f3a"
             ],
             [
              0.8888888888888888,
              "#fdca26"
             ],
             [
              1,
              "#f0f921"
             ]
            ],
            "type": "surface"
           }
          ],
          "table": [
           {
            "cells": {
             "fill": {
              "color": "#EBF0F8"
             },
             "line": {
              "color": "white"
             }
            },
            "header": {
             "fill": {
              "color": "#C8D4E3"
             },
             "line": {
              "color": "white"
             }
            },
            "type": "table"
           }
          ]
         },
         "layout": {
          "annotationdefaults": {
           "arrowcolor": "#2a3f5f",
           "arrowhead": 0,
           "arrowwidth": 1
          },
          "coloraxis": {
           "colorbar": {
            "outlinewidth": 0,
            "ticks": ""
           }
          },
          "colorscale": {
           "diverging": [
            [
             0,
             "#8e0152"
            ],
            [
             0.1,
             "#c51b7d"
            ],
            [
             0.2,
             "#de77ae"
            ],
            [
             0.3,
             "#f1b6da"
            ],
            [
             0.4,
             "#fde0ef"
            ],
            [
             0.5,
             "#f7f7f7"
            ],
            [
             0.6,
             "#e6f5d0"
            ],
            [
             0.7,
             "#b8e186"
            ],
            [
             0.8,
             "#7fbc41"
            ],
            [
             0.9,
             "#4d9221"
            ],
            [
             1,
             "#276419"
            ]
           ],
           "sequential": [
            [
             0,
             "#0d0887"
            ],
            [
             0.1111111111111111,
             "#46039f"
            ],
            [
             0.2222222222222222,
             "#7201a8"
            ],
            [
             0.3333333333333333,
             "#9c179e"
            ],
            [
             0.4444444444444444,
             "#bd3786"
            ],
            [
             0.5555555555555556,
             "#d8576b"
            ],
            [
             0.6666666666666666,
             "#ed7953"
            ],
            [
             0.7777777777777778,
             "#fb9f3a"
            ],
            [
             0.8888888888888888,
             "#fdca26"
            ],
            [
             1,
             "#f0f921"
            ]
           ],
           "sequentialminus": [
            [
             0,
             "#0d0887"
            ],
            [
             0.1111111111111111,
             "#46039f"
            ],
            [
             0.2222222222222222,
             "#7201a8"
            ],
            [
             0.3333333333333333,
             "#9c179e"
            ],
            [
             0.4444444444444444,
             "#bd3786"
            ],
            [
             0.5555555555555556,
             "#d8576b"
            ],
            [
             0.6666666666666666,
             "#ed7953"
            ],
            [
             0.7777777777777778,
             "#fb9f3a"
            ],
            [
             0.8888888888888888,
             "#fdca26"
            ],
            [
             1,
             "#f0f921"
            ]
           ]
          },
          "colorway": [
           "#636efa",
           "#EF553B",
           "#00cc96",
           "#ab63fa",
           "#FFA15A",
           "#19d3f3",
           "#FF6692",
           "#B6E880",
           "#FF97FF",
           "#FECB52"
          ],
          "font": {
           "color": "#2a3f5f"
          },
          "geo": {
           "bgcolor": "white",
           "lakecolor": "white",
           "landcolor": "#E5ECF6",
           "showlakes": true,
           "showland": true,
           "subunitcolor": "white"
          },
          "hoverlabel": {
           "align": "left"
          },
          "hovermode": "closest",
          "mapbox": {
           "style": "light"
          },
          "paper_bgcolor": "white",
          "plot_bgcolor": "#E5ECF6",
          "polar": {
           "angularaxis": {
            "gridcolor": "white",
            "linecolor": "white",
            "ticks": ""
           },
           "bgcolor": "#E5ECF6",
           "radialaxis": {
            "gridcolor": "white",
            "linecolor": "white",
            "ticks": ""
           }
          },
          "scene": {
           "xaxis": {
            "backgroundcolor": "#E5ECF6",
            "gridcolor": "white",
            "gridwidth": 2,
            "linecolor": "white",
            "showbackground": true,
            "ticks": "",
            "zerolinecolor": "white"
           },
           "yaxis": {
            "backgroundcolor": "#E5ECF6",
            "gridcolor": "white",
            "gridwidth": 2,
            "linecolor": "white",
            "showbackground": true,
            "ticks": "",
            "zerolinecolor": "white"
           },
           "zaxis": {
            "backgroundcolor": "#E5ECF6",
            "gridcolor": "white",
            "gridwidth": 2,
            "linecolor": "white",
            "showbackground": true,
            "ticks": "",
            "zerolinecolor": "white"
           }
          },
          "shapedefaults": {
           "line": {
            "color": "#2a3f5f"
           }
          },
          "ternary": {
           "aaxis": {
            "gridcolor": "white",
            "linecolor": "white",
            "ticks": ""
           },
           "baxis": {
            "gridcolor": "white",
            "linecolor": "white",
            "ticks": ""
           },
           "bgcolor": "#E5ECF6",
           "caxis": {
            "gridcolor": "white",
            "linecolor": "white",
            "ticks": ""
           }
          },
          "title": {
           "x": 0.05
          },
          "xaxis": {
           "automargin": true,
           "gridcolor": "white",
           "linecolor": "white",
           "ticks": "",
           "title": {
            "standoff": 15
           },
           "zerolinecolor": "white",
           "zerolinewidth": 2
          },
          "yaxis": {
           "automargin": true,
           "gridcolor": "white",
           "linecolor": "white",
           "ticks": "",
           "title": {
            "standoff": 15
           },
           "zerolinecolor": "white",
           "zerolinewidth": 2
          }
         }
        },
        "title": {
         "text": "Sentiment Analysis of ladygaga's twitter interactions"
        }
       }
      },
      "text/html": [
       "<div>\n",
       "        \n",
       "        \n",
       "            <div id=\"d99d900d-91b1-4dc2-b1e3-7dfa35d51994\" class=\"plotly-graph-div\" style=\"height:525px; width:100%;\"></div>\n",
       "            <script type=\"text/javascript\">\n",
       "                require([\"plotly\"], function(Plotly) {\n",
       "                    window.PLOTLYENV=window.PLOTLYENV || {};\n",
       "                    \n",
       "                if (document.getElementById(\"d99d900d-91b1-4dc2-b1e3-7dfa35d51994\")) {\n",
       "                    Plotly.newPlot(\n",
       "                        'd99d900d-91b1-4dc2-b1e3-7dfa35d51994',\n",
       "                        [{\"mode\": \"lines+markers\", \"text\": [\"Tue Jul 21 23:07:40 2020\", \"Fri Jul 17 04:15:43 2020\", \"Fri Jul 17 04:14:52 2020\", \"Tue Jul 14 23:18:17 2020\", \"Fri Jun 26 20:05:20 2020\", \"Fri Jun 26 14:00:25 2020\", \"Fri Jun 26 14:00:24 2020\", \"Thu Jun 25 20:38:19 2020\", \"Thu Jun 25 04:30:11 2020\", \"Thu Jun 25 03:46:55 2020\", \"Wed Jun 24 17:03:52 2020\", \"Mon Jun 22 19:15:29 2020\", \"Fri Jun 19 23:12:48 2020\", \"Tue Jun 16 19:21:45 2020\", \"Tue Jun 16 19:21:23 2020\", \"Sun Jun 14 03:25:57 2020\", \"Sat Jun 13 20:23:51 2020\", \"Mon Jun 08 17:14:39 2020\", \"Sun Jun 07 17:28:50 2020\", \"Fri Jun 05 00:04:24 2020\", \"Fri Jun 05 00:04:23 2020\", \"Thu Jun 04 05:31:07 2020\", \"Thu Jun 04 05:31:06 2020\", \"Thu Jun 04 05:31:06 2020\", \"Thu Jun 04 05:31:06 2020\", \"Thu Jun 04 05:31:06 2020\", \"Thu Jun 04 05:31:06 2020\", \"Thu Jun 04 05:31:05 2020\", \"Thu Jun 04 05:31:05 2020\", \"Thu Jun 04 05:31:05 2020\", \"Thu Jun 04 05:31:05 2020\", \"Thu Jun 04 05:31:04 2020\", \"Tue Jun 02 04:08:06 2020\", \"Sun May 31 05:14:21 2020\", \"Fri May 29 17:57:06 2020\", \"Fri May 29 17:57:05 2020\", \"Fri May 29 16:45:51 2020\", \"Fri May 29 16:20:24 2020\", \"Fri May 29 05:00:15 2020\", \"Fri May 29 04:10:38 2020\", \"Fri May 29 04:04:53 2020\", \"Fri May 29 04:00:31 2020\", \"Fri May 29 04:00:15 2020\", \"Fri May 29 03:56:06 2020\", \"Fri May 29 01:11:12 2020\", \"Fri May 29 01:10:11 2020\", \"Fri May 29 00:21:46 2020\", \"Fri May 29 00:15:41 2020\", \"Fri May 29 00:12:03 2020\", \"Fri May 29 00:10:02 2020\", \"Fri May 29 00:08:58 2020\", \"Fri May 29 00:04:08 2020\", \"Thu May 28 23:44:37 2020\", \"Thu May 28 23:44:16 2020\", \"Thu May 28 23:31:19 2020\", \"Thu May 28 21:20:51 2020\", \"Thu May 28 21:20:51 2020\", \"Thu May 28 19:41:53 2020\", \"Thu May 28 18:54:40 2020\", \"Thu May 28 17:04:54 2020\", \"Thu May 28 15:49:32 2020\", \"Thu May 28 11:03:39 2020\", \"Wed May 27 22:52:43 2020\", \"Wed May 27 19:21:47 2020\", \"Wed May 27 17:52:30 2020\", \"Wed May 27 16:45:15 2020\", \"Wed May 27 04:40:33 2020\", \"Tue May 26 22:43:50 2020\", \"Tue May 26 21:13:55 2020\", \"Tue May 26 17:44:07 2020\", \"Tue May 26 17:30:58 2020\", \"Tue May 26 03:29:44 2020\", \"Tue May 26 01:29:59 2020\", \"Mon May 25 22:08:10 2020\", \"Mon May 25 18:49:38 2020\", \"Mon May 25 18:10:30 2020\", \"Sun May 24 19:33:47 2020\", \"Sat May 23 23:16:38 2020\", \"Sat May 23 19:45:08 2020\", \"Sat May 23 19:01:46 2020\", \"Fri May 22 22:04:51 2020\", \"Fri May 22 18:40:43 2020\", \"Fri May 22 18:36:18 2020\", \"Fri May 22 18:29:42 2020\", \"Fri May 22 18:24:26 2020\", \"Fri May 22 18:18:07 2020\", \"Fri May 22 17:07:05 2020\", \"Fri May 22 17:00:43 2020\", \"Fri May 22 16:58:11 2020\", \"Fri May 22 16:54:09 2020\", \"Fri May 22 16:01:44 2020\", \"Fri May 22 04:25:11 2020\", \"Fri May 22 04:25:07 2020\", \"Fri May 22 04:25:02 2020\", \"Fri May 22 04:21:24 2020\", \"Fri May 22 04:08:12 2020\", \"Fri May 22 04:07:37 2020\", \"Fri May 22 04:05:49 2020\", \"Fri May 22 04:02:20 2020\"], \"type\": \"scatter\", \"y\": [614, 3896, 5195, 964, 2117, 2295, 9191, 5554, 4458, 9124, 2834, 6275, 7932, 4597, 13872, 16971, 1003, 17994, 10461, 4828, 17052, 1746, 1697, 1315, 1295, 1267, 1267, 1244, 1174, 1299, 1377, 23873, 10718, 48659, 7703, 27013, 1069, 13025, 43763, 36699, 37628, 63036, 9574, 21451, 11083, 3917, 685, 3163, 6803, 14371, 464, 18186, 5611, 1421, 1543, 6602, 26045, 14387, 15674, 26044, 27434, 104632, 6299, 21151, 14312, 24985, 6373, 10750, 30842, 14304, 5155, 11266, 11471, 17191, 41187, 20310, 26680, 6784, 11141, 2544, 5650, 2955, 6317, 5686, 11477, 7950, 57137, 20054, 6254, 13826, 16379, 14728, 14735, 37946, 29581, 12933, 29196, 23858, 28861]}],\n",
       "                        {\"template\": {\"data\": {\"bar\": [{\"error_x\": {\"color\": \"#2a3f5f\"}, \"error_y\": {\"color\": \"#2a3f5f\"}, \"marker\": {\"line\": {\"color\": \"#E5ECF6\", \"width\": 0.5}}, \"type\": \"bar\"}], \"barpolar\": [{\"marker\": {\"line\": {\"color\": \"#E5ECF6\", \"width\": 0.5}}, \"type\": \"barpolar\"}], \"carpet\": [{\"aaxis\": {\"endlinecolor\": \"#2a3f5f\", \"gridcolor\": \"white\", \"linecolor\": \"white\", \"minorgridcolor\": \"white\", \"startlinecolor\": \"#2a3f5f\"}, \"baxis\": {\"endlinecolor\": \"#2a3f5f\", \"gridcolor\": \"white\", \"linecolor\": \"white\", \"minorgridcolor\": \"white\", \"startlinecolor\": \"#2a3f5f\"}, \"type\": \"carpet\"}], \"choropleth\": [{\"colorbar\": {\"outlinewidth\": 0, \"ticks\": \"\"}, \"type\": \"choropleth\"}], \"contour\": [{\"colorbar\": {\"outlinewidth\": 0, \"ticks\": \"\"}, \"colorscale\": [[0.0, \"#0d0887\"], [0.1111111111111111, \"#46039f\"], [0.2222222222222222, \"#7201a8\"], [0.3333333333333333, \"#9c179e\"], [0.4444444444444444, \"#bd3786\"], [0.5555555555555556, \"#d8576b\"], [0.6666666666666666, \"#ed7953\"], [0.7777777777777778, \"#fb9f3a\"], [0.8888888888888888, \"#fdca26\"], [1.0, \"#f0f921\"]], \"type\": \"contour\"}], \"contourcarpet\": [{\"colorbar\": {\"outlinewidth\": 0, \"ticks\": \"\"}, \"type\": \"contourcarpet\"}], \"heatmap\": [{\"colorbar\": {\"outlinewidth\": 0, \"ticks\": \"\"}, \"colorscale\": [[0.0, \"#0d0887\"], [0.1111111111111111, \"#46039f\"], [0.2222222222222222, \"#7201a8\"], [0.3333333333333333, \"#9c179e\"], [0.4444444444444444, \"#bd3786\"], [0.5555555555555556, \"#d8576b\"], [0.6666666666666666, \"#ed7953\"], [0.7777777777777778, \"#fb9f3a\"], [0.8888888888888888, \"#fdca26\"], [1.0, \"#f0f921\"]], \"type\": \"heatmap\"}], \"heatmapgl\": [{\"colorbar\": {\"outlinewidth\": 0, \"ticks\": \"\"}, \"colorscale\": [[0.0, \"#0d0887\"], [0.1111111111111111, \"#46039f\"], [0.2222222222222222, \"#7201a8\"], [0.3333333333333333, \"#9c179e\"], [0.4444444444444444, \"#bd3786\"], [0.5555555555555556, \"#d8576b\"], [0.6666666666666666, \"#ed7953\"], [0.7777777777777778, \"#fb9f3a\"], [0.8888888888888888, \"#fdca26\"], [1.0, \"#f0f921\"]], \"type\": \"heatmapgl\"}], \"histogram\": [{\"marker\": {\"colorbar\": {\"outlinewidth\": 0, \"ticks\": \"\"}}, \"type\": \"histogram\"}], \"histogram2d\": [{\"colorbar\": {\"outlinewidth\": 0, \"ticks\": \"\"}, \"colorscale\": [[0.0, \"#0d0887\"], [0.1111111111111111, \"#46039f\"], [0.2222222222222222, \"#7201a8\"], [0.3333333333333333, \"#9c179e\"], [0.4444444444444444, \"#bd3786\"], [0.5555555555555556, \"#d8576b\"], [0.6666666666666666, \"#ed7953\"], [0.7777777777777778, \"#fb9f3a\"], [0.8888888888888888, \"#fdca26\"], [1.0, \"#f0f921\"]], \"type\": \"histogram2d\"}], \"histogram2dcontour\": [{\"colorbar\": {\"outlinewidth\": 0, \"ticks\": \"\"}, \"colorscale\": [[0.0, \"#0d0887\"], [0.1111111111111111, \"#46039f\"], [0.2222222222222222, \"#7201a8\"], [0.3333333333333333, \"#9c179e\"], [0.4444444444444444, \"#bd3786\"], [0.5555555555555556, \"#d8576b\"], [0.6666666666666666, \"#ed7953\"], [0.7777777777777778, \"#fb9f3a\"], [0.8888888888888888, \"#fdca26\"], [1.0, \"#f0f921\"]], \"type\": \"histogram2dcontour\"}], \"mesh3d\": [{\"colorbar\": {\"outlinewidth\": 0, \"ticks\": \"\"}, \"type\": \"mesh3d\"}], \"parcoords\": [{\"line\": {\"colorbar\": {\"outlinewidth\": 0, \"ticks\": \"\"}}, \"type\": \"parcoords\"}], \"pie\": [{\"automargin\": true, \"type\": \"pie\"}], \"scatter\": [{\"marker\": {\"colorbar\": {\"outlinewidth\": 0, \"ticks\": \"\"}}, \"type\": \"scatter\"}], \"scatter3d\": [{\"line\": {\"colorbar\": {\"outlinewidth\": 0, \"ticks\": \"\"}}, \"marker\": {\"colorbar\": {\"outlinewidth\": 0, \"ticks\": \"\"}}, \"type\": \"scatter3d\"}], \"scattercarpet\": [{\"marker\": {\"colorbar\": {\"outlinewidth\": 0, \"ticks\": \"\"}}, \"type\": \"scattercarpet\"}], \"scattergeo\": [{\"marker\": {\"colorbar\": {\"outlinewidth\": 0, \"ticks\": \"\"}}, \"type\": \"scattergeo\"}], \"scattergl\": [{\"marker\": {\"colorbar\": {\"outlinewidth\": 0, \"ticks\": \"\"}}, \"type\": \"scattergl\"}], \"scattermapbox\": [{\"marker\": {\"colorbar\": {\"outlinewidth\": 0, \"ticks\": \"\"}}, \"type\": \"scattermapbox\"}], \"scatterpolar\": [{\"marker\": {\"colorbar\": {\"outlinewidth\": 0, \"ticks\": \"\"}}, \"type\": \"scatterpolar\"}], \"scatterpolargl\": [{\"marker\": {\"colorbar\": {\"outlinewidth\": 0, \"ticks\": \"\"}}, \"type\": \"scatterpolargl\"}], \"scatterternary\": [{\"marker\": {\"colorbar\": {\"outlinewidth\": 0, \"ticks\": \"\"}}, \"type\": \"scatterternary\"}], \"surface\": [{\"colorbar\": {\"outlinewidth\": 0, \"ticks\": \"\"}, \"colorscale\": [[0.0, \"#0d0887\"], [0.1111111111111111, \"#46039f\"], [0.2222222222222222, \"#7201a8\"], [0.3333333333333333, \"#9c179e\"], [0.4444444444444444, \"#bd3786\"], [0.5555555555555556, \"#d8576b\"], [0.6666666666666666, \"#ed7953\"], [0.7777777777777778, \"#fb9f3a\"], [0.8888888888888888, \"#fdca26\"], [1.0, \"#f0f921\"]], \"type\": \"surface\"}], \"table\": [{\"cells\": {\"fill\": {\"color\": \"#EBF0F8\"}, \"line\": {\"color\": \"white\"}}, \"header\": {\"fill\": {\"color\": \"#C8D4E3\"}, \"line\": {\"color\": \"white\"}}, \"type\": \"table\"}]}, \"layout\": {\"annotationdefaults\": {\"arrowcolor\": \"#2a3f5f\", \"arrowhead\": 0, \"arrowwidth\": 1}, \"coloraxis\": {\"colorbar\": {\"outlinewidth\": 0, \"ticks\": \"\"}}, \"colorscale\": {\"diverging\": [[0, \"#8e0152\"], [0.1, \"#c51b7d\"], [0.2, \"#de77ae\"], [0.3, \"#f1b6da\"], [0.4, \"#fde0ef\"], [0.5, \"#f7f7f7\"], [0.6, \"#e6f5d0\"], [0.7, \"#b8e186\"], [0.8, \"#7fbc41\"], [0.9, \"#4d9221\"], [1, \"#276419\"]], \"sequential\": [[0.0, \"#0d0887\"], [0.1111111111111111, \"#46039f\"], [0.2222222222222222, \"#7201a8\"], [0.3333333333333333, \"#9c179e\"], [0.4444444444444444, \"#bd3786\"], [0.5555555555555556, \"#d8576b\"], [0.6666666666666666, \"#ed7953\"], [0.7777777777777778, \"#fb9f3a\"], [0.8888888888888888, \"#fdca26\"], [1.0, \"#f0f921\"]], \"sequentialminus\": [[0.0, \"#0d0887\"], [0.1111111111111111, \"#46039f\"], [0.2222222222222222, \"#7201a8\"], [0.3333333333333333, \"#9c179e\"], [0.4444444444444444, \"#bd3786\"], [0.5555555555555556, \"#d8576b\"], [0.6666666666666666, \"#ed7953\"], [0.7777777777777778, \"#fb9f3a\"], [0.8888888888888888, \"#fdca26\"], [1.0, \"#f0f921\"]]}, \"colorway\": [\"#636efa\", \"#EF553B\", \"#00cc96\", \"#ab63fa\", \"#FFA15A\", \"#19d3f3\", \"#FF6692\", \"#B6E880\", \"#FF97FF\", \"#FECB52\"], \"font\": {\"color\": \"#2a3f5f\"}, \"geo\": {\"bgcolor\": \"white\", \"lakecolor\": \"white\", \"landcolor\": \"#E5ECF6\", \"showlakes\": true, \"showland\": true, \"subunitcolor\": \"white\"}, \"hoverlabel\": {\"align\": \"left\"}, \"hovermode\": \"closest\", \"mapbox\": {\"style\": \"light\"}, \"paper_bgcolor\": \"white\", \"plot_bgcolor\": \"#E5ECF6\", \"polar\": {\"angularaxis\": {\"gridcolor\": \"white\", \"linecolor\": \"white\", \"ticks\": \"\"}, \"bgcolor\": \"#E5ECF6\", \"radialaxis\": {\"gridcolor\": \"white\", \"linecolor\": \"white\", \"ticks\": \"\"}}, \"scene\": {\"xaxis\": {\"backgroundcolor\": \"#E5ECF6\", \"gridcolor\": \"white\", \"gridwidth\": 2, \"linecolor\": \"white\", \"showbackground\": true, \"ticks\": \"\", \"zerolinecolor\": \"white\"}, \"yaxis\": {\"backgroundcolor\": \"#E5ECF6\", \"gridcolor\": \"white\", \"gridwidth\": 2, \"linecolor\": \"white\", \"showbackground\": true, \"ticks\": \"\", \"zerolinecolor\": \"white\"}, \"zaxis\": {\"backgroundcolor\": \"#E5ECF6\", \"gridcolor\": \"white\", \"gridwidth\": 2, \"linecolor\": \"white\", \"showbackground\": true, \"ticks\": \"\", \"zerolinecolor\": \"white\"}}, \"shapedefaults\": {\"line\": {\"color\": \"#2a3f5f\"}}, \"ternary\": {\"aaxis\": {\"gridcolor\": \"white\", \"linecolor\": \"white\", \"ticks\": \"\"}, \"baxis\": {\"gridcolor\": \"white\", \"linecolor\": \"white\", \"ticks\": \"\"}, \"bgcolor\": \"#E5ECF6\", \"caxis\": {\"gridcolor\": \"white\", \"linecolor\": \"white\", \"ticks\": \"\"}}, \"title\": {\"x\": 0.05}, \"xaxis\": {\"automargin\": true, \"gridcolor\": \"white\", \"linecolor\": \"white\", \"ticks\": \"\", \"title\": {\"standoff\": 15}, \"zerolinecolor\": \"white\", \"zerolinewidth\": 2}, \"yaxis\": {\"automargin\": true, \"gridcolor\": \"white\", \"linecolor\": \"white\", \"ticks\": \"\", \"title\": {\"standoff\": 15}, \"zerolinecolor\": \"white\", \"zerolinewidth\": 2}}}, \"title\": {\"text\": \"Sentiment Analysis of ladygaga's twitter interactions\"}},\n",
       "                        {\"responsive\": true}\n",
       "                    ).then(function(){\n",
       "                            \n",
       "var gd = document.getElementById('d99d900d-91b1-4dc2-b1e3-7dfa35d51994');\n",
       "var x = new MutationObserver(function (mutations, observer) {{\n",
       "        var display = window.getComputedStyle(gd).display;\n",
       "        if (!display || display === 'none') {{\n",
       "            console.log([gd, 'removed!']);\n",
       "            Plotly.purge(gd);\n",
       "            observer.disconnect();\n",
       "        }}\n",
       "}});\n",
       "\n",
       "// Listen for the removal of the full notebook cells\n",
       "var notebookContainer = gd.closest('#notebook-container');\n",
       "if (notebookContainer) {{\n",
       "    x.observe(notebookContainer, {childList: true});\n",
       "}}\n",
       "\n",
       "// Listen for the clearing of the current output cell\n",
       "var outputEl = gd.closest('.output');\n",
       "if (outputEl) {{\n",
       "    x.observe(outputEl, {childList: true});\n",
       "}}\n",
       "\n",
       "                        })\n",
       "                };\n",
       "                });\n",
       "            </script>\n",
       "        </div>"
      ]
     },
     "metadata": {},
     "output_type": "display_data"
    }
   ],
   "source": [
    "fig = go.Figure(data=go.Scatter(y=data['retweets'],\n",
    "                                mode='lines+markers',\n",
    "                                #marker_color=df['sentiment'],\n",
    "                                text=data['time'])) # hover text goes here\n",
    "\n",
    "\n",
    "fig.update_layout(title=f\"Sentiment Analysis of {user}'s twitter interactions\")\n",
    "fig.show()"
   ]
  },
  {
   "cell_type": "markdown",
   "metadata": {},
   "source": [
    "## Sentiment Change Prediction"
   ]
  },
  {
   "cell_type": "code",
   "execution_count": null,
   "metadata": {},
   "outputs": [],
   "source": [
    "from statsmodels.tsa.stattools import ARMA\n",
    "from statsmodels.tsa.ar_model import AR"
   ]
  },
  {
   "cell_type": "code",
   "execution_count": null,
   "metadata": {},
   "outputs": [],
   "source": [
    "train"
   ]
  },
  {
   "cell_type": "code",
   "execution_count": null,
   "metadata": {},
   "outputs": [],
   "source": [
    "train = sentiments[0:90]\n",
    "test = sentiments[90:-1]"
   ]
  },
  {
   "cell_type": "code",
   "execution_count": null,
   "metadata": {
    "scrolled": true
   },
   "outputs": [],
   "source": [
    "model = AR(train)"
   ]
  },
  {
   "cell_type": "code",
   "execution_count": null,
   "metadata": {},
   "outputs": [],
   "source": [
    "model_fit = model.fit(maxlag=10)\n",
    "predictions = model_fit.predict(start=len(train),\n",
    "                                    end=len(train)+len(test)-1, dynamic=False)"
   ]
  },
  {
   "cell_type": "code",
   "execution_count": null,
   "metadata": {},
   "outputs": [],
   "source": [
    "predictions"
   ]
  },
  {
   "cell_type": "code",
   "execution_count": null,
   "metadata": {},
   "outputs": [],
   "source": [
    "test"
   ]
  },
  {
   "cell_type": "code",
   "execution_count": null,
   "metadata": {},
   "outputs": [],
   "source": []
  }
 ],
 "metadata": {
  "kernelspec": {
   "display_name": "Python 3",
   "language": "python",
   "name": "python3"
  },
  "language_info": {
   "codemirror_mode": {
    "name": "ipython",
    "version": 3
   },
   "file_extension": ".py",
   "mimetype": "text/x-python",
   "name": "python",
   "nbconvert_exporter": "python",
   "pygments_lexer": "ipython3",
   "version": "3.7.7"
  }
 },
 "nbformat": 4,
 "nbformat_minor": 4
}
